{
 "cells": [
  {
   "cell_type": "code",
   "execution_count": 234,
   "metadata": {
    "collapsed": true,
    "pycharm": {
     "name": "#%%\n"
    }
   },
   "outputs": [
    {
     "data": {
      "application/javascript": "IPython.notebook.set_autosave_interval(300000)"
     },
     "metadata": {},
     "output_type": "display_data"
    },
    {
     "name": "stdout",
     "output_type": "stream",
     "text": [
      "Autosaving every 300 seconds\n"
     ]
    }
   ],
   "source": [
    "%reset -f\n",
    "\n",
    "import pandas as pd\n",
    "import numpy as np\n",
    "import matplotlib.pyplot as plt\n",
    "import seaborn as sns\n",
    "import datetime\n",
    "\n",
    "# to compute time of pipeline\n",
    "from time import time, strftime, gmtime\n",
    "\n",
    "import warnings\n",
    "\n",
    "warnings.filterwarnings(action=\"ignore\")\n",
    "\n",
    "input_path = \"./dataset/source/\"\n",
    "\n",
    "#output_path = \"./dataset/cleaned/\"\n",
    "#output_filename = \"data_cleaned.csv\"\n",
    "\n",
    "# Set file name\n",
    "#raw_dataset_file = \"{}{}\".format(input_path, input_filename)\n",
    "#cleaned_dataset_file = \"{}{}\".format(output_path, output_filename)\n",
    "\n",
    "import warnings\n",
    "warnings.filterwarnings('ignore')\n",
    "#warnings.filterwarnings(action=\"once\")\n",
    "\n",
    "%matplotlib inline\n",
    "%autosave 300"
   ]
  },
  {
   "cell_type": "raw",
   "source": [
    "dataset_customers = \"olist_customers_dataset.csv\"\n",
    "dataset_geolocalion = \"olist_geolocation_dataset.csv\"\n",
    "dataset_order_items = \"olist_order_items_dataset.csv\"\n",
    "dataset_order_payments = \"olist_order_payments_dataset.csv\"\n",
    "dataset_order_reviews = \"olist_order_reviews_dataset.csv\"\n",
    "dataset_orders = \"olist_orders_dataset.csv\"\n",
    "dataset_products = \"olist_products_dataset.csv\"\n",
    "dataset_sellers = \"olist_sellers_dataset.csv\"\n",
    "dataset_product_category_name_translation = \"product_category_name_translation.csv\""
   ],
   "metadata": {
    "collapsed": false,
    "pycharm": {
     "name": "#%% raw\n"
    }
   }
  },
  {
   "cell_type": "code",
   "execution_count": 235,
   "outputs": [],
   "source": [
    "def load_data(path, filename):\n",
    "    \"\"\"\n",
    "    Step 0)\n",
    "    :param path:\n",
    "    :param filename: (string)\n",
    "    :return:\n",
    "    \"\"\"\n",
    "    print(\"___Loading raw dataset___\")\n",
    "\n",
    "    # Load raw data\n",
    "    dataset_file = \"{}{}\".format(path, filename)\n",
    "    dataset = pd.read_csv(dataset_file)\n",
    "\n",
    "    print(\"Initial shape :\", dataset.shape)\n",
    "    return dataset"
   ],
   "metadata": {
    "collapsed": false,
    "pycharm": {
     "name": "#%%\n"
    }
   }
  },
  {
   "cell_type": "code",
   "execution_count": 236,
   "outputs": [
    {
     "name": "stdout",
     "output_type": "stream",
     "text": [
      "['archive.zip', 'olist_customers_dataset.csv', 'olist_geolocation_dataset.csv', 'olist_orders_dataset.csv', 'olist_order_items_dataset.csv', 'olist_order_payments_dataset.csv', 'olist_order_reviews_dataset.csv', 'olist_products_dataset.csv', 'olist_sellers_dataset.csv', 'product_category_name_translation.csv']\n",
      "['olist_customers_dataset.csv', 'olist_geolocation_dataset.csv', 'olist_orders_dataset.csv', 'olist_order_items_dataset.csv', 'olist_order_payments_dataset.csv', 'olist_order_reviews_dataset.csv', 'olist_products_dataset.csv', 'olist_sellers_dataset.csv', 'product_category_name_translation.csv']\n"
     ]
    }
   ],
   "source": [
    "from os import listdir\n",
    "from os.path import isfile, join\n",
    "all_files = [f for f in listdir(input_path) if isfile(join(input_path, f))]\n",
    "\n",
    "all_csv_files = [file for file in all_files if file.endswith(\".csv\")]\n",
    "print(all_files)\n",
    "\n",
    "print(all_csv_files)"
   ],
   "metadata": {
    "collapsed": false,
    "pycharm": {
     "name": "#%%\n"
    }
   }
  },
  {
   "cell_type": "code",
   "execution_count": 237,
   "outputs": [
    {
     "name": "stdout",
     "output_type": "stream",
     "text": [
      "___Loading raw dataset___\n",
      "Initial shape : (99441, 5)\n",
      "This is the dataset n°1 : customers\n"
     ]
    },
    {
     "data": {
      "text/plain": "                        customer_id                customer_unique_id  \\\n0  06b8999e2fba1a1fbc88172c00ba8bc7  861eff4711a542e4b93843c6dd7febb0   \n1  18955e83d337fd6b2def6b18a428ac77  290c77bc529b7ac935b93aa66c333dc3   \n2  4e7b3e00288586ebd08712fdd0374a03  060e732b5b29e8181a18229c7b0b2b5e   \n3  b2b6027bc5c5109e529d4dc6358b12c3  259dac757896d24d7702b9acbbff3f3c   \n4  4f2d8ab171c80ec8364f7c12e35b23ad  345ecd01c38d18a9036ed96c73b8d066   \n5  879864dab9bc3047522c92c82e1212b8  4c93744516667ad3b8f1fb645a3116a4   \n6  fd826e7cf63160e536e0908c76c3f441  addec96d2e059c80c30fe6871d30d177   \n7  5e274e7a0c3809e14aba7ad5aae0d407  57b2a98a409812fe9618067b6b8ebe4f   \n8  5adf08e34b2e993982a47070956c5c65  1175e95fb47ddff9de6b2b06188f7e0d   \n9  4b7139f34592b3a31687243a302fa75b  9afe194fb833f79e300e37e580171f22   \n\n   customer_zip_code_prefix          customer_city customer_state  \n0                     14409                 franca             SP  \n1                      9790  sao bernardo do campo             SP  \n2                      1151              sao paulo             SP  \n3                      8775        mogi das cruzes             SP  \n4                     13056               campinas             SP  \n5                     89254         jaragua do sul             SC  \n6                      4534              sao paulo             SP  \n7                     35182                timoteo             MG  \n8                     81560               curitiba             PR  \n9                     30575         belo horizonte             MG  ",
      "text/html": "<div>\n<style scoped>\n    .dataframe tbody tr th:only-of-type {\n        vertical-align: middle;\n    }\n\n    .dataframe tbody tr th {\n        vertical-align: top;\n    }\n\n    .dataframe thead th {\n        text-align: right;\n    }\n</style>\n<table border=\"1\" class=\"dataframe\">\n  <thead>\n    <tr style=\"text-align: right;\">\n      <th></th>\n      <th>customer_id</th>\n      <th>customer_unique_id</th>\n      <th>customer_zip_code_prefix</th>\n      <th>customer_city</th>\n      <th>customer_state</th>\n    </tr>\n  </thead>\n  <tbody>\n    <tr>\n      <th>0</th>\n      <td>06b8999e2fba1a1fbc88172c00ba8bc7</td>\n      <td>861eff4711a542e4b93843c6dd7febb0</td>\n      <td>14409</td>\n      <td>franca</td>\n      <td>SP</td>\n    </tr>\n    <tr>\n      <th>1</th>\n      <td>18955e83d337fd6b2def6b18a428ac77</td>\n      <td>290c77bc529b7ac935b93aa66c333dc3</td>\n      <td>9790</td>\n      <td>sao bernardo do campo</td>\n      <td>SP</td>\n    </tr>\n    <tr>\n      <th>2</th>\n      <td>4e7b3e00288586ebd08712fdd0374a03</td>\n      <td>060e732b5b29e8181a18229c7b0b2b5e</td>\n      <td>1151</td>\n      <td>sao paulo</td>\n      <td>SP</td>\n    </tr>\n    <tr>\n      <th>3</th>\n      <td>b2b6027bc5c5109e529d4dc6358b12c3</td>\n      <td>259dac757896d24d7702b9acbbff3f3c</td>\n      <td>8775</td>\n      <td>mogi das cruzes</td>\n      <td>SP</td>\n    </tr>\n    <tr>\n      <th>4</th>\n      <td>4f2d8ab171c80ec8364f7c12e35b23ad</td>\n      <td>345ecd01c38d18a9036ed96c73b8d066</td>\n      <td>13056</td>\n      <td>campinas</td>\n      <td>SP</td>\n    </tr>\n    <tr>\n      <th>5</th>\n      <td>879864dab9bc3047522c92c82e1212b8</td>\n      <td>4c93744516667ad3b8f1fb645a3116a4</td>\n      <td>89254</td>\n      <td>jaragua do sul</td>\n      <td>SC</td>\n    </tr>\n    <tr>\n      <th>6</th>\n      <td>fd826e7cf63160e536e0908c76c3f441</td>\n      <td>addec96d2e059c80c30fe6871d30d177</td>\n      <td>4534</td>\n      <td>sao paulo</td>\n      <td>SP</td>\n    </tr>\n    <tr>\n      <th>7</th>\n      <td>5e274e7a0c3809e14aba7ad5aae0d407</td>\n      <td>57b2a98a409812fe9618067b6b8ebe4f</td>\n      <td>35182</td>\n      <td>timoteo</td>\n      <td>MG</td>\n    </tr>\n    <tr>\n      <th>8</th>\n      <td>5adf08e34b2e993982a47070956c5c65</td>\n      <td>1175e95fb47ddff9de6b2b06188f7e0d</td>\n      <td>81560</td>\n      <td>curitiba</td>\n      <td>PR</td>\n    </tr>\n    <tr>\n      <th>9</th>\n      <td>4b7139f34592b3a31687243a302fa75b</td>\n      <td>9afe194fb833f79e300e37e580171f22</td>\n      <td>30575</td>\n      <td>belo horizonte</td>\n      <td>MG</td>\n    </tr>\n  </tbody>\n</table>\n</div>"
     },
     "metadata": {},
     "output_type": "display_data"
    },
    {
     "name": "stdout",
     "output_type": "stream",
     "text": [
      "<class 'pandas.core.frame.DataFrame'>\n",
      "RangeIndex: 99441 entries, 0 to 99440\n",
      "Data columns (total 5 columns):\n",
      " #   Column                    Non-Null Count  Dtype \n",
      "---  ------                    --------------  ----- \n",
      " 0   customer_id               99441 non-null  object\n",
      " 1   customer_unique_id        99441 non-null  object\n",
      " 2   customer_zip_code_prefix  99441 non-null  int64 \n",
      " 3   customer_city             99441 non-null  object\n",
      " 4   customer_state            99441 non-null  object\n",
      "dtypes: int64(1), object(4)\n",
      "memory usage: 3.8+ MB\n"
     ]
    },
    {
     "data": {
      "text/plain": "None"
     },
     "metadata": {},
     "output_type": "display_data"
    },
    {
     "name": "stdout",
     "output_type": "stream",
     "text": [
      "___Loading raw dataset___\n",
      "Initial shape : (1000163, 5)\n",
      "This is the dataset n°2 : geolocation\n"
     ]
    },
    {
     "data": {
      "text/plain": "   geolocation_zip_code_prefix  geolocation_lat  geolocation_lng  \\\n0                         1037       -23.545621       -46.639292   \n1                         1046       -23.546081       -46.644820   \n2                         1046       -23.546129       -46.642951   \n3                         1041       -23.544392       -46.639499   \n4                         1035       -23.541578       -46.641607   \n5                         1012       -23.547762       -46.635361   \n6                         1047       -23.546273       -46.641225   \n7                         1013       -23.546923       -46.634264   \n8                         1029       -23.543769       -46.634278   \n9                         1011       -23.547640       -46.636032   \n\n  geolocation_city geolocation_state  \n0        sao paulo                SP  \n1        sao paulo                SP  \n2        sao paulo                SP  \n3        sao paulo                SP  \n4        sao paulo                SP  \n5        são paulo                SP  \n6        sao paulo                SP  \n7        sao paulo                SP  \n8        sao paulo                SP  \n9        sao paulo                SP  ",
      "text/html": "<div>\n<style scoped>\n    .dataframe tbody tr th:only-of-type {\n        vertical-align: middle;\n    }\n\n    .dataframe tbody tr th {\n        vertical-align: top;\n    }\n\n    .dataframe thead th {\n        text-align: right;\n    }\n</style>\n<table border=\"1\" class=\"dataframe\">\n  <thead>\n    <tr style=\"text-align: right;\">\n      <th></th>\n      <th>geolocation_zip_code_prefix</th>\n      <th>geolocation_lat</th>\n      <th>geolocation_lng</th>\n      <th>geolocation_city</th>\n      <th>geolocation_state</th>\n    </tr>\n  </thead>\n  <tbody>\n    <tr>\n      <th>0</th>\n      <td>1037</td>\n      <td>-23.545621</td>\n      <td>-46.639292</td>\n      <td>sao paulo</td>\n      <td>SP</td>\n    </tr>\n    <tr>\n      <th>1</th>\n      <td>1046</td>\n      <td>-23.546081</td>\n      <td>-46.644820</td>\n      <td>sao paulo</td>\n      <td>SP</td>\n    </tr>\n    <tr>\n      <th>2</th>\n      <td>1046</td>\n      <td>-23.546129</td>\n      <td>-46.642951</td>\n      <td>sao paulo</td>\n      <td>SP</td>\n    </tr>\n    <tr>\n      <th>3</th>\n      <td>1041</td>\n      <td>-23.544392</td>\n      <td>-46.639499</td>\n      <td>sao paulo</td>\n      <td>SP</td>\n    </tr>\n    <tr>\n      <th>4</th>\n      <td>1035</td>\n      <td>-23.541578</td>\n      <td>-46.641607</td>\n      <td>sao paulo</td>\n      <td>SP</td>\n    </tr>\n    <tr>\n      <th>5</th>\n      <td>1012</td>\n      <td>-23.547762</td>\n      <td>-46.635361</td>\n      <td>são paulo</td>\n      <td>SP</td>\n    </tr>\n    <tr>\n      <th>6</th>\n      <td>1047</td>\n      <td>-23.546273</td>\n      <td>-46.641225</td>\n      <td>sao paulo</td>\n      <td>SP</td>\n    </tr>\n    <tr>\n      <th>7</th>\n      <td>1013</td>\n      <td>-23.546923</td>\n      <td>-46.634264</td>\n      <td>sao paulo</td>\n      <td>SP</td>\n    </tr>\n    <tr>\n      <th>8</th>\n      <td>1029</td>\n      <td>-23.543769</td>\n      <td>-46.634278</td>\n      <td>sao paulo</td>\n      <td>SP</td>\n    </tr>\n    <tr>\n      <th>9</th>\n      <td>1011</td>\n      <td>-23.547640</td>\n      <td>-46.636032</td>\n      <td>sao paulo</td>\n      <td>SP</td>\n    </tr>\n  </tbody>\n</table>\n</div>"
     },
     "metadata": {},
     "output_type": "display_data"
    },
    {
     "name": "stdout",
     "output_type": "stream",
     "text": [
      "<class 'pandas.core.frame.DataFrame'>\n",
      "RangeIndex: 1000163 entries, 0 to 1000162\n",
      "Data columns (total 5 columns):\n",
      " #   Column                       Non-Null Count    Dtype  \n",
      "---  ------                       --------------    -----  \n",
      " 0   geolocation_zip_code_prefix  1000163 non-null  int64  \n",
      " 1   geolocation_lat              1000163 non-null  float64\n",
      " 2   geolocation_lng              1000163 non-null  float64\n",
      " 3   geolocation_city             1000163 non-null  object \n",
      " 4   geolocation_state            1000163 non-null  object \n",
      "dtypes: float64(2), int64(1), object(2)\n",
      "memory usage: 38.2+ MB\n"
     ]
    },
    {
     "data": {
      "text/plain": "None"
     },
     "metadata": {},
     "output_type": "display_data"
    },
    {
     "name": "stdout",
     "output_type": "stream",
     "text": [
      "___Loading raw dataset___\n",
      "Initial shape : (99441, 8)\n",
      "This is the dataset n°3 : orders\n"
     ]
    },
    {
     "data": {
      "text/plain": "                           order_id                       customer_id  \\\n0  e481f51cbdc54678b7cc49136f2d6af7  9ef432eb6251297304e76186b10a928d   \n1  53cdb2fc8bc7dce0b6741e2150273451  b0830fb4747a6c6d20dea0b8c802d7ef   \n2  47770eb9100c2d0c44946d9cf07ec65d  41ce2a54c0b03bf3443c3d931a367089   \n3  949d5b44dbf5de918fe9c16f97b45f8a  f88197465ea7920adcdbec7375364d82   \n4  ad21c59c0840e6cb83a9ceb5573f8159  8ab97904e6daea8866dbdbc4fb7aad2c   \n5  a4591c265e18cb1dcee52889e2d8acc3  503740e9ca751ccdda7ba28e9ab8f608   \n6  136cce7faa42fdb2cefd53fdc79a6098  ed0271e0b7da060a393796590e7b737a   \n7  6514b8ad8028c9f2cc2374ded245783f  9bdf08b4b3b52b5526ff42d37d47f222   \n8  76c6e866289321a7c93b82b54852dc33  f54a9f0e6b351c431402b8461ea51999   \n9  e69bfb5eb88e0ed6a785585b27e16dbf  31ad1d1b63eb9962463f764d4e6e0c9d   \n\n  order_status order_purchase_timestamp    order_approved_at  \\\n0    delivered      2017-10-02 10:56:33  2017-10-02 11:07:15   \n1    delivered      2018-07-24 20:41:37  2018-07-26 03:24:27   \n2    delivered      2018-08-08 08:38:49  2018-08-08 08:55:23   \n3    delivered      2017-11-18 19:28:06  2017-11-18 19:45:59   \n4    delivered      2018-02-13 21:18:39  2018-02-13 22:20:29   \n5    delivered      2017-07-09 21:57:05  2017-07-09 22:10:13   \n6     invoiced      2017-04-11 12:22:08  2017-04-13 13:25:17   \n7    delivered      2017-05-16 13:10:30  2017-05-16 13:22:11   \n8    delivered      2017-01-23 18:29:09  2017-01-25 02:50:47   \n9    delivered      2017-07-29 11:55:02  2017-07-29 12:05:32   \n\n  order_delivered_carrier_date order_delivered_customer_date  \\\n0          2017-10-04 19:55:00           2017-10-10 21:25:13   \n1          2018-07-26 14:31:00           2018-08-07 15:27:45   \n2          2018-08-08 13:50:00           2018-08-17 18:06:29   \n3          2017-11-22 13:39:59           2017-12-02 00:28:42   \n4          2018-02-14 19:46:34           2018-02-16 18:17:02   \n5          2017-07-11 14:58:04           2017-07-26 10:57:55   \n6                          NaN                           NaN   \n7          2017-05-22 10:07:46           2017-05-26 12:55:51   \n8          2017-01-26 14:16:31           2017-02-02 14:08:10   \n9          2017-08-10 19:45:24           2017-08-16 17:14:30   \n\n  order_estimated_delivery_date  \n0           2017-10-18 00:00:00  \n1           2018-08-13 00:00:00  \n2           2018-09-04 00:00:00  \n3           2017-12-15 00:00:00  \n4           2018-02-26 00:00:00  \n5           2017-08-01 00:00:00  \n6           2017-05-09 00:00:00  \n7           2017-06-07 00:00:00  \n8           2017-03-06 00:00:00  \n9           2017-08-23 00:00:00  ",
      "text/html": "<div>\n<style scoped>\n    .dataframe tbody tr th:only-of-type {\n        vertical-align: middle;\n    }\n\n    .dataframe tbody tr th {\n        vertical-align: top;\n    }\n\n    .dataframe thead th {\n        text-align: right;\n    }\n</style>\n<table border=\"1\" class=\"dataframe\">\n  <thead>\n    <tr style=\"text-align: right;\">\n      <th></th>\n      <th>order_id</th>\n      <th>customer_id</th>\n      <th>order_status</th>\n      <th>order_purchase_timestamp</th>\n      <th>order_approved_at</th>\n      <th>order_delivered_carrier_date</th>\n      <th>order_delivered_customer_date</th>\n      <th>order_estimated_delivery_date</th>\n    </tr>\n  </thead>\n  <tbody>\n    <tr>\n      <th>0</th>\n      <td>e481f51cbdc54678b7cc49136f2d6af7</td>\n      <td>9ef432eb6251297304e76186b10a928d</td>\n      <td>delivered</td>\n      <td>2017-10-02 10:56:33</td>\n      <td>2017-10-02 11:07:15</td>\n      <td>2017-10-04 19:55:00</td>\n      <td>2017-10-10 21:25:13</td>\n      <td>2017-10-18 00:00:00</td>\n    </tr>\n    <tr>\n      <th>1</th>\n      <td>53cdb2fc8bc7dce0b6741e2150273451</td>\n      <td>b0830fb4747a6c6d20dea0b8c802d7ef</td>\n      <td>delivered</td>\n      <td>2018-07-24 20:41:37</td>\n      <td>2018-07-26 03:24:27</td>\n      <td>2018-07-26 14:31:00</td>\n      <td>2018-08-07 15:27:45</td>\n      <td>2018-08-13 00:00:00</td>\n    </tr>\n    <tr>\n      <th>2</th>\n      <td>47770eb9100c2d0c44946d9cf07ec65d</td>\n      <td>41ce2a54c0b03bf3443c3d931a367089</td>\n      <td>delivered</td>\n      <td>2018-08-08 08:38:49</td>\n      <td>2018-08-08 08:55:23</td>\n      <td>2018-08-08 13:50:00</td>\n      <td>2018-08-17 18:06:29</td>\n      <td>2018-09-04 00:00:00</td>\n    </tr>\n    <tr>\n      <th>3</th>\n      <td>949d5b44dbf5de918fe9c16f97b45f8a</td>\n      <td>f88197465ea7920adcdbec7375364d82</td>\n      <td>delivered</td>\n      <td>2017-11-18 19:28:06</td>\n      <td>2017-11-18 19:45:59</td>\n      <td>2017-11-22 13:39:59</td>\n      <td>2017-12-02 00:28:42</td>\n      <td>2017-12-15 00:00:00</td>\n    </tr>\n    <tr>\n      <th>4</th>\n      <td>ad21c59c0840e6cb83a9ceb5573f8159</td>\n      <td>8ab97904e6daea8866dbdbc4fb7aad2c</td>\n      <td>delivered</td>\n      <td>2018-02-13 21:18:39</td>\n      <td>2018-02-13 22:20:29</td>\n      <td>2018-02-14 19:46:34</td>\n      <td>2018-02-16 18:17:02</td>\n      <td>2018-02-26 00:00:00</td>\n    </tr>\n    <tr>\n      <th>5</th>\n      <td>a4591c265e18cb1dcee52889e2d8acc3</td>\n      <td>503740e9ca751ccdda7ba28e9ab8f608</td>\n      <td>delivered</td>\n      <td>2017-07-09 21:57:05</td>\n      <td>2017-07-09 22:10:13</td>\n      <td>2017-07-11 14:58:04</td>\n      <td>2017-07-26 10:57:55</td>\n      <td>2017-08-01 00:00:00</td>\n    </tr>\n    <tr>\n      <th>6</th>\n      <td>136cce7faa42fdb2cefd53fdc79a6098</td>\n      <td>ed0271e0b7da060a393796590e7b737a</td>\n      <td>invoiced</td>\n      <td>2017-04-11 12:22:08</td>\n      <td>2017-04-13 13:25:17</td>\n      <td>NaN</td>\n      <td>NaN</td>\n      <td>2017-05-09 00:00:00</td>\n    </tr>\n    <tr>\n      <th>7</th>\n      <td>6514b8ad8028c9f2cc2374ded245783f</td>\n      <td>9bdf08b4b3b52b5526ff42d37d47f222</td>\n      <td>delivered</td>\n      <td>2017-05-16 13:10:30</td>\n      <td>2017-05-16 13:22:11</td>\n      <td>2017-05-22 10:07:46</td>\n      <td>2017-05-26 12:55:51</td>\n      <td>2017-06-07 00:00:00</td>\n    </tr>\n    <tr>\n      <th>8</th>\n      <td>76c6e866289321a7c93b82b54852dc33</td>\n      <td>f54a9f0e6b351c431402b8461ea51999</td>\n      <td>delivered</td>\n      <td>2017-01-23 18:29:09</td>\n      <td>2017-01-25 02:50:47</td>\n      <td>2017-01-26 14:16:31</td>\n      <td>2017-02-02 14:08:10</td>\n      <td>2017-03-06 00:00:00</td>\n    </tr>\n    <tr>\n      <th>9</th>\n      <td>e69bfb5eb88e0ed6a785585b27e16dbf</td>\n      <td>31ad1d1b63eb9962463f764d4e6e0c9d</td>\n      <td>delivered</td>\n      <td>2017-07-29 11:55:02</td>\n      <td>2017-07-29 12:05:32</td>\n      <td>2017-08-10 19:45:24</td>\n      <td>2017-08-16 17:14:30</td>\n      <td>2017-08-23 00:00:00</td>\n    </tr>\n  </tbody>\n</table>\n</div>"
     },
     "metadata": {},
     "output_type": "display_data"
    },
    {
     "name": "stdout",
     "output_type": "stream",
     "text": [
      "<class 'pandas.core.frame.DataFrame'>\n",
      "RangeIndex: 99441 entries, 0 to 99440\n",
      "Data columns (total 8 columns):\n",
      " #   Column                         Non-Null Count  Dtype \n",
      "---  ------                         --------------  ----- \n",
      " 0   order_id                       99441 non-null  object\n",
      " 1   customer_id                    99441 non-null  object\n",
      " 2   order_status                   99441 non-null  object\n",
      " 3   order_purchase_timestamp       99441 non-null  object\n",
      " 4   order_approved_at              99281 non-null  object\n",
      " 5   order_delivered_carrier_date   97658 non-null  object\n",
      " 6   order_delivered_customer_date  96476 non-null  object\n",
      " 7   order_estimated_delivery_date  99441 non-null  object\n",
      "dtypes: object(8)\n",
      "memory usage: 6.1+ MB\n"
     ]
    },
    {
     "data": {
      "text/plain": "None"
     },
     "metadata": {},
     "output_type": "display_data"
    },
    {
     "name": "stdout",
     "output_type": "stream",
     "text": [
      "___Loading raw dataset___\n",
      "Initial shape : (112650, 7)\n",
      "This is the dataset n°4 : order_items\n"
     ]
    },
    {
     "data": {
      "text/plain": "                           order_id  order_item_id  \\\n0  00010242fe8c5a6d1ba2dd792cb16214              1   \n1  00018f77f2f0320c557190d7a144bdd3              1   \n2  000229ec398224ef6ca0657da4fc703e              1   \n3  00024acbcdf0a6daa1e931b038114c75              1   \n4  00042b26cf59d7ce69dfabb4e55b4fd9              1   \n5  00048cc3ae777c65dbb7d2a0634bc1ea              1   \n6  00054e8431b9d7675808bcb819fb4a32              1   \n7  000576fe39319847cbb9d288c5617fa6              1   \n8  0005a1a1728c9d785b8e2b08b904576c              1   \n9  0005f50442cb953dcd1d21e1fb923495              1   \n\n                         product_id                         seller_id  \\\n0  4244733e06e7ecb4970a6e2683c13e61  48436dade18ac8b2bce089ec2a041202   \n1  e5f2d52b802189ee658865ca93d83a8f  dd7ddc04e1b6c2c614352b383efe2d36   \n2  c777355d18b72b67abbeef9df44fd0fd  5b51032eddd242adc84c38acab88f23d   \n3  7634da152a4610f1595efa32f14722fc  9d7a1d34a5052409006425275ba1c2b4   \n4  ac6c3623068f30de03045865e4e10089  df560393f3a51e74553ab94004ba5c87   \n5  ef92defde845ab8450f9d70c526ef70f  6426d21aca402a131fc0a5d0960a3c90   \n6  8d4f2bb7e93e6710a28f34fa83ee7d28  7040e82f899a04d1b434b795a43b4617   \n7  557d850972a7d6f792fd18ae1400d9b6  5996cddab893a4652a15592fb58ab8db   \n8  310ae3c140ff94b03219ad0adc3c778f  a416b6a846a11724393025641d4edd5e   \n9  4535b0e1091c278dfd193e5a1d63b39f  ba143b05f0110f0dc71ad71b4466ce92   \n\n   shipping_limit_date   price  freight_value  \n0  2017-09-19 09:45:35   58.90          13.29  \n1  2017-05-03 11:05:13  239.90          19.93  \n2  2018-01-18 14:48:30  199.00          17.87  \n3  2018-08-15 10:10:18   12.99          12.79  \n4  2017-02-13 13:57:51  199.90          18.14  \n5  2017-05-23 03:55:27   21.90          12.69  \n6  2017-12-14 12:10:31   19.90          11.85  \n7  2018-07-10 12:30:45  810.00          70.75  \n8  2018-03-26 18:31:29  145.95          11.65  \n9  2018-07-06 14:10:56   53.99          11.40  ",
      "text/html": "<div>\n<style scoped>\n    .dataframe tbody tr th:only-of-type {\n        vertical-align: middle;\n    }\n\n    .dataframe tbody tr th {\n        vertical-align: top;\n    }\n\n    .dataframe thead th {\n        text-align: right;\n    }\n</style>\n<table border=\"1\" class=\"dataframe\">\n  <thead>\n    <tr style=\"text-align: right;\">\n      <th></th>\n      <th>order_id</th>\n      <th>order_item_id</th>\n      <th>product_id</th>\n      <th>seller_id</th>\n      <th>shipping_limit_date</th>\n      <th>price</th>\n      <th>freight_value</th>\n    </tr>\n  </thead>\n  <tbody>\n    <tr>\n      <th>0</th>\n      <td>00010242fe8c5a6d1ba2dd792cb16214</td>\n      <td>1</td>\n      <td>4244733e06e7ecb4970a6e2683c13e61</td>\n      <td>48436dade18ac8b2bce089ec2a041202</td>\n      <td>2017-09-19 09:45:35</td>\n      <td>58.90</td>\n      <td>13.29</td>\n    </tr>\n    <tr>\n      <th>1</th>\n      <td>00018f77f2f0320c557190d7a144bdd3</td>\n      <td>1</td>\n      <td>e5f2d52b802189ee658865ca93d83a8f</td>\n      <td>dd7ddc04e1b6c2c614352b383efe2d36</td>\n      <td>2017-05-03 11:05:13</td>\n      <td>239.90</td>\n      <td>19.93</td>\n    </tr>\n    <tr>\n      <th>2</th>\n      <td>000229ec398224ef6ca0657da4fc703e</td>\n      <td>1</td>\n      <td>c777355d18b72b67abbeef9df44fd0fd</td>\n      <td>5b51032eddd242adc84c38acab88f23d</td>\n      <td>2018-01-18 14:48:30</td>\n      <td>199.00</td>\n      <td>17.87</td>\n    </tr>\n    <tr>\n      <th>3</th>\n      <td>00024acbcdf0a6daa1e931b038114c75</td>\n      <td>1</td>\n      <td>7634da152a4610f1595efa32f14722fc</td>\n      <td>9d7a1d34a5052409006425275ba1c2b4</td>\n      <td>2018-08-15 10:10:18</td>\n      <td>12.99</td>\n      <td>12.79</td>\n    </tr>\n    <tr>\n      <th>4</th>\n      <td>00042b26cf59d7ce69dfabb4e55b4fd9</td>\n      <td>1</td>\n      <td>ac6c3623068f30de03045865e4e10089</td>\n      <td>df560393f3a51e74553ab94004ba5c87</td>\n      <td>2017-02-13 13:57:51</td>\n      <td>199.90</td>\n      <td>18.14</td>\n    </tr>\n    <tr>\n      <th>5</th>\n      <td>00048cc3ae777c65dbb7d2a0634bc1ea</td>\n      <td>1</td>\n      <td>ef92defde845ab8450f9d70c526ef70f</td>\n      <td>6426d21aca402a131fc0a5d0960a3c90</td>\n      <td>2017-05-23 03:55:27</td>\n      <td>21.90</td>\n      <td>12.69</td>\n    </tr>\n    <tr>\n      <th>6</th>\n      <td>00054e8431b9d7675808bcb819fb4a32</td>\n      <td>1</td>\n      <td>8d4f2bb7e93e6710a28f34fa83ee7d28</td>\n      <td>7040e82f899a04d1b434b795a43b4617</td>\n      <td>2017-12-14 12:10:31</td>\n      <td>19.90</td>\n      <td>11.85</td>\n    </tr>\n    <tr>\n      <th>7</th>\n      <td>000576fe39319847cbb9d288c5617fa6</td>\n      <td>1</td>\n      <td>557d850972a7d6f792fd18ae1400d9b6</td>\n      <td>5996cddab893a4652a15592fb58ab8db</td>\n      <td>2018-07-10 12:30:45</td>\n      <td>810.00</td>\n      <td>70.75</td>\n    </tr>\n    <tr>\n      <th>8</th>\n      <td>0005a1a1728c9d785b8e2b08b904576c</td>\n      <td>1</td>\n      <td>310ae3c140ff94b03219ad0adc3c778f</td>\n      <td>a416b6a846a11724393025641d4edd5e</td>\n      <td>2018-03-26 18:31:29</td>\n      <td>145.95</td>\n      <td>11.65</td>\n    </tr>\n    <tr>\n      <th>9</th>\n      <td>0005f50442cb953dcd1d21e1fb923495</td>\n      <td>1</td>\n      <td>4535b0e1091c278dfd193e5a1d63b39f</td>\n      <td>ba143b05f0110f0dc71ad71b4466ce92</td>\n      <td>2018-07-06 14:10:56</td>\n      <td>53.99</td>\n      <td>11.40</td>\n    </tr>\n  </tbody>\n</table>\n</div>"
     },
     "metadata": {},
     "output_type": "display_data"
    },
    {
     "name": "stdout",
     "output_type": "stream",
     "text": [
      "<class 'pandas.core.frame.DataFrame'>\n",
      "RangeIndex: 112650 entries, 0 to 112649\n",
      "Data columns (total 7 columns):\n",
      " #   Column               Non-Null Count   Dtype  \n",
      "---  ------               --------------   -----  \n",
      " 0   order_id             112650 non-null  object \n",
      " 1   order_item_id        112650 non-null  int64  \n",
      " 2   product_id           112650 non-null  object \n",
      " 3   seller_id            112650 non-null  object \n",
      " 4   shipping_limit_date  112650 non-null  object \n",
      " 5   price                112650 non-null  float64\n",
      " 6   freight_value        112650 non-null  float64\n",
      "dtypes: float64(2), int64(1), object(4)\n",
      "memory usage: 6.0+ MB\n"
     ]
    },
    {
     "data": {
      "text/plain": "None"
     },
     "metadata": {},
     "output_type": "display_data"
    },
    {
     "name": "stdout",
     "output_type": "stream",
     "text": [
      "___Loading raw dataset___\n",
      "Initial shape : (103886, 5)\n",
      "This is the dataset n°5 : order_payments\n"
     ]
    },
    {
     "data": {
      "text/plain": "                           order_id  payment_sequential payment_type  \\\n0  b81ef226f3fe1789b1e8b2acac839d17                   1  credit_card   \n1  a9810da82917af2d9aefd1278f1dcfa0                   1  credit_card   \n2  25e8ea4e93396b6fa0d3dd708e76c1bd                   1  credit_card   \n3  ba78997921bbcdc1373bb41e913ab953                   1  credit_card   \n4  42fdf880ba16b47b59251dd489d4441a                   1  credit_card   \n5  298fcdf1f73eb413e4d26d01b25bc1cd                   1  credit_card   \n6  771ee386b001f06208a7419e4fc1bbd7                   1  credit_card   \n7  3d7239c394a212faae122962df514ac7                   1  credit_card   \n8  1f78449c87a54faf9e96e88ba1491fa9                   1  credit_card   \n9  0573b5e23cbd798006520e1d5b4c6714                   1       boleto   \n\n   payment_installments  payment_value  \n0                     8          99.33  \n1                     1          24.39  \n2                     1          65.71  \n3                     8         107.78  \n4                     2         128.45  \n5                     2          96.12  \n6                     1          81.16  \n7                     3          51.84  \n8                     6         341.09  \n9                     1          51.95  ",
      "text/html": "<div>\n<style scoped>\n    .dataframe tbody tr th:only-of-type {\n        vertical-align: middle;\n    }\n\n    .dataframe tbody tr th {\n        vertical-align: top;\n    }\n\n    .dataframe thead th {\n        text-align: right;\n    }\n</style>\n<table border=\"1\" class=\"dataframe\">\n  <thead>\n    <tr style=\"text-align: right;\">\n      <th></th>\n      <th>order_id</th>\n      <th>payment_sequential</th>\n      <th>payment_type</th>\n      <th>payment_installments</th>\n      <th>payment_value</th>\n    </tr>\n  </thead>\n  <tbody>\n    <tr>\n      <th>0</th>\n      <td>b81ef226f3fe1789b1e8b2acac839d17</td>\n      <td>1</td>\n      <td>credit_card</td>\n      <td>8</td>\n      <td>99.33</td>\n    </tr>\n    <tr>\n      <th>1</th>\n      <td>a9810da82917af2d9aefd1278f1dcfa0</td>\n      <td>1</td>\n      <td>credit_card</td>\n      <td>1</td>\n      <td>24.39</td>\n    </tr>\n    <tr>\n      <th>2</th>\n      <td>25e8ea4e93396b6fa0d3dd708e76c1bd</td>\n      <td>1</td>\n      <td>credit_card</td>\n      <td>1</td>\n      <td>65.71</td>\n    </tr>\n    <tr>\n      <th>3</th>\n      <td>ba78997921bbcdc1373bb41e913ab953</td>\n      <td>1</td>\n      <td>credit_card</td>\n      <td>8</td>\n      <td>107.78</td>\n    </tr>\n    <tr>\n      <th>4</th>\n      <td>42fdf880ba16b47b59251dd489d4441a</td>\n      <td>1</td>\n      <td>credit_card</td>\n      <td>2</td>\n      <td>128.45</td>\n    </tr>\n    <tr>\n      <th>5</th>\n      <td>298fcdf1f73eb413e4d26d01b25bc1cd</td>\n      <td>1</td>\n      <td>credit_card</td>\n      <td>2</td>\n      <td>96.12</td>\n    </tr>\n    <tr>\n      <th>6</th>\n      <td>771ee386b001f06208a7419e4fc1bbd7</td>\n      <td>1</td>\n      <td>credit_card</td>\n      <td>1</td>\n      <td>81.16</td>\n    </tr>\n    <tr>\n      <th>7</th>\n      <td>3d7239c394a212faae122962df514ac7</td>\n      <td>1</td>\n      <td>credit_card</td>\n      <td>3</td>\n      <td>51.84</td>\n    </tr>\n    <tr>\n      <th>8</th>\n      <td>1f78449c87a54faf9e96e88ba1491fa9</td>\n      <td>1</td>\n      <td>credit_card</td>\n      <td>6</td>\n      <td>341.09</td>\n    </tr>\n    <tr>\n      <th>9</th>\n      <td>0573b5e23cbd798006520e1d5b4c6714</td>\n      <td>1</td>\n      <td>boleto</td>\n      <td>1</td>\n      <td>51.95</td>\n    </tr>\n  </tbody>\n</table>\n</div>"
     },
     "metadata": {},
     "output_type": "display_data"
    },
    {
     "name": "stdout",
     "output_type": "stream",
     "text": [
      "<class 'pandas.core.frame.DataFrame'>\n",
      "RangeIndex: 103886 entries, 0 to 103885\n",
      "Data columns (total 5 columns):\n",
      " #   Column                Non-Null Count   Dtype  \n",
      "---  ------                --------------   -----  \n",
      " 0   order_id              103886 non-null  object \n",
      " 1   payment_sequential    103886 non-null  int64  \n",
      " 2   payment_type          103886 non-null  object \n",
      " 3   payment_installments  103886 non-null  int64  \n",
      " 4   payment_value         103886 non-null  float64\n",
      "dtypes: float64(1), int64(2), object(2)\n",
      "memory usage: 4.0+ MB\n"
     ]
    },
    {
     "data": {
      "text/plain": "None"
     },
     "metadata": {},
     "output_type": "display_data"
    },
    {
     "name": "stdout",
     "output_type": "stream",
     "text": [
      "___Loading raw dataset___\n",
      "Initial shape : (99224, 7)\n",
      "This is the dataset n°6 : order_reviews\n"
     ]
    },
    {
     "data": {
      "text/plain": "                          review_id                          order_id  \\\n0  7bc2406110b926393aa56f80a40eba40  73fc7af87114b39712e6da79b0a377eb   \n1  80e641a11e56f04c1ad469d5645fdfde  a548910a1c6147796b98fdf73dbeba33   \n2  228ce5500dc1d8e020d8d1322874b6f0  f9e4b658b201a9f2ecdecbb34bed034b   \n3  e64fb393e7b32834bb789ff8bb30750e  658677c97b385a9be170737859d3511b   \n4  f7c4243c7fe1938f181bec41a392bdeb  8e6bfb81e283fa7e4f11123a3fb894f1   \n5  15197aa66ff4d0650b5434f1b46cda19  b18dcdf73be66366873cd26c5724d1dc   \n6  07f9bee5d1b850860defd761afa7ff16  e48aa0d2dcec3a2e87348811bcfdf22b   \n7  7c6400515c67679fbee952a7525281ef  c31a859e34e3adac22f376954e19b39d   \n8  a3f6f7f6f433de0aefbb97da197c554c  9c214ac970e84273583ab523dfafd09b   \n9  8670d52e15e00043ae7de4c01cc2fe06  b9bf720beb4ab3728760088589c62129   \n\n   review_score review_comment_title  \\\n0             4                  NaN   \n1             5                  NaN   \n2             5                  NaN   \n3             5                  NaN   \n4             5                  NaN   \n5             1                  NaN   \n6             5                  NaN   \n7             5                  NaN   \n8             5                  NaN   \n9             4            recomendo   \n\n                              review_comment_message review_creation_date  \\\n0                                                NaN  2018-01-18 00:00:00   \n1                                                NaN  2018-03-10 00:00:00   \n2                                                NaN  2018-02-17 00:00:00   \n3              Recebi bem antes do prazo estipulado.  2017-04-21 00:00:00   \n4  Parabéns lojas lannister adorei comprar pela I...  2018-03-01 00:00:00   \n5                                                NaN  2018-04-13 00:00:00   \n6                                                NaN  2017-07-16 00:00:00   \n7                                                NaN  2018-08-14 00:00:00   \n8                                                NaN  2017-05-17 00:00:00   \n9  aparelho eficiente. no site a marca do aparelh...  2018-05-22 00:00:00   \n\n  review_answer_timestamp  \n0     2018-01-18 21:46:59  \n1     2018-03-11 03:05:13  \n2     2018-02-18 14:36:24  \n3     2017-04-21 22:02:06  \n4     2018-03-02 10:26:53  \n5     2018-04-16 00:39:37  \n6     2017-07-18 19:30:34  \n7     2018-08-14 21:36:06  \n8     2017-05-18 12:05:37  \n9     2018-05-23 16:45:47  ",
      "text/html": "<div>\n<style scoped>\n    .dataframe tbody tr th:only-of-type {\n        vertical-align: middle;\n    }\n\n    .dataframe tbody tr th {\n        vertical-align: top;\n    }\n\n    .dataframe thead th {\n        text-align: right;\n    }\n</style>\n<table border=\"1\" class=\"dataframe\">\n  <thead>\n    <tr style=\"text-align: right;\">\n      <th></th>\n      <th>review_id</th>\n      <th>order_id</th>\n      <th>review_score</th>\n      <th>review_comment_title</th>\n      <th>review_comment_message</th>\n      <th>review_creation_date</th>\n      <th>review_answer_timestamp</th>\n    </tr>\n  </thead>\n  <tbody>\n    <tr>\n      <th>0</th>\n      <td>7bc2406110b926393aa56f80a40eba40</td>\n      <td>73fc7af87114b39712e6da79b0a377eb</td>\n      <td>4</td>\n      <td>NaN</td>\n      <td>NaN</td>\n      <td>2018-01-18 00:00:00</td>\n      <td>2018-01-18 21:46:59</td>\n    </tr>\n    <tr>\n      <th>1</th>\n      <td>80e641a11e56f04c1ad469d5645fdfde</td>\n      <td>a548910a1c6147796b98fdf73dbeba33</td>\n      <td>5</td>\n      <td>NaN</td>\n      <td>NaN</td>\n      <td>2018-03-10 00:00:00</td>\n      <td>2018-03-11 03:05:13</td>\n    </tr>\n    <tr>\n      <th>2</th>\n      <td>228ce5500dc1d8e020d8d1322874b6f0</td>\n      <td>f9e4b658b201a9f2ecdecbb34bed034b</td>\n      <td>5</td>\n      <td>NaN</td>\n      <td>NaN</td>\n      <td>2018-02-17 00:00:00</td>\n      <td>2018-02-18 14:36:24</td>\n    </tr>\n    <tr>\n      <th>3</th>\n      <td>e64fb393e7b32834bb789ff8bb30750e</td>\n      <td>658677c97b385a9be170737859d3511b</td>\n      <td>5</td>\n      <td>NaN</td>\n      <td>Recebi bem antes do prazo estipulado.</td>\n      <td>2017-04-21 00:00:00</td>\n      <td>2017-04-21 22:02:06</td>\n    </tr>\n    <tr>\n      <th>4</th>\n      <td>f7c4243c7fe1938f181bec41a392bdeb</td>\n      <td>8e6bfb81e283fa7e4f11123a3fb894f1</td>\n      <td>5</td>\n      <td>NaN</td>\n      <td>Parabéns lojas lannister adorei comprar pela I...</td>\n      <td>2018-03-01 00:00:00</td>\n      <td>2018-03-02 10:26:53</td>\n    </tr>\n    <tr>\n      <th>5</th>\n      <td>15197aa66ff4d0650b5434f1b46cda19</td>\n      <td>b18dcdf73be66366873cd26c5724d1dc</td>\n      <td>1</td>\n      <td>NaN</td>\n      <td>NaN</td>\n      <td>2018-04-13 00:00:00</td>\n      <td>2018-04-16 00:39:37</td>\n    </tr>\n    <tr>\n      <th>6</th>\n      <td>07f9bee5d1b850860defd761afa7ff16</td>\n      <td>e48aa0d2dcec3a2e87348811bcfdf22b</td>\n      <td>5</td>\n      <td>NaN</td>\n      <td>NaN</td>\n      <td>2017-07-16 00:00:00</td>\n      <td>2017-07-18 19:30:34</td>\n    </tr>\n    <tr>\n      <th>7</th>\n      <td>7c6400515c67679fbee952a7525281ef</td>\n      <td>c31a859e34e3adac22f376954e19b39d</td>\n      <td>5</td>\n      <td>NaN</td>\n      <td>NaN</td>\n      <td>2018-08-14 00:00:00</td>\n      <td>2018-08-14 21:36:06</td>\n    </tr>\n    <tr>\n      <th>8</th>\n      <td>a3f6f7f6f433de0aefbb97da197c554c</td>\n      <td>9c214ac970e84273583ab523dfafd09b</td>\n      <td>5</td>\n      <td>NaN</td>\n      <td>NaN</td>\n      <td>2017-05-17 00:00:00</td>\n      <td>2017-05-18 12:05:37</td>\n    </tr>\n    <tr>\n      <th>9</th>\n      <td>8670d52e15e00043ae7de4c01cc2fe06</td>\n      <td>b9bf720beb4ab3728760088589c62129</td>\n      <td>4</td>\n      <td>recomendo</td>\n      <td>aparelho eficiente. no site a marca do aparelh...</td>\n      <td>2018-05-22 00:00:00</td>\n      <td>2018-05-23 16:45:47</td>\n    </tr>\n  </tbody>\n</table>\n</div>"
     },
     "metadata": {},
     "output_type": "display_data"
    },
    {
     "name": "stdout",
     "output_type": "stream",
     "text": [
      "<class 'pandas.core.frame.DataFrame'>\n",
      "RangeIndex: 99224 entries, 0 to 99223\n",
      "Data columns (total 7 columns):\n",
      " #   Column                   Non-Null Count  Dtype \n",
      "---  ------                   --------------  ----- \n",
      " 0   review_id                99224 non-null  object\n",
      " 1   order_id                 99224 non-null  object\n",
      " 2   review_score             99224 non-null  int64 \n",
      " 3   review_comment_title     11568 non-null  object\n",
      " 4   review_comment_message   40977 non-null  object\n",
      " 5   review_creation_date     99224 non-null  object\n",
      " 6   review_answer_timestamp  99224 non-null  object\n",
      "dtypes: int64(1), object(6)\n",
      "memory usage: 5.3+ MB\n"
     ]
    },
    {
     "data": {
      "text/plain": "None"
     },
     "metadata": {},
     "output_type": "display_data"
    },
    {
     "name": "stdout",
     "output_type": "stream",
     "text": [
      "___Loading raw dataset___\n",
      "Initial shape : (32951, 9)\n",
      "This is the dataset n°7 : products\n"
     ]
    },
    {
     "data": {
      "text/plain": "                         product_id  product_category_name  \\\n0  1e9e8ef04dbcff4541ed26657ea517e5             perfumaria   \n1  3aa071139cb16b67ca9e5dea641aaa2f                  artes   \n2  96bd76ec8810374ed1b65e291975717f          esporte_lazer   \n3  cef67bcfe19066a932b7673e239eb23d                  bebes   \n4  9dc1a7de274444849c219cff195d0b71  utilidades_domesticas   \n5  41d3672d4792049fa1779bb35283ed13  instrumentos_musicais   \n6  732bd381ad09e530fe0a5f457d81becb             cool_stuff   \n7  2548af3e6e77a690cf3eb6368e9ab61e       moveis_decoracao   \n8  37cc742be07708b53a98702e77a21a02       eletrodomesticos   \n9  8c92109888e8cdf9d66dc7e463025574             brinquedos   \n\n   product_name_lenght  product_description_lenght  product_photos_qty  \\\n0                 40.0                       287.0                 1.0   \n1                 44.0                       276.0                 1.0   \n2                 46.0                       250.0                 1.0   \n3                 27.0                       261.0                 1.0   \n4                 37.0                       402.0                 4.0   \n5                 60.0                       745.0                 1.0   \n6                 56.0                      1272.0                 4.0   \n7                 56.0                       184.0                 2.0   \n8                 57.0                       163.0                 1.0   \n9                 36.0                      1156.0                 1.0   \n\n   product_weight_g  product_length_cm  product_height_cm  product_width_cm  \n0             225.0               16.0               10.0              14.0  \n1            1000.0               30.0               18.0              20.0  \n2             154.0               18.0                9.0              15.0  \n3             371.0               26.0                4.0              26.0  \n4             625.0               20.0               17.0              13.0  \n5             200.0               38.0                5.0              11.0  \n6           18350.0               70.0               24.0              44.0  \n7             900.0               40.0                8.0              40.0  \n8             400.0               27.0               13.0              17.0  \n9             600.0               17.0               10.0              12.0  ",
      "text/html": "<div>\n<style scoped>\n    .dataframe tbody tr th:only-of-type {\n        vertical-align: middle;\n    }\n\n    .dataframe tbody tr th {\n        vertical-align: top;\n    }\n\n    .dataframe thead th {\n        text-align: right;\n    }\n</style>\n<table border=\"1\" class=\"dataframe\">\n  <thead>\n    <tr style=\"text-align: right;\">\n      <th></th>\n      <th>product_id</th>\n      <th>product_category_name</th>\n      <th>product_name_lenght</th>\n      <th>product_description_lenght</th>\n      <th>product_photos_qty</th>\n      <th>product_weight_g</th>\n      <th>product_length_cm</th>\n      <th>product_height_cm</th>\n      <th>product_width_cm</th>\n    </tr>\n  </thead>\n  <tbody>\n    <tr>\n      <th>0</th>\n      <td>1e9e8ef04dbcff4541ed26657ea517e5</td>\n      <td>perfumaria</td>\n      <td>40.0</td>\n      <td>287.0</td>\n      <td>1.0</td>\n      <td>225.0</td>\n      <td>16.0</td>\n      <td>10.0</td>\n      <td>14.0</td>\n    </tr>\n    <tr>\n      <th>1</th>\n      <td>3aa071139cb16b67ca9e5dea641aaa2f</td>\n      <td>artes</td>\n      <td>44.0</td>\n      <td>276.0</td>\n      <td>1.0</td>\n      <td>1000.0</td>\n      <td>30.0</td>\n      <td>18.0</td>\n      <td>20.0</td>\n    </tr>\n    <tr>\n      <th>2</th>\n      <td>96bd76ec8810374ed1b65e291975717f</td>\n      <td>esporte_lazer</td>\n      <td>46.0</td>\n      <td>250.0</td>\n      <td>1.0</td>\n      <td>154.0</td>\n      <td>18.0</td>\n      <td>9.0</td>\n      <td>15.0</td>\n    </tr>\n    <tr>\n      <th>3</th>\n      <td>cef67bcfe19066a932b7673e239eb23d</td>\n      <td>bebes</td>\n      <td>27.0</td>\n      <td>261.0</td>\n      <td>1.0</td>\n      <td>371.0</td>\n      <td>26.0</td>\n      <td>4.0</td>\n      <td>26.0</td>\n    </tr>\n    <tr>\n      <th>4</th>\n      <td>9dc1a7de274444849c219cff195d0b71</td>\n      <td>utilidades_domesticas</td>\n      <td>37.0</td>\n      <td>402.0</td>\n      <td>4.0</td>\n      <td>625.0</td>\n      <td>20.0</td>\n      <td>17.0</td>\n      <td>13.0</td>\n    </tr>\n    <tr>\n      <th>5</th>\n      <td>41d3672d4792049fa1779bb35283ed13</td>\n      <td>instrumentos_musicais</td>\n      <td>60.0</td>\n      <td>745.0</td>\n      <td>1.0</td>\n      <td>200.0</td>\n      <td>38.0</td>\n      <td>5.0</td>\n      <td>11.0</td>\n    </tr>\n    <tr>\n      <th>6</th>\n      <td>732bd381ad09e530fe0a5f457d81becb</td>\n      <td>cool_stuff</td>\n      <td>56.0</td>\n      <td>1272.0</td>\n      <td>4.0</td>\n      <td>18350.0</td>\n      <td>70.0</td>\n      <td>24.0</td>\n      <td>44.0</td>\n    </tr>\n    <tr>\n      <th>7</th>\n      <td>2548af3e6e77a690cf3eb6368e9ab61e</td>\n      <td>moveis_decoracao</td>\n      <td>56.0</td>\n      <td>184.0</td>\n      <td>2.0</td>\n      <td>900.0</td>\n      <td>40.0</td>\n      <td>8.0</td>\n      <td>40.0</td>\n    </tr>\n    <tr>\n      <th>8</th>\n      <td>37cc742be07708b53a98702e77a21a02</td>\n      <td>eletrodomesticos</td>\n      <td>57.0</td>\n      <td>163.0</td>\n      <td>1.0</td>\n      <td>400.0</td>\n      <td>27.0</td>\n      <td>13.0</td>\n      <td>17.0</td>\n    </tr>\n    <tr>\n      <th>9</th>\n      <td>8c92109888e8cdf9d66dc7e463025574</td>\n      <td>brinquedos</td>\n      <td>36.0</td>\n      <td>1156.0</td>\n      <td>1.0</td>\n      <td>600.0</td>\n      <td>17.0</td>\n      <td>10.0</td>\n      <td>12.0</td>\n    </tr>\n  </tbody>\n</table>\n</div>"
     },
     "metadata": {},
     "output_type": "display_data"
    },
    {
     "name": "stdout",
     "output_type": "stream",
     "text": [
      "<class 'pandas.core.frame.DataFrame'>\n",
      "RangeIndex: 32951 entries, 0 to 32950\n",
      "Data columns (total 9 columns):\n",
      " #   Column                      Non-Null Count  Dtype  \n",
      "---  ------                      --------------  -----  \n",
      " 0   product_id                  32951 non-null  object \n",
      " 1   product_category_name       32341 non-null  object \n",
      " 2   product_name_lenght         32341 non-null  float64\n",
      " 3   product_description_lenght  32341 non-null  float64\n",
      " 4   product_photos_qty          32341 non-null  float64\n",
      " 5   product_weight_g            32949 non-null  float64\n",
      " 6   product_length_cm           32949 non-null  float64\n",
      " 7   product_height_cm           32949 non-null  float64\n",
      " 8   product_width_cm            32949 non-null  float64\n",
      "dtypes: float64(7), object(2)\n",
      "memory usage: 2.3+ MB\n"
     ]
    },
    {
     "data": {
      "text/plain": "None"
     },
     "metadata": {},
     "output_type": "display_data"
    },
    {
     "name": "stdout",
     "output_type": "stream",
     "text": [
      "___Loading raw dataset___\n",
      "Initial shape : (3095, 4)\n",
      "This is the dataset n°8 : sellers\n"
     ]
    },
    {
     "data": {
      "text/plain": "                          seller_id  seller_zip_code_prefix  \\\n0  3442f8959a84dea7ee197c632cb2df15                   13023   \n1  d1b65fc7debc3361ea86b5f14c68d2e2                   13844   \n2  ce3ad9de960102d0677a81f5d0bb7b2d                   20031   \n3  c0f3eea2e14555b6faeea3dd58c1b1c3                    4195   \n4  51a04a8a6bdcb23deccc82b0b80742cf                   12914   \n5  c240c4061717ac1806ae6ee72be3533b                   20920   \n6  e49c26c3edfa46d227d5121a6b6e4d37                   55325   \n7  1b938a7ec6ac5061a66a3766e0e75f90                   16304   \n8  768a86e36ad6aae3d03ee3c6433d61df                    1529   \n9  ccc4bbb5f32a6ab2b7066a4130f114e3                   80310   \n\n         seller_city seller_state  \n0           campinas           SP  \n1         mogi guacu           SP  \n2     rio de janeiro           RJ  \n3          sao paulo           SP  \n4  braganca paulista           SP  \n5     rio de janeiro           RJ  \n6             brejao           PE  \n7          penapolis           SP  \n8          sao paulo           SP  \n9           curitiba           PR  ",
      "text/html": "<div>\n<style scoped>\n    .dataframe tbody tr th:only-of-type {\n        vertical-align: middle;\n    }\n\n    .dataframe tbody tr th {\n        vertical-align: top;\n    }\n\n    .dataframe thead th {\n        text-align: right;\n    }\n</style>\n<table border=\"1\" class=\"dataframe\">\n  <thead>\n    <tr style=\"text-align: right;\">\n      <th></th>\n      <th>seller_id</th>\n      <th>seller_zip_code_prefix</th>\n      <th>seller_city</th>\n      <th>seller_state</th>\n    </tr>\n  </thead>\n  <tbody>\n    <tr>\n      <th>0</th>\n      <td>3442f8959a84dea7ee197c632cb2df15</td>\n      <td>13023</td>\n      <td>campinas</td>\n      <td>SP</td>\n    </tr>\n    <tr>\n      <th>1</th>\n      <td>d1b65fc7debc3361ea86b5f14c68d2e2</td>\n      <td>13844</td>\n      <td>mogi guacu</td>\n      <td>SP</td>\n    </tr>\n    <tr>\n      <th>2</th>\n      <td>ce3ad9de960102d0677a81f5d0bb7b2d</td>\n      <td>20031</td>\n      <td>rio de janeiro</td>\n      <td>RJ</td>\n    </tr>\n    <tr>\n      <th>3</th>\n      <td>c0f3eea2e14555b6faeea3dd58c1b1c3</td>\n      <td>4195</td>\n      <td>sao paulo</td>\n      <td>SP</td>\n    </tr>\n    <tr>\n      <th>4</th>\n      <td>51a04a8a6bdcb23deccc82b0b80742cf</td>\n      <td>12914</td>\n      <td>braganca paulista</td>\n      <td>SP</td>\n    </tr>\n    <tr>\n      <th>5</th>\n      <td>c240c4061717ac1806ae6ee72be3533b</td>\n      <td>20920</td>\n      <td>rio de janeiro</td>\n      <td>RJ</td>\n    </tr>\n    <tr>\n      <th>6</th>\n      <td>e49c26c3edfa46d227d5121a6b6e4d37</td>\n      <td>55325</td>\n      <td>brejao</td>\n      <td>PE</td>\n    </tr>\n    <tr>\n      <th>7</th>\n      <td>1b938a7ec6ac5061a66a3766e0e75f90</td>\n      <td>16304</td>\n      <td>penapolis</td>\n      <td>SP</td>\n    </tr>\n    <tr>\n      <th>8</th>\n      <td>768a86e36ad6aae3d03ee3c6433d61df</td>\n      <td>1529</td>\n      <td>sao paulo</td>\n      <td>SP</td>\n    </tr>\n    <tr>\n      <th>9</th>\n      <td>ccc4bbb5f32a6ab2b7066a4130f114e3</td>\n      <td>80310</td>\n      <td>curitiba</td>\n      <td>PR</td>\n    </tr>\n  </tbody>\n</table>\n</div>"
     },
     "metadata": {},
     "output_type": "display_data"
    },
    {
     "name": "stdout",
     "output_type": "stream",
     "text": [
      "<class 'pandas.core.frame.DataFrame'>\n",
      "RangeIndex: 3095 entries, 0 to 3094\n",
      "Data columns (total 4 columns):\n",
      " #   Column                  Non-Null Count  Dtype \n",
      "---  ------                  --------------  ----- \n",
      " 0   seller_id               3095 non-null   object\n",
      " 1   seller_zip_code_prefix  3095 non-null   int64 \n",
      " 2   seller_city             3095 non-null   object\n",
      " 3   seller_state            3095 non-null   object\n",
      "dtypes: int64(1), object(3)\n",
      "memory usage: 96.8+ KB\n"
     ]
    },
    {
     "data": {
      "text/plain": "None"
     },
     "metadata": {},
     "output_type": "display_data"
    },
    {
     "name": "stdout",
     "output_type": "stream",
     "text": [
      "___Loading raw dataset___\n",
      "Initial shape : (71, 2)\n",
      "This is the dataset n°9 : product_category_name_translation\n"
     ]
    },
    {
     "data": {
      "text/plain": "    product_category_name product_category_name_english\n0            beleza_saude                 health_beauty\n1  informatica_acessorios         computers_accessories\n2              automotivo                          auto\n3         cama_mesa_banho                bed_bath_table\n4        moveis_decoracao               furniture_decor\n5           esporte_lazer                sports_leisure\n6              perfumaria                     perfumery\n7   utilidades_domesticas                    housewares\n8               telefonia                     telephony\n9      relogios_presentes                 watches_gifts",
      "text/html": "<div>\n<style scoped>\n    .dataframe tbody tr th:only-of-type {\n        vertical-align: middle;\n    }\n\n    .dataframe tbody tr th {\n        vertical-align: top;\n    }\n\n    .dataframe thead th {\n        text-align: right;\n    }\n</style>\n<table border=\"1\" class=\"dataframe\">\n  <thead>\n    <tr style=\"text-align: right;\">\n      <th></th>\n      <th>product_category_name</th>\n      <th>product_category_name_english</th>\n    </tr>\n  </thead>\n  <tbody>\n    <tr>\n      <th>0</th>\n      <td>beleza_saude</td>\n      <td>health_beauty</td>\n    </tr>\n    <tr>\n      <th>1</th>\n      <td>informatica_acessorios</td>\n      <td>computers_accessories</td>\n    </tr>\n    <tr>\n      <th>2</th>\n      <td>automotivo</td>\n      <td>auto</td>\n    </tr>\n    <tr>\n      <th>3</th>\n      <td>cama_mesa_banho</td>\n      <td>bed_bath_table</td>\n    </tr>\n    <tr>\n      <th>4</th>\n      <td>moveis_decoracao</td>\n      <td>furniture_decor</td>\n    </tr>\n    <tr>\n      <th>5</th>\n      <td>esporte_lazer</td>\n      <td>sports_leisure</td>\n    </tr>\n    <tr>\n      <th>6</th>\n      <td>perfumaria</td>\n      <td>perfumery</td>\n    </tr>\n    <tr>\n      <th>7</th>\n      <td>utilidades_domesticas</td>\n      <td>housewares</td>\n    </tr>\n    <tr>\n      <th>8</th>\n      <td>telefonia</td>\n      <td>telephony</td>\n    </tr>\n    <tr>\n      <th>9</th>\n      <td>relogios_presentes</td>\n      <td>watches_gifts</td>\n    </tr>\n  </tbody>\n</table>\n</div>"
     },
     "metadata": {},
     "output_type": "display_data"
    },
    {
     "name": "stdout",
     "output_type": "stream",
     "text": [
      "<class 'pandas.core.frame.DataFrame'>\n",
      "RangeIndex: 71 entries, 0 to 70\n",
      "Data columns (total 2 columns):\n",
      " #   Column                         Non-Null Count  Dtype \n",
      "---  ------                         --------------  ----- \n",
      " 0   product_category_name          71 non-null     object\n",
      " 1   product_category_name_english  71 non-null     object\n",
      "dtypes: object(2)\n",
      "memory usage: 1.2+ KB\n"
     ]
    },
    {
     "data": {
      "text/plain": "None"
     },
     "metadata": {},
     "output_type": "display_data"
    }
   ],
   "source": [
    "for index, dataset_csv in enumerate(all_csv_files):\n",
    "    name = dataset_csv.split(\".\")[0]\n",
    "    if name.startswith(\"olist\"):\n",
    "        list_name = name.split(\"_\")[1:-1]\n",
    "        name = \"_\".join(list_name)\n",
    "        #print(name)\n",
    "    #else:\n",
    "    #    print(name)\n",
    "    #continue\n",
    "    #print(name)\n",
    "    globals()[\"dataset_\" + name] = load_data(input_path, dataset_csv)\n",
    "    df = globals()[\"dataset_\" + name]\n",
    "\n",
    "    print(\"This is the dataset n°{} : {}\".format(index + 1, name))\n",
    "    display(df.head(10))\n",
    "    display(df.info())"
   ],
   "metadata": {
    "collapsed": false,
    "pycharm": {
     "name": "#%%\n"
    }
   }
  },
  {
   "cell_type": "code",
   "execution_count": 238,
   "outputs": [
    {
     "data": {
      "text/plain": "array(['06b8999e2fba1a1fbc88172c00ba8bc7',\n       '18955e83d337fd6b2def6b18a428ac77',\n       '4e7b3e00288586ebd08712fdd0374a03', ...,\n       '5e28dfe12db7fb50a4b2f691faecea5e',\n       '56b18e2166679b8a959d72dd06da27f9',\n       '274fa6071e5e17fe303b9748641082c8'], dtype=object)"
     },
     "execution_count": 238,
     "metadata": {},
     "output_type": "execute_result"
    }
   ],
   "source": [
    "df = dataset_customers.copy()\n",
    "df[\"customer_id\"].unique()"
   ],
   "metadata": {
    "collapsed": false,
    "pycharm": {
     "name": "#%%\n"
    }
   }
  },
  {
   "cell_type": "code",
   "execution_count": 239,
   "outputs": [
    {
     "data": {
      "text/plain": "                                order_id  order_item_id\n0       00010242fe8c5a6d1ba2dd792cb16214              1\n1       00018f77f2f0320c557190d7a144bdd3              1\n2       000229ec398224ef6ca0657da4fc703e              1\n3       00024acbcdf0a6daa1e931b038114c75              1\n4       00042b26cf59d7ce69dfabb4e55b4fd9              1\n...                                  ...            ...\n112645  fffc94f6ce00a00581880bf54a75a037              1\n112646  fffcd46ef2263f404302a634eb57f7eb              1\n112647  fffce4705a9662cd70adb13d4a31832d              1\n112648  fffe18544ffabc95dfada21779c9644f              1\n112649  fffe41c64501cc87c801fd61db3f6244              1\n\n[112650 rows x 2 columns]",
      "text/html": "<div>\n<style scoped>\n    .dataframe tbody tr th:only-of-type {\n        vertical-align: middle;\n    }\n\n    .dataframe tbody tr th {\n        vertical-align: top;\n    }\n\n    .dataframe thead th {\n        text-align: right;\n    }\n</style>\n<table border=\"1\" class=\"dataframe\">\n  <thead>\n    <tr style=\"text-align: right;\">\n      <th></th>\n      <th>order_id</th>\n      <th>order_item_id</th>\n    </tr>\n  </thead>\n  <tbody>\n    <tr>\n      <th>0</th>\n      <td>00010242fe8c5a6d1ba2dd792cb16214</td>\n      <td>1</td>\n    </tr>\n    <tr>\n      <th>1</th>\n      <td>00018f77f2f0320c557190d7a144bdd3</td>\n      <td>1</td>\n    </tr>\n    <tr>\n      <th>2</th>\n      <td>000229ec398224ef6ca0657da4fc703e</td>\n      <td>1</td>\n    </tr>\n    <tr>\n      <th>3</th>\n      <td>00024acbcdf0a6daa1e931b038114c75</td>\n      <td>1</td>\n    </tr>\n    <tr>\n      <th>4</th>\n      <td>00042b26cf59d7ce69dfabb4e55b4fd9</td>\n      <td>1</td>\n    </tr>\n    <tr>\n      <th>...</th>\n      <td>...</td>\n      <td>...</td>\n    </tr>\n    <tr>\n      <th>112645</th>\n      <td>fffc94f6ce00a00581880bf54a75a037</td>\n      <td>1</td>\n    </tr>\n    <tr>\n      <th>112646</th>\n      <td>fffcd46ef2263f404302a634eb57f7eb</td>\n      <td>1</td>\n    </tr>\n    <tr>\n      <th>112647</th>\n      <td>fffce4705a9662cd70adb13d4a31832d</td>\n      <td>1</td>\n    </tr>\n    <tr>\n      <th>112648</th>\n      <td>fffe18544ffabc95dfada21779c9644f</td>\n      <td>1</td>\n    </tr>\n    <tr>\n      <th>112649</th>\n      <td>fffe41c64501cc87c801fd61db3f6244</td>\n      <td>1</td>\n    </tr>\n  </tbody>\n</table>\n<p>112650 rows × 2 columns</p>\n</div>"
     },
     "execution_count": 239,
     "metadata": {},
     "output_type": "execute_result"
    }
   ],
   "source": [
    "dataset_order_items[[\"order_id\", \"order_item_id\"]]"
   ],
   "metadata": {
    "collapsed": false,
    "pycharm": {
     "name": "#%%\n"
    }
   }
  },
  {
   "cell_type": "code",
   "execution_count": 240,
   "outputs": [
    {
     "name": "stdout",
     "output_type": "stream",
     "text": [
      "<class 'pandas.core.frame.DataFrame'>\n",
      "RangeIndex: 99441 entries, 0 to 99440\n",
      "Data columns (total 8 columns):\n",
      " #   Column                         Non-Null Count  Dtype \n",
      "---  ------                         --------------  ----- \n",
      " 0   order_id                       99441 non-null  object\n",
      " 1   customer_id                    99441 non-null  object\n",
      " 2   order_status                   99441 non-null  object\n",
      " 3   order_purchase_timestamp       99441 non-null  object\n",
      " 4   order_approved_at              99281 non-null  object\n",
      " 5   order_delivered_carrier_date   97658 non-null  object\n",
      " 6   order_delivered_customer_date  96476 non-null  object\n",
      " 7   order_estimated_delivery_date  99441 non-null  object\n",
      "dtypes: object(8)\n",
      "memory usage: 6.1+ MB\n"
     ]
    }
   ],
   "source": [
    "dataset_orders.info()"
   ],
   "metadata": {
    "collapsed": false,
    "pycharm": {
     "name": "#%%\n"
    }
   }
  },
  {
   "cell_type": "code",
   "execution_count": 241,
   "outputs": [
    {
     "name": "stdout",
     "output_type": "stream",
     "text": [
      "<class 'pandas.core.frame.DataFrame'>\n",
      "RangeIndex: 112650 entries, 0 to 112649\n",
      "Data columns (total 7 columns):\n",
      " #   Column               Non-Null Count   Dtype  \n",
      "---  ------               --------------   -----  \n",
      " 0   order_id             112650 non-null  object \n",
      " 1   order_item_id        112650 non-null  int64  \n",
      " 2   product_id           112650 non-null  object \n",
      " 3   seller_id            112650 non-null  object \n",
      " 4   shipping_limit_date  112650 non-null  object \n",
      " 5   price                112650 non-null  float64\n",
      " 6   freight_value        112650 non-null  float64\n",
      "dtypes: float64(2), int64(1), object(4)\n",
      "memory usage: 6.0+ MB\n"
     ]
    }
   ],
   "source": [
    "dataset_order_items.info()"
   ],
   "metadata": {
    "collapsed": false,
    "pycharm": {
     "name": "#%%\n"
    }
   }
  },
  {
   "cell_type": "code",
   "execution_count": 242,
   "outputs": [
    {
     "name": "stdout",
     "output_type": "stream",
     "text": [
      "(99441, 8)\n",
      "(112650, 7)\n"
     ]
    },
    {
     "data": {
      "text/plain": "                                order_id                       customer_id  \\\n0       e481f51cbdc54678b7cc49136f2d6af7  9ef432eb6251297304e76186b10a928d   \n1       53cdb2fc8bc7dce0b6741e2150273451  b0830fb4747a6c6d20dea0b8c802d7ef   \n2       47770eb9100c2d0c44946d9cf07ec65d  41ce2a54c0b03bf3443c3d931a367089   \n3       949d5b44dbf5de918fe9c16f97b45f8a  f88197465ea7920adcdbec7375364d82   \n4       ad21c59c0840e6cb83a9ceb5573f8159  8ab97904e6daea8866dbdbc4fb7aad2c   \n...                                  ...                               ...   \n112645  63943bddc261676b46f01ca7ac2f7bd8  1fca14ff2861355f6e5f14306ff977a7   \n112646  83c1379a015df1e13d02aae0204711ab  1aa71eb042121263aafbe80c1b562c9c   \n112647  11c177c8e97725db2631073c19f07b62  b331b74b18dc79bcdf6532d51e1637c1   \n112648  11c177c8e97725db2631073c19f07b62  b331b74b18dc79bcdf6532d51e1637c1   \n112649  66dea50a8b16d9b4dee7af250b4be1a5  edb027a75a1449115f6b43211ae02a24   \n\n       order_status order_purchase_timestamp    order_approved_at  \\\n0         delivered      2017-10-02 10:56:33  2017-10-02 11:07:15   \n1         delivered      2018-07-24 20:41:37  2018-07-26 03:24:27   \n2         delivered      2018-08-08 08:38:49  2018-08-08 08:55:23   \n3         delivered      2017-11-18 19:28:06  2017-11-18 19:45:59   \n4         delivered      2018-02-13 21:18:39  2018-02-13 22:20:29   \n...             ...                      ...                  ...   \n112645    delivered      2018-02-06 12:58:58  2018-02-06 13:10:37   \n112646    delivered      2017-08-27 14:46:43  2017-08-27 15:04:16   \n112647    delivered      2018-01-08 21:28:27  2018-01-08 21:36:21   \n112648    delivered      2018-01-08 21:28:27  2018-01-08 21:36:21   \n112649    delivered      2018-03-08 20:57:30  2018-03-09 11:20:28   \n\n       order_delivered_carrier_date order_delivered_customer_date  \\\n0               2017-10-04 19:55:00           2017-10-10 21:25:13   \n1               2018-07-26 14:31:00           2018-08-07 15:27:45   \n2               2018-08-08 13:50:00           2018-08-17 18:06:29   \n3               2017-11-22 13:39:59           2017-12-02 00:28:42   \n4               2018-02-14 19:46:34           2018-02-16 18:17:02   \n...                             ...                           ...   \n112645          2018-02-07 23:22:42           2018-02-28 17:37:56   \n112646          2017-08-28 20:52:26           2017-09-21 11:24:17   \n112647          2018-01-12 15:35:03           2018-01-25 23:32:54   \n112648          2018-01-12 15:35:03           2018-01-25 23:32:54   \n112649          2018-03-09 22:11:59           2018-03-16 13:08:30   \n\n       order_estimated_delivery_date  order_item_id  \\\n0                2017-10-18 00:00:00              1   \n1                2018-08-13 00:00:00              1   \n2                2018-09-04 00:00:00              1   \n3                2017-12-15 00:00:00              1   \n4                2018-02-26 00:00:00              1   \n...                              ...            ...   \n112645           2018-03-02 00:00:00              1   \n112646           2017-09-27 00:00:00              1   \n112647           2018-02-15 00:00:00              1   \n112648           2018-02-15 00:00:00              2   \n112649           2018-04-03 00:00:00              1   \n\n                              product_id                         seller_id  \\\n0       87285b34884572647811a353c7ac498a  3504c0cb71d7fa48d967e0e4c94d59d9   \n1       595fac2a385ac33a80bd5114aec74eb8  289cdb325fb7e7f891c38608bf9e0962   \n2       aa4383b373c6aca5d8797843e5594415  4869f7a5dfa277a7dca6462dcf3b52b2   \n3       d0b61bfb1de832b15ba9d266ca96e5b0  66922902710d126a0e7d26b0e3805106   \n4       65266b2da20d04dbe00c5c2d3bb7859e  2c9e548be18521d1c43cde1c582c6de8   \n...                                  ...                               ...   \n112645  f1d4ce8c6dd66c47bbaa8c6781c2a923  1f9ab4708f3056ede07124aad39a2554   \n112646  b80910977a37536adeddd63663f916ad  d50d79cb34e38265a8649c383dcffd48   \n112647  d1c427060a0f73f6b889a5c7c61f2ac4  a1043bafd471dff536d0c462352beb48   \n112648  d1c427060a0f73f6b889a5c7c61f2ac4  a1043bafd471dff536d0c462352beb48   \n112649  006619bbed68b000c8ba3f8725d5409e  ececbfcff9804a2d6b40f589df8eef2b   \n\n        shipping_limit_date   price  freight_value  \n0       2017-10-06 11:07:15   29.99           8.72  \n1       2018-07-30 03:24:27  118.70          22.76  \n2       2018-08-13 08:55:23  159.90          19.22  \n3       2017-11-23 19:45:59   45.00          27.20  \n4       2018-02-19 20:31:37   19.90           8.72  \n...                     ...     ...            ...  \n112645  2018-02-12 13:10:37  174.90          20.10  \n112646  2017-09-05 15:04:16  205.99          65.02  \n112647  2018-01-12 21:36:21  179.99          40.59  \n112648  2018-01-12 21:36:21  179.99          40.59  \n112649  2018-03-15 10:55:42   68.50          18.36  \n\n[112650 rows x 14 columns]",
      "text/html": "<div>\n<style scoped>\n    .dataframe tbody tr th:only-of-type {\n        vertical-align: middle;\n    }\n\n    .dataframe tbody tr th {\n        vertical-align: top;\n    }\n\n    .dataframe thead th {\n        text-align: right;\n    }\n</style>\n<table border=\"1\" class=\"dataframe\">\n  <thead>\n    <tr style=\"text-align: right;\">\n      <th></th>\n      <th>order_id</th>\n      <th>customer_id</th>\n      <th>order_status</th>\n      <th>order_purchase_timestamp</th>\n      <th>order_approved_at</th>\n      <th>order_delivered_carrier_date</th>\n      <th>order_delivered_customer_date</th>\n      <th>order_estimated_delivery_date</th>\n      <th>order_item_id</th>\n      <th>product_id</th>\n      <th>seller_id</th>\n      <th>shipping_limit_date</th>\n      <th>price</th>\n      <th>freight_value</th>\n    </tr>\n  </thead>\n  <tbody>\n    <tr>\n      <th>0</th>\n      <td>e481f51cbdc54678b7cc49136f2d6af7</td>\n      <td>9ef432eb6251297304e76186b10a928d</td>\n      <td>delivered</td>\n      <td>2017-10-02 10:56:33</td>\n      <td>2017-10-02 11:07:15</td>\n      <td>2017-10-04 19:55:00</td>\n      <td>2017-10-10 21:25:13</td>\n      <td>2017-10-18 00:00:00</td>\n      <td>1</td>\n      <td>87285b34884572647811a353c7ac498a</td>\n      <td>3504c0cb71d7fa48d967e0e4c94d59d9</td>\n      <td>2017-10-06 11:07:15</td>\n      <td>29.99</td>\n      <td>8.72</td>\n    </tr>\n    <tr>\n      <th>1</th>\n      <td>53cdb2fc8bc7dce0b6741e2150273451</td>\n      <td>b0830fb4747a6c6d20dea0b8c802d7ef</td>\n      <td>delivered</td>\n      <td>2018-07-24 20:41:37</td>\n      <td>2018-07-26 03:24:27</td>\n      <td>2018-07-26 14:31:00</td>\n      <td>2018-08-07 15:27:45</td>\n      <td>2018-08-13 00:00:00</td>\n      <td>1</td>\n      <td>595fac2a385ac33a80bd5114aec74eb8</td>\n      <td>289cdb325fb7e7f891c38608bf9e0962</td>\n      <td>2018-07-30 03:24:27</td>\n      <td>118.70</td>\n      <td>22.76</td>\n    </tr>\n    <tr>\n      <th>2</th>\n      <td>47770eb9100c2d0c44946d9cf07ec65d</td>\n      <td>41ce2a54c0b03bf3443c3d931a367089</td>\n      <td>delivered</td>\n      <td>2018-08-08 08:38:49</td>\n      <td>2018-08-08 08:55:23</td>\n      <td>2018-08-08 13:50:00</td>\n      <td>2018-08-17 18:06:29</td>\n      <td>2018-09-04 00:00:00</td>\n      <td>1</td>\n      <td>aa4383b373c6aca5d8797843e5594415</td>\n      <td>4869f7a5dfa277a7dca6462dcf3b52b2</td>\n      <td>2018-08-13 08:55:23</td>\n      <td>159.90</td>\n      <td>19.22</td>\n    </tr>\n    <tr>\n      <th>3</th>\n      <td>949d5b44dbf5de918fe9c16f97b45f8a</td>\n      <td>f88197465ea7920adcdbec7375364d82</td>\n      <td>delivered</td>\n      <td>2017-11-18 19:28:06</td>\n      <td>2017-11-18 19:45:59</td>\n      <td>2017-11-22 13:39:59</td>\n      <td>2017-12-02 00:28:42</td>\n      <td>2017-12-15 00:00:00</td>\n      <td>1</td>\n      <td>d0b61bfb1de832b15ba9d266ca96e5b0</td>\n      <td>66922902710d126a0e7d26b0e3805106</td>\n      <td>2017-11-23 19:45:59</td>\n      <td>45.00</td>\n      <td>27.20</td>\n    </tr>\n    <tr>\n      <th>4</th>\n      <td>ad21c59c0840e6cb83a9ceb5573f8159</td>\n      <td>8ab97904e6daea8866dbdbc4fb7aad2c</td>\n      <td>delivered</td>\n      <td>2018-02-13 21:18:39</td>\n      <td>2018-02-13 22:20:29</td>\n      <td>2018-02-14 19:46:34</td>\n      <td>2018-02-16 18:17:02</td>\n      <td>2018-02-26 00:00:00</td>\n      <td>1</td>\n      <td>65266b2da20d04dbe00c5c2d3bb7859e</td>\n      <td>2c9e548be18521d1c43cde1c582c6de8</td>\n      <td>2018-02-19 20:31:37</td>\n      <td>19.90</td>\n      <td>8.72</td>\n    </tr>\n    <tr>\n      <th>...</th>\n      <td>...</td>\n      <td>...</td>\n      <td>...</td>\n      <td>...</td>\n      <td>...</td>\n      <td>...</td>\n      <td>...</td>\n      <td>...</td>\n      <td>...</td>\n      <td>...</td>\n      <td>...</td>\n      <td>...</td>\n      <td>...</td>\n      <td>...</td>\n    </tr>\n    <tr>\n      <th>112645</th>\n      <td>63943bddc261676b46f01ca7ac2f7bd8</td>\n      <td>1fca14ff2861355f6e5f14306ff977a7</td>\n      <td>delivered</td>\n      <td>2018-02-06 12:58:58</td>\n      <td>2018-02-06 13:10:37</td>\n      <td>2018-02-07 23:22:42</td>\n      <td>2018-02-28 17:37:56</td>\n      <td>2018-03-02 00:00:00</td>\n      <td>1</td>\n      <td>f1d4ce8c6dd66c47bbaa8c6781c2a923</td>\n      <td>1f9ab4708f3056ede07124aad39a2554</td>\n      <td>2018-02-12 13:10:37</td>\n      <td>174.90</td>\n      <td>20.10</td>\n    </tr>\n    <tr>\n      <th>112646</th>\n      <td>83c1379a015df1e13d02aae0204711ab</td>\n      <td>1aa71eb042121263aafbe80c1b562c9c</td>\n      <td>delivered</td>\n      <td>2017-08-27 14:46:43</td>\n      <td>2017-08-27 15:04:16</td>\n      <td>2017-08-28 20:52:26</td>\n      <td>2017-09-21 11:24:17</td>\n      <td>2017-09-27 00:00:00</td>\n      <td>1</td>\n      <td>b80910977a37536adeddd63663f916ad</td>\n      <td>d50d79cb34e38265a8649c383dcffd48</td>\n      <td>2017-09-05 15:04:16</td>\n      <td>205.99</td>\n      <td>65.02</td>\n    </tr>\n    <tr>\n      <th>112647</th>\n      <td>11c177c8e97725db2631073c19f07b62</td>\n      <td>b331b74b18dc79bcdf6532d51e1637c1</td>\n      <td>delivered</td>\n      <td>2018-01-08 21:28:27</td>\n      <td>2018-01-08 21:36:21</td>\n      <td>2018-01-12 15:35:03</td>\n      <td>2018-01-25 23:32:54</td>\n      <td>2018-02-15 00:00:00</td>\n      <td>1</td>\n      <td>d1c427060a0f73f6b889a5c7c61f2ac4</td>\n      <td>a1043bafd471dff536d0c462352beb48</td>\n      <td>2018-01-12 21:36:21</td>\n      <td>179.99</td>\n      <td>40.59</td>\n    </tr>\n    <tr>\n      <th>112648</th>\n      <td>11c177c8e97725db2631073c19f07b62</td>\n      <td>b331b74b18dc79bcdf6532d51e1637c1</td>\n      <td>delivered</td>\n      <td>2018-01-08 21:28:27</td>\n      <td>2018-01-08 21:36:21</td>\n      <td>2018-01-12 15:35:03</td>\n      <td>2018-01-25 23:32:54</td>\n      <td>2018-02-15 00:00:00</td>\n      <td>2</td>\n      <td>d1c427060a0f73f6b889a5c7c61f2ac4</td>\n      <td>a1043bafd471dff536d0c462352beb48</td>\n      <td>2018-01-12 21:36:21</td>\n      <td>179.99</td>\n      <td>40.59</td>\n    </tr>\n    <tr>\n      <th>112649</th>\n      <td>66dea50a8b16d9b4dee7af250b4be1a5</td>\n      <td>edb027a75a1449115f6b43211ae02a24</td>\n      <td>delivered</td>\n      <td>2018-03-08 20:57:30</td>\n      <td>2018-03-09 11:20:28</td>\n      <td>2018-03-09 22:11:59</td>\n      <td>2018-03-16 13:08:30</td>\n      <td>2018-04-03 00:00:00</td>\n      <td>1</td>\n      <td>006619bbed68b000c8ba3f8725d5409e</td>\n      <td>ececbfcff9804a2d6b40f589df8eef2b</td>\n      <td>2018-03-15 10:55:42</td>\n      <td>68.50</td>\n      <td>18.36</td>\n    </tr>\n  </tbody>\n</table>\n<p>112650 rows × 14 columns</p>\n</div>"
     },
     "metadata": {},
     "output_type": "display_data"
    },
    {
     "name": "stdout",
     "output_type": "stream",
     "text": [
      "<class 'pandas.core.frame.DataFrame'>\n",
      "Int64Index: 112650 entries, 0 to 112649\n",
      "Data columns (total 14 columns):\n",
      " #   Column                         Non-Null Count   Dtype  \n",
      "---  ------                         --------------   -----  \n",
      " 0   order_id                       112650 non-null  object \n",
      " 1   customer_id                    112650 non-null  object \n",
      " 2   order_status                   112650 non-null  object \n",
      " 3   order_purchase_timestamp       112650 non-null  object \n",
      " 4   order_approved_at              112635 non-null  object \n",
      " 5   order_delivered_carrier_date   111456 non-null  object \n",
      " 6   order_delivered_customer_date  110196 non-null  object \n",
      " 7   order_estimated_delivery_date  112650 non-null  object \n",
      " 8   order_item_id                  112650 non-null  int64  \n",
      " 9   product_id                     112650 non-null  object \n",
      " 10  seller_id                      112650 non-null  object \n",
      " 11  shipping_limit_date            112650 non-null  object \n",
      " 12  price                          112650 non-null  float64\n",
      " 13  freight_value                  112650 non-null  float64\n",
      "dtypes: float64(2), int64(1), object(11)\n",
      "memory usage: 12.9+ MB\n"
     ]
    },
    {
     "data": {
      "text/plain": "None"
     },
     "metadata": {},
     "output_type": "display_data"
    }
   ],
   "source": [
    "dataset_merged_orders = dataset_orders.merge(dataset_order_items, on='order_id', how='inner')\n",
    "\n",
    "print(dataset_orders.shape)\n",
    "print(dataset_order_items.shape)\n",
    "display(dataset_merged_orders)\n",
    "\n",
    "display(dataset_merged_orders.info())"
   ],
   "metadata": {
    "collapsed": false,
    "pycharm": {
     "name": "#%%\n"
    }
   }
  },
  {
   "cell_type": "code",
   "execution_count": 242,
   "outputs": [],
   "source": [],
   "metadata": {
    "collapsed": false,
    "pycharm": {
     "name": "#%%\n"
    }
   }
  },
  {
   "cell_type": "code",
   "execution_count": 243,
   "outputs": [
    {
     "name": "stdout",
     "output_type": "stream",
     "text": [
      "(99441, 8)\n",
      "(99441, 5)\n"
     ]
    },
    {
     "data": {
      "text/plain": "                               order_id                       customer_id  \\\n0      e481f51cbdc54678b7cc49136f2d6af7  9ef432eb6251297304e76186b10a928d   \n1      53cdb2fc8bc7dce0b6741e2150273451  b0830fb4747a6c6d20dea0b8c802d7ef   \n2      47770eb9100c2d0c44946d9cf07ec65d  41ce2a54c0b03bf3443c3d931a367089   \n3      949d5b44dbf5de918fe9c16f97b45f8a  f88197465ea7920adcdbec7375364d82   \n4      ad21c59c0840e6cb83a9ceb5573f8159  8ab97904e6daea8866dbdbc4fb7aad2c   \n...                                 ...                               ...   \n99436  9c5dedf39a927c1b2549525ed64a053c  39bd1228ee8140590ac3aca26f2dfe00   \n99437  63943bddc261676b46f01ca7ac2f7bd8  1fca14ff2861355f6e5f14306ff977a7   \n99438  83c1379a015df1e13d02aae0204711ab  1aa71eb042121263aafbe80c1b562c9c   \n99439  11c177c8e97725db2631073c19f07b62  b331b74b18dc79bcdf6532d51e1637c1   \n99440  66dea50a8b16d9b4dee7af250b4be1a5  edb027a75a1449115f6b43211ae02a24   \n\n      order_status order_purchase_timestamp    order_approved_at  \\\n0        delivered      2017-10-02 10:56:33  2017-10-02 11:07:15   \n1        delivered      2018-07-24 20:41:37  2018-07-26 03:24:27   \n2        delivered      2018-08-08 08:38:49  2018-08-08 08:55:23   \n3        delivered      2017-11-18 19:28:06  2017-11-18 19:45:59   \n4        delivered      2018-02-13 21:18:39  2018-02-13 22:20:29   \n...            ...                      ...                  ...   \n99436    delivered      2017-03-09 09:54:05  2017-03-09 09:54:05   \n99437    delivered      2018-02-06 12:58:58  2018-02-06 13:10:37   \n99438    delivered      2017-08-27 14:46:43  2017-08-27 15:04:16   \n99439    delivered      2018-01-08 21:28:27  2018-01-08 21:36:21   \n99440    delivered      2018-03-08 20:57:30  2018-03-09 11:20:28   \n\n      order_delivered_carrier_date order_delivered_customer_date  \\\n0              2017-10-04 19:55:00           2017-10-10 21:25:13   \n1              2018-07-26 14:31:00           2018-08-07 15:27:45   \n2              2018-08-08 13:50:00           2018-08-17 18:06:29   \n3              2017-11-22 13:39:59           2017-12-02 00:28:42   \n4              2018-02-14 19:46:34           2018-02-16 18:17:02   \n...                            ...                           ...   \n99436          2017-03-10 11:18:03           2017-03-17 15:08:01   \n99437          2018-02-07 23:22:42           2018-02-28 17:37:56   \n99438          2017-08-28 20:52:26           2017-09-21 11:24:17   \n99439          2018-01-12 15:35:03           2018-01-25 23:32:54   \n99440          2018-03-09 22:11:59           2018-03-16 13:08:30   \n\n      order_estimated_delivery_date                customer_unique_id  \\\n0               2017-10-18 00:00:00  7c396fd4830fd04220f754e42b4e5bff   \n1               2018-08-13 00:00:00  af07308b275d755c9edb36a90c618231   \n2               2018-09-04 00:00:00  3a653a41f6f9fc3d2a113cf8398680e8   \n3               2017-12-15 00:00:00  7c142cf63193a1473d2e66489a9ae977   \n4               2018-02-26 00:00:00  72632f0f9dd73dfee390c9b22eb56dd6   \n...                             ...                               ...   \n99436           2017-03-28 00:00:00  6359f309b166b0196dbf7ad2ac62bb5a   \n99437           2018-03-02 00:00:00  da62f9e57a76d978d02ab5362c509660   \n99438           2017-09-27 00:00:00  737520a9aad80b3fbbdad19b66b37b30   \n99439           2018-02-15 00:00:00  5097a5312c8b157bb7be58ae360ef43c   \n99440           2018-04-03 00:00:00  60350aa974b26ff12caad89e55993bd6   \n\n       customer_zip_code_prefix            customer_city customer_state  \n0                          3149                sao paulo             SP  \n1                         47813                barreiras             BA  \n2                         75265               vianopolis             GO  \n3                         59296  sao goncalo do amarante             RN  \n4                          9195              santo andre             SP  \n...                         ...                      ...            ...  \n99436                     12209      sao jose dos campos             SP  \n99437                     11722             praia grande             SP  \n99438                     45920              nova vicosa             BA  \n99439                     28685                  japuiba             RJ  \n99440                     83750                     lapa             PR  \n\n[99441 rows x 12 columns]",
      "text/html": "<div>\n<style scoped>\n    .dataframe tbody tr th:only-of-type {\n        vertical-align: middle;\n    }\n\n    .dataframe tbody tr th {\n        vertical-align: top;\n    }\n\n    .dataframe thead th {\n        text-align: right;\n    }\n</style>\n<table border=\"1\" class=\"dataframe\">\n  <thead>\n    <tr style=\"text-align: right;\">\n      <th></th>\n      <th>order_id</th>\n      <th>customer_id</th>\n      <th>order_status</th>\n      <th>order_purchase_timestamp</th>\n      <th>order_approved_at</th>\n      <th>order_delivered_carrier_date</th>\n      <th>order_delivered_customer_date</th>\n      <th>order_estimated_delivery_date</th>\n      <th>customer_unique_id</th>\n      <th>customer_zip_code_prefix</th>\n      <th>customer_city</th>\n      <th>customer_state</th>\n    </tr>\n  </thead>\n  <tbody>\n    <tr>\n      <th>0</th>\n      <td>e481f51cbdc54678b7cc49136f2d6af7</td>\n      <td>9ef432eb6251297304e76186b10a928d</td>\n      <td>delivered</td>\n      <td>2017-10-02 10:56:33</td>\n      <td>2017-10-02 11:07:15</td>\n      <td>2017-10-04 19:55:00</td>\n      <td>2017-10-10 21:25:13</td>\n      <td>2017-10-18 00:00:00</td>\n      <td>7c396fd4830fd04220f754e42b4e5bff</td>\n      <td>3149</td>\n      <td>sao paulo</td>\n      <td>SP</td>\n    </tr>\n    <tr>\n      <th>1</th>\n      <td>53cdb2fc8bc7dce0b6741e2150273451</td>\n      <td>b0830fb4747a6c6d20dea0b8c802d7ef</td>\n      <td>delivered</td>\n      <td>2018-07-24 20:41:37</td>\n      <td>2018-07-26 03:24:27</td>\n      <td>2018-07-26 14:31:00</td>\n      <td>2018-08-07 15:27:45</td>\n      <td>2018-08-13 00:00:00</td>\n      <td>af07308b275d755c9edb36a90c618231</td>\n      <td>47813</td>\n      <td>barreiras</td>\n      <td>BA</td>\n    </tr>\n    <tr>\n      <th>2</th>\n      <td>47770eb9100c2d0c44946d9cf07ec65d</td>\n      <td>41ce2a54c0b03bf3443c3d931a367089</td>\n      <td>delivered</td>\n      <td>2018-08-08 08:38:49</td>\n      <td>2018-08-08 08:55:23</td>\n      <td>2018-08-08 13:50:00</td>\n      <td>2018-08-17 18:06:29</td>\n      <td>2018-09-04 00:00:00</td>\n      <td>3a653a41f6f9fc3d2a113cf8398680e8</td>\n      <td>75265</td>\n      <td>vianopolis</td>\n      <td>GO</td>\n    </tr>\n    <tr>\n      <th>3</th>\n      <td>949d5b44dbf5de918fe9c16f97b45f8a</td>\n      <td>f88197465ea7920adcdbec7375364d82</td>\n      <td>delivered</td>\n      <td>2017-11-18 19:28:06</td>\n      <td>2017-11-18 19:45:59</td>\n      <td>2017-11-22 13:39:59</td>\n      <td>2017-12-02 00:28:42</td>\n      <td>2017-12-15 00:00:00</td>\n      <td>7c142cf63193a1473d2e66489a9ae977</td>\n      <td>59296</td>\n      <td>sao goncalo do amarante</td>\n      <td>RN</td>\n    </tr>\n    <tr>\n      <th>4</th>\n      <td>ad21c59c0840e6cb83a9ceb5573f8159</td>\n      <td>8ab97904e6daea8866dbdbc4fb7aad2c</td>\n      <td>delivered</td>\n      <td>2018-02-13 21:18:39</td>\n      <td>2018-02-13 22:20:29</td>\n      <td>2018-02-14 19:46:34</td>\n      <td>2018-02-16 18:17:02</td>\n      <td>2018-02-26 00:00:00</td>\n      <td>72632f0f9dd73dfee390c9b22eb56dd6</td>\n      <td>9195</td>\n      <td>santo andre</td>\n      <td>SP</td>\n    </tr>\n    <tr>\n      <th>...</th>\n      <td>...</td>\n      <td>...</td>\n      <td>...</td>\n      <td>...</td>\n      <td>...</td>\n      <td>...</td>\n      <td>...</td>\n      <td>...</td>\n      <td>...</td>\n      <td>...</td>\n      <td>...</td>\n      <td>...</td>\n    </tr>\n    <tr>\n      <th>99436</th>\n      <td>9c5dedf39a927c1b2549525ed64a053c</td>\n      <td>39bd1228ee8140590ac3aca26f2dfe00</td>\n      <td>delivered</td>\n      <td>2017-03-09 09:54:05</td>\n      <td>2017-03-09 09:54:05</td>\n      <td>2017-03-10 11:18:03</td>\n      <td>2017-03-17 15:08:01</td>\n      <td>2017-03-28 00:00:00</td>\n      <td>6359f309b166b0196dbf7ad2ac62bb5a</td>\n      <td>12209</td>\n      <td>sao jose dos campos</td>\n      <td>SP</td>\n    </tr>\n    <tr>\n      <th>99437</th>\n      <td>63943bddc261676b46f01ca7ac2f7bd8</td>\n      <td>1fca14ff2861355f6e5f14306ff977a7</td>\n      <td>delivered</td>\n      <td>2018-02-06 12:58:58</td>\n      <td>2018-02-06 13:10:37</td>\n      <td>2018-02-07 23:22:42</td>\n      <td>2018-02-28 17:37:56</td>\n      <td>2018-03-02 00:00:00</td>\n      <td>da62f9e57a76d978d02ab5362c509660</td>\n      <td>11722</td>\n      <td>praia grande</td>\n      <td>SP</td>\n    </tr>\n    <tr>\n      <th>99438</th>\n      <td>83c1379a015df1e13d02aae0204711ab</td>\n      <td>1aa71eb042121263aafbe80c1b562c9c</td>\n      <td>delivered</td>\n      <td>2017-08-27 14:46:43</td>\n      <td>2017-08-27 15:04:16</td>\n      <td>2017-08-28 20:52:26</td>\n      <td>2017-09-21 11:24:17</td>\n      <td>2017-09-27 00:00:00</td>\n      <td>737520a9aad80b3fbbdad19b66b37b30</td>\n      <td>45920</td>\n      <td>nova vicosa</td>\n      <td>BA</td>\n    </tr>\n    <tr>\n      <th>99439</th>\n      <td>11c177c8e97725db2631073c19f07b62</td>\n      <td>b331b74b18dc79bcdf6532d51e1637c1</td>\n      <td>delivered</td>\n      <td>2018-01-08 21:28:27</td>\n      <td>2018-01-08 21:36:21</td>\n      <td>2018-01-12 15:35:03</td>\n      <td>2018-01-25 23:32:54</td>\n      <td>2018-02-15 00:00:00</td>\n      <td>5097a5312c8b157bb7be58ae360ef43c</td>\n      <td>28685</td>\n      <td>japuiba</td>\n      <td>RJ</td>\n    </tr>\n    <tr>\n      <th>99440</th>\n      <td>66dea50a8b16d9b4dee7af250b4be1a5</td>\n      <td>edb027a75a1449115f6b43211ae02a24</td>\n      <td>delivered</td>\n      <td>2018-03-08 20:57:30</td>\n      <td>2018-03-09 11:20:28</td>\n      <td>2018-03-09 22:11:59</td>\n      <td>2018-03-16 13:08:30</td>\n      <td>2018-04-03 00:00:00</td>\n      <td>60350aa974b26ff12caad89e55993bd6</td>\n      <td>83750</td>\n      <td>lapa</td>\n      <td>PR</td>\n    </tr>\n  </tbody>\n</table>\n<p>99441 rows × 12 columns</p>\n</div>"
     },
     "metadata": {},
     "output_type": "display_data"
    },
    {
     "name": "stdout",
     "output_type": "stream",
     "text": [
      "<class 'pandas.core.frame.DataFrame'>\n",
      "Int64Index: 99441 entries, 0 to 99440\n",
      "Data columns (total 12 columns):\n",
      " #   Column                         Non-Null Count  Dtype \n",
      "---  ------                         --------------  ----- \n",
      " 0   order_id                       99441 non-null  object\n",
      " 1   customer_id                    99441 non-null  object\n",
      " 2   order_status                   99441 non-null  object\n",
      " 3   order_purchase_timestamp       99441 non-null  object\n",
      " 4   order_approved_at              99281 non-null  object\n",
      " 5   order_delivered_carrier_date   97658 non-null  object\n",
      " 6   order_delivered_customer_date  96476 non-null  object\n",
      " 7   order_estimated_delivery_date  99441 non-null  object\n",
      " 8   customer_unique_id             99441 non-null  object\n",
      " 9   customer_zip_code_prefix       99441 non-null  int64 \n",
      " 10  customer_city                  99441 non-null  object\n",
      " 11  customer_state                 99441 non-null  object\n",
      "dtypes: int64(1), object(11)\n",
      "memory usage: 9.9+ MB\n"
     ]
    },
    {
     "data": {
      "text/plain": "None"
     },
     "metadata": {},
     "output_type": "display_data"
    }
   ],
   "source": [
    "dataset_merged_customers = dataset_orders.merge(dataset_customers, on='customer_id', how='inner')\n",
    "\n",
    "print(dataset_orders.shape)\n",
    "print(dataset_customers.shape)\n",
    "display(dataset_merged_customers)\n",
    "\n",
    "display(dataset_merged_customers.info())"
   ],
   "metadata": {
    "collapsed": false,
    "pycharm": {
     "name": "#%%\n"
    }
   }
  },
  {
   "cell_type": "code",
   "execution_count": 244,
   "outputs": [
    {
     "data": {
      "text/plain": "Index(['order_id', 'customer_id', 'order_status', 'order_purchase_timestamp',\n       'order_approved_at', 'order_delivered_carrier_date',\n       'order_delivered_customer_date', 'order_estimated_delivery_date',\n       'customer_unique_id', 'customer_zip_code_prefix', 'customer_city',\n       'customer_state'],\n      dtype='object')"
     },
     "execution_count": 244,
     "metadata": {},
     "output_type": "execute_result"
    }
   ],
   "source": [
    "dataset_merged_customers.columns"
   ],
   "metadata": {
    "collapsed": false,
    "pycharm": {
     "name": "#%%\n"
    }
   }
  },
  {
   "cell_type": "code",
   "execution_count": 245,
   "outputs": [
    {
     "data": {
      "text/plain": "Index(['order_id', 'customer_id', 'order_status', 'order_purchase_timestamp',\n       'order_approved_at', 'order_delivered_carrier_date',\n       'order_delivered_customer_date', 'order_estimated_delivery_date',\n       'order_item_id', 'product_id', 'seller_id', 'shipping_limit_date',\n       'price', 'freight_value'],\n      dtype='object')"
     },
     "execution_count": 245,
     "metadata": {},
     "output_type": "execute_result"
    }
   ],
   "source": [
    "dataset_merged_orders.columns"
   ],
   "metadata": {
    "collapsed": false,
    "pycharm": {
     "name": "#%%\n"
    }
   }
  },
  {
   "cell_type": "code",
   "execution_count": 246,
   "outputs": [
    {
     "name": "stdout",
     "output_type": "stream",
     "text": [
      "(99441, 12)\n",
      "(112650, 7)\n"
     ]
    },
    {
     "data": {
      "text/plain": "                                order_id                       customer_id  \\\n0       e481f51cbdc54678b7cc49136f2d6af7  9ef432eb6251297304e76186b10a928d   \n1       53cdb2fc8bc7dce0b6741e2150273451  b0830fb4747a6c6d20dea0b8c802d7ef   \n2       47770eb9100c2d0c44946d9cf07ec65d  41ce2a54c0b03bf3443c3d931a367089   \n3       949d5b44dbf5de918fe9c16f97b45f8a  f88197465ea7920adcdbec7375364d82   \n4       ad21c59c0840e6cb83a9ceb5573f8159  8ab97904e6daea8866dbdbc4fb7aad2c   \n...                                  ...                               ...   \n113420  63943bddc261676b46f01ca7ac2f7bd8  1fca14ff2861355f6e5f14306ff977a7   \n113421  83c1379a015df1e13d02aae0204711ab  1aa71eb042121263aafbe80c1b562c9c   \n113422  11c177c8e97725db2631073c19f07b62  b331b74b18dc79bcdf6532d51e1637c1   \n113423  11c177c8e97725db2631073c19f07b62  b331b74b18dc79bcdf6532d51e1637c1   \n113424  66dea50a8b16d9b4dee7af250b4be1a5  edb027a75a1449115f6b43211ae02a24   \n\n       order_status order_purchase_timestamp    order_approved_at  \\\n0         delivered      2017-10-02 10:56:33  2017-10-02 11:07:15   \n1         delivered      2018-07-24 20:41:37  2018-07-26 03:24:27   \n2         delivered      2018-08-08 08:38:49  2018-08-08 08:55:23   \n3         delivered      2017-11-18 19:28:06  2017-11-18 19:45:59   \n4         delivered      2018-02-13 21:18:39  2018-02-13 22:20:29   \n...             ...                      ...                  ...   \n113420    delivered      2018-02-06 12:58:58  2018-02-06 13:10:37   \n113421    delivered      2017-08-27 14:46:43  2017-08-27 15:04:16   \n113422    delivered      2018-01-08 21:28:27  2018-01-08 21:36:21   \n113423    delivered      2018-01-08 21:28:27  2018-01-08 21:36:21   \n113424    delivered      2018-03-08 20:57:30  2018-03-09 11:20:28   \n\n       order_delivered_carrier_date order_delivered_customer_date  \\\n0               2017-10-04 19:55:00           2017-10-10 21:25:13   \n1               2018-07-26 14:31:00           2018-08-07 15:27:45   \n2               2018-08-08 13:50:00           2018-08-17 18:06:29   \n3               2017-11-22 13:39:59           2017-12-02 00:28:42   \n4               2018-02-14 19:46:34           2018-02-16 18:17:02   \n...                             ...                           ...   \n113420          2018-02-07 23:22:42           2018-02-28 17:37:56   \n113421          2017-08-28 20:52:26           2017-09-21 11:24:17   \n113422          2018-01-12 15:35:03           2018-01-25 23:32:54   \n113423          2018-01-12 15:35:03           2018-01-25 23:32:54   \n113424          2018-03-09 22:11:59           2018-03-16 13:08:30   \n\n       order_estimated_delivery_date                customer_unique_id  \\\n0                2017-10-18 00:00:00  7c396fd4830fd04220f754e42b4e5bff   \n1                2018-08-13 00:00:00  af07308b275d755c9edb36a90c618231   \n2                2018-09-04 00:00:00  3a653a41f6f9fc3d2a113cf8398680e8   \n3                2017-12-15 00:00:00  7c142cf63193a1473d2e66489a9ae977   \n4                2018-02-26 00:00:00  72632f0f9dd73dfee390c9b22eb56dd6   \n...                              ...                               ...   \n113420           2018-03-02 00:00:00  da62f9e57a76d978d02ab5362c509660   \n113421           2017-09-27 00:00:00  737520a9aad80b3fbbdad19b66b37b30   \n113422           2018-02-15 00:00:00  5097a5312c8b157bb7be58ae360ef43c   \n113423           2018-02-15 00:00:00  5097a5312c8b157bb7be58ae360ef43c   \n113424           2018-04-03 00:00:00  60350aa974b26ff12caad89e55993bd6   \n\n        customer_zip_code_prefix            customer_city customer_state  \\\n0                           3149                sao paulo             SP   \n1                          47813                barreiras             BA   \n2                          75265               vianopolis             GO   \n3                          59296  sao goncalo do amarante             RN   \n4                           9195              santo andre             SP   \n...                          ...                      ...            ...   \n113420                     11722             praia grande             SP   \n113421                     45920              nova vicosa             BA   \n113422                     28685                  japuiba             RJ   \n113423                     28685                  japuiba             RJ   \n113424                     83750                     lapa             PR   \n\n        order_item_id                        product_id  \\\n0                 1.0  87285b34884572647811a353c7ac498a   \n1                 1.0  595fac2a385ac33a80bd5114aec74eb8   \n2                 1.0  aa4383b373c6aca5d8797843e5594415   \n3                 1.0  d0b61bfb1de832b15ba9d266ca96e5b0   \n4                 1.0  65266b2da20d04dbe00c5c2d3bb7859e   \n...               ...                               ...   \n113420            1.0  f1d4ce8c6dd66c47bbaa8c6781c2a923   \n113421            1.0  b80910977a37536adeddd63663f916ad   \n113422            1.0  d1c427060a0f73f6b889a5c7c61f2ac4   \n113423            2.0  d1c427060a0f73f6b889a5c7c61f2ac4   \n113424            1.0  006619bbed68b000c8ba3f8725d5409e   \n\n                               seller_id  shipping_limit_date   price  \\\n0       3504c0cb71d7fa48d967e0e4c94d59d9  2017-10-06 11:07:15   29.99   \n1       289cdb325fb7e7f891c38608bf9e0962  2018-07-30 03:24:27  118.70   \n2       4869f7a5dfa277a7dca6462dcf3b52b2  2018-08-13 08:55:23  159.90   \n3       66922902710d126a0e7d26b0e3805106  2017-11-23 19:45:59   45.00   \n4       2c9e548be18521d1c43cde1c582c6de8  2018-02-19 20:31:37   19.90   \n...                                  ...                  ...     ...   \n113420  1f9ab4708f3056ede07124aad39a2554  2018-02-12 13:10:37  174.90   \n113421  d50d79cb34e38265a8649c383dcffd48  2017-09-05 15:04:16  205.99   \n113422  a1043bafd471dff536d0c462352beb48  2018-01-12 21:36:21  179.99   \n113423  a1043bafd471dff536d0c462352beb48  2018-01-12 21:36:21  179.99   \n113424  ececbfcff9804a2d6b40f589df8eef2b  2018-03-15 10:55:42   68.50   \n\n        freight_value  \n0                8.72  \n1               22.76  \n2               19.22  \n3               27.20  \n4                8.72  \n...               ...  \n113420          20.10  \n113421          65.02  \n113422          40.59  \n113423          40.59  \n113424          18.36  \n\n[113425 rows x 18 columns]",
      "text/html": "<div>\n<style scoped>\n    .dataframe tbody tr th:only-of-type {\n        vertical-align: middle;\n    }\n\n    .dataframe tbody tr th {\n        vertical-align: top;\n    }\n\n    .dataframe thead th {\n        text-align: right;\n    }\n</style>\n<table border=\"1\" class=\"dataframe\">\n  <thead>\n    <tr style=\"text-align: right;\">\n      <th></th>\n      <th>order_id</th>\n      <th>customer_id</th>\n      <th>order_status</th>\n      <th>order_purchase_timestamp</th>\n      <th>order_approved_at</th>\n      <th>order_delivered_carrier_date</th>\n      <th>order_delivered_customer_date</th>\n      <th>order_estimated_delivery_date</th>\n      <th>customer_unique_id</th>\n      <th>customer_zip_code_prefix</th>\n      <th>customer_city</th>\n      <th>customer_state</th>\n      <th>order_item_id</th>\n      <th>product_id</th>\n      <th>seller_id</th>\n      <th>shipping_limit_date</th>\n      <th>price</th>\n      <th>freight_value</th>\n    </tr>\n  </thead>\n  <tbody>\n    <tr>\n      <th>0</th>\n      <td>e481f51cbdc54678b7cc49136f2d6af7</td>\n      <td>9ef432eb6251297304e76186b10a928d</td>\n      <td>delivered</td>\n      <td>2017-10-02 10:56:33</td>\n      <td>2017-10-02 11:07:15</td>\n      <td>2017-10-04 19:55:00</td>\n      <td>2017-10-10 21:25:13</td>\n      <td>2017-10-18 00:00:00</td>\n      <td>7c396fd4830fd04220f754e42b4e5bff</td>\n      <td>3149</td>\n      <td>sao paulo</td>\n      <td>SP</td>\n      <td>1.0</td>\n      <td>87285b34884572647811a353c7ac498a</td>\n      <td>3504c0cb71d7fa48d967e0e4c94d59d9</td>\n      <td>2017-10-06 11:07:15</td>\n      <td>29.99</td>\n      <td>8.72</td>\n    </tr>\n    <tr>\n      <th>1</th>\n      <td>53cdb2fc8bc7dce0b6741e2150273451</td>\n      <td>b0830fb4747a6c6d20dea0b8c802d7ef</td>\n      <td>delivered</td>\n      <td>2018-07-24 20:41:37</td>\n      <td>2018-07-26 03:24:27</td>\n      <td>2018-07-26 14:31:00</td>\n      <td>2018-08-07 15:27:45</td>\n      <td>2018-08-13 00:00:00</td>\n      <td>af07308b275d755c9edb36a90c618231</td>\n      <td>47813</td>\n      <td>barreiras</td>\n      <td>BA</td>\n      <td>1.0</td>\n      <td>595fac2a385ac33a80bd5114aec74eb8</td>\n      <td>289cdb325fb7e7f891c38608bf9e0962</td>\n      <td>2018-07-30 03:24:27</td>\n      <td>118.70</td>\n      <td>22.76</td>\n    </tr>\n    <tr>\n      <th>2</th>\n      <td>47770eb9100c2d0c44946d9cf07ec65d</td>\n      <td>41ce2a54c0b03bf3443c3d931a367089</td>\n      <td>delivered</td>\n      <td>2018-08-08 08:38:49</td>\n      <td>2018-08-08 08:55:23</td>\n      <td>2018-08-08 13:50:00</td>\n      <td>2018-08-17 18:06:29</td>\n      <td>2018-09-04 00:00:00</td>\n      <td>3a653a41f6f9fc3d2a113cf8398680e8</td>\n      <td>75265</td>\n      <td>vianopolis</td>\n      <td>GO</td>\n      <td>1.0</td>\n      <td>aa4383b373c6aca5d8797843e5594415</td>\n      <td>4869f7a5dfa277a7dca6462dcf3b52b2</td>\n      <td>2018-08-13 08:55:23</td>\n      <td>159.90</td>\n      <td>19.22</td>\n    </tr>\n    <tr>\n      <th>3</th>\n      <td>949d5b44dbf5de918fe9c16f97b45f8a</td>\n      <td>f88197465ea7920adcdbec7375364d82</td>\n      <td>delivered</td>\n      <td>2017-11-18 19:28:06</td>\n      <td>2017-11-18 19:45:59</td>\n      <td>2017-11-22 13:39:59</td>\n      <td>2017-12-02 00:28:42</td>\n      <td>2017-12-15 00:00:00</td>\n      <td>7c142cf63193a1473d2e66489a9ae977</td>\n      <td>59296</td>\n      <td>sao goncalo do amarante</td>\n      <td>RN</td>\n      <td>1.0</td>\n      <td>d0b61bfb1de832b15ba9d266ca96e5b0</td>\n      <td>66922902710d126a0e7d26b0e3805106</td>\n      <td>2017-11-23 19:45:59</td>\n      <td>45.00</td>\n      <td>27.20</td>\n    </tr>\n    <tr>\n      <th>4</th>\n      <td>ad21c59c0840e6cb83a9ceb5573f8159</td>\n      <td>8ab97904e6daea8866dbdbc4fb7aad2c</td>\n      <td>delivered</td>\n      <td>2018-02-13 21:18:39</td>\n      <td>2018-02-13 22:20:29</td>\n      <td>2018-02-14 19:46:34</td>\n      <td>2018-02-16 18:17:02</td>\n      <td>2018-02-26 00:00:00</td>\n      <td>72632f0f9dd73dfee390c9b22eb56dd6</td>\n      <td>9195</td>\n      <td>santo andre</td>\n      <td>SP</td>\n      <td>1.0</td>\n      <td>65266b2da20d04dbe00c5c2d3bb7859e</td>\n      <td>2c9e548be18521d1c43cde1c582c6de8</td>\n      <td>2018-02-19 20:31:37</td>\n      <td>19.90</td>\n      <td>8.72</td>\n    </tr>\n    <tr>\n      <th>...</th>\n      <td>...</td>\n      <td>...</td>\n      <td>...</td>\n      <td>...</td>\n      <td>...</td>\n      <td>...</td>\n      <td>...</td>\n      <td>...</td>\n      <td>...</td>\n      <td>...</td>\n      <td>...</td>\n      <td>...</td>\n      <td>...</td>\n      <td>...</td>\n      <td>...</td>\n      <td>...</td>\n      <td>...</td>\n      <td>...</td>\n    </tr>\n    <tr>\n      <th>113420</th>\n      <td>63943bddc261676b46f01ca7ac2f7bd8</td>\n      <td>1fca14ff2861355f6e5f14306ff977a7</td>\n      <td>delivered</td>\n      <td>2018-02-06 12:58:58</td>\n      <td>2018-02-06 13:10:37</td>\n      <td>2018-02-07 23:22:42</td>\n      <td>2018-02-28 17:37:56</td>\n      <td>2018-03-02 00:00:00</td>\n      <td>da62f9e57a76d978d02ab5362c509660</td>\n      <td>11722</td>\n      <td>praia grande</td>\n      <td>SP</td>\n      <td>1.0</td>\n      <td>f1d4ce8c6dd66c47bbaa8c6781c2a923</td>\n      <td>1f9ab4708f3056ede07124aad39a2554</td>\n      <td>2018-02-12 13:10:37</td>\n      <td>174.90</td>\n      <td>20.10</td>\n    </tr>\n    <tr>\n      <th>113421</th>\n      <td>83c1379a015df1e13d02aae0204711ab</td>\n      <td>1aa71eb042121263aafbe80c1b562c9c</td>\n      <td>delivered</td>\n      <td>2017-08-27 14:46:43</td>\n      <td>2017-08-27 15:04:16</td>\n      <td>2017-08-28 20:52:26</td>\n      <td>2017-09-21 11:24:17</td>\n      <td>2017-09-27 00:00:00</td>\n      <td>737520a9aad80b3fbbdad19b66b37b30</td>\n      <td>45920</td>\n      <td>nova vicosa</td>\n      <td>BA</td>\n      <td>1.0</td>\n      <td>b80910977a37536adeddd63663f916ad</td>\n      <td>d50d79cb34e38265a8649c383dcffd48</td>\n      <td>2017-09-05 15:04:16</td>\n      <td>205.99</td>\n      <td>65.02</td>\n    </tr>\n    <tr>\n      <th>113422</th>\n      <td>11c177c8e97725db2631073c19f07b62</td>\n      <td>b331b74b18dc79bcdf6532d51e1637c1</td>\n      <td>delivered</td>\n      <td>2018-01-08 21:28:27</td>\n      <td>2018-01-08 21:36:21</td>\n      <td>2018-01-12 15:35:03</td>\n      <td>2018-01-25 23:32:54</td>\n      <td>2018-02-15 00:00:00</td>\n      <td>5097a5312c8b157bb7be58ae360ef43c</td>\n      <td>28685</td>\n      <td>japuiba</td>\n      <td>RJ</td>\n      <td>1.0</td>\n      <td>d1c427060a0f73f6b889a5c7c61f2ac4</td>\n      <td>a1043bafd471dff536d0c462352beb48</td>\n      <td>2018-01-12 21:36:21</td>\n      <td>179.99</td>\n      <td>40.59</td>\n    </tr>\n    <tr>\n      <th>113423</th>\n      <td>11c177c8e97725db2631073c19f07b62</td>\n      <td>b331b74b18dc79bcdf6532d51e1637c1</td>\n      <td>delivered</td>\n      <td>2018-01-08 21:28:27</td>\n      <td>2018-01-08 21:36:21</td>\n      <td>2018-01-12 15:35:03</td>\n      <td>2018-01-25 23:32:54</td>\n      <td>2018-02-15 00:00:00</td>\n      <td>5097a5312c8b157bb7be58ae360ef43c</td>\n      <td>28685</td>\n      <td>japuiba</td>\n      <td>RJ</td>\n      <td>2.0</td>\n      <td>d1c427060a0f73f6b889a5c7c61f2ac4</td>\n      <td>a1043bafd471dff536d0c462352beb48</td>\n      <td>2018-01-12 21:36:21</td>\n      <td>179.99</td>\n      <td>40.59</td>\n    </tr>\n    <tr>\n      <th>113424</th>\n      <td>66dea50a8b16d9b4dee7af250b4be1a5</td>\n      <td>edb027a75a1449115f6b43211ae02a24</td>\n      <td>delivered</td>\n      <td>2018-03-08 20:57:30</td>\n      <td>2018-03-09 11:20:28</td>\n      <td>2018-03-09 22:11:59</td>\n      <td>2018-03-16 13:08:30</td>\n      <td>2018-04-03 00:00:00</td>\n      <td>60350aa974b26ff12caad89e55993bd6</td>\n      <td>83750</td>\n      <td>lapa</td>\n      <td>PR</td>\n      <td>1.0</td>\n      <td>006619bbed68b000c8ba3f8725d5409e</td>\n      <td>ececbfcff9804a2d6b40f589df8eef2b</td>\n      <td>2018-03-15 10:55:42</td>\n      <td>68.50</td>\n      <td>18.36</td>\n    </tr>\n  </tbody>\n</table>\n<p>113425 rows × 18 columns</p>\n</div>"
     },
     "metadata": {},
     "output_type": "display_data"
    },
    {
     "name": "stdout",
     "output_type": "stream",
     "text": [
      "<class 'pandas.core.frame.DataFrame'>\n",
      "Int64Index: 113425 entries, 0 to 113424\n",
      "Data columns (total 18 columns):\n",
      " #   Column                         Non-Null Count   Dtype  \n",
      "---  ------                         --------------   -----  \n",
      " 0   order_id                       113425 non-null  object \n",
      " 1   customer_id                    113425 non-null  object \n",
      " 2   order_status                   113425 non-null  object \n",
      " 3   order_purchase_timestamp       113425 non-null  object \n",
      " 4   order_approved_at              113264 non-null  object \n",
      " 5   order_delivered_carrier_date   111457 non-null  object \n",
      " 6   order_delivered_customer_date  110196 non-null  object \n",
      " 7   order_estimated_delivery_date  113425 non-null  object \n",
      " 8   customer_unique_id             113425 non-null  object \n",
      " 9   customer_zip_code_prefix       113425 non-null  int64  \n",
      " 10  customer_city                  113425 non-null  object \n",
      " 11  customer_state                 113425 non-null  object \n",
      " 12  order_item_id                  112650 non-null  float64\n",
      " 13  product_id                     112650 non-null  object \n",
      " 14  seller_id                      112650 non-null  object \n",
      " 15  shipping_limit_date            112650 non-null  object \n",
      " 16  price                          112650 non-null  float64\n",
      " 17  freight_value                  112650 non-null  float64\n",
      "dtypes: float64(3), int64(1), object(14)\n",
      "memory usage: 16.4+ MB\n"
     ]
    },
    {
     "data": {
      "text/plain": "None"
     },
     "metadata": {},
     "output_type": "display_data"
    }
   ],
   "source": [
    "dataset_rfm = dataset_merged_customers.merge(dataset_order_items, on='order_id', how='left')\n",
    "\n",
    "print(dataset_merged_customers.shape)\n",
    "print(dataset_order_items.shape)\n",
    "\n",
    "display(dataset_rfm)\n",
    "display(dataset_rfm.info())"
   ],
   "metadata": {
    "collapsed": false,
    "pycharm": {
     "name": "#%%\n"
    }
   }
  },
  {
   "cell_type": "raw",
   "source": [
    "x = dataset_rfm.dropna()\n",
    "x.info()"
   ],
   "metadata": {
    "collapsed": false,
    "pycharm": {
     "name": "#%% raw\n"
    }
   }
  },
  {
   "cell_type": "raw",
   "source": [
    "y_test = dataset_merged_customers.merge(dataset_order_items, on='order_id', how='inner')\n",
    "y = y_test.dropna()\n",
    "y.info()"
   ],
   "metadata": {
    "collapsed": false,
    "pycharm": {
     "name": "#%% raw\n"
    }
   }
  },
  {
   "cell_type": "raw",
   "source": [
    "d = pd.concat([x, y]).drop_duplicates(keep=False)\n",
    "d"
   ],
   "metadata": {
    "collapsed": false,
    "pycharm": {
     "name": "#%% raw\n"
    }
   }
  },
  {
   "cell_type": "code",
   "execution_count": 247,
   "outputs": [
    {
     "data": {
      "text/plain": "Index(['order_id', 'customer_id', 'order_status', 'order_purchase_timestamp',\n       'order_approved_at', 'order_delivered_carrier_date',\n       'order_delivered_customer_date', 'order_estimated_delivery_date',\n       'customer_unique_id', 'customer_zip_code_prefix', 'customer_city',\n       'customer_state', 'order_item_id', 'product_id', 'seller_id',\n       'shipping_limit_date', 'price', 'freight_value'],\n      dtype='object')"
     },
     "execution_count": 247,
     "metadata": {},
     "output_type": "execute_result"
    }
   ],
   "source": [
    "dataset_rfm.columns"
   ],
   "metadata": {
    "collapsed": false,
    "pycharm": {
     "name": "#%%\n"
    }
   }
  },
  {
   "cell_type": "code",
   "execution_count": 248,
   "outputs": [
    {
     "name": "stdout",
     "output_type": "stream",
     "text": [
      "['order_id', 'customer_id', 'order_status', 'order_purchase_timestamp', 'order_approved_at', 'customer_unique_id', 'order_item_id', 'price']\n"
     ]
    },
    {
     "data": {
      "text/plain": "                      customer_unique_id                       customer_id  \\\n0       7c396fd4830fd04220f754e42b4e5bff  9ef432eb6251297304e76186b10a928d   \n1       af07308b275d755c9edb36a90c618231  b0830fb4747a6c6d20dea0b8c802d7ef   \n2       3a653a41f6f9fc3d2a113cf8398680e8  41ce2a54c0b03bf3443c3d931a367089   \n3       7c142cf63193a1473d2e66489a9ae977  f88197465ea7920adcdbec7375364d82   \n4       72632f0f9dd73dfee390c9b22eb56dd6  8ab97904e6daea8866dbdbc4fb7aad2c   \n...                                  ...                               ...   \n113420  da62f9e57a76d978d02ab5362c509660  1fca14ff2861355f6e5f14306ff977a7   \n113421  737520a9aad80b3fbbdad19b66b37b30  1aa71eb042121263aafbe80c1b562c9c   \n113422  5097a5312c8b157bb7be58ae360ef43c  b331b74b18dc79bcdf6532d51e1637c1   \n113423  5097a5312c8b157bb7be58ae360ef43c  b331b74b18dc79bcdf6532d51e1637c1   \n113424  60350aa974b26ff12caad89e55993bd6  edb027a75a1449115f6b43211ae02a24   \n\n                                order_id  order_item_id  \\\n0       e481f51cbdc54678b7cc49136f2d6af7            1.0   \n1       53cdb2fc8bc7dce0b6741e2150273451            1.0   \n2       47770eb9100c2d0c44946d9cf07ec65d            1.0   \n3       949d5b44dbf5de918fe9c16f97b45f8a            1.0   \n4       ad21c59c0840e6cb83a9ceb5573f8159            1.0   \n...                                  ...            ...   \n113420  63943bddc261676b46f01ca7ac2f7bd8            1.0   \n113421  83c1379a015df1e13d02aae0204711ab            1.0   \n113422  11c177c8e97725db2631073c19f07b62            1.0   \n113423  11c177c8e97725db2631073c19f07b62            2.0   \n113424  66dea50a8b16d9b4dee7af250b4be1a5            1.0   \n\n       order_purchase_timestamp order_status   price  \n0           2017-10-02 10:56:33    delivered   29.99  \n1           2018-07-24 20:41:37    delivered  118.70  \n2           2018-08-08 08:38:49    delivered  159.90  \n3           2017-11-18 19:28:06    delivered   45.00  \n4           2018-02-13 21:18:39    delivered   19.90  \n...                         ...          ...     ...  \n113420      2018-02-06 12:58:58    delivered  174.90  \n113421      2017-08-27 14:46:43    delivered  205.99  \n113422      2018-01-08 21:28:27    delivered  179.99  \n113423      2018-01-08 21:28:27    delivered  179.99  \n113424      2018-03-08 20:57:30    delivered   68.50  \n\n[113425 rows x 7 columns]",
      "text/html": "<div>\n<style scoped>\n    .dataframe tbody tr th:only-of-type {\n        vertical-align: middle;\n    }\n\n    .dataframe tbody tr th {\n        vertical-align: top;\n    }\n\n    .dataframe thead th {\n        text-align: right;\n    }\n</style>\n<table border=\"1\" class=\"dataframe\">\n  <thead>\n    <tr style=\"text-align: right;\">\n      <th></th>\n      <th>customer_unique_id</th>\n      <th>customer_id</th>\n      <th>order_id</th>\n      <th>order_item_id</th>\n      <th>order_purchase_timestamp</th>\n      <th>order_status</th>\n      <th>price</th>\n    </tr>\n  </thead>\n  <tbody>\n    <tr>\n      <th>0</th>\n      <td>7c396fd4830fd04220f754e42b4e5bff</td>\n      <td>9ef432eb6251297304e76186b10a928d</td>\n      <td>e481f51cbdc54678b7cc49136f2d6af7</td>\n      <td>1.0</td>\n      <td>2017-10-02 10:56:33</td>\n      <td>delivered</td>\n      <td>29.99</td>\n    </tr>\n    <tr>\n      <th>1</th>\n      <td>af07308b275d755c9edb36a90c618231</td>\n      <td>b0830fb4747a6c6d20dea0b8c802d7ef</td>\n      <td>53cdb2fc8bc7dce0b6741e2150273451</td>\n      <td>1.0</td>\n      <td>2018-07-24 20:41:37</td>\n      <td>delivered</td>\n      <td>118.70</td>\n    </tr>\n    <tr>\n      <th>2</th>\n      <td>3a653a41f6f9fc3d2a113cf8398680e8</td>\n      <td>41ce2a54c0b03bf3443c3d931a367089</td>\n      <td>47770eb9100c2d0c44946d9cf07ec65d</td>\n      <td>1.0</td>\n      <td>2018-08-08 08:38:49</td>\n      <td>delivered</td>\n      <td>159.90</td>\n    </tr>\n    <tr>\n      <th>3</th>\n      <td>7c142cf63193a1473d2e66489a9ae977</td>\n      <td>f88197465ea7920adcdbec7375364d82</td>\n      <td>949d5b44dbf5de918fe9c16f97b45f8a</td>\n      <td>1.0</td>\n      <td>2017-11-18 19:28:06</td>\n      <td>delivered</td>\n      <td>45.00</td>\n    </tr>\n    <tr>\n      <th>4</th>\n      <td>72632f0f9dd73dfee390c9b22eb56dd6</td>\n      <td>8ab97904e6daea8866dbdbc4fb7aad2c</td>\n      <td>ad21c59c0840e6cb83a9ceb5573f8159</td>\n      <td>1.0</td>\n      <td>2018-02-13 21:18:39</td>\n      <td>delivered</td>\n      <td>19.90</td>\n    </tr>\n    <tr>\n      <th>...</th>\n      <td>...</td>\n      <td>...</td>\n      <td>...</td>\n      <td>...</td>\n      <td>...</td>\n      <td>...</td>\n      <td>...</td>\n    </tr>\n    <tr>\n      <th>113420</th>\n      <td>da62f9e57a76d978d02ab5362c509660</td>\n      <td>1fca14ff2861355f6e5f14306ff977a7</td>\n      <td>63943bddc261676b46f01ca7ac2f7bd8</td>\n      <td>1.0</td>\n      <td>2018-02-06 12:58:58</td>\n      <td>delivered</td>\n      <td>174.90</td>\n    </tr>\n    <tr>\n      <th>113421</th>\n      <td>737520a9aad80b3fbbdad19b66b37b30</td>\n      <td>1aa71eb042121263aafbe80c1b562c9c</td>\n      <td>83c1379a015df1e13d02aae0204711ab</td>\n      <td>1.0</td>\n      <td>2017-08-27 14:46:43</td>\n      <td>delivered</td>\n      <td>205.99</td>\n    </tr>\n    <tr>\n      <th>113422</th>\n      <td>5097a5312c8b157bb7be58ae360ef43c</td>\n      <td>b331b74b18dc79bcdf6532d51e1637c1</td>\n      <td>11c177c8e97725db2631073c19f07b62</td>\n      <td>1.0</td>\n      <td>2018-01-08 21:28:27</td>\n      <td>delivered</td>\n      <td>179.99</td>\n    </tr>\n    <tr>\n      <th>113423</th>\n      <td>5097a5312c8b157bb7be58ae360ef43c</td>\n      <td>b331b74b18dc79bcdf6532d51e1637c1</td>\n      <td>11c177c8e97725db2631073c19f07b62</td>\n      <td>2.0</td>\n      <td>2018-01-08 21:28:27</td>\n      <td>delivered</td>\n      <td>179.99</td>\n    </tr>\n    <tr>\n      <th>113424</th>\n      <td>60350aa974b26ff12caad89e55993bd6</td>\n      <td>edb027a75a1449115f6b43211ae02a24</td>\n      <td>66dea50a8b16d9b4dee7af250b4be1a5</td>\n      <td>1.0</td>\n      <td>2018-03-08 20:57:30</td>\n      <td>delivered</td>\n      <td>68.50</td>\n    </tr>\n  </tbody>\n</table>\n<p>113425 rows × 7 columns</p>\n</div>"
     },
     "execution_count": 248,
     "metadata": {},
     "output_type": "execute_result"
    }
   ],
   "source": [
    "dataset_rfm_v1 = dataset_rfm.copy() # 'order_status', 'order_approved_at',\n",
    "dataset_rfm_v1 = dataset_rfm_v1.drop([ 'order_delivered_carrier_date',\n",
    "                                      'order_delivered_customer_date', 'order_estimated_delivery_date', 'customer_zip_code_prefix', 'customer_city',\n",
    "                                      'customer_state', 'product_id', 'seller_id',\n",
    "                                      'shipping_limit_date', 'freight_value'], axis=1)\n",
    "\n",
    "cols = dataset_rfm_v1.columns.tolist()\n",
    "print(cols)\n",
    "cols = ['customer_unique_id', 'customer_id', 'order_id', 'order_item_id', 'order_purchase_timestamp', 'order_status', 'price']\n",
    "dataset_rfm_v1 = dataset_rfm_v1[cols]\n",
    "\n",
    "dataset_rfm_v1"
   ],
   "metadata": {
    "collapsed": false,
    "pycharm": {
     "name": "#%%\n"
    }
   }
  },
  {
   "cell_type": "code",
   "execution_count": 249,
   "outputs": [
    {
     "data": {
      "text/plain": "array(['delivered', 'invoiced', 'shipped', 'processing', 'unavailable',\n       'canceled', 'created', 'approved'], dtype=object)"
     },
     "execution_count": 249,
     "metadata": {},
     "output_type": "execute_result"
    }
   ],
   "source": [
    "dataset_rfm_v1['order_status'].unique()"
   ],
   "metadata": {
    "collapsed": false,
    "pycharm": {
     "name": "#%%\n"
    }
   }
  },
  {
   "cell_type": "code",
   "execution_count": 250,
   "outputs": [],
   "source": [
    "dataset_rfm_v2 = dataset_rfm_v1.dropna().copy()\n",
    "dataset_rfm_v2 = dataset_rfm_v2.sort_values(by=\"order_purchase_timestamp\", ascending=False)"
   ],
   "metadata": {
    "collapsed": false,
    "pycharm": {
     "name": "#%%\n"
    }
   }
  },
  {
   "cell_type": "code",
   "execution_count": 251,
   "outputs": [
    {
     "data": {
      "text/plain": "                                                       customer_id  \\\ncustomer_unique_id                                                   \n0000366f3b9a7992bf8c76cfdf3221e2  fadbb3709178fc513abc1b2670aa1ad2   \n0000b849f77a49e4a4ce2b2a4ca5be3f  4cb282e167ae9234755102258dd52ee8   \n0000f46a3911fa3c0805444483337064  9b3932a6253894a02c1df9d19004239f   \n0000f6ccb0745a6a4b88665a16c9f078  914991f0c02ef0843c0e7010c819d642   \n0004aac84e0df4da2b147fca70cf8255  47227568b10f5f58a524a75507e6992c   \n...                                                            ...   \nfffcf5a5ff07b0908bd4e2dbc735a684  74be082247cd677a147d83ee670e9d53   \nfffea47cd6d3cc0a88bd621562a9d061  0ecf8e0a08148af0bf313184f167670a   \nffff371b4d645b6ecea244b27531430a  27f584b0f1dc4e610065c240f68b6be0   \nffff5962728ec6157033ef9805bacc48  832a3b0254347d409512ae92eaf154a6   \nffffd2657e2aad2907e67c3e9daecbeb  70bc4d9cf2bbeea3f7b09798370f5884   \n\n                                                          order_id  \\\ncustomer_unique_id                                                   \n0000366f3b9a7992bf8c76cfdf3221e2  e22acc9c116caa3f2b7121bbb380d08e   \n0000b849f77a49e4a4ce2b2a4ca5be3f  3594e05a005ac4d06a72673270ef9ec9   \n0000f46a3911fa3c0805444483337064  b33ec3b699337181488304f362a6b734   \n0000f6ccb0745a6a4b88665a16c9f078  41272756ecddd9a9ed0180413cc22fb6   \n0004aac84e0df4da2b147fca70cf8255  d957021f1127559cd947b62533f484f7   \n...                                                            ...   \nfffcf5a5ff07b0908bd4e2dbc735a684  725cf8e9c24e679a8a5a32cb92c9ce1e   \nfffea47cd6d3cc0a88bd621562a9d061  c71b9252fd7b3b263aaa4cb09319a323   \nffff371b4d645b6ecea244b27531430a  fdc45e6c7555e6cb3cc0daca2557dbe1   \nffff5962728ec6157033ef9805bacc48  94d3ee0bc2a0af9d4fa47a4d63616e8d   \nffffd2657e2aad2907e67c3e9daecbeb  f79a35da168301ae56922475da21117b   \n\n                                  order_item_id order_purchase_timestamp  \\\ncustomer_unique_id                                                         \n0000366f3b9a7992bf8c76cfdf3221e2            1.0      2018-05-10 10:56:27   \n0000b849f77a49e4a4ce2b2a4ca5be3f            1.0      2018-05-07 11:11:27   \n0000f46a3911fa3c0805444483337064            1.0      2017-03-10 21:05:03   \n0000f6ccb0745a6a4b88665a16c9f078            1.0      2017-10-12 20:29:41   \n0004aac84e0df4da2b147fca70cf8255            1.0      2017-11-14 19:45:42   \n...                                         ...                      ...   \nfffcf5a5ff07b0908bd4e2dbc735a684            1.0      2017-06-08 21:00:36   \nfffea47cd6d3cc0a88bd621562a9d061            1.0      2017-12-10 20:07:56   \nffff371b4d645b6ecea244b27531430a            1.0      2017-02-07 15:49:16   \nffff5962728ec6157033ef9805bacc48            1.0      2018-05-02 15:17:41   \nffffd2657e2aad2907e67c3e9daecbeb            1.0      2017-05-02 20:18:45   \n\n                                 order_status   price  \ncustomer_unique_id                                     \n0000366f3b9a7992bf8c76cfdf3221e2    delivered  129.90  \n0000b849f77a49e4a4ce2b2a4ca5be3f    delivered   18.90  \n0000f46a3911fa3c0805444483337064    delivered   69.00  \n0000f6ccb0745a6a4b88665a16c9f078    delivered   25.99  \n0004aac84e0df4da2b147fca70cf8255    delivered  180.00  \n...                                       ...     ...  \nfffcf5a5ff07b0908bd4e2dbc735a684    delivered  890.00  \nfffea47cd6d3cc0a88bd621562a9d061    delivered   64.89  \nffff371b4d645b6ecea244b27531430a    delivered   89.90  \nffff5962728ec6157033ef9805bacc48    delivered  115.00  \nffffd2657e2aad2907e67c3e9daecbeb    delivered   56.99  \n\n[95420 rows x 6 columns]",
      "text/html": "<div>\n<style scoped>\n    .dataframe tbody tr th:only-of-type {\n        vertical-align: middle;\n    }\n\n    .dataframe tbody tr th {\n        vertical-align: top;\n    }\n\n    .dataframe thead th {\n        text-align: right;\n    }\n</style>\n<table border=\"1\" class=\"dataframe\">\n  <thead>\n    <tr style=\"text-align: right;\">\n      <th></th>\n      <th>customer_id</th>\n      <th>order_id</th>\n      <th>order_item_id</th>\n      <th>order_purchase_timestamp</th>\n      <th>order_status</th>\n      <th>price</th>\n    </tr>\n    <tr>\n      <th>customer_unique_id</th>\n      <th></th>\n      <th></th>\n      <th></th>\n      <th></th>\n      <th></th>\n      <th></th>\n    </tr>\n  </thead>\n  <tbody>\n    <tr>\n      <th>0000366f3b9a7992bf8c76cfdf3221e2</th>\n      <td>fadbb3709178fc513abc1b2670aa1ad2</td>\n      <td>e22acc9c116caa3f2b7121bbb380d08e</td>\n      <td>1.0</td>\n      <td>2018-05-10 10:56:27</td>\n      <td>delivered</td>\n      <td>129.90</td>\n    </tr>\n    <tr>\n      <th>0000b849f77a49e4a4ce2b2a4ca5be3f</th>\n      <td>4cb282e167ae9234755102258dd52ee8</td>\n      <td>3594e05a005ac4d06a72673270ef9ec9</td>\n      <td>1.0</td>\n      <td>2018-05-07 11:11:27</td>\n      <td>delivered</td>\n      <td>18.90</td>\n    </tr>\n    <tr>\n      <th>0000f46a3911fa3c0805444483337064</th>\n      <td>9b3932a6253894a02c1df9d19004239f</td>\n      <td>b33ec3b699337181488304f362a6b734</td>\n      <td>1.0</td>\n      <td>2017-03-10 21:05:03</td>\n      <td>delivered</td>\n      <td>69.00</td>\n    </tr>\n    <tr>\n      <th>0000f6ccb0745a6a4b88665a16c9f078</th>\n      <td>914991f0c02ef0843c0e7010c819d642</td>\n      <td>41272756ecddd9a9ed0180413cc22fb6</td>\n      <td>1.0</td>\n      <td>2017-10-12 20:29:41</td>\n      <td>delivered</td>\n      <td>25.99</td>\n    </tr>\n    <tr>\n      <th>0004aac84e0df4da2b147fca70cf8255</th>\n      <td>47227568b10f5f58a524a75507e6992c</td>\n      <td>d957021f1127559cd947b62533f484f7</td>\n      <td>1.0</td>\n      <td>2017-11-14 19:45:42</td>\n      <td>delivered</td>\n      <td>180.00</td>\n    </tr>\n    <tr>\n      <th>...</th>\n      <td>...</td>\n      <td>...</td>\n      <td>...</td>\n      <td>...</td>\n      <td>...</td>\n      <td>...</td>\n    </tr>\n    <tr>\n      <th>fffcf5a5ff07b0908bd4e2dbc735a684</th>\n      <td>74be082247cd677a147d83ee670e9d53</td>\n      <td>725cf8e9c24e679a8a5a32cb92c9ce1e</td>\n      <td>1.0</td>\n      <td>2017-06-08 21:00:36</td>\n      <td>delivered</td>\n      <td>890.00</td>\n    </tr>\n    <tr>\n      <th>fffea47cd6d3cc0a88bd621562a9d061</th>\n      <td>0ecf8e0a08148af0bf313184f167670a</td>\n      <td>c71b9252fd7b3b263aaa4cb09319a323</td>\n      <td>1.0</td>\n      <td>2017-12-10 20:07:56</td>\n      <td>delivered</td>\n      <td>64.89</td>\n    </tr>\n    <tr>\n      <th>ffff371b4d645b6ecea244b27531430a</th>\n      <td>27f584b0f1dc4e610065c240f68b6be0</td>\n      <td>fdc45e6c7555e6cb3cc0daca2557dbe1</td>\n      <td>1.0</td>\n      <td>2017-02-07 15:49:16</td>\n      <td>delivered</td>\n      <td>89.90</td>\n    </tr>\n    <tr>\n      <th>ffff5962728ec6157033ef9805bacc48</th>\n      <td>832a3b0254347d409512ae92eaf154a6</td>\n      <td>94d3ee0bc2a0af9d4fa47a4d63616e8d</td>\n      <td>1.0</td>\n      <td>2018-05-02 15:17:41</td>\n      <td>delivered</td>\n      <td>115.00</td>\n    </tr>\n    <tr>\n      <th>ffffd2657e2aad2907e67c3e9daecbeb</th>\n      <td>70bc4d9cf2bbeea3f7b09798370f5884</td>\n      <td>f79a35da168301ae56922475da21117b</td>\n      <td>1.0</td>\n      <td>2017-05-02 20:18:45</td>\n      <td>delivered</td>\n      <td>56.99</td>\n    </tr>\n  </tbody>\n</table>\n<p>95420 rows × 6 columns</p>\n</div>"
     },
     "execution_count": 251,
     "metadata": {},
     "output_type": "execute_result"
    }
   ],
   "source": [
    "df_unique_customer = dataset_rfm_v2.groupby([\"customer_unique_id\"])\n",
    "df_unique_customer.first()"
   ],
   "metadata": {
    "collapsed": false,
    "pycharm": {
     "name": "#%%\n"
    }
   }
  },
  {
   "cell_type": "code",
   "execution_count": 252,
   "outputs": [
    {
     "data": {
      "text/plain": "                      customer_unique_id                       customer_id  \\\n7808    afbcfd0b9c5233e7ccc73428526fbb52  448945bc713d98b6726e82eda6249b9e   \n7807    afbcfd0b9c5233e7ccc73428526fbb52  448945bc713d98b6726e82eda6249b9e   \n7809    afbcfd0b9c5233e7ccc73428526fbb52  448945bc713d98b6726e82eda6249b9e   \n19715   fb7e29c65321441231990afc201c1b14  49a6ae8a95c6a78d90945b983ab1ecfc   \n19714   fb7e29c65321441231990afc201c1b14  49a6ae8a95c6a78d90945b983ab1ecfc   \n...                                  ...                               ...   \n18942   5f61b10d70849d46be5643b7453e1708  6deeb4ffef6cf320ef5a642302f04104   \n18941   5f61b10d70849d46be5643b7453e1708  6deeb4ffef6cf320ef5a642302f04104   \n101452  221234182f828fb9f2a4ba9c89874ede  3f6f000d5b0a959f38481fad4ab7cac2   \n101451  221234182f828fb9f2a4ba9c89874ede  3f6f000d5b0a959f38481fad4ab7cac2   \n35039   830d5b7aaa3b6f1e9ad63703bec97d23  86dc2ffce2dfff336de2f386a786e574   \n\n                                order_id  order_item_id  \\\n7808    bee12e8653a04e76786e8891cfb6330a            4.0   \n7807    bee12e8653a04e76786e8891cfb6330a            3.0   \n7809    bee12e8653a04e76786e8891cfb6330a            5.0   \n19715   d4fae577806d683110e00e18a5e181be            4.0   \n19714   d4fae577806d683110e00e18a5e181be            3.0   \n...                                  ...            ...   \n18942   ad1aeeb1a99c9f021e38a49865bb812c            4.0   \n18941   ad1aeeb1a99c9f021e38a49865bb812c            3.0   \n101452  bcbc0973414b1dd97555e6f8e9713cfa            4.0   \n101451  bcbc0973414b1dd97555e6f8e9713cfa            3.0   \n35039   bfbd0f9bdef84302105ad712db648a6c            3.0   \n\n       order_purchase_timestamp order_status  price  \n7808        2018-08-29 08:46:11    delivered  91.55  \n7807        2018-08-29 08:46:11    delivered  91.55  \n7809        2018-08-29 08:46:11    delivered  91.55  \n19715       2018-08-28 19:32:05    delivered  49.99  \n19714       2018-08-28 19:32:05    delivered  17.90  \n...                         ...          ...    ...  \n18942       2016-10-05 12:41:38    delivered  77.90  \n18941       2016-10-05 12:41:38    delivered  77.90  \n101452      2016-10-04 23:59:01    delivered  79.90  \n101451      2016-10-04 23:59:01    delivered  79.90  \n35039       2016-09-15 12:16:38    delivered  44.99  \n\n[4181 rows x 7 columns]",
      "text/html": "<div>\n<style scoped>\n    .dataframe tbody tr th:only-of-type {\n        vertical-align: middle;\n    }\n\n    .dataframe tbody tr th {\n        vertical-align: top;\n    }\n\n    .dataframe thead th {\n        text-align: right;\n    }\n</style>\n<table border=\"1\" class=\"dataframe\">\n  <thead>\n    <tr style=\"text-align: right;\">\n      <th></th>\n      <th>customer_unique_id</th>\n      <th>customer_id</th>\n      <th>order_id</th>\n      <th>order_item_id</th>\n      <th>order_purchase_timestamp</th>\n      <th>order_status</th>\n      <th>price</th>\n    </tr>\n  </thead>\n  <tbody>\n    <tr>\n      <th>7808</th>\n      <td>afbcfd0b9c5233e7ccc73428526fbb52</td>\n      <td>448945bc713d98b6726e82eda6249b9e</td>\n      <td>bee12e8653a04e76786e8891cfb6330a</td>\n      <td>4.0</td>\n      <td>2018-08-29 08:46:11</td>\n      <td>delivered</td>\n      <td>91.55</td>\n    </tr>\n    <tr>\n      <th>7807</th>\n      <td>afbcfd0b9c5233e7ccc73428526fbb52</td>\n      <td>448945bc713d98b6726e82eda6249b9e</td>\n      <td>bee12e8653a04e76786e8891cfb6330a</td>\n      <td>3.0</td>\n      <td>2018-08-29 08:46:11</td>\n      <td>delivered</td>\n      <td>91.55</td>\n    </tr>\n    <tr>\n      <th>7809</th>\n      <td>afbcfd0b9c5233e7ccc73428526fbb52</td>\n      <td>448945bc713d98b6726e82eda6249b9e</td>\n      <td>bee12e8653a04e76786e8891cfb6330a</td>\n      <td>5.0</td>\n      <td>2018-08-29 08:46:11</td>\n      <td>delivered</td>\n      <td>91.55</td>\n    </tr>\n    <tr>\n      <th>19715</th>\n      <td>fb7e29c65321441231990afc201c1b14</td>\n      <td>49a6ae8a95c6a78d90945b983ab1ecfc</td>\n      <td>d4fae577806d683110e00e18a5e181be</td>\n      <td>4.0</td>\n      <td>2018-08-28 19:32:05</td>\n      <td>delivered</td>\n      <td>49.99</td>\n    </tr>\n    <tr>\n      <th>19714</th>\n      <td>fb7e29c65321441231990afc201c1b14</td>\n      <td>49a6ae8a95c6a78d90945b983ab1ecfc</td>\n      <td>d4fae577806d683110e00e18a5e181be</td>\n      <td>3.0</td>\n      <td>2018-08-28 19:32:05</td>\n      <td>delivered</td>\n      <td>17.90</td>\n    </tr>\n    <tr>\n      <th>...</th>\n      <td>...</td>\n      <td>...</td>\n      <td>...</td>\n      <td>...</td>\n      <td>...</td>\n      <td>...</td>\n      <td>...</td>\n    </tr>\n    <tr>\n      <th>18942</th>\n      <td>5f61b10d70849d46be5643b7453e1708</td>\n      <td>6deeb4ffef6cf320ef5a642302f04104</td>\n      <td>ad1aeeb1a99c9f021e38a49865bb812c</td>\n      <td>4.0</td>\n      <td>2016-10-05 12:41:38</td>\n      <td>delivered</td>\n      <td>77.90</td>\n    </tr>\n    <tr>\n      <th>18941</th>\n      <td>5f61b10d70849d46be5643b7453e1708</td>\n      <td>6deeb4ffef6cf320ef5a642302f04104</td>\n      <td>ad1aeeb1a99c9f021e38a49865bb812c</td>\n      <td>3.0</td>\n      <td>2016-10-05 12:41:38</td>\n      <td>delivered</td>\n      <td>77.90</td>\n    </tr>\n    <tr>\n      <th>101452</th>\n      <td>221234182f828fb9f2a4ba9c89874ede</td>\n      <td>3f6f000d5b0a959f38481fad4ab7cac2</td>\n      <td>bcbc0973414b1dd97555e6f8e9713cfa</td>\n      <td>4.0</td>\n      <td>2016-10-04 23:59:01</td>\n      <td>delivered</td>\n      <td>79.90</td>\n    </tr>\n    <tr>\n      <th>101451</th>\n      <td>221234182f828fb9f2a4ba9c89874ede</td>\n      <td>3f6f000d5b0a959f38481fad4ab7cac2</td>\n      <td>bcbc0973414b1dd97555e6f8e9713cfa</td>\n      <td>3.0</td>\n      <td>2016-10-04 23:59:01</td>\n      <td>delivered</td>\n      <td>79.90</td>\n    </tr>\n    <tr>\n      <th>35039</th>\n      <td>830d5b7aaa3b6f1e9ad63703bec97d23</td>\n      <td>86dc2ffce2dfff336de2f386a786e574</td>\n      <td>bfbd0f9bdef84302105ad712db648a6c</td>\n      <td>3.0</td>\n      <td>2016-09-15 12:16:38</td>\n      <td>delivered</td>\n      <td>44.99</td>\n    </tr>\n  </tbody>\n</table>\n<p>4181 rows × 7 columns</p>\n</div>"
     },
     "execution_count": 252,
     "metadata": {},
     "output_type": "execute_result"
    }
   ],
   "source": [
    "dataset_rfm_v2[dataset_rfm_v2[\"order_item_id\"] > 2]"
   ],
   "metadata": {
    "collapsed": false,
    "pycharm": {
     "name": "#%%\n"
    }
   }
  },
  {
   "cell_type": "code",
   "execution_count": 253,
   "outputs": [
    {
     "data": {
      "text/plain": "array(['9ef432eb6251297304e76186b10a928d',\n       'b0830fb4747a6c6d20dea0b8c802d7ef',\n       '41ce2a54c0b03bf3443c3d931a367089', ...,\n       '1aa71eb042121263aafbe80c1b562c9c',\n       'b331b74b18dc79bcdf6532d51e1637c1',\n       'edb027a75a1449115f6b43211ae02a24'], dtype=object)"
     },
     "execution_count": 253,
     "metadata": {},
     "output_type": "execute_result"
    }
   ],
   "source": [
    "dataset_rfm_v1[\"customer_id\"].unique()"
   ],
   "metadata": {
    "collapsed": false,
    "pycharm": {
     "name": "#%%\n"
    }
   }
  },
  {
   "cell_type": "code",
   "execution_count": 254,
   "outputs": [
    {
     "data": {
      "text/plain": "                   customer_unique_id                       customer_id  \\\n174  831a032a3327e2b8325faf9d37953870  d19f254a07da73a055409256e9bfe40a   \n175  831a032a3327e2b8325faf9d37953870  d19f254a07da73a055409256e9bfe40a   \n176  831a032a3327e2b8325faf9d37953870  d19f254a07da73a055409256e9bfe40a   \n177  831a032a3327e2b8325faf9d37953870  d19f254a07da73a055409256e9bfe40a   \n173  831a032a3327e2b8325faf9d37953870  d19f254a07da73a055409256e9bfe40a   \n172  831a032a3327e2b8325faf9d37953870  d19f254a07da73a055409256e9bfe40a   \n\n                             order_id  order_item_id order_purchase_timestamp  \\\n174  90349f264a3d6a2525a34598d09dda6b            3.0      2018-05-11 16:35:19   \n175  90349f264a3d6a2525a34598d09dda6b            4.0      2018-05-11 16:35:19   \n176  90349f264a3d6a2525a34598d09dda6b            5.0      2018-05-11 16:35:19   \n177  90349f264a3d6a2525a34598d09dda6b            6.0      2018-05-11 16:35:19   \n173  90349f264a3d6a2525a34598d09dda6b            2.0      2018-05-11 16:35:19   \n172  90349f264a3d6a2525a34598d09dda6b            1.0      2018-05-11 16:35:19   \n\n    order_status  price  \n174    delivered   45.0  \n175    delivered   45.0  \n176    delivered   45.0  \n177    delivered   45.0  \n173    delivered   45.0  \n172    delivered   45.0  ",
      "text/html": "<div>\n<style scoped>\n    .dataframe tbody tr th:only-of-type {\n        vertical-align: middle;\n    }\n\n    .dataframe tbody tr th {\n        vertical-align: top;\n    }\n\n    .dataframe thead th {\n        text-align: right;\n    }\n</style>\n<table border=\"1\" class=\"dataframe\">\n  <thead>\n    <tr style=\"text-align: right;\">\n      <th></th>\n      <th>customer_unique_id</th>\n      <th>customer_id</th>\n      <th>order_id</th>\n      <th>order_item_id</th>\n      <th>order_purchase_timestamp</th>\n      <th>order_status</th>\n      <th>price</th>\n    </tr>\n  </thead>\n  <tbody>\n    <tr>\n      <th>174</th>\n      <td>831a032a3327e2b8325faf9d37953870</td>\n      <td>d19f254a07da73a055409256e9bfe40a</td>\n      <td>90349f264a3d6a2525a34598d09dda6b</td>\n      <td>3.0</td>\n      <td>2018-05-11 16:35:19</td>\n      <td>delivered</td>\n      <td>45.0</td>\n    </tr>\n    <tr>\n      <th>175</th>\n      <td>831a032a3327e2b8325faf9d37953870</td>\n      <td>d19f254a07da73a055409256e9bfe40a</td>\n      <td>90349f264a3d6a2525a34598d09dda6b</td>\n      <td>4.0</td>\n      <td>2018-05-11 16:35:19</td>\n      <td>delivered</td>\n      <td>45.0</td>\n    </tr>\n    <tr>\n      <th>176</th>\n      <td>831a032a3327e2b8325faf9d37953870</td>\n      <td>d19f254a07da73a055409256e9bfe40a</td>\n      <td>90349f264a3d6a2525a34598d09dda6b</td>\n      <td>5.0</td>\n      <td>2018-05-11 16:35:19</td>\n      <td>delivered</td>\n      <td>45.0</td>\n    </tr>\n    <tr>\n      <th>177</th>\n      <td>831a032a3327e2b8325faf9d37953870</td>\n      <td>d19f254a07da73a055409256e9bfe40a</td>\n      <td>90349f264a3d6a2525a34598d09dda6b</td>\n      <td>6.0</td>\n      <td>2018-05-11 16:35:19</td>\n      <td>delivered</td>\n      <td>45.0</td>\n    </tr>\n    <tr>\n      <th>173</th>\n      <td>831a032a3327e2b8325faf9d37953870</td>\n      <td>d19f254a07da73a055409256e9bfe40a</td>\n      <td>90349f264a3d6a2525a34598d09dda6b</td>\n      <td>2.0</td>\n      <td>2018-05-11 16:35:19</td>\n      <td>delivered</td>\n      <td>45.0</td>\n    </tr>\n    <tr>\n      <th>172</th>\n      <td>831a032a3327e2b8325faf9d37953870</td>\n      <td>d19f254a07da73a055409256e9bfe40a</td>\n      <td>90349f264a3d6a2525a34598d09dda6b</td>\n      <td>1.0</td>\n      <td>2018-05-11 16:35:19</td>\n      <td>delivered</td>\n      <td>45.0</td>\n    </tr>\n  </tbody>\n</table>\n</div>"
     },
     "execution_count": 254,
     "metadata": {},
     "output_type": "execute_result"
    }
   ],
   "source": [
    "df_unique_customer.get_group('831a032a3327e2b8325faf9d37953870')"
   ],
   "metadata": {
    "collapsed": false,
    "pycharm": {
     "name": "#%%\n"
    }
   }
  },
  {
   "cell_type": "code",
   "execution_count": 255,
   "outputs": [
    {
     "name": "stdout",
     "output_type": "stream",
     "text": [
      "<class 'pandas.core.frame.DataFrame'>\n",
      "Int64Index: 113425 entries, 0 to 113424\n",
      "Data columns (total 7 columns):\n",
      " #   Column                    Non-Null Count   Dtype  \n",
      "---  ------                    --------------   -----  \n",
      " 0   customer_unique_id        113425 non-null  object \n",
      " 1   customer_id               113425 non-null  object \n",
      " 2   order_id                  113425 non-null  object \n",
      " 3   order_item_id             112650 non-null  float64\n",
      " 4   order_purchase_timestamp  113425 non-null  object \n",
      " 5   order_status              113425 non-null  object \n",
      " 6   price                     112650 non-null  float64\n",
      "dtypes: float64(2), object(5)\n",
      "memory usage: 6.9+ MB\n"
     ]
    }
   ],
   "source": [
    "dataset_rfm_v1.info()"
   ],
   "metadata": {
    "collapsed": false,
    "pycharm": {
     "name": "#%%\n"
    }
   }
  },
  {
   "cell_type": "code",
   "execution_count": 256,
   "outputs": [
    {
     "name": "stdout",
     "output_type": "stream",
     "text": [
      "<class 'pandas.core.frame.DataFrame'>\n",
      "Int64Index: 112650 entries, 70989 to 5117\n",
      "Data columns (total 7 columns):\n",
      " #   Column                    Non-Null Count   Dtype  \n",
      "---  ------                    --------------   -----  \n",
      " 0   customer_unique_id        112650 non-null  object \n",
      " 1   customer_id               112650 non-null  object \n",
      " 2   order_id                  112650 non-null  object \n",
      " 3   order_item_id             112650 non-null  float64\n",
      " 4   order_purchase_timestamp  112650 non-null  object \n",
      " 5   order_status              112650 non-null  object \n",
      " 6   price                     112650 non-null  float64\n",
      "dtypes: float64(2), object(5)\n",
      "memory usage: 6.9+ MB\n"
     ]
    }
   ],
   "source": [
    "dataset_rfm_v2.info()"
   ],
   "metadata": {
    "collapsed": false,
    "pycharm": {
     "name": "#%%\n"
    }
   }
  },
  {
   "cell_type": "code",
   "execution_count": 257,
   "outputs": [
    {
     "data": {
      "text/plain": "70989     2018-09-03 09:06:57\n100363    2018-08-29 15:00:37\n79408     2018-08-29 14:52:00\n35930     2018-08-29 14:18:28\n34292     2018-08-29 14:18:23\n                 ...         \n35038     2016-09-15 12:16:38\n35039     2016-09-15 12:16:38\n4955      2016-09-05 00:15:34\n5116      2016-09-04 21:15:19\n5117      2016-09-04 21:15:19\nName: order_purchase_timestamp, Length: 112650, dtype: object"
     },
     "metadata": {},
     "output_type": "display_data"
    }
   ],
   "source": [
    "recency = dataset_rfm_v2[\"order_purchase_timestamp\"]\n",
    "display(recency)\n",
    "\n",
    "from datetime import datetime\n",
    "\n",
    "#datetime_str = dataset_rfm_v2[\"order_purchase_timestamp\"]\n",
    "#datetime_object = datetime.strptime(datetime_str, '%y/%m/%s %H:%M:%S')\n",
    "\n",
    "datetime_object = pd.to_datetime(recency)\n",
    "# Using to_datetime() & astype()\n",
    "\n"
   ],
   "metadata": {
    "collapsed": false,
    "pycharm": {
     "name": "#%%\n"
    }
   }
  },
  {
   "cell_type": "code",
   "execution_count": 258,
   "outputs": [
    {
     "name": "stdout",
     "output_type": "stream",
     "text": [
      "datetime64[ns]\n"
     ]
    }
   ],
   "source": [
    "print(datetime_object.dtype)  # printed in default format"
   ],
   "metadata": {
    "collapsed": false,
    "pycharm": {
     "name": "#%%\n"
    }
   }
  },
  {
   "cell_type": "code",
   "execution_count": 259,
   "outputs": [
    {
     "name": "stdout",
     "output_type": "stream",
     "text": [
      "<class 'pandas.core.frame.DataFrame'>\n",
      "Int64Index: 112650 entries, 70989 to 5117\n",
      "Data columns (total 7 columns):\n",
      " #   Column                    Non-Null Count   Dtype         \n",
      "---  ------                    --------------   -----         \n",
      " 0   customer_unique_id        112650 non-null  object        \n",
      " 1   customer_id               112650 non-null  object        \n",
      " 2   order_id                  112650 non-null  object        \n",
      " 3   order_item_id             112650 non-null  float64       \n",
      " 4   order_purchase_timestamp  112650 non-null  datetime64[ns]\n",
      " 5   order_status              112650 non-null  object        \n",
      " 6   price                     112650 non-null  float64       \n",
      "dtypes: datetime64[ns](1), float64(2), object(4)\n",
      "memory usage: 6.9+ MB\n"
     ]
    }
   ],
   "source": [
    "df = dataset_rfm_v2.copy()\n",
    "df['order_purchase_timestamp']=pd.to_datetime(df['order_purchase_timestamp'].astype(str), format='%Y/%m/%d') # .astype(str)\n",
    "\n",
    "df.info()\n"
   ],
   "metadata": {
    "collapsed": false,
    "pycharm": {
     "name": "#%%\n"
    }
   }
  },
  {
   "cell_type": "code",
   "execution_count": 260,
   "outputs": [
    {
     "data": {
      "text/plain": "                      customer_unique_id                       customer_id  \\\n70989   ff22e30958c13ffe219db7d711e8f564  4b7decb9b58e2569548b8b4c8e20e8d7   \n100363  24ac2b4327e25baf39f2119e4228976a  898b7fee99c4e42170ab69ba59be0a8b   \n79408   b701bebbdf478f5500348f03aff62121  496630b6740bcca28fce9ba50d8a26ef   \n35930   7febafa06d9d8f232a900a2937f04338  6e353700bc7bcdf6ebc15d6de16d7002   \n34292   5c58de6fb80e93396e2f35642666b693  e60df9449653a95af4549bbfcb18a6eb   \n...                                  ...                               ...   \n35038   830d5b7aaa3b6f1e9ad63703bec97d23  86dc2ffce2dfff336de2f386a786e574   \n35039   830d5b7aaa3b6f1e9ad63703bec97d23  86dc2ffce2dfff336de2f386a786e574   \n4955    4854e9b3feff728c13ee5fc7d1547e92  683c54fc24d40ee9f8a6fc179fd9856c   \n5116    b7d76e111c89f7ebf14761390f0f7d17  08c5351a6aca1c1589a38f244edeee9d   \n5117    b7d76e111c89f7ebf14761390f0f7d17  08c5351a6aca1c1589a38f244edeee9d   \n\n                                order_id  order_item_id  \\\n70989   54282e97f61c23b78330c15b154c867d            1.0   \n100363  35a972d7f8436f405b56e36add1a7140            1.0   \n79408   03ef5dedbe7492bdae72eec50764c43f            1.0   \n35930   168626408cb32af0ffaf76711caae1dc            1.0   \n34292   0b223d92c27432930dfe407c6aea3041            2.0   \n...                                  ...            ...   \n35038   bfbd0f9bdef84302105ad712db648a6c            2.0   \n35039   bfbd0f9bdef84302105ad712db648a6c            3.0   \n4955    e5fa5a7210941f7d56d0208e4e071d35            1.0   \n5116    2e7a8482f6fb09756ca50c10d7bfc047            1.0   \n5117    2e7a8482f6fb09756ca50c10d7bfc047            2.0   \n\n       order_purchase_timestamp order_status   price  \n70989       2018-09-03 09:06:57      shipped  145.00  \n100363      2018-08-29 15:00:37    delivered   84.99  \n79408       2018-08-29 14:52:00    delivered   24.90  \n35930       2018-08-29 14:18:28    delivered   45.90  \n34292       2018-08-29 14:18:23    delivered  209.00  \n...                         ...          ...     ...  \n35038       2016-09-15 12:16:38    delivered   44.99  \n35039       2016-09-15 12:16:38    delivered   44.99  \n4955        2016-09-05 00:15:34     canceled   59.50  \n5116        2016-09-04 21:15:19      shipped   39.99  \n5117        2016-09-04 21:15:19      shipped   32.90  \n\n[112650 rows x 7 columns]",
      "text/html": "<div>\n<style scoped>\n    .dataframe tbody tr th:only-of-type {\n        vertical-align: middle;\n    }\n\n    .dataframe tbody tr th {\n        vertical-align: top;\n    }\n\n    .dataframe thead th {\n        text-align: right;\n    }\n</style>\n<table border=\"1\" class=\"dataframe\">\n  <thead>\n    <tr style=\"text-align: right;\">\n      <th></th>\n      <th>customer_unique_id</th>\n      <th>customer_id</th>\n      <th>order_id</th>\n      <th>order_item_id</th>\n      <th>order_purchase_timestamp</th>\n      <th>order_status</th>\n      <th>price</th>\n    </tr>\n  </thead>\n  <tbody>\n    <tr>\n      <th>70989</th>\n      <td>ff22e30958c13ffe219db7d711e8f564</td>\n      <td>4b7decb9b58e2569548b8b4c8e20e8d7</td>\n      <td>54282e97f61c23b78330c15b154c867d</td>\n      <td>1.0</td>\n      <td>2018-09-03 09:06:57</td>\n      <td>shipped</td>\n      <td>145.00</td>\n    </tr>\n    <tr>\n      <th>100363</th>\n      <td>24ac2b4327e25baf39f2119e4228976a</td>\n      <td>898b7fee99c4e42170ab69ba59be0a8b</td>\n      <td>35a972d7f8436f405b56e36add1a7140</td>\n      <td>1.0</td>\n      <td>2018-08-29 15:00:37</td>\n      <td>delivered</td>\n      <td>84.99</td>\n    </tr>\n    <tr>\n      <th>79408</th>\n      <td>b701bebbdf478f5500348f03aff62121</td>\n      <td>496630b6740bcca28fce9ba50d8a26ef</td>\n      <td>03ef5dedbe7492bdae72eec50764c43f</td>\n      <td>1.0</td>\n      <td>2018-08-29 14:52:00</td>\n      <td>delivered</td>\n      <td>24.90</td>\n    </tr>\n    <tr>\n      <th>35930</th>\n      <td>7febafa06d9d8f232a900a2937f04338</td>\n      <td>6e353700bc7bcdf6ebc15d6de16d7002</td>\n      <td>168626408cb32af0ffaf76711caae1dc</td>\n      <td>1.0</td>\n      <td>2018-08-29 14:18:28</td>\n      <td>delivered</td>\n      <td>45.90</td>\n    </tr>\n    <tr>\n      <th>34292</th>\n      <td>5c58de6fb80e93396e2f35642666b693</td>\n      <td>e60df9449653a95af4549bbfcb18a6eb</td>\n      <td>0b223d92c27432930dfe407c6aea3041</td>\n      <td>2.0</td>\n      <td>2018-08-29 14:18:23</td>\n      <td>delivered</td>\n      <td>209.00</td>\n    </tr>\n    <tr>\n      <th>...</th>\n      <td>...</td>\n      <td>...</td>\n      <td>...</td>\n      <td>...</td>\n      <td>...</td>\n      <td>...</td>\n      <td>...</td>\n    </tr>\n    <tr>\n      <th>35038</th>\n      <td>830d5b7aaa3b6f1e9ad63703bec97d23</td>\n      <td>86dc2ffce2dfff336de2f386a786e574</td>\n      <td>bfbd0f9bdef84302105ad712db648a6c</td>\n      <td>2.0</td>\n      <td>2016-09-15 12:16:38</td>\n      <td>delivered</td>\n      <td>44.99</td>\n    </tr>\n    <tr>\n      <th>35039</th>\n      <td>830d5b7aaa3b6f1e9ad63703bec97d23</td>\n      <td>86dc2ffce2dfff336de2f386a786e574</td>\n      <td>bfbd0f9bdef84302105ad712db648a6c</td>\n      <td>3.0</td>\n      <td>2016-09-15 12:16:38</td>\n      <td>delivered</td>\n      <td>44.99</td>\n    </tr>\n    <tr>\n      <th>4955</th>\n      <td>4854e9b3feff728c13ee5fc7d1547e92</td>\n      <td>683c54fc24d40ee9f8a6fc179fd9856c</td>\n      <td>e5fa5a7210941f7d56d0208e4e071d35</td>\n      <td>1.0</td>\n      <td>2016-09-05 00:15:34</td>\n      <td>canceled</td>\n      <td>59.50</td>\n    </tr>\n    <tr>\n      <th>5116</th>\n      <td>b7d76e111c89f7ebf14761390f0f7d17</td>\n      <td>08c5351a6aca1c1589a38f244edeee9d</td>\n      <td>2e7a8482f6fb09756ca50c10d7bfc047</td>\n      <td>1.0</td>\n      <td>2016-09-04 21:15:19</td>\n      <td>shipped</td>\n      <td>39.99</td>\n    </tr>\n    <tr>\n      <th>5117</th>\n      <td>b7d76e111c89f7ebf14761390f0f7d17</td>\n      <td>08c5351a6aca1c1589a38f244edeee9d</td>\n      <td>2e7a8482f6fb09756ca50c10d7bfc047</td>\n      <td>2.0</td>\n      <td>2016-09-04 21:15:19</td>\n      <td>shipped</td>\n      <td>32.90</td>\n    </tr>\n  </tbody>\n</table>\n<p>112650 rows × 7 columns</p>\n</div>"
     },
     "execution_count": 260,
     "metadata": {},
     "output_type": "execute_result"
    }
   ],
   "source": [
    "df.sort_values(by=\"order_purchase_timestamp\", ascending=False)"
   ],
   "metadata": {
    "collapsed": false,
    "pycharm": {
     "name": "#%%\n"
    }
   }
  },
  {
   "cell_type": "code",
   "execution_count": 261,
   "outputs": [
    {
     "data": {
      "text/plain": "                                        customer_unique_id  \\\norder_purchase_timestamp                                     \n2018-09-03 09:06:57       ff22e30958c13ffe219db7d711e8f564   \n2018-08-29 15:00:37       24ac2b4327e25baf39f2119e4228976a   \n2018-08-29 14:52:00       b701bebbdf478f5500348f03aff62121   \n2018-08-29 14:18:28       7febafa06d9d8f232a900a2937f04338   \n2018-08-29 14:18:23       5c58de6fb80e93396e2f35642666b693   \n...                                                    ...   \n2016-09-15 12:16:38       830d5b7aaa3b6f1e9ad63703bec97d23   \n2016-09-15 12:16:38       830d5b7aaa3b6f1e9ad63703bec97d23   \n2016-09-05 00:15:34       4854e9b3feff728c13ee5fc7d1547e92   \n2016-09-04 21:15:19       b7d76e111c89f7ebf14761390f0f7d17   \n2016-09-04 21:15:19       b7d76e111c89f7ebf14761390f0f7d17   \n\n                                               customer_id  \\\norder_purchase_timestamp                                     \n2018-09-03 09:06:57       4b7decb9b58e2569548b8b4c8e20e8d7   \n2018-08-29 15:00:37       898b7fee99c4e42170ab69ba59be0a8b   \n2018-08-29 14:52:00       496630b6740bcca28fce9ba50d8a26ef   \n2018-08-29 14:18:28       6e353700bc7bcdf6ebc15d6de16d7002   \n2018-08-29 14:18:23       e60df9449653a95af4549bbfcb18a6eb   \n...                                                    ...   \n2016-09-15 12:16:38       86dc2ffce2dfff336de2f386a786e574   \n2016-09-15 12:16:38       86dc2ffce2dfff336de2f386a786e574   \n2016-09-05 00:15:34       683c54fc24d40ee9f8a6fc179fd9856c   \n2016-09-04 21:15:19       08c5351a6aca1c1589a38f244edeee9d   \n2016-09-04 21:15:19       08c5351a6aca1c1589a38f244edeee9d   \n\n                                                  order_id  order_item_id  \\\norder_purchase_timestamp                                                    \n2018-09-03 09:06:57       54282e97f61c23b78330c15b154c867d            1.0   \n2018-08-29 15:00:37       35a972d7f8436f405b56e36add1a7140            1.0   \n2018-08-29 14:52:00       03ef5dedbe7492bdae72eec50764c43f            1.0   \n2018-08-29 14:18:28       168626408cb32af0ffaf76711caae1dc            1.0   \n2018-08-29 14:18:23       0b223d92c27432930dfe407c6aea3041            2.0   \n...                                                    ...            ...   \n2016-09-15 12:16:38       bfbd0f9bdef84302105ad712db648a6c            2.0   \n2016-09-15 12:16:38       bfbd0f9bdef84302105ad712db648a6c            3.0   \n2016-09-05 00:15:34       e5fa5a7210941f7d56d0208e4e071d35            1.0   \n2016-09-04 21:15:19       2e7a8482f6fb09756ca50c10d7bfc047            1.0   \n2016-09-04 21:15:19       2e7a8482f6fb09756ca50c10d7bfc047            2.0   \n\n                         order_status   price  \norder_purchase_timestamp                       \n2018-09-03 09:06:57           shipped  145.00  \n2018-08-29 15:00:37         delivered   84.99  \n2018-08-29 14:52:00         delivered   24.90  \n2018-08-29 14:18:28         delivered   45.90  \n2018-08-29 14:18:23         delivered  209.00  \n...                               ...     ...  \n2016-09-15 12:16:38         delivered   44.99  \n2016-09-15 12:16:38         delivered   44.99  \n2016-09-05 00:15:34          canceled   59.50  \n2016-09-04 21:15:19           shipped   39.99  \n2016-09-04 21:15:19           shipped   32.90  \n\n[112650 rows x 6 columns]",
      "text/html": "<div>\n<style scoped>\n    .dataframe tbody tr th:only-of-type {\n        vertical-align: middle;\n    }\n\n    .dataframe tbody tr th {\n        vertical-align: top;\n    }\n\n    .dataframe thead th {\n        text-align: right;\n    }\n</style>\n<table border=\"1\" class=\"dataframe\">\n  <thead>\n    <tr style=\"text-align: right;\">\n      <th></th>\n      <th>customer_unique_id</th>\n      <th>customer_id</th>\n      <th>order_id</th>\n      <th>order_item_id</th>\n      <th>order_status</th>\n      <th>price</th>\n    </tr>\n    <tr>\n      <th>order_purchase_timestamp</th>\n      <th></th>\n      <th></th>\n      <th></th>\n      <th></th>\n      <th></th>\n      <th></th>\n    </tr>\n  </thead>\n  <tbody>\n    <tr>\n      <th>2018-09-03 09:06:57</th>\n      <td>ff22e30958c13ffe219db7d711e8f564</td>\n      <td>4b7decb9b58e2569548b8b4c8e20e8d7</td>\n      <td>54282e97f61c23b78330c15b154c867d</td>\n      <td>1.0</td>\n      <td>shipped</td>\n      <td>145.00</td>\n    </tr>\n    <tr>\n      <th>2018-08-29 15:00:37</th>\n      <td>24ac2b4327e25baf39f2119e4228976a</td>\n      <td>898b7fee99c4e42170ab69ba59be0a8b</td>\n      <td>35a972d7f8436f405b56e36add1a7140</td>\n      <td>1.0</td>\n      <td>delivered</td>\n      <td>84.99</td>\n    </tr>\n    <tr>\n      <th>2018-08-29 14:52:00</th>\n      <td>b701bebbdf478f5500348f03aff62121</td>\n      <td>496630b6740bcca28fce9ba50d8a26ef</td>\n      <td>03ef5dedbe7492bdae72eec50764c43f</td>\n      <td>1.0</td>\n      <td>delivered</td>\n      <td>24.90</td>\n    </tr>\n    <tr>\n      <th>2018-08-29 14:18:28</th>\n      <td>7febafa06d9d8f232a900a2937f04338</td>\n      <td>6e353700bc7bcdf6ebc15d6de16d7002</td>\n      <td>168626408cb32af0ffaf76711caae1dc</td>\n      <td>1.0</td>\n      <td>delivered</td>\n      <td>45.90</td>\n    </tr>\n    <tr>\n      <th>2018-08-29 14:18:23</th>\n      <td>5c58de6fb80e93396e2f35642666b693</td>\n      <td>e60df9449653a95af4549bbfcb18a6eb</td>\n      <td>0b223d92c27432930dfe407c6aea3041</td>\n      <td>2.0</td>\n      <td>delivered</td>\n      <td>209.00</td>\n    </tr>\n    <tr>\n      <th>...</th>\n      <td>...</td>\n      <td>...</td>\n      <td>...</td>\n      <td>...</td>\n      <td>...</td>\n      <td>...</td>\n    </tr>\n    <tr>\n      <th>2016-09-15 12:16:38</th>\n      <td>830d5b7aaa3b6f1e9ad63703bec97d23</td>\n      <td>86dc2ffce2dfff336de2f386a786e574</td>\n      <td>bfbd0f9bdef84302105ad712db648a6c</td>\n      <td>2.0</td>\n      <td>delivered</td>\n      <td>44.99</td>\n    </tr>\n    <tr>\n      <th>2016-09-15 12:16:38</th>\n      <td>830d5b7aaa3b6f1e9ad63703bec97d23</td>\n      <td>86dc2ffce2dfff336de2f386a786e574</td>\n      <td>bfbd0f9bdef84302105ad712db648a6c</td>\n      <td>3.0</td>\n      <td>delivered</td>\n      <td>44.99</td>\n    </tr>\n    <tr>\n      <th>2016-09-05 00:15:34</th>\n      <td>4854e9b3feff728c13ee5fc7d1547e92</td>\n      <td>683c54fc24d40ee9f8a6fc179fd9856c</td>\n      <td>e5fa5a7210941f7d56d0208e4e071d35</td>\n      <td>1.0</td>\n      <td>canceled</td>\n      <td>59.50</td>\n    </tr>\n    <tr>\n      <th>2016-09-04 21:15:19</th>\n      <td>b7d76e111c89f7ebf14761390f0f7d17</td>\n      <td>08c5351a6aca1c1589a38f244edeee9d</td>\n      <td>2e7a8482f6fb09756ca50c10d7bfc047</td>\n      <td>1.0</td>\n      <td>shipped</td>\n      <td>39.99</td>\n    </tr>\n    <tr>\n      <th>2016-09-04 21:15:19</th>\n      <td>b7d76e111c89f7ebf14761390f0f7d17</td>\n      <td>08c5351a6aca1c1589a38f244edeee9d</td>\n      <td>2e7a8482f6fb09756ca50c10d7bfc047</td>\n      <td>2.0</td>\n      <td>shipped</td>\n      <td>32.90</td>\n    </tr>\n  </tbody>\n</table>\n<p>112650 rows × 6 columns</p>\n</div>"
     },
     "execution_count": 261,
     "metadata": {},
     "output_type": "execute_result"
    }
   ],
   "source": [
    "df2 = df.copy()\n",
    "\n",
    "df2.set_index('order_purchase_timestamp')"
   ],
   "metadata": {
    "collapsed": false,
    "pycharm": {
     "name": "#%%\n"
    }
   }
  },
  {
   "cell_type": "code",
   "execution_count": 262,
   "outputs": [
    {
     "data": {
      "text/plain": "                                                customer_unique_id  \\\ncustomer_id                                                          \n00012a2ce6f8dcda20d059ce98491703  248ffe10d632bebe4f7267f1f44844c9   \n000161a058600d5901f007fab4c27140  b0015e09bb4b6e47c52844fab5fb6638   \n0001fd6190edaaf884bcaf3d49edf079  94b11d37cd61cb2994a194d11f89682b   \n0002414f95344307404f0ace7a26f1d5  4893ad4ea28b2c5b3ddf4e82e79db9e6   \n000379cdec625522490c315e70c7a9fb  0b83f73b19c2019e182fd552c048a22c   \n...                                                            ...   \nfffcb937e9dd47a13f05ecb8290f4d3e  bb438f958261edabbe96fc22622499c4   \nfffecc9f79fd8c764f843e9951b11341  e5794df8573fa179a90a7b797fc4b71f   \nfffeda5b6d849fbd39689bb92087f431  afbb5a642107cf6bb1ca68e863175f03   \nffff42319e9b2d713724ae527742af25  680213db6ebd9e4f24d03280cbe10346   \nffffa3172527f765de70084a7e53aae8  48fd7dec70f2b104a1d5e8c5c639102b   \n\n                                                          order_id  \\\ncustomer_id                                                          \n00012a2ce6f8dcda20d059ce98491703  5f79b5b0931d63f1a42989eb65b9da6e   \n000161a058600d5901f007fab4c27140  a44895d095d7e0702b6a162fa2dbeced   \n0001fd6190edaaf884bcaf3d49edf079  316a104623542e4d75189bb372bc5f8d   \n0002414f95344307404f0ace7a26f1d5  5825ce2e88d5346438686b0bba99e5ee   \n000379cdec625522490c315e70c7a9fb  0ab7fb08086d4af9141453c91878ed7a   \n...                                                            ...   \nfffcb937e9dd47a13f05ecb8290f4d3e  620ddc9fbe3e445676a8e71d4a830821   \nfffecc9f79fd8c764f843e9951b11341  814d6a3a7c0b32b2ad929ac6328124e9   \nfffeda5b6d849fbd39689bb92087f431  8c855550908247a7eff50281b92167a8   \nffff42319e9b2d713724ae527742af25  83b5fc912b2862c5046555ded1483ae9   \nffffa3172527f765de70084a7e53aae8  d0e7be325a1c986babc4e1cdb91edc03   \n\n                                  order_item_id order_purchase_timestamp  \\\ncustomer_id                                                                \n00012a2ce6f8dcda20d059ce98491703            1.0      2017-11-14 16:08:26   \n000161a058600d5901f007fab4c27140            1.0      2017-07-16 09:40:32   \n0001fd6190edaaf884bcaf3d49edf079            1.0      2017-02-28 11:06:43   \n0002414f95344307404f0ace7a26f1d5            1.0      2017-08-16 13:09:20   \n000379cdec625522490c315e70c7a9fb            1.0      2018-04-02 13:42:17   \n...                                         ...                      ...   \nfffcb937e9dd47a13f05ecb8290f4d3e            1.0      2018-03-17 00:55:27   \nfffecc9f79fd8c764f843e9951b11341            1.0      2018-03-29 16:59:26   \nfffeda5b6d849fbd39689bb92087f431            1.0      2018-05-22 13:36:02   \nffff42319e9b2d713724ae527742af25            1.0      2018-06-13 16:57:05   \nffffa3172527f765de70084a7e53aae8            1.0      2017-09-02 11:53:32   \n\n                                 order_status   price  \ncustomer_id                                            \n00012a2ce6f8dcda20d059ce98491703    delivered   89.80  \n000161a058600d5901f007fab4c27140    delivered   54.90  \n0001fd6190edaaf884bcaf3d49edf079    delivered  179.99  \n0002414f95344307404f0ace7a26f1d5    delivered  149.90  \n000379cdec625522490c315e70c7a9fb    delivered   93.00  \n...                                       ...     ...  \nfffcb937e9dd47a13f05ecb8290f4d3e    delivered   78.00  \nfffecc9f79fd8c764f843e9951b11341    delivered   54.90  \nfffeda5b6d849fbd39689bb92087f431    delivered   47.90  \nffff42319e9b2d713724ae527742af25    delivered  199.90  \nffffa3172527f765de70084a7e53aae8    delivered   10.90  \n\n[98666 rows x 6 columns]",
      "text/html": "<div>\n<style scoped>\n    .dataframe tbody tr th:only-of-type {\n        vertical-align: middle;\n    }\n\n    .dataframe tbody tr th {\n        vertical-align: top;\n    }\n\n    .dataframe thead th {\n        text-align: right;\n    }\n</style>\n<table border=\"1\" class=\"dataframe\">\n  <thead>\n    <tr style=\"text-align: right;\">\n      <th></th>\n      <th>customer_unique_id</th>\n      <th>order_id</th>\n      <th>order_item_id</th>\n      <th>order_purchase_timestamp</th>\n      <th>order_status</th>\n      <th>price</th>\n    </tr>\n    <tr>\n      <th>customer_id</th>\n      <th></th>\n      <th></th>\n      <th></th>\n      <th></th>\n      <th></th>\n      <th></th>\n    </tr>\n  </thead>\n  <tbody>\n    <tr>\n      <th>00012a2ce6f8dcda20d059ce98491703</th>\n      <td>248ffe10d632bebe4f7267f1f44844c9</td>\n      <td>5f79b5b0931d63f1a42989eb65b9da6e</td>\n      <td>1.0</td>\n      <td>2017-11-14 16:08:26</td>\n      <td>delivered</td>\n      <td>89.80</td>\n    </tr>\n    <tr>\n      <th>000161a058600d5901f007fab4c27140</th>\n      <td>b0015e09bb4b6e47c52844fab5fb6638</td>\n      <td>a44895d095d7e0702b6a162fa2dbeced</td>\n      <td>1.0</td>\n      <td>2017-07-16 09:40:32</td>\n      <td>delivered</td>\n      <td>54.90</td>\n    </tr>\n    <tr>\n      <th>0001fd6190edaaf884bcaf3d49edf079</th>\n      <td>94b11d37cd61cb2994a194d11f89682b</td>\n      <td>316a104623542e4d75189bb372bc5f8d</td>\n      <td>1.0</td>\n      <td>2017-02-28 11:06:43</td>\n      <td>delivered</td>\n      <td>179.99</td>\n    </tr>\n    <tr>\n      <th>0002414f95344307404f0ace7a26f1d5</th>\n      <td>4893ad4ea28b2c5b3ddf4e82e79db9e6</td>\n      <td>5825ce2e88d5346438686b0bba99e5ee</td>\n      <td>1.0</td>\n      <td>2017-08-16 13:09:20</td>\n      <td>delivered</td>\n      <td>149.90</td>\n    </tr>\n    <tr>\n      <th>000379cdec625522490c315e70c7a9fb</th>\n      <td>0b83f73b19c2019e182fd552c048a22c</td>\n      <td>0ab7fb08086d4af9141453c91878ed7a</td>\n      <td>1.0</td>\n      <td>2018-04-02 13:42:17</td>\n      <td>delivered</td>\n      <td>93.00</td>\n    </tr>\n    <tr>\n      <th>...</th>\n      <td>...</td>\n      <td>...</td>\n      <td>...</td>\n      <td>...</td>\n      <td>...</td>\n      <td>...</td>\n    </tr>\n    <tr>\n      <th>fffcb937e9dd47a13f05ecb8290f4d3e</th>\n      <td>bb438f958261edabbe96fc22622499c4</td>\n      <td>620ddc9fbe3e445676a8e71d4a830821</td>\n      <td>1.0</td>\n      <td>2018-03-17 00:55:27</td>\n      <td>delivered</td>\n      <td>78.00</td>\n    </tr>\n    <tr>\n      <th>fffecc9f79fd8c764f843e9951b11341</th>\n      <td>e5794df8573fa179a90a7b797fc4b71f</td>\n      <td>814d6a3a7c0b32b2ad929ac6328124e9</td>\n      <td>1.0</td>\n      <td>2018-03-29 16:59:26</td>\n      <td>delivered</td>\n      <td>54.90</td>\n    </tr>\n    <tr>\n      <th>fffeda5b6d849fbd39689bb92087f431</th>\n      <td>afbb5a642107cf6bb1ca68e863175f03</td>\n      <td>8c855550908247a7eff50281b92167a8</td>\n      <td>1.0</td>\n      <td>2018-05-22 13:36:02</td>\n      <td>delivered</td>\n      <td>47.90</td>\n    </tr>\n    <tr>\n      <th>ffff42319e9b2d713724ae527742af25</th>\n      <td>680213db6ebd9e4f24d03280cbe10346</td>\n      <td>83b5fc912b2862c5046555ded1483ae9</td>\n      <td>1.0</td>\n      <td>2018-06-13 16:57:05</td>\n      <td>delivered</td>\n      <td>199.90</td>\n    </tr>\n    <tr>\n      <th>ffffa3172527f765de70084a7e53aae8</th>\n      <td>48fd7dec70f2b104a1d5e8c5c639102b</td>\n      <td>d0e7be325a1c986babc4e1cdb91edc03</td>\n      <td>1.0</td>\n      <td>2017-09-02 11:53:32</td>\n      <td>delivered</td>\n      <td>10.90</td>\n    </tr>\n  </tbody>\n</table>\n<p>98666 rows × 6 columns</p>\n</div>"
     },
     "execution_count": 262,
     "metadata": {},
     "output_type": "execute_result"
    }
   ],
   "source": [
    "df3 = df2.copy()\n",
    "\n",
    "df3 = df3.groupby('customer_id')\n",
    "df3.first()"
   ],
   "metadata": {
    "collapsed": false,
    "pycharm": {
     "name": "#%%\n"
    }
   }
  },
  {
   "cell_type": "code",
   "execution_count": 263,
   "outputs": [],
   "source": [
    "df3 = df2.copy()\n",
    "\n",
    "df3 = df3.groupby('customer_id')\n",
    "\n"
   ],
   "metadata": {
    "collapsed": false,
    "pycharm": {
     "name": "#%%\n"
    }
   }
  },
  {
   "cell_type": "raw",
   "source": [
    "last_purchase =((dataset_rfm_v2.sort_values(\n",
    "    by=['order_purchase_timestamp'],\n",
    "    ascending=True)).set_index(\n",
    "    'order_purchase_timestamp')).groupby(\n",
    "    'customer_id').idxmax().drop('price',\n",
    "                                 axis=1)"
   ],
   "metadata": {
    "collapsed": false,
    "pycharm": {
     "name": "#%% raw\n"
    }
   }
  },
  {
   "cell_type": "raw",
   "source": [
    "last_purchase"
   ],
   "metadata": {
    "collapsed": false,
    "pycharm": {
     "name": "#%% raw\n"
    }
   }
  },
  {
   "cell_type": "raw",
   "source": [
    "last_purchase_2 =((dataset_rfm_v2.sort_values(\n",
    "    by=['order_purchase_timestamp'],\n",
    "    ascending=True)).set_index(\n",
    "    'order_purchase_timestamp')).groupby(\n",
    "    'customer_id').idxmax().drop('price',\n",
    "                                 axis=1)"
   ],
   "metadata": {
    "collapsed": false,
    "pycharm": {
     "name": "#%% raw\n"
    }
   }
  },
  {
   "cell_type": "raw",
   "source": [
    "last_purchase_2"
   ],
   "metadata": {
    "collapsed": false,
    "pycharm": {
     "name": "#%% raw\n"
    }
   }
  },
  {
   "cell_type": "code",
   "execution_count": 264,
   "outputs": [
    {
     "data": {
      "text/plain": "                      customer_unique_id                       customer_id  \\\n70989   ff22e30958c13ffe219db7d711e8f564  4b7decb9b58e2569548b8b4c8e20e8d7   \n100363  24ac2b4327e25baf39f2119e4228976a  898b7fee99c4e42170ab69ba59be0a8b   \n79408   b701bebbdf478f5500348f03aff62121  496630b6740bcca28fce9ba50d8a26ef   \n35930   7febafa06d9d8f232a900a2937f04338  6e353700bc7bcdf6ebc15d6de16d7002   \n34292   5c58de6fb80e93396e2f35642666b693  e60df9449653a95af4549bbfcb18a6eb   \n...                                  ...                               ...   \n35038   830d5b7aaa3b6f1e9ad63703bec97d23  86dc2ffce2dfff336de2f386a786e574   \n35039   830d5b7aaa3b6f1e9ad63703bec97d23  86dc2ffce2dfff336de2f386a786e574   \n4955    4854e9b3feff728c13ee5fc7d1547e92  683c54fc24d40ee9f8a6fc179fd9856c   \n5116    b7d76e111c89f7ebf14761390f0f7d17  08c5351a6aca1c1589a38f244edeee9d   \n5117    b7d76e111c89f7ebf14761390f0f7d17  08c5351a6aca1c1589a38f244edeee9d   \n\n                                order_id  order_item_id  \\\n70989   54282e97f61c23b78330c15b154c867d            1.0   \n100363  35a972d7f8436f405b56e36add1a7140            1.0   \n79408   03ef5dedbe7492bdae72eec50764c43f            1.0   \n35930   168626408cb32af0ffaf76711caae1dc            1.0   \n34292   0b223d92c27432930dfe407c6aea3041            2.0   \n...                                  ...            ...   \n35038   bfbd0f9bdef84302105ad712db648a6c            2.0   \n35039   bfbd0f9bdef84302105ad712db648a6c            3.0   \n4955    e5fa5a7210941f7d56d0208e4e071d35            1.0   \n5116    2e7a8482f6fb09756ca50c10d7bfc047            1.0   \n5117    2e7a8482f6fb09756ca50c10d7bfc047            2.0   \n\n       order_purchase_timestamp order_status   price  \n70989       2018-09-03 09:06:57      shipped  145.00  \n100363      2018-08-29 15:00:37    delivered   84.99  \n79408       2018-08-29 14:52:00    delivered   24.90  \n35930       2018-08-29 14:18:28    delivered   45.90  \n34292       2018-08-29 14:18:23    delivered  209.00  \n...                         ...          ...     ...  \n35038       2016-09-15 12:16:38    delivered   44.99  \n35039       2016-09-15 12:16:38    delivered   44.99  \n4955        2016-09-05 00:15:34     canceled   59.50  \n5116        2016-09-04 21:15:19      shipped   39.99  \n5117        2016-09-04 21:15:19      shipped   32.90  \n\n[112650 rows x 7 columns]",
      "text/html": "<div>\n<style scoped>\n    .dataframe tbody tr th:only-of-type {\n        vertical-align: middle;\n    }\n\n    .dataframe tbody tr th {\n        vertical-align: top;\n    }\n\n    .dataframe thead th {\n        text-align: right;\n    }\n</style>\n<table border=\"1\" class=\"dataframe\">\n  <thead>\n    <tr style=\"text-align: right;\">\n      <th></th>\n      <th>customer_unique_id</th>\n      <th>customer_id</th>\n      <th>order_id</th>\n      <th>order_item_id</th>\n      <th>order_purchase_timestamp</th>\n      <th>order_status</th>\n      <th>price</th>\n    </tr>\n  </thead>\n  <tbody>\n    <tr>\n      <th>70989</th>\n      <td>ff22e30958c13ffe219db7d711e8f564</td>\n      <td>4b7decb9b58e2569548b8b4c8e20e8d7</td>\n      <td>54282e97f61c23b78330c15b154c867d</td>\n      <td>1.0</td>\n      <td>2018-09-03 09:06:57</td>\n      <td>shipped</td>\n      <td>145.00</td>\n    </tr>\n    <tr>\n      <th>100363</th>\n      <td>24ac2b4327e25baf39f2119e4228976a</td>\n      <td>898b7fee99c4e42170ab69ba59be0a8b</td>\n      <td>35a972d7f8436f405b56e36add1a7140</td>\n      <td>1.0</td>\n      <td>2018-08-29 15:00:37</td>\n      <td>delivered</td>\n      <td>84.99</td>\n    </tr>\n    <tr>\n      <th>79408</th>\n      <td>b701bebbdf478f5500348f03aff62121</td>\n      <td>496630b6740bcca28fce9ba50d8a26ef</td>\n      <td>03ef5dedbe7492bdae72eec50764c43f</td>\n      <td>1.0</td>\n      <td>2018-08-29 14:52:00</td>\n      <td>delivered</td>\n      <td>24.90</td>\n    </tr>\n    <tr>\n      <th>35930</th>\n      <td>7febafa06d9d8f232a900a2937f04338</td>\n      <td>6e353700bc7bcdf6ebc15d6de16d7002</td>\n      <td>168626408cb32af0ffaf76711caae1dc</td>\n      <td>1.0</td>\n      <td>2018-08-29 14:18:28</td>\n      <td>delivered</td>\n      <td>45.90</td>\n    </tr>\n    <tr>\n      <th>34292</th>\n      <td>5c58de6fb80e93396e2f35642666b693</td>\n      <td>e60df9449653a95af4549bbfcb18a6eb</td>\n      <td>0b223d92c27432930dfe407c6aea3041</td>\n      <td>2.0</td>\n      <td>2018-08-29 14:18:23</td>\n      <td>delivered</td>\n      <td>209.00</td>\n    </tr>\n    <tr>\n      <th>...</th>\n      <td>...</td>\n      <td>...</td>\n      <td>...</td>\n      <td>...</td>\n      <td>...</td>\n      <td>...</td>\n      <td>...</td>\n    </tr>\n    <tr>\n      <th>35038</th>\n      <td>830d5b7aaa3b6f1e9ad63703bec97d23</td>\n      <td>86dc2ffce2dfff336de2f386a786e574</td>\n      <td>bfbd0f9bdef84302105ad712db648a6c</td>\n      <td>2.0</td>\n      <td>2016-09-15 12:16:38</td>\n      <td>delivered</td>\n      <td>44.99</td>\n    </tr>\n    <tr>\n      <th>35039</th>\n      <td>830d5b7aaa3b6f1e9ad63703bec97d23</td>\n      <td>86dc2ffce2dfff336de2f386a786e574</td>\n      <td>bfbd0f9bdef84302105ad712db648a6c</td>\n      <td>3.0</td>\n      <td>2016-09-15 12:16:38</td>\n      <td>delivered</td>\n      <td>44.99</td>\n    </tr>\n    <tr>\n      <th>4955</th>\n      <td>4854e9b3feff728c13ee5fc7d1547e92</td>\n      <td>683c54fc24d40ee9f8a6fc179fd9856c</td>\n      <td>e5fa5a7210941f7d56d0208e4e071d35</td>\n      <td>1.0</td>\n      <td>2016-09-05 00:15:34</td>\n      <td>canceled</td>\n      <td>59.50</td>\n    </tr>\n    <tr>\n      <th>5116</th>\n      <td>b7d76e111c89f7ebf14761390f0f7d17</td>\n      <td>08c5351a6aca1c1589a38f244edeee9d</td>\n      <td>2e7a8482f6fb09756ca50c10d7bfc047</td>\n      <td>1.0</td>\n      <td>2016-09-04 21:15:19</td>\n      <td>shipped</td>\n      <td>39.99</td>\n    </tr>\n    <tr>\n      <th>5117</th>\n      <td>b7d76e111c89f7ebf14761390f0f7d17</td>\n      <td>08c5351a6aca1c1589a38f244edeee9d</td>\n      <td>2e7a8482f6fb09756ca50c10d7bfc047</td>\n      <td>2.0</td>\n      <td>2016-09-04 21:15:19</td>\n      <td>shipped</td>\n      <td>32.90</td>\n    </tr>\n  </tbody>\n</table>\n<p>112650 rows × 7 columns</p>\n</div>"
     },
     "execution_count": 264,
     "metadata": {},
     "output_type": "execute_result"
    }
   ],
   "source": [
    "data = dataset_rfm_v2.copy()\n",
    "data"
   ],
   "metadata": {
    "collapsed": false,
    "pycharm": {
     "name": "#%%\n"
    }
   }
  },
  {
   "cell_type": "code",
   "execution_count": 267,
   "outputs": [
    {
     "data": {
      "text/plain": "                                  customer_unique_id  customer_id  \\\norder_id                                                            \n00010242fe8c5a6d1ba2dd792cb16214                   1            1   \n00018f77f2f0320c557190d7a144bdd3                   1            1   \n000229ec398224ef6ca0657da4fc703e                   1            1   \n00024acbcdf0a6daa1e931b038114c75                   1            1   \n00042b26cf59d7ce69dfabb4e55b4fd9                   1            1   \n...                                              ...          ...   \nfffc94f6ce00a00581880bf54a75a037                   1            1   \nfffcd46ef2263f404302a634eb57f7eb                   1            1   \nfffce4705a9662cd70adb13d4a31832d                   1            1   \nfffe18544ffabc95dfada21779c9644f                   1            1   \nfffe41c64501cc87c801fd61db3f6244                   1            1   \n\n                                  order_item_id  order_purchase_timestamp  \\\norder_id                                                                    \n00010242fe8c5a6d1ba2dd792cb16214              1                         1   \n00018f77f2f0320c557190d7a144bdd3              1                         1   \n000229ec398224ef6ca0657da4fc703e              1                         1   \n00024acbcdf0a6daa1e931b038114c75              1                         1   \n00042b26cf59d7ce69dfabb4e55b4fd9              1                         1   \n...                                         ...                       ...   \nfffc94f6ce00a00581880bf54a75a037              1                         1   \nfffcd46ef2263f404302a634eb57f7eb              1                         1   \nfffce4705a9662cd70adb13d4a31832d              1                         1   \nfffe18544ffabc95dfada21779c9644f              1                         1   \nfffe41c64501cc87c801fd61db3f6244              1                         1   \n\n                                  order_status  price  \norder_id                                               \n00010242fe8c5a6d1ba2dd792cb16214             1      1  \n00018f77f2f0320c557190d7a144bdd3             1      1  \n000229ec398224ef6ca0657da4fc703e             1      1  \n00024acbcdf0a6daa1e931b038114c75             1      1  \n00042b26cf59d7ce69dfabb4e55b4fd9             1      1  \n...                                        ...    ...  \nfffc94f6ce00a00581880bf54a75a037             1      1  \nfffcd46ef2263f404302a634eb57f7eb             1      1  \nfffce4705a9662cd70adb13d4a31832d             1      1  \nfffe18544ffabc95dfada21779c9644f             1      1  \nfffe41c64501cc87c801fd61db3f6244             1      1  \n\n[98666 rows x 6 columns]",
      "text/html": "<div>\n<style scoped>\n    .dataframe tbody tr th:only-of-type {\n        vertical-align: middle;\n    }\n\n    .dataframe tbody tr th {\n        vertical-align: top;\n    }\n\n    .dataframe thead th {\n        text-align: right;\n    }\n</style>\n<table border=\"1\" class=\"dataframe\">\n  <thead>\n    <tr style=\"text-align: right;\">\n      <th></th>\n      <th>customer_unique_id</th>\n      <th>customer_id</th>\n      <th>order_item_id</th>\n      <th>order_purchase_timestamp</th>\n      <th>order_status</th>\n      <th>price</th>\n    </tr>\n    <tr>\n      <th>order_id</th>\n      <th></th>\n      <th></th>\n      <th></th>\n      <th></th>\n      <th></th>\n      <th></th>\n    </tr>\n  </thead>\n  <tbody>\n    <tr>\n      <th>00010242fe8c5a6d1ba2dd792cb16214</th>\n      <td>1</td>\n      <td>1</td>\n      <td>1</td>\n      <td>1</td>\n      <td>1</td>\n      <td>1</td>\n    </tr>\n    <tr>\n      <th>00018f77f2f0320c557190d7a144bdd3</th>\n      <td>1</td>\n      <td>1</td>\n      <td>1</td>\n      <td>1</td>\n      <td>1</td>\n      <td>1</td>\n    </tr>\n    <tr>\n      <th>000229ec398224ef6ca0657da4fc703e</th>\n      <td>1</td>\n      <td>1</td>\n      <td>1</td>\n      <td>1</td>\n      <td>1</td>\n      <td>1</td>\n    </tr>\n    <tr>\n      <th>00024acbcdf0a6daa1e931b038114c75</th>\n      <td>1</td>\n      <td>1</td>\n      <td>1</td>\n      <td>1</td>\n      <td>1</td>\n      <td>1</td>\n    </tr>\n    <tr>\n      <th>00042b26cf59d7ce69dfabb4e55b4fd9</th>\n      <td>1</td>\n      <td>1</td>\n      <td>1</td>\n      <td>1</td>\n      <td>1</td>\n      <td>1</td>\n    </tr>\n    <tr>\n      <th>...</th>\n      <td>...</td>\n      <td>...</td>\n      <td>...</td>\n      <td>...</td>\n      <td>...</td>\n      <td>...</td>\n    </tr>\n    <tr>\n      <th>fffc94f6ce00a00581880bf54a75a037</th>\n      <td>1</td>\n      <td>1</td>\n      <td>1</td>\n      <td>1</td>\n      <td>1</td>\n      <td>1</td>\n    </tr>\n    <tr>\n      <th>fffcd46ef2263f404302a634eb57f7eb</th>\n      <td>1</td>\n      <td>1</td>\n      <td>1</td>\n      <td>1</td>\n      <td>1</td>\n      <td>1</td>\n    </tr>\n    <tr>\n      <th>fffce4705a9662cd70adb13d4a31832d</th>\n      <td>1</td>\n      <td>1</td>\n      <td>1</td>\n      <td>1</td>\n      <td>1</td>\n      <td>1</td>\n    </tr>\n    <tr>\n      <th>fffe18544ffabc95dfada21779c9644f</th>\n      <td>1</td>\n      <td>1</td>\n      <td>1</td>\n      <td>1</td>\n      <td>1</td>\n      <td>1</td>\n    </tr>\n    <tr>\n      <th>fffe41c64501cc87c801fd61db3f6244</th>\n      <td>1</td>\n      <td>1</td>\n      <td>1</td>\n      <td>1</td>\n      <td>1</td>\n      <td>1</td>\n    </tr>\n  </tbody>\n</table>\n<p>98666 rows × 6 columns</p>\n</div>"
     },
     "execution_count": 267,
     "metadata": {},
     "output_type": "execute_result"
    }
   ],
   "source": [
    "x = data.groupby(\"order_id\").count()\n",
    "x"
   ],
   "metadata": {
    "collapsed": false,
    "pycharm": {
     "name": "#%%\n"
    }
   }
  },
  {
   "cell_type": "code",
   "execution_count": 273,
   "outputs": [
    {
     "data": {
      "text/plain": "                                  customer_unique_id  order_id  order_item_id  \\\ncustomer_id                                                                     \nfc3d1daec319d62d49bfb5e1f83123e9                  21        21             21   \nbe1b70680b9f9694d8c70f41fa3dc92b                  20        20             20   \nbd5d39761aa56689a265d95d8d32b8be                  20        20             20   \nadb32467ecc74b53576d9d13a5a55891                  15        15             15   \n10de381f8a8d23fff822753305f71cae                  15        15             15   \n...                                              ...       ...            ...   \n5a1739996fb7a15067fa38c3a0a1097e                   1         1              1   \n5a15f2faee1402a7a587641c107b5e10                   1         1              1   \n5a158dfc1554dd2b4fe7f3c2581993bd                   1         1              1   \n5a1523d32a6d1b323a05895f5164655d                   1         1              1   \n800512d0215633d567abe5ce2591f01d                   1         1              1   \n\n                                  order_status  \ncustomer_id                                     \nfc3d1daec319d62d49bfb5e1f83123e9            21  \nbe1b70680b9f9694d8c70f41fa3dc92b            20  \nbd5d39761aa56689a265d95d8d32b8be            20  \nadb32467ecc74b53576d9d13a5a55891            15  \n10de381f8a8d23fff822753305f71cae            15  \n...                                        ...  \n5a1739996fb7a15067fa38c3a0a1097e             1  \n5a15f2faee1402a7a587641c107b5e10             1  \n5a158dfc1554dd2b4fe7f3c2581993bd             1  \n5a1523d32a6d1b323a05895f5164655d             1  \n800512d0215633d567abe5ce2591f01d             1  \n\n[98666 rows x 4 columns]",
      "text/html": "<div>\n<style scoped>\n    .dataframe tbody tr th:only-of-type {\n        vertical-align: middle;\n    }\n\n    .dataframe tbody tr th {\n        vertical-align: top;\n    }\n\n    .dataframe thead th {\n        text-align: right;\n    }\n</style>\n<table border=\"1\" class=\"dataframe\">\n  <thead>\n    <tr style=\"text-align: right;\">\n      <th></th>\n      <th>customer_unique_id</th>\n      <th>order_id</th>\n      <th>order_item_id</th>\n      <th>order_status</th>\n    </tr>\n    <tr>\n      <th>customer_id</th>\n      <th></th>\n      <th></th>\n      <th></th>\n      <th></th>\n    </tr>\n  </thead>\n  <tbody>\n    <tr>\n      <th>fc3d1daec319d62d49bfb5e1f83123e9</th>\n      <td>21</td>\n      <td>21</td>\n      <td>21</td>\n      <td>21</td>\n    </tr>\n    <tr>\n      <th>be1b70680b9f9694d8c70f41fa3dc92b</th>\n      <td>20</td>\n      <td>20</td>\n      <td>20</td>\n      <td>20</td>\n    </tr>\n    <tr>\n      <th>bd5d39761aa56689a265d95d8d32b8be</th>\n      <td>20</td>\n      <td>20</td>\n      <td>20</td>\n      <td>20</td>\n    </tr>\n    <tr>\n      <th>adb32467ecc74b53576d9d13a5a55891</th>\n      <td>15</td>\n      <td>15</td>\n      <td>15</td>\n      <td>15</td>\n    </tr>\n    <tr>\n      <th>10de381f8a8d23fff822753305f71cae</th>\n      <td>15</td>\n      <td>15</td>\n      <td>15</td>\n      <td>15</td>\n    </tr>\n    <tr>\n      <th>...</th>\n      <td>...</td>\n      <td>...</td>\n      <td>...</td>\n      <td>...</td>\n    </tr>\n    <tr>\n      <th>5a1739996fb7a15067fa38c3a0a1097e</th>\n      <td>1</td>\n      <td>1</td>\n      <td>1</td>\n      <td>1</td>\n    </tr>\n    <tr>\n      <th>5a15f2faee1402a7a587641c107b5e10</th>\n      <td>1</td>\n      <td>1</td>\n      <td>1</td>\n      <td>1</td>\n    </tr>\n    <tr>\n      <th>5a158dfc1554dd2b4fe7f3c2581993bd</th>\n      <td>1</td>\n      <td>1</td>\n      <td>1</td>\n      <td>1</td>\n    </tr>\n    <tr>\n      <th>5a1523d32a6d1b323a05895f5164655d</th>\n      <td>1</td>\n      <td>1</td>\n      <td>1</td>\n      <td>1</td>\n    </tr>\n    <tr>\n      <th>800512d0215633d567abe5ce2591f01d</th>\n      <td>1</td>\n      <td>1</td>\n      <td>1</td>\n      <td>1</td>\n    </tr>\n  </tbody>\n</table>\n<p>98666 rows × 4 columns</p>\n</div>"
     },
     "execution_count": 273,
     "metadata": {},
     "output_type": "execute_result"
    }
   ],
   "source": [
    "tot_orders = data.groupby(['customer_id']).count().sort_values(\n",
    "    by=['order_id'],\n",
    "    ascending=False).drop(['price',\n",
    "                           'order_purchase_timestamp'],\n",
    "                          axis=1)\n",
    "tot_orders\n",
    "\n"
   ],
   "metadata": {
    "collapsed": false,
    "pycharm": {
     "name": "#%%\n"
    }
   }
  },
  {
   "cell_type": "code",
   "execution_count": 263,
   "outputs": [],
   "source": [],
   "metadata": {
    "collapsed": false,
    "pycharm": {
     "name": "#%%\n"
    }
   }
  }
 ],
 "metadata": {
  "kernelspec": {
   "display_name": "Python 3",
   "language": "python",
   "name": "python3"
  },
  "language_info": {
   "codemirror_mode": {
    "name": "ipython",
    "version": 2
   },
   "file_extension": ".py",
   "mimetype": "text/x-python",
   "name": "python",
   "nbconvert_exporter": "python",
   "pygments_lexer": "ipython2",
   "version": "2.7.6"
  }
 },
 "nbformat": 4,
 "nbformat_minor": 0
}
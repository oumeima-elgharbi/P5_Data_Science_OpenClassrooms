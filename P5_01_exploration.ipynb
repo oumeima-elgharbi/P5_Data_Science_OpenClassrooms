{
 "cells": [
  {
   "cell_type": "markdown",
   "source": [
    "- OpenClassrooms Project 5, Data Scientist\n",
    "- Author : Oumeima EL GHARBI\n",
    "- Date : September, October 2022"
   ],
   "metadata": {
    "collapsed": false,
    "pycharm": {
     "name": "#%% md\n"
    }
   }
  },
  {
   "cell_type": "markdown",
   "source": [
    "## Part I : Cleaning and Exploratory Data Analysis"
   ],
   "metadata": {
    "collapsed": false,
    "pycharm": {
     "name": "#%% md\n"
    }
   }
  },
  {
   "cell_type": "markdown",
   "source": [
    "### Importing libraries"
   ],
   "metadata": {
    "collapsed": false,
    "pycharm": {
     "name": "#%% md\n"
    }
   }
  },
  {
   "cell_type": "code",
   "execution_count": 1,
   "metadata": {
    "collapsed": true,
    "pycharm": {
     "name": "#%%\n"
    }
   },
   "outputs": [
    {
     "data": {
      "application/javascript": "IPython.notebook.set_autosave_interval(300000)"
     },
     "metadata": {},
     "output_type": "display_data"
    },
    {
     "name": "stdout",
     "output_type": "stream",
     "text": [
      "Autosaving every 300 seconds\n"
     ]
    }
   ],
   "source": [
    "%reset -f\n",
    "\n",
    "from functions import *\n",
    "\n",
    "from os import listdir\n",
    "from os.path import isfile, join\n",
    "\n",
    "%matplotlib inline\n",
    "%autosave 300"
   ]
  },
  {
   "cell_type": "code",
   "execution_count": 2,
   "outputs": [],
   "source": [
    "# Starting time\n",
    "t0 = time()\n",
    "\n",
    "input_path = \"./dataset/source/\"\n",
    "\n",
    "output_path = \"./dataset/cleaned/\"\n",
    "output_filename = \"dataset_rfm.csv\"\n",
    "output_dataset_file = \"{}{}\".format(output_path, output_filename)"
   ],
   "metadata": {
    "collapsed": false,
    "pycharm": {
     "name": "#%%\n"
    }
   }
  },
  {
   "cell_type": "markdown",
   "source": [
    "### Importing all datasets"
   ],
   "metadata": {
    "collapsed": false,
    "pycharm": {
     "name": "#%% md\n"
    }
   }
  },
  {
   "cell_type": "markdown",
   "source": [
    "We read the folder in which we have all the csv files."
   ],
   "metadata": {
    "collapsed": false,
    "pycharm": {
     "name": "#%% md\n"
    }
   }
  },
  {
   "cell_type": "code",
   "execution_count": 3,
   "outputs": [
    {
     "name": "stdout",
     "output_type": "stream",
     "text": [
      "['olist_customers_dataset.csv', 'olist_geolocation_dataset.csv', 'olist_orders_dataset.csv', 'olist_order_items_dataset.csv', 'olist_order_payments_dataset.csv', 'olist_order_reviews_dataset.csv', 'olist_products_dataset.csv', 'olist_sellers_dataset.csv', 'product_category_name_translation.csv']\n",
      "\n",
      "['olist_customers_dataset.csv', 'olist_geolocation_dataset.csv', 'olist_orders_dataset.csv', 'olist_order_items_dataset.csv', 'olist_order_payments_dataset.csv', 'olist_order_reviews_dataset.csv', 'olist_products_dataset.csv', 'olist_sellers_dataset.csv', 'product_category_name_translation.csv']\n"
     ]
    }
   ],
   "source": [
    "all_files = [f for f in listdir(input_path) if isfile(join(input_path, f))]\n",
    "\n",
    "all_csv_files = [file for file in all_files if file.endswith(\".csv\")]\n",
    "print(all_files, end='\\n\\n')\n",
    "\n",
    "print(all_csv_files)"
   ],
   "metadata": {
    "collapsed": false,
    "pycharm": {
     "name": "#%%\n"
    }
   }
  },
  {
   "cell_type": "markdown",
   "source": [
    "We read all the csv files and we display general information about each one."
   ],
   "metadata": {
    "collapsed": false,
    "pycharm": {
     "name": "#%% md\n"
    }
   }
  },
  {
   "cell_type": "code",
   "execution_count": 4,
   "outputs": [
    {
     "name": "stdout",
     "output_type": "stream",
     "text": [
      "___Loading raw dataset___\n",
      "Initial shape : (99441, 5)\n",
      "This is the dataset n°1 : customers\n"
     ]
    },
    {
     "data": {
      "text/plain": "                        customer_id                customer_unique_id  \\\n0  06b8999e2fba1a1fbc88172c00ba8bc7  861eff4711a542e4b93843c6dd7febb0   \n1  18955e83d337fd6b2def6b18a428ac77  290c77bc529b7ac935b93aa66c333dc3   \n\n   customer_zip_code_prefix          customer_city customer_state  \n0                     14409                 franca             SP  \n1                      9790  sao bernardo do campo             SP  ",
      "text/html": "<div>\n<style scoped>\n    .dataframe tbody tr th:only-of-type {\n        vertical-align: middle;\n    }\n\n    .dataframe tbody tr th {\n        vertical-align: top;\n    }\n\n    .dataframe thead th {\n        text-align: right;\n    }\n</style>\n<table border=\"1\" class=\"dataframe\">\n  <thead>\n    <tr style=\"text-align: right;\">\n      <th></th>\n      <th>customer_id</th>\n      <th>customer_unique_id</th>\n      <th>customer_zip_code_prefix</th>\n      <th>customer_city</th>\n      <th>customer_state</th>\n    </tr>\n  </thead>\n  <tbody>\n    <tr>\n      <th>0</th>\n      <td>06b8999e2fba1a1fbc88172c00ba8bc7</td>\n      <td>861eff4711a542e4b93843c6dd7febb0</td>\n      <td>14409</td>\n      <td>franca</td>\n      <td>SP</td>\n    </tr>\n    <tr>\n      <th>1</th>\n      <td>18955e83d337fd6b2def6b18a428ac77</td>\n      <td>290c77bc529b7ac935b93aa66c333dc3</td>\n      <td>9790</td>\n      <td>sao bernardo do campo</td>\n      <td>SP</td>\n    </tr>\n  </tbody>\n</table>\n</div>"
     },
     "metadata": {},
     "output_type": "display_data"
    },
    {
     "name": "stdout",
     "output_type": "stream",
     "text": [
      "<class 'pandas.core.frame.DataFrame'>\n",
      "RangeIndex: 99441 entries, 0 to 99440\n",
      "Data columns (total 5 columns):\n",
      " #   Column                    Non-Null Count  Dtype \n",
      "---  ------                    --------------  ----- \n",
      " 0   customer_id               99441 non-null  object\n",
      " 1   customer_unique_id        99441 non-null  object\n",
      " 2   customer_zip_code_prefix  99441 non-null  int64 \n",
      " 3   customer_city             99441 non-null  object\n",
      " 4   customer_state            99441 non-null  object\n",
      "dtypes: int64(1), object(4)\n",
      "memory usage: 3.8+ MB\n"
     ]
    },
    {
     "data": {
      "text/plain": "None"
     },
     "metadata": {},
     "output_type": "display_data"
    },
    {
     "name": "stdout",
     "output_type": "stream",
     "text": [
      "___Loading raw dataset___\n",
      "Initial shape : (1000163, 5)\n",
      "This is the dataset n°2 : geolocation\n"
     ]
    },
    {
     "data": {
      "text/plain": "   geolocation_zip_code_prefix  geolocation_lat  geolocation_lng  \\\n0                         1037       -23.545621       -46.639292   \n1                         1046       -23.546081       -46.644820   \n\n  geolocation_city geolocation_state  \n0        sao paulo                SP  \n1        sao paulo                SP  ",
      "text/html": "<div>\n<style scoped>\n    .dataframe tbody tr th:only-of-type {\n        vertical-align: middle;\n    }\n\n    .dataframe tbody tr th {\n        vertical-align: top;\n    }\n\n    .dataframe thead th {\n        text-align: right;\n    }\n</style>\n<table border=\"1\" class=\"dataframe\">\n  <thead>\n    <tr style=\"text-align: right;\">\n      <th></th>\n      <th>geolocation_zip_code_prefix</th>\n      <th>geolocation_lat</th>\n      <th>geolocation_lng</th>\n      <th>geolocation_city</th>\n      <th>geolocation_state</th>\n    </tr>\n  </thead>\n  <tbody>\n    <tr>\n      <th>0</th>\n      <td>1037</td>\n      <td>-23.545621</td>\n      <td>-46.639292</td>\n      <td>sao paulo</td>\n      <td>SP</td>\n    </tr>\n    <tr>\n      <th>1</th>\n      <td>1046</td>\n      <td>-23.546081</td>\n      <td>-46.644820</td>\n      <td>sao paulo</td>\n      <td>SP</td>\n    </tr>\n  </tbody>\n</table>\n</div>"
     },
     "metadata": {},
     "output_type": "display_data"
    },
    {
     "name": "stdout",
     "output_type": "stream",
     "text": [
      "<class 'pandas.core.frame.DataFrame'>\n",
      "RangeIndex: 1000163 entries, 0 to 1000162\n",
      "Data columns (total 5 columns):\n",
      " #   Column                       Non-Null Count    Dtype  \n",
      "---  ------                       --------------    -----  \n",
      " 0   geolocation_zip_code_prefix  1000163 non-null  int64  \n",
      " 1   geolocation_lat              1000163 non-null  float64\n",
      " 2   geolocation_lng              1000163 non-null  float64\n",
      " 3   geolocation_city             1000163 non-null  object \n",
      " 4   geolocation_state            1000163 non-null  object \n",
      "dtypes: float64(2), int64(1), object(2)\n",
      "memory usage: 38.2+ MB\n"
     ]
    },
    {
     "data": {
      "text/plain": "None"
     },
     "metadata": {},
     "output_type": "display_data"
    },
    {
     "name": "stdout",
     "output_type": "stream",
     "text": [
      "___Loading raw dataset___\n",
      "Initial shape : (99441, 8)\n",
      "This is the dataset n°3 : orders\n"
     ]
    },
    {
     "data": {
      "text/plain": "                           order_id                       customer_id  \\\n0  e481f51cbdc54678b7cc49136f2d6af7  9ef432eb6251297304e76186b10a928d   \n1  53cdb2fc8bc7dce0b6741e2150273451  b0830fb4747a6c6d20dea0b8c802d7ef   \n\n  order_status order_purchase_timestamp    order_approved_at  \\\n0    delivered      2017-10-02 10:56:33  2017-10-02 11:07:15   \n1    delivered      2018-07-24 20:41:37  2018-07-26 03:24:27   \n\n  order_delivered_carrier_date order_delivered_customer_date  \\\n0          2017-10-04 19:55:00           2017-10-10 21:25:13   \n1          2018-07-26 14:31:00           2018-08-07 15:27:45   \n\n  order_estimated_delivery_date  \n0           2017-10-18 00:00:00  \n1           2018-08-13 00:00:00  ",
      "text/html": "<div>\n<style scoped>\n    .dataframe tbody tr th:only-of-type {\n        vertical-align: middle;\n    }\n\n    .dataframe tbody tr th {\n        vertical-align: top;\n    }\n\n    .dataframe thead th {\n        text-align: right;\n    }\n</style>\n<table border=\"1\" class=\"dataframe\">\n  <thead>\n    <tr style=\"text-align: right;\">\n      <th></th>\n      <th>order_id</th>\n      <th>customer_id</th>\n      <th>order_status</th>\n      <th>order_purchase_timestamp</th>\n      <th>order_approved_at</th>\n      <th>order_delivered_carrier_date</th>\n      <th>order_delivered_customer_date</th>\n      <th>order_estimated_delivery_date</th>\n    </tr>\n  </thead>\n  <tbody>\n    <tr>\n      <th>0</th>\n      <td>e481f51cbdc54678b7cc49136f2d6af7</td>\n      <td>9ef432eb6251297304e76186b10a928d</td>\n      <td>delivered</td>\n      <td>2017-10-02 10:56:33</td>\n      <td>2017-10-02 11:07:15</td>\n      <td>2017-10-04 19:55:00</td>\n      <td>2017-10-10 21:25:13</td>\n      <td>2017-10-18 00:00:00</td>\n    </tr>\n    <tr>\n      <th>1</th>\n      <td>53cdb2fc8bc7dce0b6741e2150273451</td>\n      <td>b0830fb4747a6c6d20dea0b8c802d7ef</td>\n      <td>delivered</td>\n      <td>2018-07-24 20:41:37</td>\n      <td>2018-07-26 03:24:27</td>\n      <td>2018-07-26 14:31:00</td>\n      <td>2018-08-07 15:27:45</td>\n      <td>2018-08-13 00:00:00</td>\n    </tr>\n  </tbody>\n</table>\n</div>"
     },
     "metadata": {},
     "output_type": "display_data"
    },
    {
     "name": "stdout",
     "output_type": "stream",
     "text": [
      "<class 'pandas.core.frame.DataFrame'>\n",
      "RangeIndex: 99441 entries, 0 to 99440\n",
      "Data columns (total 8 columns):\n",
      " #   Column                         Non-Null Count  Dtype \n",
      "---  ------                         --------------  ----- \n",
      " 0   order_id                       99441 non-null  object\n",
      " 1   customer_id                    99441 non-null  object\n",
      " 2   order_status                   99441 non-null  object\n",
      " 3   order_purchase_timestamp       99441 non-null  object\n",
      " 4   order_approved_at              99281 non-null  object\n",
      " 5   order_delivered_carrier_date   97658 non-null  object\n",
      " 6   order_delivered_customer_date  96476 non-null  object\n",
      " 7   order_estimated_delivery_date  99441 non-null  object\n",
      "dtypes: object(8)\n",
      "memory usage: 6.1+ MB\n"
     ]
    },
    {
     "data": {
      "text/plain": "None"
     },
     "metadata": {},
     "output_type": "display_data"
    },
    {
     "name": "stdout",
     "output_type": "stream",
     "text": [
      "___Loading raw dataset___\n",
      "Initial shape : (112650, 7)\n",
      "This is the dataset n°4 : order_items\n"
     ]
    },
    {
     "data": {
      "text/plain": "                           order_id  order_item_id  \\\n0  00010242fe8c5a6d1ba2dd792cb16214              1   \n1  00018f77f2f0320c557190d7a144bdd3              1   \n\n                         product_id                         seller_id  \\\n0  4244733e06e7ecb4970a6e2683c13e61  48436dade18ac8b2bce089ec2a041202   \n1  e5f2d52b802189ee658865ca93d83a8f  dd7ddc04e1b6c2c614352b383efe2d36   \n\n   shipping_limit_date  price  freight_value  \n0  2017-09-19 09:45:35   58.9          13.29  \n1  2017-05-03 11:05:13  239.9          19.93  ",
      "text/html": "<div>\n<style scoped>\n    .dataframe tbody tr th:only-of-type {\n        vertical-align: middle;\n    }\n\n    .dataframe tbody tr th {\n        vertical-align: top;\n    }\n\n    .dataframe thead th {\n        text-align: right;\n    }\n</style>\n<table border=\"1\" class=\"dataframe\">\n  <thead>\n    <tr style=\"text-align: right;\">\n      <th></th>\n      <th>order_id</th>\n      <th>order_item_id</th>\n      <th>product_id</th>\n      <th>seller_id</th>\n      <th>shipping_limit_date</th>\n      <th>price</th>\n      <th>freight_value</th>\n    </tr>\n  </thead>\n  <tbody>\n    <tr>\n      <th>0</th>\n      <td>00010242fe8c5a6d1ba2dd792cb16214</td>\n      <td>1</td>\n      <td>4244733e06e7ecb4970a6e2683c13e61</td>\n      <td>48436dade18ac8b2bce089ec2a041202</td>\n      <td>2017-09-19 09:45:35</td>\n      <td>58.9</td>\n      <td>13.29</td>\n    </tr>\n    <tr>\n      <th>1</th>\n      <td>00018f77f2f0320c557190d7a144bdd3</td>\n      <td>1</td>\n      <td>e5f2d52b802189ee658865ca93d83a8f</td>\n      <td>dd7ddc04e1b6c2c614352b383efe2d36</td>\n      <td>2017-05-03 11:05:13</td>\n      <td>239.9</td>\n      <td>19.93</td>\n    </tr>\n  </tbody>\n</table>\n</div>"
     },
     "metadata": {},
     "output_type": "display_data"
    },
    {
     "name": "stdout",
     "output_type": "stream",
     "text": [
      "<class 'pandas.core.frame.DataFrame'>\n",
      "RangeIndex: 112650 entries, 0 to 112649\n",
      "Data columns (total 7 columns):\n",
      " #   Column               Non-Null Count   Dtype  \n",
      "---  ------               --------------   -----  \n",
      " 0   order_id             112650 non-null  object \n",
      " 1   order_item_id        112650 non-null  int64  \n",
      " 2   product_id           112650 non-null  object \n",
      " 3   seller_id            112650 non-null  object \n",
      " 4   shipping_limit_date  112650 non-null  object \n",
      " 5   price                112650 non-null  float64\n",
      " 6   freight_value        112650 non-null  float64\n",
      "dtypes: float64(2), int64(1), object(4)\n",
      "memory usage: 6.0+ MB\n"
     ]
    },
    {
     "data": {
      "text/plain": "None"
     },
     "metadata": {},
     "output_type": "display_data"
    },
    {
     "name": "stdout",
     "output_type": "stream",
     "text": [
      "___Loading raw dataset___\n",
      "Initial shape : (103886, 5)\n",
      "This is the dataset n°5 : order_payments\n"
     ]
    },
    {
     "data": {
      "text/plain": "                           order_id  payment_sequential payment_type  \\\n0  b81ef226f3fe1789b1e8b2acac839d17                   1  credit_card   \n1  a9810da82917af2d9aefd1278f1dcfa0                   1  credit_card   \n\n   payment_installments  payment_value  \n0                     8          99.33  \n1                     1          24.39  ",
      "text/html": "<div>\n<style scoped>\n    .dataframe tbody tr th:only-of-type {\n        vertical-align: middle;\n    }\n\n    .dataframe tbody tr th {\n        vertical-align: top;\n    }\n\n    .dataframe thead th {\n        text-align: right;\n    }\n</style>\n<table border=\"1\" class=\"dataframe\">\n  <thead>\n    <tr style=\"text-align: right;\">\n      <th></th>\n      <th>order_id</th>\n      <th>payment_sequential</th>\n      <th>payment_type</th>\n      <th>payment_installments</th>\n      <th>payment_value</th>\n    </tr>\n  </thead>\n  <tbody>\n    <tr>\n      <th>0</th>\n      <td>b81ef226f3fe1789b1e8b2acac839d17</td>\n      <td>1</td>\n      <td>credit_card</td>\n      <td>8</td>\n      <td>99.33</td>\n    </tr>\n    <tr>\n      <th>1</th>\n      <td>a9810da82917af2d9aefd1278f1dcfa0</td>\n      <td>1</td>\n      <td>credit_card</td>\n      <td>1</td>\n      <td>24.39</td>\n    </tr>\n  </tbody>\n</table>\n</div>"
     },
     "metadata": {},
     "output_type": "display_data"
    },
    {
     "name": "stdout",
     "output_type": "stream",
     "text": [
      "<class 'pandas.core.frame.DataFrame'>\n",
      "RangeIndex: 103886 entries, 0 to 103885\n",
      "Data columns (total 5 columns):\n",
      " #   Column                Non-Null Count   Dtype  \n",
      "---  ------                --------------   -----  \n",
      " 0   order_id              103886 non-null  object \n",
      " 1   payment_sequential    103886 non-null  int64  \n",
      " 2   payment_type          103886 non-null  object \n",
      " 3   payment_installments  103886 non-null  int64  \n",
      " 4   payment_value         103886 non-null  float64\n",
      "dtypes: float64(1), int64(2), object(2)\n",
      "memory usage: 4.0+ MB\n"
     ]
    },
    {
     "data": {
      "text/plain": "None"
     },
     "metadata": {},
     "output_type": "display_data"
    },
    {
     "name": "stdout",
     "output_type": "stream",
     "text": [
      "___Loading raw dataset___\n",
      "Initial shape : (99224, 7)\n",
      "This is the dataset n°6 : order_reviews\n"
     ]
    },
    {
     "data": {
      "text/plain": "                          review_id                          order_id  \\\n0  7bc2406110b926393aa56f80a40eba40  73fc7af87114b39712e6da79b0a377eb   \n1  80e641a11e56f04c1ad469d5645fdfde  a548910a1c6147796b98fdf73dbeba33   \n\n   review_score review_comment_title review_comment_message  \\\n0             4                  NaN                    NaN   \n1             5                  NaN                    NaN   \n\n  review_creation_date review_answer_timestamp  \n0  2018-01-18 00:00:00     2018-01-18 21:46:59  \n1  2018-03-10 00:00:00     2018-03-11 03:05:13  ",
      "text/html": "<div>\n<style scoped>\n    .dataframe tbody tr th:only-of-type {\n        vertical-align: middle;\n    }\n\n    .dataframe tbody tr th {\n        vertical-align: top;\n    }\n\n    .dataframe thead th {\n        text-align: right;\n    }\n</style>\n<table border=\"1\" class=\"dataframe\">\n  <thead>\n    <tr style=\"text-align: right;\">\n      <th></th>\n      <th>review_id</th>\n      <th>order_id</th>\n      <th>review_score</th>\n      <th>review_comment_title</th>\n      <th>review_comment_message</th>\n      <th>review_creation_date</th>\n      <th>review_answer_timestamp</th>\n    </tr>\n  </thead>\n  <tbody>\n    <tr>\n      <th>0</th>\n      <td>7bc2406110b926393aa56f80a40eba40</td>\n      <td>73fc7af87114b39712e6da79b0a377eb</td>\n      <td>4</td>\n      <td>NaN</td>\n      <td>NaN</td>\n      <td>2018-01-18 00:00:00</td>\n      <td>2018-01-18 21:46:59</td>\n    </tr>\n    <tr>\n      <th>1</th>\n      <td>80e641a11e56f04c1ad469d5645fdfde</td>\n      <td>a548910a1c6147796b98fdf73dbeba33</td>\n      <td>5</td>\n      <td>NaN</td>\n      <td>NaN</td>\n      <td>2018-03-10 00:00:00</td>\n      <td>2018-03-11 03:05:13</td>\n    </tr>\n  </tbody>\n</table>\n</div>"
     },
     "metadata": {},
     "output_type": "display_data"
    },
    {
     "name": "stdout",
     "output_type": "stream",
     "text": [
      "<class 'pandas.core.frame.DataFrame'>\n",
      "RangeIndex: 99224 entries, 0 to 99223\n",
      "Data columns (total 7 columns):\n",
      " #   Column                   Non-Null Count  Dtype \n",
      "---  ------                   --------------  ----- \n",
      " 0   review_id                99224 non-null  object\n",
      " 1   order_id                 99224 non-null  object\n",
      " 2   review_score             99224 non-null  int64 \n",
      " 3   review_comment_title     11568 non-null  object\n",
      " 4   review_comment_message   40977 non-null  object\n",
      " 5   review_creation_date     99224 non-null  object\n",
      " 6   review_answer_timestamp  99224 non-null  object\n",
      "dtypes: int64(1), object(6)\n",
      "memory usage: 5.3+ MB\n"
     ]
    },
    {
     "data": {
      "text/plain": "None"
     },
     "metadata": {},
     "output_type": "display_data"
    },
    {
     "name": "stdout",
     "output_type": "stream",
     "text": [
      "___Loading raw dataset___\n",
      "Initial shape : (32951, 9)\n",
      "This is the dataset n°7 : products\n"
     ]
    },
    {
     "data": {
      "text/plain": "                         product_id product_category_name  \\\n0  1e9e8ef04dbcff4541ed26657ea517e5            perfumaria   \n1  3aa071139cb16b67ca9e5dea641aaa2f                 artes   \n\n   product_name_lenght  product_description_lenght  product_photos_qty  \\\n0                 40.0                       287.0                 1.0   \n1                 44.0                       276.0                 1.0   \n\n   product_weight_g  product_length_cm  product_height_cm  product_width_cm  \n0             225.0               16.0               10.0              14.0  \n1            1000.0               30.0               18.0              20.0  ",
      "text/html": "<div>\n<style scoped>\n    .dataframe tbody tr th:only-of-type {\n        vertical-align: middle;\n    }\n\n    .dataframe tbody tr th {\n        vertical-align: top;\n    }\n\n    .dataframe thead th {\n        text-align: right;\n    }\n</style>\n<table border=\"1\" class=\"dataframe\">\n  <thead>\n    <tr style=\"text-align: right;\">\n      <th></th>\n      <th>product_id</th>\n      <th>product_category_name</th>\n      <th>product_name_lenght</th>\n      <th>product_description_lenght</th>\n      <th>product_photos_qty</th>\n      <th>product_weight_g</th>\n      <th>product_length_cm</th>\n      <th>product_height_cm</th>\n      <th>product_width_cm</th>\n    </tr>\n  </thead>\n  <tbody>\n    <tr>\n      <th>0</th>\n      <td>1e9e8ef04dbcff4541ed26657ea517e5</td>\n      <td>perfumaria</td>\n      <td>40.0</td>\n      <td>287.0</td>\n      <td>1.0</td>\n      <td>225.0</td>\n      <td>16.0</td>\n      <td>10.0</td>\n      <td>14.0</td>\n    </tr>\n    <tr>\n      <th>1</th>\n      <td>3aa071139cb16b67ca9e5dea641aaa2f</td>\n      <td>artes</td>\n      <td>44.0</td>\n      <td>276.0</td>\n      <td>1.0</td>\n      <td>1000.0</td>\n      <td>30.0</td>\n      <td>18.0</td>\n      <td>20.0</td>\n    </tr>\n  </tbody>\n</table>\n</div>"
     },
     "metadata": {},
     "output_type": "display_data"
    },
    {
     "name": "stdout",
     "output_type": "stream",
     "text": [
      "<class 'pandas.core.frame.DataFrame'>\n",
      "RangeIndex: 32951 entries, 0 to 32950\n",
      "Data columns (total 9 columns):\n",
      " #   Column                      Non-Null Count  Dtype  \n",
      "---  ------                      --------------  -----  \n",
      " 0   product_id                  32951 non-null  object \n",
      " 1   product_category_name       32341 non-null  object \n",
      " 2   product_name_lenght         32341 non-null  float64\n",
      " 3   product_description_lenght  32341 non-null  float64\n",
      " 4   product_photos_qty          32341 non-null  float64\n",
      " 5   product_weight_g            32949 non-null  float64\n",
      " 6   product_length_cm           32949 non-null  float64\n",
      " 7   product_height_cm           32949 non-null  float64\n",
      " 8   product_width_cm            32949 non-null  float64\n",
      "dtypes: float64(7), object(2)\n",
      "memory usage: 2.3+ MB\n"
     ]
    },
    {
     "data": {
      "text/plain": "None"
     },
     "metadata": {},
     "output_type": "display_data"
    },
    {
     "name": "stdout",
     "output_type": "stream",
     "text": [
      "___Loading raw dataset___\n",
      "Initial shape : (3095, 4)\n",
      "This is the dataset n°8 : sellers\n"
     ]
    },
    {
     "data": {
      "text/plain": "                          seller_id  seller_zip_code_prefix seller_city  \\\n0  3442f8959a84dea7ee197c632cb2df15                   13023    campinas   \n1  d1b65fc7debc3361ea86b5f14c68d2e2                   13844  mogi guacu   \n\n  seller_state  \n0           SP  \n1           SP  ",
      "text/html": "<div>\n<style scoped>\n    .dataframe tbody tr th:only-of-type {\n        vertical-align: middle;\n    }\n\n    .dataframe tbody tr th {\n        vertical-align: top;\n    }\n\n    .dataframe thead th {\n        text-align: right;\n    }\n</style>\n<table border=\"1\" class=\"dataframe\">\n  <thead>\n    <tr style=\"text-align: right;\">\n      <th></th>\n      <th>seller_id</th>\n      <th>seller_zip_code_prefix</th>\n      <th>seller_city</th>\n      <th>seller_state</th>\n    </tr>\n  </thead>\n  <tbody>\n    <tr>\n      <th>0</th>\n      <td>3442f8959a84dea7ee197c632cb2df15</td>\n      <td>13023</td>\n      <td>campinas</td>\n      <td>SP</td>\n    </tr>\n    <tr>\n      <th>1</th>\n      <td>d1b65fc7debc3361ea86b5f14c68d2e2</td>\n      <td>13844</td>\n      <td>mogi guacu</td>\n      <td>SP</td>\n    </tr>\n  </tbody>\n</table>\n</div>"
     },
     "metadata": {},
     "output_type": "display_data"
    },
    {
     "name": "stdout",
     "output_type": "stream",
     "text": [
      "<class 'pandas.core.frame.DataFrame'>\n",
      "RangeIndex: 3095 entries, 0 to 3094\n",
      "Data columns (total 4 columns):\n",
      " #   Column                  Non-Null Count  Dtype \n",
      "---  ------                  --------------  ----- \n",
      " 0   seller_id               3095 non-null   object\n",
      " 1   seller_zip_code_prefix  3095 non-null   int64 \n",
      " 2   seller_city             3095 non-null   object\n",
      " 3   seller_state            3095 non-null   object\n",
      "dtypes: int64(1), object(3)\n",
      "memory usage: 96.8+ KB\n"
     ]
    },
    {
     "data": {
      "text/plain": "None"
     },
     "metadata": {},
     "output_type": "display_data"
    },
    {
     "name": "stdout",
     "output_type": "stream",
     "text": [
      "___Loading raw dataset___\n",
      "Initial shape : (71, 2)\n",
      "This is the dataset n°9 : product_category_name_translation\n"
     ]
    },
    {
     "data": {
      "text/plain": "    product_category_name product_category_name_english\n0            beleza_saude                 health_beauty\n1  informatica_acessorios         computers_accessories",
      "text/html": "<div>\n<style scoped>\n    .dataframe tbody tr th:only-of-type {\n        vertical-align: middle;\n    }\n\n    .dataframe tbody tr th {\n        vertical-align: top;\n    }\n\n    .dataframe thead th {\n        text-align: right;\n    }\n</style>\n<table border=\"1\" class=\"dataframe\">\n  <thead>\n    <tr style=\"text-align: right;\">\n      <th></th>\n      <th>product_category_name</th>\n      <th>product_category_name_english</th>\n    </tr>\n  </thead>\n  <tbody>\n    <tr>\n      <th>0</th>\n      <td>beleza_saude</td>\n      <td>health_beauty</td>\n    </tr>\n    <tr>\n      <th>1</th>\n      <td>informatica_acessorios</td>\n      <td>computers_accessories</td>\n    </tr>\n  </tbody>\n</table>\n</div>"
     },
     "metadata": {},
     "output_type": "display_data"
    },
    {
     "name": "stdout",
     "output_type": "stream",
     "text": [
      "<class 'pandas.core.frame.DataFrame'>\n",
      "RangeIndex: 71 entries, 0 to 70\n",
      "Data columns (total 2 columns):\n",
      " #   Column                         Non-Null Count  Dtype \n",
      "---  ------                         --------------  ----- \n",
      " 0   product_category_name          71 non-null     object\n",
      " 1   product_category_name_english  71 non-null     object\n",
      "dtypes: object(2)\n",
      "memory usage: 1.2+ KB\n"
     ]
    },
    {
     "data": {
      "text/plain": "None"
     },
     "metadata": {},
     "output_type": "display_data"
    }
   ],
   "source": [
    "all_datasets = []\n",
    "\n",
    "for index, dataset_csv in enumerate(all_csv_files):\n",
    "    name = dataset_csv.split(\".\")[0]\n",
    "    if name.startswith(\"olist\"):\n",
    "        list_name = name.split(\"_\")[1:-1]\n",
    "        name = \"_\".join(list_name)\n",
    "    # we make the dataset as a global variable so we can use it later in the notebook\n",
    "    globals()[\"dataset_\" + name] = load_data(input_path, dataset_csv)\n",
    "\n",
    "    # we add the dataset to the list of all datasets.\n",
    "    #all_datasets.append(globals()[\"dataset_\" + name])\n",
    "\n",
    "    print(\"This is the dataset n°{} : {}\".format(index + 1, name))\n",
    "    df = globals()[\"dataset_\" + name]\n",
    "    all_datasets.append((\"dataset_\" + name, df))\n",
    "    display(df.head(2))\n",
    "    display(df.info())"
   ],
   "metadata": {
    "collapsed": false,
    "pycharm": {
     "name": "#%%\n"
    }
   }
  },
  {
   "cell_type": "markdown",
   "source": [],
   "metadata": {
    "collapsed": false,
    "pycharm": {
     "name": "#%% md\n"
    }
   }
  },
  {
   "cell_type": "markdown",
   "source": [
    "For each dataset, we display its dimension and if it has missing values (NaN)"
   ],
   "metadata": {
    "collapsed": false,
    "pycharm": {
     "name": "#%% md\n"
    }
   }
  },
  {
   "cell_type": "code",
   "execution_count": 5,
   "outputs": [
    {
     "name": "stdout",
     "output_type": "stream",
     "text": [
      "Shape dataset\n",
      "The dataset called : dataset_customers has a shape : (99441, 5)\n",
      "The dataset called : dataset_geolocation has a shape : (1000163, 5)\n",
      "The dataset called : dataset_orders has a shape : (99441, 8)\n",
      "The dataset called : dataset_order_items has a shape : (112650, 7)\n",
      "The dataset called : dataset_order_payments has a shape : (103886, 5)\n",
      "The dataset called : dataset_order_reviews has a shape : (99224, 7)\n",
      "The dataset called : dataset_products has a shape : (32951, 9)\n",
      "The dataset called : dataset_sellers has a shape : (3095, 4)\n",
      "The dataset called : dataset_product_category_name_translation has a shape : (71, 2)\n"
     ]
    }
   ],
   "source": [
    "print(\"Shape dataset\")\n",
    "for tuple_df in all_datasets :\n",
    "    print(\"The dataset called :\", tuple_df[0], \"has a shape :\", tuple_df[1].shape)"
   ],
   "metadata": {
    "collapsed": false,
    "pycharm": {
     "name": "#%%\n"
    }
   }
  },
  {
   "cell_type": "code",
   "execution_count": 6,
   "outputs": [
    {
     "name": "stdout",
     "output_type": "stream",
     "text": [
      "Missing values\n",
      "The dataset called : dataset_customers has : 0.0 % of missing values.\n",
      "The dataset called : dataset_geolocation has : 0.0 % of missing values.\n",
      "The dataset called : dataset_orders has : 0.616948743476031 % of missing values.\n",
      "The dataset called : dataset_order_items has : 0.0 % of missing values.\n",
      "The dataset called : dataset_order_payments has : 0.0 % of missing values.\n",
      "The dataset called : dataset_order_reviews has : 21.006294560071872 % of missing values.\n",
      "The dataset called : dataset_products has : 0.8254681193287002 % of missing values.\n",
      "The dataset called : dataset_sellers has : 0.0 % of missing values.\n",
      "The dataset called : dataset_product_category_name_translation has : 0.0 % of missing values.\n"
     ]
    }
   ],
   "source": [
    "print(\"Missing values\")\n",
    "for tuple_df in all_datasets :\n",
    "    df = tuple_df[1]\n",
    "    print(\"The dataset called :\", tuple_df[0], \"has :\", df.isna().sum().sum() / (df.shape[0] * df.shape[1]) * 100, \"% of missing values.\")"
   ],
   "metadata": {
    "collapsed": false,
    "pycharm": {
     "name": "#%%\n"
    }
   }
  },
  {
   "cell_type": "code",
   "execution_count": 7,
   "outputs": [
    {
     "data": {
      "text/plain": "order_id                            0\ncustomer_id                         0\norder_status                        0\norder_purchase_timestamp            0\norder_approved_at                 160\norder_delivered_carrier_date     1783\norder_delivered_customer_date    2965\norder_estimated_delivery_date       0\ndtype: int64"
     },
     "execution_count": 7,
     "metadata": {},
     "output_type": "execute_result"
    }
   ],
   "source": [
    "dataset_orders.isna().sum(axis=0)"
   ],
   "metadata": {
    "collapsed": false,
    "pycharm": {
     "name": "#%%\n"
    }
   }
  },
  {
   "cell_type": "code",
   "execution_count": 8,
   "outputs": [],
   "source": [
    "#dataset_orders[dataset_orders['order_delivered_customer_date'].isna()]"
   ],
   "metadata": {
    "collapsed": false,
    "pycharm": {
     "name": "#%%\n"
    }
   }
  },
  {
   "cell_type": "code",
   "execution_count": 9,
   "outputs": [],
   "source": [
    "#dataset_orders_clean = dataset_orders.dropna().copy()"
   ],
   "metadata": {
    "collapsed": false,
    "pycharm": {
     "name": "#%%\n"
    }
   }
  },
  {
   "cell_type": "code",
   "execution_count": 10,
   "outputs": [],
   "source": [
    "#dataset_orders_clean.info()\n",
    "# if we drop the rows that have NaN, we lose 3000 orders when the needed information (order_id, etc) is not missing."
   ],
   "metadata": {
    "collapsed": false,
    "pycharm": {
     "name": "#%%\n"
    }
   }
  },
  {
   "cell_type": "code",
   "execution_count": 11,
   "outputs": [],
   "source": [
    "#dataset_order_reviews.isna().sum(axis=0)\n",
    "\n",
    "#dataset_products.isna().sum(axis=0)"
   ],
   "metadata": {
    "collapsed": false,
    "pycharm": {
     "name": "#%%\n"
    }
   }
  },
  {
   "cell_type": "code",
   "execution_count": 12,
   "outputs": [
    {
     "name": "stdout",
     "output_type": "stream",
     "text": [
      "Duplicated rows ?\n",
      "The dataset called : dataset_customers has : 0 duplicated rows.\n",
      "The dataset called : dataset_geolocation has : 261831 duplicated rows.\n",
      "The dataset called : dataset_orders has : 0 duplicated rows.\n",
      "The dataset called : dataset_order_items has : 0 duplicated rows.\n",
      "The dataset called : dataset_order_payments has : 0 duplicated rows.\n",
      "The dataset called : dataset_order_reviews has : 0 duplicated rows.\n",
      "The dataset called : dataset_products has : 0 duplicated rows.\n",
      "The dataset called : dataset_sellers has : 0 duplicated rows.\n",
      "The dataset called : dataset_product_category_name_translation has : 0 duplicated rows.\n"
     ]
    }
   ],
   "source": [
    "print(\"Duplicated rows ?\")\n",
    "for tuple_df in all_datasets:\n",
    "    print(\"The dataset called :\", tuple_df[0], \"has :\",tuple_df[1].duplicated().sum(), \"duplicated rows.\")"
   ],
   "metadata": {
    "collapsed": false,
    "pycharm": {
     "name": "#%%\n"
    }
   }
  },
  {
   "cell_type": "markdown",
   "source": [
    "For now, we will use the datasets customers, orders and order_items so that we can do a RFM Segmentation."
   ],
   "metadata": {
    "collapsed": false,
    "pycharm": {
     "name": "#%% md\n"
    }
   }
  },
  {
   "cell_type": "markdown",
   "source": [
    "### I) RFM dataset"
   ],
   "metadata": {
    "collapsed": false,
    "pycharm": {
     "name": "#%% md\n"
    }
   }
  },
  {
   "cell_type": "markdown",
   "source": [
    "#### 1) Merging customers / orders / order_items"
   ],
   "metadata": {
    "collapsed": false,
    "pycharm": {
     "name": "#%% md\n"
    }
   }
  },
  {
   "cell_type": "markdown",
   "source": [
    "##### customers / orders\n",
    "We merge based on an inner join the datasets customers and orders based on customer_id."
   ],
   "metadata": {
    "collapsed": false,
    "pycharm": {
     "name": "#%% md\n"
    }
   }
  },
  {
   "cell_type": "code",
   "execution_count": 13,
   "outputs": [
    {
     "name": "stdout",
     "output_type": "stream",
     "text": [
      "(99441, 8)\n",
      "(99441, 5)\n"
     ]
    },
    {
     "data": {
      "text/plain": "                               order_id                       customer_id  \\\n0      e481f51cbdc54678b7cc49136f2d6af7  9ef432eb6251297304e76186b10a928d   \n1      53cdb2fc8bc7dce0b6741e2150273451  b0830fb4747a6c6d20dea0b8c802d7ef   \n2      47770eb9100c2d0c44946d9cf07ec65d  41ce2a54c0b03bf3443c3d931a367089   \n3      949d5b44dbf5de918fe9c16f97b45f8a  f88197465ea7920adcdbec7375364d82   \n4      ad21c59c0840e6cb83a9ceb5573f8159  8ab97904e6daea8866dbdbc4fb7aad2c   \n...                                 ...                               ...   \n99436  9c5dedf39a927c1b2549525ed64a053c  39bd1228ee8140590ac3aca26f2dfe00   \n99437  63943bddc261676b46f01ca7ac2f7bd8  1fca14ff2861355f6e5f14306ff977a7   \n99438  83c1379a015df1e13d02aae0204711ab  1aa71eb042121263aafbe80c1b562c9c   \n99439  11c177c8e97725db2631073c19f07b62  b331b74b18dc79bcdf6532d51e1637c1   \n99440  66dea50a8b16d9b4dee7af250b4be1a5  edb027a75a1449115f6b43211ae02a24   \n\n      order_status order_purchase_timestamp    order_approved_at  \\\n0        delivered      2017-10-02 10:56:33  2017-10-02 11:07:15   \n1        delivered      2018-07-24 20:41:37  2018-07-26 03:24:27   \n2        delivered      2018-08-08 08:38:49  2018-08-08 08:55:23   \n3        delivered      2017-11-18 19:28:06  2017-11-18 19:45:59   \n4        delivered      2018-02-13 21:18:39  2018-02-13 22:20:29   \n...            ...                      ...                  ...   \n99436    delivered      2017-03-09 09:54:05  2017-03-09 09:54:05   \n99437    delivered      2018-02-06 12:58:58  2018-02-06 13:10:37   \n99438    delivered      2017-08-27 14:46:43  2017-08-27 15:04:16   \n99439    delivered      2018-01-08 21:28:27  2018-01-08 21:36:21   \n99440    delivered      2018-03-08 20:57:30  2018-03-09 11:20:28   \n\n      order_delivered_carrier_date order_delivered_customer_date  \\\n0              2017-10-04 19:55:00           2017-10-10 21:25:13   \n1              2018-07-26 14:31:00           2018-08-07 15:27:45   \n2              2018-08-08 13:50:00           2018-08-17 18:06:29   \n3              2017-11-22 13:39:59           2017-12-02 00:28:42   \n4              2018-02-14 19:46:34           2018-02-16 18:17:02   \n...                            ...                           ...   \n99436          2017-03-10 11:18:03           2017-03-17 15:08:01   \n99437          2018-02-07 23:22:42           2018-02-28 17:37:56   \n99438          2017-08-28 20:52:26           2017-09-21 11:24:17   \n99439          2018-01-12 15:35:03           2018-01-25 23:32:54   \n99440          2018-03-09 22:11:59           2018-03-16 13:08:30   \n\n      order_estimated_delivery_date                customer_unique_id  \\\n0               2017-10-18 00:00:00  7c396fd4830fd04220f754e42b4e5bff   \n1               2018-08-13 00:00:00  af07308b275d755c9edb36a90c618231   \n2               2018-09-04 00:00:00  3a653a41f6f9fc3d2a113cf8398680e8   \n3               2017-12-15 00:00:00  7c142cf63193a1473d2e66489a9ae977   \n4               2018-02-26 00:00:00  72632f0f9dd73dfee390c9b22eb56dd6   \n...                             ...                               ...   \n99436           2017-03-28 00:00:00  6359f309b166b0196dbf7ad2ac62bb5a   \n99437           2018-03-02 00:00:00  da62f9e57a76d978d02ab5362c509660   \n99438           2017-09-27 00:00:00  737520a9aad80b3fbbdad19b66b37b30   \n99439           2018-02-15 00:00:00  5097a5312c8b157bb7be58ae360ef43c   \n99440           2018-04-03 00:00:00  60350aa974b26ff12caad89e55993bd6   \n\n       customer_zip_code_prefix            customer_city customer_state  \n0                          3149                sao paulo             SP  \n1                         47813                barreiras             BA  \n2                         75265               vianopolis             GO  \n3                         59296  sao goncalo do amarante             RN  \n4                          9195              santo andre             SP  \n...                         ...                      ...            ...  \n99436                     12209      sao jose dos campos             SP  \n99437                     11722             praia grande             SP  \n99438                     45920              nova vicosa             BA  \n99439                     28685                  japuiba             RJ  \n99440                     83750                     lapa             PR  \n\n[99441 rows x 12 columns]",
      "text/html": "<div>\n<style scoped>\n    .dataframe tbody tr th:only-of-type {\n        vertical-align: middle;\n    }\n\n    .dataframe tbody tr th {\n        vertical-align: top;\n    }\n\n    .dataframe thead th {\n        text-align: right;\n    }\n</style>\n<table border=\"1\" class=\"dataframe\">\n  <thead>\n    <tr style=\"text-align: right;\">\n      <th></th>\n      <th>order_id</th>\n      <th>customer_id</th>\n      <th>order_status</th>\n      <th>order_purchase_timestamp</th>\n      <th>order_approved_at</th>\n      <th>order_delivered_carrier_date</th>\n      <th>order_delivered_customer_date</th>\n      <th>order_estimated_delivery_date</th>\n      <th>customer_unique_id</th>\n      <th>customer_zip_code_prefix</th>\n      <th>customer_city</th>\n      <th>customer_state</th>\n    </tr>\n  </thead>\n  <tbody>\n    <tr>\n      <th>0</th>\n      <td>e481f51cbdc54678b7cc49136f2d6af7</td>\n      <td>9ef432eb6251297304e76186b10a928d</td>\n      <td>delivered</td>\n      <td>2017-10-02 10:56:33</td>\n      <td>2017-10-02 11:07:15</td>\n      <td>2017-10-04 19:55:00</td>\n      <td>2017-10-10 21:25:13</td>\n      <td>2017-10-18 00:00:00</td>\n      <td>7c396fd4830fd04220f754e42b4e5bff</td>\n      <td>3149</td>\n      <td>sao paulo</td>\n      <td>SP</td>\n    </tr>\n    <tr>\n      <th>1</th>\n      <td>53cdb2fc8bc7dce0b6741e2150273451</td>\n      <td>b0830fb4747a6c6d20dea0b8c802d7ef</td>\n      <td>delivered</td>\n      <td>2018-07-24 20:41:37</td>\n      <td>2018-07-26 03:24:27</td>\n      <td>2018-07-26 14:31:00</td>\n      <td>2018-08-07 15:27:45</td>\n      <td>2018-08-13 00:00:00</td>\n      <td>af07308b275d755c9edb36a90c618231</td>\n      <td>47813</td>\n      <td>barreiras</td>\n      <td>BA</td>\n    </tr>\n    <tr>\n      <th>2</th>\n      <td>47770eb9100c2d0c44946d9cf07ec65d</td>\n      <td>41ce2a54c0b03bf3443c3d931a367089</td>\n      <td>delivered</td>\n      <td>2018-08-08 08:38:49</td>\n      <td>2018-08-08 08:55:23</td>\n      <td>2018-08-08 13:50:00</td>\n      <td>2018-08-17 18:06:29</td>\n      <td>2018-09-04 00:00:00</td>\n      <td>3a653a41f6f9fc3d2a113cf8398680e8</td>\n      <td>75265</td>\n      <td>vianopolis</td>\n      <td>GO</td>\n    </tr>\n    <tr>\n      <th>3</th>\n      <td>949d5b44dbf5de918fe9c16f97b45f8a</td>\n      <td>f88197465ea7920adcdbec7375364d82</td>\n      <td>delivered</td>\n      <td>2017-11-18 19:28:06</td>\n      <td>2017-11-18 19:45:59</td>\n      <td>2017-11-22 13:39:59</td>\n      <td>2017-12-02 00:28:42</td>\n      <td>2017-12-15 00:00:00</td>\n      <td>7c142cf63193a1473d2e66489a9ae977</td>\n      <td>59296</td>\n      <td>sao goncalo do amarante</td>\n      <td>RN</td>\n    </tr>\n    <tr>\n      <th>4</th>\n      <td>ad21c59c0840e6cb83a9ceb5573f8159</td>\n      <td>8ab97904e6daea8866dbdbc4fb7aad2c</td>\n      <td>delivered</td>\n      <td>2018-02-13 21:18:39</td>\n      <td>2018-02-13 22:20:29</td>\n      <td>2018-02-14 19:46:34</td>\n      <td>2018-02-16 18:17:02</td>\n      <td>2018-02-26 00:00:00</td>\n      <td>72632f0f9dd73dfee390c9b22eb56dd6</td>\n      <td>9195</td>\n      <td>santo andre</td>\n      <td>SP</td>\n    </tr>\n    <tr>\n      <th>...</th>\n      <td>...</td>\n      <td>...</td>\n      <td>...</td>\n      <td>...</td>\n      <td>...</td>\n      <td>...</td>\n      <td>...</td>\n      <td>...</td>\n      <td>...</td>\n      <td>...</td>\n      <td>...</td>\n      <td>...</td>\n    </tr>\n    <tr>\n      <th>99436</th>\n      <td>9c5dedf39a927c1b2549525ed64a053c</td>\n      <td>39bd1228ee8140590ac3aca26f2dfe00</td>\n      <td>delivered</td>\n      <td>2017-03-09 09:54:05</td>\n      <td>2017-03-09 09:54:05</td>\n      <td>2017-03-10 11:18:03</td>\n      <td>2017-03-17 15:08:01</td>\n      <td>2017-03-28 00:00:00</td>\n      <td>6359f309b166b0196dbf7ad2ac62bb5a</td>\n      <td>12209</td>\n      <td>sao jose dos campos</td>\n      <td>SP</td>\n    </tr>\n    <tr>\n      <th>99437</th>\n      <td>63943bddc261676b46f01ca7ac2f7bd8</td>\n      <td>1fca14ff2861355f6e5f14306ff977a7</td>\n      <td>delivered</td>\n      <td>2018-02-06 12:58:58</td>\n      <td>2018-02-06 13:10:37</td>\n      <td>2018-02-07 23:22:42</td>\n      <td>2018-02-28 17:37:56</td>\n      <td>2018-03-02 00:00:00</td>\n      <td>da62f9e57a76d978d02ab5362c509660</td>\n      <td>11722</td>\n      <td>praia grande</td>\n      <td>SP</td>\n    </tr>\n    <tr>\n      <th>99438</th>\n      <td>83c1379a015df1e13d02aae0204711ab</td>\n      <td>1aa71eb042121263aafbe80c1b562c9c</td>\n      <td>delivered</td>\n      <td>2017-08-27 14:46:43</td>\n      <td>2017-08-27 15:04:16</td>\n      <td>2017-08-28 20:52:26</td>\n      <td>2017-09-21 11:24:17</td>\n      <td>2017-09-27 00:00:00</td>\n      <td>737520a9aad80b3fbbdad19b66b37b30</td>\n      <td>45920</td>\n      <td>nova vicosa</td>\n      <td>BA</td>\n    </tr>\n    <tr>\n      <th>99439</th>\n      <td>11c177c8e97725db2631073c19f07b62</td>\n      <td>b331b74b18dc79bcdf6532d51e1637c1</td>\n      <td>delivered</td>\n      <td>2018-01-08 21:28:27</td>\n      <td>2018-01-08 21:36:21</td>\n      <td>2018-01-12 15:35:03</td>\n      <td>2018-01-25 23:32:54</td>\n      <td>2018-02-15 00:00:00</td>\n      <td>5097a5312c8b157bb7be58ae360ef43c</td>\n      <td>28685</td>\n      <td>japuiba</td>\n      <td>RJ</td>\n    </tr>\n    <tr>\n      <th>99440</th>\n      <td>66dea50a8b16d9b4dee7af250b4be1a5</td>\n      <td>edb027a75a1449115f6b43211ae02a24</td>\n      <td>delivered</td>\n      <td>2018-03-08 20:57:30</td>\n      <td>2018-03-09 11:20:28</td>\n      <td>2018-03-09 22:11:59</td>\n      <td>2018-03-16 13:08:30</td>\n      <td>2018-04-03 00:00:00</td>\n      <td>60350aa974b26ff12caad89e55993bd6</td>\n      <td>83750</td>\n      <td>lapa</td>\n      <td>PR</td>\n    </tr>\n  </tbody>\n</table>\n<p>99441 rows × 12 columns</p>\n</div>"
     },
     "metadata": {},
     "output_type": "display_data"
    },
    {
     "name": "stdout",
     "output_type": "stream",
     "text": [
      "<class 'pandas.core.frame.DataFrame'>\n",
      "Int64Index: 99441 entries, 0 to 99440\n",
      "Data columns (total 12 columns):\n",
      " #   Column                         Non-Null Count  Dtype \n",
      "---  ------                         --------------  ----- \n",
      " 0   order_id                       99441 non-null  object\n",
      " 1   customer_id                    99441 non-null  object\n",
      " 2   order_status                   99441 non-null  object\n",
      " 3   order_purchase_timestamp       99441 non-null  object\n",
      " 4   order_approved_at              99281 non-null  object\n",
      " 5   order_delivered_carrier_date   97658 non-null  object\n",
      " 6   order_delivered_customer_date  96476 non-null  object\n",
      " 7   order_estimated_delivery_date  99441 non-null  object\n",
      " 8   customer_unique_id             99441 non-null  object\n",
      " 9   customer_zip_code_prefix       99441 non-null  int64 \n",
      " 10  customer_city                  99441 non-null  object\n",
      " 11  customer_state                 99441 non-null  object\n",
      "dtypes: int64(1), object(11)\n",
      "memory usage: 9.9+ MB\n"
     ]
    },
    {
     "data": {
      "text/plain": "None"
     },
     "metadata": {},
     "output_type": "display_data"
    }
   ],
   "source": [
    "dataset_merged_customers = dataset_orders.merge(dataset_customers, on='customer_id', how='inner')\n",
    "\n",
    "print(dataset_orders.shape)\n",
    "print(dataset_customers.shape)\n",
    "display(dataset_merged_customers)\n",
    "\n",
    "display(dataset_merged_customers.info())"
   ],
   "metadata": {
    "collapsed": false,
    "pycharm": {
     "name": "#%%\n"
    }
   }
  },
  {
   "cell_type": "markdown",
   "source": [
    "##### customers - orders / order_items\n",
    "We merge based on an inner join the datasets customers + orders and order_items based on order_id."
   ],
   "metadata": {
    "collapsed": false,
    "pycharm": {
     "name": "#%% md\n"
    }
   }
  },
  {
   "cell_type": "code",
   "execution_count": 14,
   "outputs": [
    {
     "name": "stdout",
     "output_type": "stream",
     "text": [
      "(99441, 12)\n",
      "(112650, 7)\n"
     ]
    },
    {
     "data": {
      "text/plain": "                                order_id                       customer_id  \\\n0       e481f51cbdc54678b7cc49136f2d6af7  9ef432eb6251297304e76186b10a928d   \n1       53cdb2fc8bc7dce0b6741e2150273451  b0830fb4747a6c6d20dea0b8c802d7ef   \n2       47770eb9100c2d0c44946d9cf07ec65d  41ce2a54c0b03bf3443c3d931a367089   \n3       949d5b44dbf5de918fe9c16f97b45f8a  f88197465ea7920adcdbec7375364d82   \n4       ad21c59c0840e6cb83a9ceb5573f8159  8ab97904e6daea8866dbdbc4fb7aad2c   \n...                                  ...                               ...   \n112645  63943bddc261676b46f01ca7ac2f7bd8  1fca14ff2861355f6e5f14306ff977a7   \n112646  83c1379a015df1e13d02aae0204711ab  1aa71eb042121263aafbe80c1b562c9c   \n112647  11c177c8e97725db2631073c19f07b62  b331b74b18dc79bcdf6532d51e1637c1   \n112648  11c177c8e97725db2631073c19f07b62  b331b74b18dc79bcdf6532d51e1637c1   \n112649  66dea50a8b16d9b4dee7af250b4be1a5  edb027a75a1449115f6b43211ae02a24   \n\n       order_status order_purchase_timestamp    order_approved_at  \\\n0         delivered      2017-10-02 10:56:33  2017-10-02 11:07:15   \n1         delivered      2018-07-24 20:41:37  2018-07-26 03:24:27   \n2         delivered      2018-08-08 08:38:49  2018-08-08 08:55:23   \n3         delivered      2017-11-18 19:28:06  2017-11-18 19:45:59   \n4         delivered      2018-02-13 21:18:39  2018-02-13 22:20:29   \n...             ...                      ...                  ...   \n112645    delivered      2018-02-06 12:58:58  2018-02-06 13:10:37   \n112646    delivered      2017-08-27 14:46:43  2017-08-27 15:04:16   \n112647    delivered      2018-01-08 21:28:27  2018-01-08 21:36:21   \n112648    delivered      2018-01-08 21:28:27  2018-01-08 21:36:21   \n112649    delivered      2018-03-08 20:57:30  2018-03-09 11:20:28   \n\n       order_delivered_carrier_date order_delivered_customer_date  \\\n0               2017-10-04 19:55:00           2017-10-10 21:25:13   \n1               2018-07-26 14:31:00           2018-08-07 15:27:45   \n2               2018-08-08 13:50:00           2018-08-17 18:06:29   \n3               2017-11-22 13:39:59           2017-12-02 00:28:42   \n4               2018-02-14 19:46:34           2018-02-16 18:17:02   \n...                             ...                           ...   \n112645          2018-02-07 23:22:42           2018-02-28 17:37:56   \n112646          2017-08-28 20:52:26           2017-09-21 11:24:17   \n112647          2018-01-12 15:35:03           2018-01-25 23:32:54   \n112648          2018-01-12 15:35:03           2018-01-25 23:32:54   \n112649          2018-03-09 22:11:59           2018-03-16 13:08:30   \n\n       order_estimated_delivery_date                customer_unique_id  \\\n0                2017-10-18 00:00:00  7c396fd4830fd04220f754e42b4e5bff   \n1                2018-08-13 00:00:00  af07308b275d755c9edb36a90c618231   \n2                2018-09-04 00:00:00  3a653a41f6f9fc3d2a113cf8398680e8   \n3                2017-12-15 00:00:00  7c142cf63193a1473d2e66489a9ae977   \n4                2018-02-26 00:00:00  72632f0f9dd73dfee390c9b22eb56dd6   \n...                              ...                               ...   \n112645           2018-03-02 00:00:00  da62f9e57a76d978d02ab5362c509660   \n112646           2017-09-27 00:00:00  737520a9aad80b3fbbdad19b66b37b30   \n112647           2018-02-15 00:00:00  5097a5312c8b157bb7be58ae360ef43c   \n112648           2018-02-15 00:00:00  5097a5312c8b157bb7be58ae360ef43c   \n112649           2018-04-03 00:00:00  60350aa974b26ff12caad89e55993bd6   \n\n        customer_zip_code_prefix            customer_city customer_state  \\\n0                           3149                sao paulo             SP   \n1                          47813                barreiras             BA   \n2                          75265               vianopolis             GO   \n3                          59296  sao goncalo do amarante             RN   \n4                           9195              santo andre             SP   \n...                          ...                      ...            ...   \n112645                     11722             praia grande             SP   \n112646                     45920              nova vicosa             BA   \n112647                     28685                  japuiba             RJ   \n112648                     28685                  japuiba             RJ   \n112649                     83750                     lapa             PR   \n\n        order_item_id                        product_id  \\\n0                   1  87285b34884572647811a353c7ac498a   \n1                   1  595fac2a385ac33a80bd5114aec74eb8   \n2                   1  aa4383b373c6aca5d8797843e5594415   \n3                   1  d0b61bfb1de832b15ba9d266ca96e5b0   \n4                   1  65266b2da20d04dbe00c5c2d3bb7859e   \n...               ...                               ...   \n112645              1  f1d4ce8c6dd66c47bbaa8c6781c2a923   \n112646              1  b80910977a37536adeddd63663f916ad   \n112647              1  d1c427060a0f73f6b889a5c7c61f2ac4   \n112648              2  d1c427060a0f73f6b889a5c7c61f2ac4   \n112649              1  006619bbed68b000c8ba3f8725d5409e   \n\n                               seller_id  shipping_limit_date   price  \\\n0       3504c0cb71d7fa48d967e0e4c94d59d9  2017-10-06 11:07:15   29.99   \n1       289cdb325fb7e7f891c38608bf9e0962  2018-07-30 03:24:27  118.70   \n2       4869f7a5dfa277a7dca6462dcf3b52b2  2018-08-13 08:55:23  159.90   \n3       66922902710d126a0e7d26b0e3805106  2017-11-23 19:45:59   45.00   \n4       2c9e548be18521d1c43cde1c582c6de8  2018-02-19 20:31:37   19.90   \n...                                  ...                  ...     ...   \n112645  1f9ab4708f3056ede07124aad39a2554  2018-02-12 13:10:37  174.90   \n112646  d50d79cb34e38265a8649c383dcffd48  2017-09-05 15:04:16  205.99   \n112647  a1043bafd471dff536d0c462352beb48  2018-01-12 21:36:21  179.99   \n112648  a1043bafd471dff536d0c462352beb48  2018-01-12 21:36:21  179.99   \n112649  ececbfcff9804a2d6b40f589df8eef2b  2018-03-15 10:55:42   68.50   \n\n        freight_value  \n0                8.72  \n1               22.76  \n2               19.22  \n3               27.20  \n4                8.72  \n...               ...  \n112645          20.10  \n112646          65.02  \n112647          40.59  \n112648          40.59  \n112649          18.36  \n\n[112650 rows x 18 columns]",
      "text/html": "<div>\n<style scoped>\n    .dataframe tbody tr th:only-of-type {\n        vertical-align: middle;\n    }\n\n    .dataframe tbody tr th {\n        vertical-align: top;\n    }\n\n    .dataframe thead th {\n        text-align: right;\n    }\n</style>\n<table border=\"1\" class=\"dataframe\">\n  <thead>\n    <tr style=\"text-align: right;\">\n      <th></th>\n      <th>order_id</th>\n      <th>customer_id</th>\n      <th>order_status</th>\n      <th>order_purchase_timestamp</th>\n      <th>order_approved_at</th>\n      <th>order_delivered_carrier_date</th>\n      <th>order_delivered_customer_date</th>\n      <th>order_estimated_delivery_date</th>\n      <th>customer_unique_id</th>\n      <th>customer_zip_code_prefix</th>\n      <th>customer_city</th>\n      <th>customer_state</th>\n      <th>order_item_id</th>\n      <th>product_id</th>\n      <th>seller_id</th>\n      <th>shipping_limit_date</th>\n      <th>price</th>\n      <th>freight_value</th>\n    </tr>\n  </thead>\n  <tbody>\n    <tr>\n      <th>0</th>\n      <td>e481f51cbdc54678b7cc49136f2d6af7</td>\n      <td>9ef432eb6251297304e76186b10a928d</td>\n      <td>delivered</td>\n      <td>2017-10-02 10:56:33</td>\n      <td>2017-10-02 11:07:15</td>\n      <td>2017-10-04 19:55:00</td>\n      <td>2017-10-10 21:25:13</td>\n      <td>2017-10-18 00:00:00</td>\n      <td>7c396fd4830fd04220f754e42b4e5bff</td>\n      <td>3149</td>\n      <td>sao paulo</td>\n      <td>SP</td>\n      <td>1</td>\n      <td>87285b34884572647811a353c7ac498a</td>\n      <td>3504c0cb71d7fa48d967e0e4c94d59d9</td>\n      <td>2017-10-06 11:07:15</td>\n      <td>29.99</td>\n      <td>8.72</td>\n    </tr>\n    <tr>\n      <th>1</th>\n      <td>53cdb2fc8bc7dce0b6741e2150273451</td>\n      <td>b0830fb4747a6c6d20dea0b8c802d7ef</td>\n      <td>delivered</td>\n      <td>2018-07-24 20:41:37</td>\n      <td>2018-07-26 03:24:27</td>\n      <td>2018-07-26 14:31:00</td>\n      <td>2018-08-07 15:27:45</td>\n      <td>2018-08-13 00:00:00</td>\n      <td>af07308b275d755c9edb36a90c618231</td>\n      <td>47813</td>\n      <td>barreiras</td>\n      <td>BA</td>\n      <td>1</td>\n      <td>595fac2a385ac33a80bd5114aec74eb8</td>\n      <td>289cdb325fb7e7f891c38608bf9e0962</td>\n      <td>2018-07-30 03:24:27</td>\n      <td>118.70</td>\n      <td>22.76</td>\n    </tr>\n    <tr>\n      <th>2</th>\n      <td>47770eb9100c2d0c44946d9cf07ec65d</td>\n      <td>41ce2a54c0b03bf3443c3d931a367089</td>\n      <td>delivered</td>\n      <td>2018-08-08 08:38:49</td>\n      <td>2018-08-08 08:55:23</td>\n      <td>2018-08-08 13:50:00</td>\n      <td>2018-08-17 18:06:29</td>\n      <td>2018-09-04 00:00:00</td>\n      <td>3a653a41f6f9fc3d2a113cf8398680e8</td>\n      <td>75265</td>\n      <td>vianopolis</td>\n      <td>GO</td>\n      <td>1</td>\n      <td>aa4383b373c6aca5d8797843e5594415</td>\n      <td>4869f7a5dfa277a7dca6462dcf3b52b2</td>\n      <td>2018-08-13 08:55:23</td>\n      <td>159.90</td>\n      <td>19.22</td>\n    </tr>\n    <tr>\n      <th>3</th>\n      <td>949d5b44dbf5de918fe9c16f97b45f8a</td>\n      <td>f88197465ea7920adcdbec7375364d82</td>\n      <td>delivered</td>\n      <td>2017-11-18 19:28:06</td>\n      <td>2017-11-18 19:45:59</td>\n      <td>2017-11-22 13:39:59</td>\n      <td>2017-12-02 00:28:42</td>\n      <td>2017-12-15 00:00:00</td>\n      <td>7c142cf63193a1473d2e66489a9ae977</td>\n      <td>59296</td>\n      <td>sao goncalo do amarante</td>\n      <td>RN</td>\n      <td>1</td>\n      <td>d0b61bfb1de832b15ba9d266ca96e5b0</td>\n      <td>66922902710d126a0e7d26b0e3805106</td>\n      <td>2017-11-23 19:45:59</td>\n      <td>45.00</td>\n      <td>27.20</td>\n    </tr>\n    <tr>\n      <th>4</th>\n      <td>ad21c59c0840e6cb83a9ceb5573f8159</td>\n      <td>8ab97904e6daea8866dbdbc4fb7aad2c</td>\n      <td>delivered</td>\n      <td>2018-02-13 21:18:39</td>\n      <td>2018-02-13 22:20:29</td>\n      <td>2018-02-14 19:46:34</td>\n      <td>2018-02-16 18:17:02</td>\n      <td>2018-02-26 00:00:00</td>\n      <td>72632f0f9dd73dfee390c9b22eb56dd6</td>\n      <td>9195</td>\n      <td>santo andre</td>\n      <td>SP</td>\n      <td>1</td>\n      <td>65266b2da20d04dbe00c5c2d3bb7859e</td>\n      <td>2c9e548be18521d1c43cde1c582c6de8</td>\n      <td>2018-02-19 20:31:37</td>\n      <td>19.90</td>\n      <td>8.72</td>\n    </tr>\n    <tr>\n      <th>...</th>\n      <td>...</td>\n      <td>...</td>\n      <td>...</td>\n      <td>...</td>\n      <td>...</td>\n      <td>...</td>\n      <td>...</td>\n      <td>...</td>\n      <td>...</td>\n      <td>...</td>\n      <td>...</td>\n      <td>...</td>\n      <td>...</td>\n      <td>...</td>\n      <td>...</td>\n      <td>...</td>\n      <td>...</td>\n      <td>...</td>\n    </tr>\n    <tr>\n      <th>112645</th>\n      <td>63943bddc261676b46f01ca7ac2f7bd8</td>\n      <td>1fca14ff2861355f6e5f14306ff977a7</td>\n      <td>delivered</td>\n      <td>2018-02-06 12:58:58</td>\n      <td>2018-02-06 13:10:37</td>\n      <td>2018-02-07 23:22:42</td>\n      <td>2018-02-28 17:37:56</td>\n      <td>2018-03-02 00:00:00</td>\n      <td>da62f9e57a76d978d02ab5362c509660</td>\n      <td>11722</td>\n      <td>praia grande</td>\n      <td>SP</td>\n      <td>1</td>\n      <td>f1d4ce8c6dd66c47bbaa8c6781c2a923</td>\n      <td>1f9ab4708f3056ede07124aad39a2554</td>\n      <td>2018-02-12 13:10:37</td>\n      <td>174.90</td>\n      <td>20.10</td>\n    </tr>\n    <tr>\n      <th>112646</th>\n      <td>83c1379a015df1e13d02aae0204711ab</td>\n      <td>1aa71eb042121263aafbe80c1b562c9c</td>\n      <td>delivered</td>\n      <td>2017-08-27 14:46:43</td>\n      <td>2017-08-27 15:04:16</td>\n      <td>2017-08-28 20:52:26</td>\n      <td>2017-09-21 11:24:17</td>\n      <td>2017-09-27 00:00:00</td>\n      <td>737520a9aad80b3fbbdad19b66b37b30</td>\n      <td>45920</td>\n      <td>nova vicosa</td>\n      <td>BA</td>\n      <td>1</td>\n      <td>b80910977a37536adeddd63663f916ad</td>\n      <td>d50d79cb34e38265a8649c383dcffd48</td>\n      <td>2017-09-05 15:04:16</td>\n      <td>205.99</td>\n      <td>65.02</td>\n    </tr>\n    <tr>\n      <th>112647</th>\n      <td>11c177c8e97725db2631073c19f07b62</td>\n      <td>b331b74b18dc79bcdf6532d51e1637c1</td>\n      <td>delivered</td>\n      <td>2018-01-08 21:28:27</td>\n      <td>2018-01-08 21:36:21</td>\n      <td>2018-01-12 15:35:03</td>\n      <td>2018-01-25 23:32:54</td>\n      <td>2018-02-15 00:00:00</td>\n      <td>5097a5312c8b157bb7be58ae360ef43c</td>\n      <td>28685</td>\n      <td>japuiba</td>\n      <td>RJ</td>\n      <td>1</td>\n      <td>d1c427060a0f73f6b889a5c7c61f2ac4</td>\n      <td>a1043bafd471dff536d0c462352beb48</td>\n      <td>2018-01-12 21:36:21</td>\n      <td>179.99</td>\n      <td>40.59</td>\n    </tr>\n    <tr>\n      <th>112648</th>\n      <td>11c177c8e97725db2631073c19f07b62</td>\n      <td>b331b74b18dc79bcdf6532d51e1637c1</td>\n      <td>delivered</td>\n      <td>2018-01-08 21:28:27</td>\n      <td>2018-01-08 21:36:21</td>\n      <td>2018-01-12 15:35:03</td>\n      <td>2018-01-25 23:32:54</td>\n      <td>2018-02-15 00:00:00</td>\n      <td>5097a5312c8b157bb7be58ae360ef43c</td>\n      <td>28685</td>\n      <td>japuiba</td>\n      <td>RJ</td>\n      <td>2</td>\n      <td>d1c427060a0f73f6b889a5c7c61f2ac4</td>\n      <td>a1043bafd471dff536d0c462352beb48</td>\n      <td>2018-01-12 21:36:21</td>\n      <td>179.99</td>\n      <td>40.59</td>\n    </tr>\n    <tr>\n      <th>112649</th>\n      <td>66dea50a8b16d9b4dee7af250b4be1a5</td>\n      <td>edb027a75a1449115f6b43211ae02a24</td>\n      <td>delivered</td>\n      <td>2018-03-08 20:57:30</td>\n      <td>2018-03-09 11:20:28</td>\n      <td>2018-03-09 22:11:59</td>\n      <td>2018-03-16 13:08:30</td>\n      <td>2018-04-03 00:00:00</td>\n      <td>60350aa974b26ff12caad89e55993bd6</td>\n      <td>83750</td>\n      <td>lapa</td>\n      <td>PR</td>\n      <td>1</td>\n      <td>006619bbed68b000c8ba3f8725d5409e</td>\n      <td>ececbfcff9804a2d6b40f589df8eef2b</td>\n      <td>2018-03-15 10:55:42</td>\n      <td>68.50</td>\n      <td>18.36</td>\n    </tr>\n  </tbody>\n</table>\n<p>112650 rows × 18 columns</p>\n</div>"
     },
     "metadata": {},
     "output_type": "display_data"
    },
    {
     "name": "stdout",
     "output_type": "stream",
     "text": [
      "<class 'pandas.core.frame.DataFrame'>\n",
      "Int64Index: 112650 entries, 0 to 112649\n",
      "Data columns (total 18 columns):\n",
      " #   Column                         Non-Null Count   Dtype  \n",
      "---  ------                         --------------   -----  \n",
      " 0   order_id                       112650 non-null  object \n",
      " 1   customer_id                    112650 non-null  object \n",
      " 2   order_status                   112650 non-null  object \n",
      " 3   order_purchase_timestamp       112650 non-null  object \n",
      " 4   order_approved_at              112635 non-null  object \n",
      " 5   order_delivered_carrier_date   111456 non-null  object \n",
      " 6   order_delivered_customer_date  110196 non-null  object \n",
      " 7   order_estimated_delivery_date  112650 non-null  object \n",
      " 8   customer_unique_id             112650 non-null  object \n",
      " 9   customer_zip_code_prefix       112650 non-null  int64  \n",
      " 10  customer_city                  112650 non-null  object \n",
      " 11  customer_state                 112650 non-null  object \n",
      " 12  order_item_id                  112650 non-null  int64  \n",
      " 13  product_id                     112650 non-null  object \n",
      " 14  seller_id                      112650 non-null  object \n",
      " 15  shipping_limit_date            112650 non-null  object \n",
      " 16  price                          112650 non-null  float64\n",
      " 17  freight_value                  112650 non-null  float64\n",
      "dtypes: float64(2), int64(2), object(14)\n",
      "memory usage: 16.3+ MB\n"
     ]
    },
    {
     "data": {
      "text/plain": "None"
     },
     "metadata": {},
     "output_type": "display_data"
    }
   ],
   "source": [
    "dataset_merged = dataset_merged_customers.merge(dataset_order_items, on='order_id', how='inner')\n",
    "\n",
    "print(dataset_merged_customers.shape)\n",
    "print(dataset_order_items.shape)\n",
    "\n",
    "display(dataset_merged)\n",
    "display(dataset_merged.info())"
   ],
   "metadata": {
    "collapsed": false,
    "pycharm": {
     "name": "#%%\n"
    }
   }
  },
  {
   "cell_type": "code",
   "execution_count": 15,
   "outputs": [
    {
     "data": {
      "text/plain": "Index(['order_id', 'customer_id', 'order_status', 'order_purchase_timestamp',\n       'order_approved_at', 'order_delivered_carrier_date',\n       'order_delivered_customer_date', 'order_estimated_delivery_date',\n       'customer_unique_id', 'customer_zip_code_prefix', 'customer_city',\n       'customer_state', 'order_item_id', 'product_id', 'seller_id',\n       'shipping_limit_date', 'price', 'freight_value'],\n      dtype='object')"
     },
     "execution_count": 15,
     "metadata": {},
     "output_type": "execute_result"
    }
   ],
   "source": [
    "dataset_merged.columns"
   ],
   "metadata": {
    "collapsed": false,
    "pycharm": {
     "name": "#%%\n"
    }
   }
  },
  {
   "cell_type": "markdown",
   "source": [
    "##### Saving merged dataset will all the columns"
   ],
   "metadata": {
    "collapsed": false,
    "pycharm": {
     "name": "#%% md\n"
    }
   }
  },
  {
   "cell_type": "code",
   "execution_count": 16,
   "outputs": [],
   "source": [
    "# Save csv\n",
    "dataset_merged.to_csv(output_path + \"merged_dataset.csv\", index=False)"
   ],
   "metadata": {
    "collapsed": false,
    "pycharm": {
     "name": "#%%\n"
    }
   }
  },
  {
   "cell_type": "markdown",
   "source": [
    "#### 2) Preparing RFM dataset\n",
    "We now make the RFM dataset using the date of purchase, the total number of orders and the total amount purchased on Olist marketplace."
   ],
   "metadata": {
    "collapsed": false,
    "pycharm": {
     "name": "#%% md\n"
    }
   }
  },
  {
   "cell_type": "code",
   "execution_count": 17,
   "outputs": [],
   "source": [
    "columns_to_keep = ['customer_unique_id', 'order_id', 'order_purchase_timestamp', 'price'] #, 'freight_value']"
   ],
   "metadata": {
    "collapsed": false,
    "pycharm": {
     "name": "#%%\n"
    }
   }
  },
  {
   "cell_type": "code",
   "execution_count": 18,
   "outputs": [
    {
     "data": {
      "text/plain": "                      customer_unique_id                          order_id  \\\n0       7c396fd4830fd04220f754e42b4e5bff  e481f51cbdc54678b7cc49136f2d6af7   \n1       af07308b275d755c9edb36a90c618231  53cdb2fc8bc7dce0b6741e2150273451   \n2       3a653a41f6f9fc3d2a113cf8398680e8  47770eb9100c2d0c44946d9cf07ec65d   \n3       7c142cf63193a1473d2e66489a9ae977  949d5b44dbf5de918fe9c16f97b45f8a   \n4       72632f0f9dd73dfee390c9b22eb56dd6  ad21c59c0840e6cb83a9ceb5573f8159   \n...                                  ...                               ...   \n112645  da62f9e57a76d978d02ab5362c509660  63943bddc261676b46f01ca7ac2f7bd8   \n112646  737520a9aad80b3fbbdad19b66b37b30  83c1379a015df1e13d02aae0204711ab   \n112647  5097a5312c8b157bb7be58ae360ef43c  11c177c8e97725db2631073c19f07b62   \n112648  5097a5312c8b157bb7be58ae360ef43c  11c177c8e97725db2631073c19f07b62   \n112649  60350aa974b26ff12caad89e55993bd6  66dea50a8b16d9b4dee7af250b4be1a5   \n\n       order_purchase_timestamp   price  \n0           2017-10-02 10:56:33   29.99  \n1           2018-07-24 20:41:37  118.70  \n2           2018-08-08 08:38:49  159.90  \n3           2017-11-18 19:28:06   45.00  \n4           2018-02-13 21:18:39   19.90  \n...                         ...     ...  \n112645      2018-02-06 12:58:58  174.90  \n112646      2017-08-27 14:46:43  205.99  \n112647      2018-01-08 21:28:27  179.99  \n112648      2018-01-08 21:28:27  179.99  \n112649      2018-03-08 20:57:30   68.50  \n\n[112650 rows x 4 columns]",
      "text/html": "<div>\n<style scoped>\n    .dataframe tbody tr th:only-of-type {\n        vertical-align: middle;\n    }\n\n    .dataframe tbody tr th {\n        vertical-align: top;\n    }\n\n    .dataframe thead th {\n        text-align: right;\n    }\n</style>\n<table border=\"1\" class=\"dataframe\">\n  <thead>\n    <tr style=\"text-align: right;\">\n      <th></th>\n      <th>customer_unique_id</th>\n      <th>order_id</th>\n      <th>order_purchase_timestamp</th>\n      <th>price</th>\n    </tr>\n  </thead>\n  <tbody>\n    <tr>\n      <th>0</th>\n      <td>7c396fd4830fd04220f754e42b4e5bff</td>\n      <td>e481f51cbdc54678b7cc49136f2d6af7</td>\n      <td>2017-10-02 10:56:33</td>\n      <td>29.99</td>\n    </tr>\n    <tr>\n      <th>1</th>\n      <td>af07308b275d755c9edb36a90c618231</td>\n      <td>53cdb2fc8bc7dce0b6741e2150273451</td>\n      <td>2018-07-24 20:41:37</td>\n      <td>118.70</td>\n    </tr>\n    <tr>\n      <th>2</th>\n      <td>3a653a41f6f9fc3d2a113cf8398680e8</td>\n      <td>47770eb9100c2d0c44946d9cf07ec65d</td>\n      <td>2018-08-08 08:38:49</td>\n      <td>159.90</td>\n    </tr>\n    <tr>\n      <th>3</th>\n      <td>7c142cf63193a1473d2e66489a9ae977</td>\n      <td>949d5b44dbf5de918fe9c16f97b45f8a</td>\n      <td>2017-11-18 19:28:06</td>\n      <td>45.00</td>\n    </tr>\n    <tr>\n      <th>4</th>\n      <td>72632f0f9dd73dfee390c9b22eb56dd6</td>\n      <td>ad21c59c0840e6cb83a9ceb5573f8159</td>\n      <td>2018-02-13 21:18:39</td>\n      <td>19.90</td>\n    </tr>\n    <tr>\n      <th>...</th>\n      <td>...</td>\n      <td>...</td>\n      <td>...</td>\n      <td>...</td>\n    </tr>\n    <tr>\n      <th>112645</th>\n      <td>da62f9e57a76d978d02ab5362c509660</td>\n      <td>63943bddc261676b46f01ca7ac2f7bd8</td>\n      <td>2018-02-06 12:58:58</td>\n      <td>174.90</td>\n    </tr>\n    <tr>\n      <th>112646</th>\n      <td>737520a9aad80b3fbbdad19b66b37b30</td>\n      <td>83c1379a015df1e13d02aae0204711ab</td>\n      <td>2017-08-27 14:46:43</td>\n      <td>205.99</td>\n    </tr>\n    <tr>\n      <th>112647</th>\n      <td>5097a5312c8b157bb7be58ae360ef43c</td>\n      <td>11c177c8e97725db2631073c19f07b62</td>\n      <td>2018-01-08 21:28:27</td>\n      <td>179.99</td>\n    </tr>\n    <tr>\n      <th>112648</th>\n      <td>5097a5312c8b157bb7be58ae360ef43c</td>\n      <td>11c177c8e97725db2631073c19f07b62</td>\n      <td>2018-01-08 21:28:27</td>\n      <td>179.99</td>\n    </tr>\n    <tr>\n      <th>112649</th>\n      <td>60350aa974b26ff12caad89e55993bd6</td>\n      <td>66dea50a8b16d9b4dee7af250b4be1a5</td>\n      <td>2018-03-08 20:57:30</td>\n      <td>68.50</td>\n    </tr>\n  </tbody>\n</table>\n<p>112650 rows × 4 columns</p>\n</div>"
     },
     "execution_count": 18,
     "metadata": {},
     "output_type": "execute_result"
    }
   ],
   "source": [
    "dataset_rfm_v1 = dataset_merged.copy()\n",
    "dataset_rfm_v1 = dataset_rfm_v1[columns_to_keep]\n",
    "\n",
    "dataset_rfm_v1"
   ],
   "metadata": {
    "collapsed": false,
    "pycharm": {
     "name": "#%%\n"
    }
   }
  },
  {
   "cell_type": "markdown",
   "source": [
    "##### Missing values : none since we did two inner join"
   ],
   "metadata": {
    "collapsed": false,
    "pycharm": {
     "name": "#%% md\n"
    }
   }
  },
  {
   "cell_type": "code",
   "execution_count": 19,
   "outputs": [
    {
     "name": "stdout",
     "output_type": "stream",
     "text": [
      "<class 'pandas.core.frame.DataFrame'>\n",
      "Int64Index: 112650 entries, 0 to 112649\n",
      "Data columns (total 4 columns):\n",
      " #   Column                    Non-Null Count   Dtype  \n",
      "---  ------                    --------------   -----  \n",
      " 0   customer_unique_id        112650 non-null  object \n",
      " 1   order_id                  112650 non-null  object \n",
      " 2   order_purchase_timestamp  112650 non-null  object \n",
      " 3   price                     112650 non-null  float64\n",
      "dtypes: float64(1), object(3)\n",
      "memory usage: 4.3+ MB\n"
     ]
    }
   ],
   "source": [
    "dataset_rfm_v1.info()"
   ],
   "metadata": {
    "collapsed": false,
    "pycharm": {
     "name": "#%%\n"
    }
   }
  },
  {
   "cell_type": "markdown",
   "source": [
    "##### RFM\n",
    "1) Recency : number of days since last purchase\n",
    "2) Frequency : count total number of orders\n",
    "3) Monetary : sum total price"
   ],
   "metadata": {
    "collapsed": false,
    "pycharm": {
     "name": "#%% md\n"
    }
   }
  },
  {
   "cell_type": "markdown",
   "source": [
    "##### Convert dates to datime object"
   ],
   "metadata": {
    "collapsed": false,
    "pycharm": {
     "name": "#%% md\n"
    }
   }
  },
  {
   "cell_type": "code",
   "execution_count": 20,
   "outputs": [
    {
     "name": "stdout",
     "output_type": "stream",
     "text": [
      "<class 'pandas.core.frame.DataFrame'>\n",
      "Int64Index: 112650 entries, 0 to 112649\n",
      "Data columns (total 4 columns):\n",
      " #   Column                    Non-Null Count   Dtype         \n",
      "---  ------                    --------------   -----         \n",
      " 0   customer_unique_id        112650 non-null  object        \n",
      " 1   order_id                  112650 non-null  object        \n",
      " 2   order_purchase_timestamp  112650 non-null  datetime64[ns]\n",
      " 3   price                     112650 non-null  float64       \n",
      "dtypes: datetime64[ns](1), float64(1), object(2)\n",
      "memory usage: 4.3+ MB\n"
     ]
    }
   ],
   "source": [
    "dataset_rfm_v2 = dataset_rfm_v1.copy()\n",
    "dataset_rfm_v2['order_purchase_timestamp'] = pd.to_datetime(dataset_rfm_v2['order_purchase_timestamp'].astype(str), format='%Y/%m/%d') # .astype(str)\n",
    "\n",
    "dataset_rfm_v2.info()"
   ],
   "metadata": {
    "collapsed": false,
    "pycharm": {
     "name": "#%%\n"
    }
   }
  },
  {
   "cell_type": "code",
   "execution_count": 21,
   "outputs": [
    {
     "name": "stdout",
     "output_type": "stream",
     "text": [
      "We have 95420 unique customers.\n"
     ]
    }
   ],
   "source": [
    "print(\"We have {} unique customers.\".format(dataset_rfm_v2[\"customer_unique_id\"].unique().shape[0]))"
   ],
   "metadata": {
    "collapsed": false,
    "pycharm": {
     "name": "#%%\n"
    }
   }
  },
  {
   "cell_type": "markdown",
   "source": [
    "##### Last day recorded in the dataset"
   ],
   "metadata": {
    "collapsed": false,
    "pycharm": {
     "name": "#%% md\n"
    }
   }
  },
  {
   "cell_type": "code",
   "execution_count": 22,
   "outputs": [
    {
     "name": "stdout",
     "output_type": "stream",
     "text": [
      "Last day recorded in the dataset : 2018-09-03 09:06:57 <class 'pandas._libs.tslibs.timestamps.Timestamp'>\n",
      "Year : 2018\n",
      "Month : 9\n",
      "Day : 3\n"
     ]
    }
   ],
   "source": [
    "last_day_recorded = dataset_rfm_v2[\"order_purchase_timestamp\"].max()\n",
    "\n",
    "print(\"Last day recorded in the dataset :\", last_day_recorded, type(last_day_recorded))\n",
    "\n",
    "print(\"Year :\", last_day_recorded.year)\n",
    "print(\"Month :\", last_day_recorded.month)\n",
    "print(\"Day :\", last_day_recorded.day)"
   ],
   "metadata": {
    "collapsed": false,
    "pycharm": {
     "name": "#%%\n"
    }
   }
  },
  {
   "cell_type": "markdown",
   "source": [
    "##### Groupby and aggregation functions"
   ],
   "metadata": {
    "collapsed": false,
    "pycharm": {
     "name": "#%% md\n"
    }
   }
  },
  {
   "cell_type": "code",
   "execution_count": 23,
   "outputs": [],
   "source": [
    "# Time limit\n",
    "time_limit = max(dataset_rfm_v2.order_purchase_timestamp) #+ dt.timedelta(1)"
   ],
   "metadata": {
    "collapsed": false,
    "pycharm": {
     "name": "#%%\n"
    }
   }
  },
  {
   "cell_type": "code",
   "execution_count": 24,
   "outputs": [
    {
     "data": {
      "text/plain": "Timestamp('2018-09-03 09:06:57')"
     },
     "execution_count": 24,
     "metadata": {},
     "output_type": "execute_result"
    }
   ],
   "source": [
    "time_limit"
   ],
   "metadata": {
    "collapsed": false,
    "pycharm": {
     "name": "#%%\n"
    }
   }
  },
  {
   "cell_type": "code",
   "execution_count": 25,
   "outputs": [],
   "source": [
    "# Computes the number of days since last purchase using the max/last purchase date.\n",
    "# Counts the number of order id,\n",
    "# Sums the total price\n",
    "\n",
    "dataset_rfm = create_rfm_dataset(dataset_rfm_v2, time_limit)"
   ],
   "metadata": {
    "collapsed": false,
    "pycharm": {
     "name": "#%%\n"
    }
   }
  },
  {
   "cell_type": "code",
   "execution_count": 26,
   "outputs": [
    {
     "data": {
      "text/plain": "                                  Recency  Frequency  Monetary\ncustomer_unique_id                                            \n0000366f3b9a7992bf8c76cfdf3221e2      115          1    129.90\n0000b849f77a49e4a4ce2b2a4ca5be3f      118          1     18.90\n0000f46a3911fa3c0805444483337064      541          1     69.00\n0000f6ccb0745a6a4b88665a16c9f078      325          1     25.99\n0004aac84e0df4da2b147fca70cf8255      292          1    180.00\n...                                   ...        ...       ...\nfffcf5a5ff07b0908bd4e2dbc735a684      451          1   1570.00\nfffea47cd6d3cc0a88bd621562a9d061      266          1     64.89\nffff371b4d645b6ecea244b27531430a      572          1     89.90\nffff5962728ec6157033ef9805bacc48      123          1    115.00\nffffd2657e2aad2907e67c3e9daecbeb      488          1     56.99\n\n[95420 rows x 3 columns]",
      "text/html": "<div>\n<style scoped>\n    .dataframe tbody tr th:only-of-type {\n        vertical-align: middle;\n    }\n\n    .dataframe tbody tr th {\n        vertical-align: top;\n    }\n\n    .dataframe thead th {\n        text-align: right;\n    }\n</style>\n<table border=\"1\" class=\"dataframe\">\n  <thead>\n    <tr style=\"text-align: right;\">\n      <th></th>\n      <th>Recency</th>\n      <th>Frequency</th>\n      <th>Monetary</th>\n    </tr>\n    <tr>\n      <th>customer_unique_id</th>\n      <th></th>\n      <th></th>\n      <th></th>\n    </tr>\n  </thead>\n  <tbody>\n    <tr>\n      <th>0000366f3b9a7992bf8c76cfdf3221e2</th>\n      <td>115</td>\n      <td>1</td>\n      <td>129.90</td>\n    </tr>\n    <tr>\n      <th>0000b849f77a49e4a4ce2b2a4ca5be3f</th>\n      <td>118</td>\n      <td>1</td>\n      <td>18.90</td>\n    </tr>\n    <tr>\n      <th>0000f46a3911fa3c0805444483337064</th>\n      <td>541</td>\n      <td>1</td>\n      <td>69.00</td>\n    </tr>\n    <tr>\n      <th>0000f6ccb0745a6a4b88665a16c9f078</th>\n      <td>325</td>\n      <td>1</td>\n      <td>25.99</td>\n    </tr>\n    <tr>\n      <th>0004aac84e0df4da2b147fca70cf8255</th>\n      <td>292</td>\n      <td>1</td>\n      <td>180.00</td>\n    </tr>\n    <tr>\n      <th>...</th>\n      <td>...</td>\n      <td>...</td>\n      <td>...</td>\n    </tr>\n    <tr>\n      <th>fffcf5a5ff07b0908bd4e2dbc735a684</th>\n      <td>451</td>\n      <td>1</td>\n      <td>1570.00</td>\n    </tr>\n    <tr>\n      <th>fffea47cd6d3cc0a88bd621562a9d061</th>\n      <td>266</td>\n      <td>1</td>\n      <td>64.89</td>\n    </tr>\n    <tr>\n      <th>ffff371b4d645b6ecea244b27531430a</th>\n      <td>572</td>\n      <td>1</td>\n      <td>89.90</td>\n    </tr>\n    <tr>\n      <th>ffff5962728ec6157033ef9805bacc48</th>\n      <td>123</td>\n      <td>1</td>\n      <td>115.00</td>\n    </tr>\n    <tr>\n      <th>ffffd2657e2aad2907e67c3e9daecbeb</th>\n      <td>488</td>\n      <td>1</td>\n      <td>56.99</td>\n    </tr>\n  </tbody>\n</table>\n<p>95420 rows × 3 columns</p>\n</div>"
     },
     "metadata": {},
     "output_type": "display_data"
    }
   ],
   "source": [
    "display(dataset_rfm)"
   ],
   "metadata": {
    "collapsed": false,
    "pycharm": {
     "name": "#%%\n"
    }
   }
  },
  {
   "cell_type": "markdown",
   "source": [],
   "metadata": {
    "collapsed": false,
    "pycharm": {
     "name": "#%% md\n"
    }
   }
  },
  {
   "cell_type": "markdown",
   "source": [
    "#### 3) Statistics RFM dataset"
   ],
   "metadata": {
    "collapsed": false,
    "pycharm": {
     "name": "#%% md\n"
    }
   }
  },
  {
   "cell_type": "code",
   "execution_count": 27,
   "outputs": [
    {
     "name": "stdout",
     "output_type": "stream",
     "text": [
      "<class 'pandas.core.frame.DataFrame'>\n",
      "Index: 95420 entries, 0000366f3b9a7992bf8c76cfdf3221e2 to ffffd2657e2aad2907e67c3e9daecbeb\n",
      "Data columns (total 3 columns):\n",
      " #   Column     Non-Null Count  Dtype  \n",
      "---  ------     --------------  -----  \n",
      " 0   Recency    95420 non-null  int64  \n",
      " 1   Frequency  95420 non-null  int64  \n",
      " 2   Monetary   95420 non-null  float64\n",
      "dtypes: float64(1), int64(2)\n",
      "memory usage: 2.9+ MB\n"
     ]
    }
   ],
   "source": [
    "dataset_rfm.info()"
   ],
   "metadata": {
    "collapsed": false,
    "pycharm": {
     "name": "#%%\n"
    }
   }
  },
  {
   "cell_type": "code",
   "execution_count": 28,
   "outputs": [
    {
     "data": {
      "text/plain": "             count        mean         std   min    25%    50%    75%      max\nRecency    95420.0  242.600377  153.160320  0.00  118.0  223.0  352.0    728.0\nFrequency  95420.0    1.034018    0.211234  1.00    1.0    1.0    1.0     16.0\nMonetary   95420.0  142.440198  217.656355  0.85   47.9   89.9  155.0  13440.0",
      "text/html": "<div>\n<style scoped>\n    .dataframe tbody tr th:only-of-type {\n        vertical-align: middle;\n    }\n\n    .dataframe tbody tr th {\n        vertical-align: top;\n    }\n\n    .dataframe thead th {\n        text-align: right;\n    }\n</style>\n<table border=\"1\" class=\"dataframe\">\n  <thead>\n    <tr style=\"text-align: right;\">\n      <th></th>\n      <th>count</th>\n      <th>mean</th>\n      <th>std</th>\n      <th>min</th>\n      <th>25%</th>\n      <th>50%</th>\n      <th>75%</th>\n      <th>max</th>\n    </tr>\n  </thead>\n  <tbody>\n    <tr>\n      <th>Recency</th>\n      <td>95420.0</td>\n      <td>242.600377</td>\n      <td>153.160320</td>\n      <td>0.00</td>\n      <td>118.0</td>\n      <td>223.0</td>\n      <td>352.0</td>\n      <td>728.0</td>\n    </tr>\n    <tr>\n      <th>Frequency</th>\n      <td>95420.0</td>\n      <td>1.034018</td>\n      <td>0.211234</td>\n      <td>1.00</td>\n      <td>1.0</td>\n      <td>1.0</td>\n      <td>1.0</td>\n      <td>16.0</td>\n    </tr>\n    <tr>\n      <th>Monetary</th>\n      <td>95420.0</td>\n      <td>142.440198</td>\n      <td>217.656355</td>\n      <td>0.85</td>\n      <td>47.9</td>\n      <td>89.9</td>\n      <td>155.0</td>\n      <td>13440.0</td>\n    </tr>\n  </tbody>\n</table>\n</div>"
     },
     "execution_count": 28,
     "metadata": {},
     "output_type": "execute_result"
    }
   ],
   "source": [
    "dataset_rfm.describe().transpose()"
   ],
   "metadata": {
    "collapsed": false,
    "pycharm": {
     "name": "#%%\n"
    }
   }
  },
  {
   "cell_type": "markdown",
   "source": [
    "##### Checking frequency"
   ],
   "metadata": {
    "collapsed": false,
    "pycharm": {
     "name": "#%% md\n"
    }
   }
  },
  {
   "cell_type": "code",
   "execution_count": 29,
   "outputs": [
    {
     "name": "stdout",
     "output_type": "stream",
     "text": [
      "We can see below than less than 3% of the customers ordered more than once.\n"
     ]
    }
   ],
   "source": [
    "print(\"We can see below than less than {}% of the customers ordered more than once.\".format(round(100 * dataset_rfm[dataset_rfm[\"Frequency\"] > 1].shape[0] / dataset_rfm.shape[0])))"
   ],
   "metadata": {
    "collapsed": false,
    "pycharm": {
     "name": "#%%\n"
    }
   }
  },
  {
   "cell_type": "code",
   "execution_count": 30,
   "outputs": [
    {
     "data": {
      "text/plain": "<seaborn.axisgrid.FacetGrid at 0x1672ec1e640>"
     },
     "execution_count": 30,
     "metadata": {},
     "output_type": "execute_result"
    },
    {
     "data": {
      "text/plain": "<Figure size 360x360 with 1 Axes>",
      "image/png": "[encoded data removed]"
     },
     "metadata": {
      "needs_background": "light"
     },
     "output_type": "display_data"
    }
   ],
   "source": [
    "sns.displot(data=dataset_rfm, x=\"Frequency\", stat='percent') # aspect : to make it wider"
   ],
   "metadata": {
    "collapsed": false,
    "pycharm": {
     "name": "#%%\n"
    }
   }
  },
  {
   "cell_type": "code",
   "execution_count": 31,
   "outputs": [
    {
     "data": {
      "text/plain": "<AxesSubplot:xlabel='Frequency', ylabel='count'>"
     },
     "execution_count": 31,
     "metadata": {},
     "output_type": "execute_result"
    },
    {
     "data": {
      "text/plain": "<Figure size 432x288 with 1 Axes>",
      "image/png": "[encoded data removed]"
     },
     "metadata": {
      "needs_background": "light"
     },
     "output_type": "display_data"
    }
   ],
   "source": [
    "sns.countplot(x=dataset_rfm[\"Frequency\"])"
   ],
   "metadata": {
    "collapsed": false,
    "pycharm": {
     "name": "#%%\n"
    }
   }
  },
  {
   "cell_type": "markdown",
   "source": [
    "##### Correlation matrix"
   ],
   "metadata": {
    "collapsed": false,
    "pycharm": {
     "name": "#%% md\n"
    }
   }
  },
  {
   "cell_type": "code",
   "execution_count": 32,
   "outputs": [
    {
     "data": {
      "text/plain": "<Figure size 432x360 with 2 Axes>",
      "image/png": "[encoded data removed]"
     },
     "metadata": {
      "needs_background": "light"
     },
     "output_type": "display_data"
    }
   ],
   "source": [
    "correlation_matrix(dataset_rfm, width=6, height=5)"
   ],
   "metadata": {
    "collapsed": false,
    "pycharm": {
     "name": "#%%\n"
    }
   }
  },
  {
   "cell_type": "markdown",
   "source": [
    "##### Density"
   ],
   "metadata": {
    "collapsed": false,
    "pycharm": {
     "name": "#%% md\n"
    }
   }
  },
  {
   "cell_type": "code",
   "execution_count": 33,
   "outputs": [
    {
     "name": "stdout",
     "output_type": "stream",
     "text": [
      "___Density distribution___\n"
     ]
    },
    {
     "data": {
      "text/plain": "<Figure size 864x1008 with 28 Axes>",
      "image/png": "[encoded data removed]"
     },
     "metadata": {
      "needs_background": "light"
     },
     "output_type": "display_data"
    }
   ],
   "source": [
    "density_histplot(dataset_rfm)"
   ],
   "metadata": {
    "collapsed": false,
    "pycharm": {
     "name": "#%%\n"
    }
   }
  },
  {
   "cell_type": "markdown",
   "source": [
    "##### Box plot"
   ],
   "metadata": {
    "collapsed": false,
    "pycharm": {
     "name": "#%% md\n"
    }
   }
  },
  {
   "cell_type": "code",
   "execution_count": 34,
   "outputs": [
    {
     "data": {
      "text/plain": "<Figure size 576x432 with 3 Axes>",
      "image/png": "[encoded data removed]"
     },
     "metadata": {
      "needs_background": "light"
     },
     "output_type": "display_data"
    }
   ],
   "source": [
    "display_boxplot(dataset_rfm)"
   ],
   "metadata": {
    "collapsed": false,
    "pycharm": {
     "name": "#%%\n"
    }
   }
  },
  {
   "cell_type": "markdown",
   "source": [
    "#### 4) Saving dataset"
   ],
   "metadata": {
    "collapsed": false,
    "pycharm": {
     "name": "#%% md\n"
    }
   }
  },
  {
   "cell_type": "code",
   "execution_count": 35,
   "outputs": [],
   "source": [
    "# We reset the index\n",
    "#final_dataset = dataset_v3.reset_index(drop=True)\n",
    "\n",
    "# Save\n",
    "dataset_rfm.to_csv(output_dataset_file)#, index=False)"
   ],
   "metadata": {
    "collapsed": false,
    "pycharm": {
     "name": "#%%\n"
    }
   }
  },
  {
   "cell_type": "markdown",
   "source": [
    "### II) Adding features : review_score"
   ],
   "metadata": {
    "collapsed": false,
    "pycharm": {
     "name": "#%% md\n"
    }
   }
  },
  {
   "cell_type": "markdown",
   "source": [
    "#### 1) Preparing the dataset RFM and review_score"
   ],
   "metadata": {
    "collapsed": false,
    "pycharm": {
     "name": "#%% md\n"
    }
   }
  },
  {
   "cell_type": "markdown",
   "source": [
    "We merge the merged dataset with customer / order / order_items and the dataset that contains the review_score per order."
   ],
   "metadata": {
    "collapsed": false,
    "pycharm": {
     "name": "#%% md\n"
    }
   }
  },
  {
   "cell_type": "code",
   "execution_count": 36,
   "outputs": [],
   "source": [
    "dataset_rfm_features = dataset_merged.merge(dataset_order_reviews, on='order_id', how='inner')"
   ],
   "metadata": {
    "collapsed": false,
    "pycharm": {
     "name": "#%%\n"
    }
   }
  },
  {
   "cell_type": "code",
   "execution_count": 37,
   "outputs": [
    {
     "data": {
      "text/plain": "                                order_id                       customer_id  \\\n0       e481f51cbdc54678b7cc49136f2d6af7  9ef432eb6251297304e76186b10a928d   \n1       53cdb2fc8bc7dce0b6741e2150273451  b0830fb4747a6c6d20dea0b8c802d7ef   \n2       47770eb9100c2d0c44946d9cf07ec65d  41ce2a54c0b03bf3443c3d931a367089   \n3       949d5b44dbf5de918fe9c16f97b45f8a  f88197465ea7920adcdbec7375364d82   \n4       ad21c59c0840e6cb83a9ceb5573f8159  8ab97904e6daea8866dbdbc4fb7aad2c   \n...                                  ...                               ...   \n112367  63943bddc261676b46f01ca7ac2f7bd8  1fca14ff2861355f6e5f14306ff977a7   \n112368  83c1379a015df1e13d02aae0204711ab  1aa71eb042121263aafbe80c1b562c9c   \n112369  11c177c8e97725db2631073c19f07b62  b331b74b18dc79bcdf6532d51e1637c1   \n112370  11c177c8e97725db2631073c19f07b62  b331b74b18dc79bcdf6532d51e1637c1   \n112371  66dea50a8b16d9b4dee7af250b4be1a5  edb027a75a1449115f6b43211ae02a24   \n\n       order_status order_purchase_timestamp    order_approved_at  \\\n0         delivered      2017-10-02 10:56:33  2017-10-02 11:07:15   \n1         delivered      2018-07-24 20:41:37  2018-07-26 03:24:27   \n2         delivered      2018-08-08 08:38:49  2018-08-08 08:55:23   \n3         delivered      2017-11-18 19:28:06  2017-11-18 19:45:59   \n4         delivered      2018-02-13 21:18:39  2018-02-13 22:20:29   \n...             ...                      ...                  ...   \n112367    delivered      2018-02-06 12:58:58  2018-02-06 13:10:37   \n112368    delivered      2017-08-27 14:46:43  2017-08-27 15:04:16   \n112369    delivered      2018-01-08 21:28:27  2018-01-08 21:36:21   \n112370    delivered      2018-01-08 21:28:27  2018-01-08 21:36:21   \n112371    delivered      2018-03-08 20:57:30  2018-03-09 11:20:28   \n\n       order_delivered_carrier_date order_delivered_customer_date  \\\n0               2017-10-04 19:55:00           2017-10-10 21:25:13   \n1               2018-07-26 14:31:00           2018-08-07 15:27:45   \n2               2018-08-08 13:50:00           2018-08-17 18:06:29   \n3               2017-11-22 13:39:59           2017-12-02 00:28:42   \n4               2018-02-14 19:46:34           2018-02-16 18:17:02   \n...                             ...                           ...   \n112367          2018-02-07 23:22:42           2018-02-28 17:37:56   \n112368          2017-08-28 20:52:26           2017-09-21 11:24:17   \n112369          2018-01-12 15:35:03           2018-01-25 23:32:54   \n112370          2018-01-12 15:35:03           2018-01-25 23:32:54   \n112371          2018-03-09 22:11:59           2018-03-16 13:08:30   \n\n       order_estimated_delivery_date                customer_unique_id  \\\n0                2017-10-18 00:00:00  7c396fd4830fd04220f754e42b4e5bff   \n1                2018-08-13 00:00:00  af07308b275d755c9edb36a90c618231   \n2                2018-09-04 00:00:00  3a653a41f6f9fc3d2a113cf8398680e8   \n3                2017-12-15 00:00:00  7c142cf63193a1473d2e66489a9ae977   \n4                2018-02-26 00:00:00  72632f0f9dd73dfee390c9b22eb56dd6   \n...                              ...                               ...   \n112367           2018-03-02 00:00:00  da62f9e57a76d978d02ab5362c509660   \n112368           2017-09-27 00:00:00  737520a9aad80b3fbbdad19b66b37b30   \n112369           2018-02-15 00:00:00  5097a5312c8b157bb7be58ae360ef43c   \n112370           2018-02-15 00:00:00  5097a5312c8b157bb7be58ae360ef43c   \n112371           2018-04-03 00:00:00  60350aa974b26ff12caad89e55993bd6   \n\n        customer_zip_code_prefix  ...                         seller_id  \\\n0                           3149  ...  3504c0cb71d7fa48d967e0e4c94d59d9   \n1                          47813  ...  289cdb325fb7e7f891c38608bf9e0962   \n2                          75265  ...  4869f7a5dfa277a7dca6462dcf3b52b2   \n3                          59296  ...  66922902710d126a0e7d26b0e3805106   \n4                           9195  ...  2c9e548be18521d1c43cde1c582c6de8   \n...                          ...  ...                               ...   \n112367                     11722  ...  1f9ab4708f3056ede07124aad39a2554   \n112368                     45920  ...  d50d79cb34e38265a8649c383dcffd48   \n112369                     28685  ...  a1043bafd471dff536d0c462352beb48   \n112370                     28685  ...  a1043bafd471dff536d0c462352beb48   \n112371                     83750  ...  ececbfcff9804a2d6b40f589df8eef2b   \n\n        shipping_limit_date   price freight_value  \\\n0       2017-10-06 11:07:15   29.99          8.72   \n1       2018-07-30 03:24:27  118.70         22.76   \n2       2018-08-13 08:55:23  159.90         19.22   \n3       2017-11-23 19:45:59   45.00         27.20   \n4       2018-02-19 20:31:37   19.90          8.72   \n...                     ...     ...           ...   \n112367  2018-02-12 13:10:37  174.90         20.10   \n112368  2017-09-05 15:04:16  205.99         65.02   \n112369  2018-01-12 21:36:21  179.99         40.59   \n112370  2018-01-12 21:36:21  179.99         40.59   \n112371  2018-03-15 10:55:42   68.50         18.36   \n\n                               review_id review_score  review_comment_title  \\\n0       a54f0611adc9ed256b57ede6b6eb5114            4                   NaN   \n1       8d5266042046a06655c8db133d120ba5            4      Muito boa a loja   \n2       e73b67b67587f7644d5bd1a52deb1b01            5                   NaN   \n3       359d03e676b3c069f62cadba8dd3f6e8            5                   NaN   \n4       e50934924e227544ba8246aeb3770dd4            5                   NaN   \n...                                  ...          ...                   ...   \n112367  29bb71b2760d0f876dfa178a76bc4734            4                   NaN   \n112368  371579771219f6db2d830d50805977bb            5                   NaN   \n112369  8ab6855b9fe9b812cd03a480a25058a1            2                   NaN   \n112370  8ab6855b9fe9b812cd03a480a25058a1            2                   NaN   \n112371  dc9c59b4688062c25758c2be4cafc523            5                   NaN   \n\n                                   review_comment_message  \\\n0       Não testei o produto ainda, mas ele veio corre...   \n1                                    Muito bom o produto.   \n2                                                     NaN   \n3       O produto foi exatamente o que eu esperava e e...   \n4                                                     NaN   \n...                                                   ...   \n112367       So uma peça que veio rachado mas tudo bem rs   \n112368                       Foi entregue antes do prazo.   \n112369  Foi entregue somente 1. Quero saber do outro p...   \n112370  Foi entregue somente 1. Quero saber do outro p...   \n112371                                                NaN   \n\n       review_creation_date  review_answer_timestamp  \n0       2017-10-11 00:00:00      2017-10-12 03:43:48  \n1       2018-08-08 00:00:00      2018-08-08 18:37:50  \n2       2018-08-18 00:00:00      2018-08-22 19:07:58  \n3       2017-12-03 00:00:00      2017-12-05 19:21:58  \n4       2018-02-17 00:00:00      2018-02-18 13:02:51  \n...                     ...                      ...  \n112367  2018-03-01 00:00:00      2018-03-02 17:50:01  \n112368  2017-09-22 00:00:00      2017-09-22 23:10:57  \n112369  2018-01-26 00:00:00      2018-01-27 09:16:56  \n112370  2018-01-26 00:00:00      2018-01-27 09:16:56  \n112371  2018-03-17 00:00:00      2018-03-17 16:33:31  \n\n[112372 rows x 24 columns]",
      "text/html": "<div>\n<style scoped>\n    .dataframe tbody tr th:only-of-type {\n        vertical-align: middle;\n    }\n\n    .dataframe tbody tr th {\n        vertical-align: top;\n    }\n\n    .dataframe thead th {\n        text-align: right;\n    }\n</style>\n<table border=\"1\" class=\"dataframe\">\n  <thead>\n    <tr style=\"text-align: right;\">\n      <th></th>\n      <th>order_id</th>\n      <th>customer_id</th>\n      <th>order_status</th>\n      <th>order_purchase_timestamp</th>\n      <th>order_approved_at</th>\n      <th>order_delivered_carrier_date</th>\n      <th>order_delivered_customer_date</th>\n      <th>order_estimated_delivery_date</th>\n      <th>customer_unique_id</th>\n      <th>customer_zip_code_prefix</th>\n      <th>...</th>\n      <th>seller_id</th>\n      <th>shipping_limit_date</th>\n      <th>price</th>\n      <th>freight_value</th>\n      <th>review_id</th>\n      <th>review_score</th>\n      <th>review_comment_title</th>\n      <th>review_comment_message</th>\n      <th>review_creation_date</th>\n      <th>review_answer_timestamp</th>\n    </tr>\n  </thead>\n  <tbody>\n    <tr>\n      <th>0</th>\n      <td>e481f51cbdc54678b7cc49136f2d6af7</td>\n      <td>9ef432eb6251297304e76186b10a928d</td>\n      <td>delivered</td>\n      <td>2017-10-02 10:56:33</td>\n      <td>2017-10-02 11:07:15</td>\n      <td>2017-10-04 19:55:00</td>\n      <td>2017-10-10 21:25:13</td>\n      <td>2017-10-18 00:00:00</td>\n      <td>7c396fd4830fd04220f754e42b4e5bff</td>\n      <td>3149</td>\n      <td>...</td>\n      <td>3504c0cb71d7fa48d967e0e4c94d59d9</td>\n      <td>2017-10-06 11:07:15</td>\n      <td>29.99</td>\n      <td>8.72</td>\n      <td>a54f0611adc9ed256b57ede6b6eb5114</td>\n      <td>4</td>\n      <td>NaN</td>\n      <td>Não testei o produto ainda, mas ele veio corre...</td>\n      <td>2017-10-11 00:00:00</td>\n      <td>2017-10-12 03:43:48</td>\n    </tr>\n    <tr>\n      <th>1</th>\n      <td>53cdb2fc8bc7dce0b6741e2150273451</td>\n      <td>b0830fb4747a6c6d20dea0b8c802d7ef</td>\n      <td>delivered</td>\n      <td>2018-07-24 20:41:37</td>\n      <td>2018-07-26 03:24:27</td>\n      <td>2018-07-26 14:31:00</td>\n      <td>2018-08-07 15:27:45</td>\n      <td>2018-08-13 00:00:00</td>\n      <td>af07308b275d755c9edb36a90c618231</td>\n      <td>47813</td>\n      <td>...</td>\n      <td>289cdb325fb7e7f891c38608bf9e0962</td>\n      <td>2018-07-30 03:24:27</td>\n      <td>118.70</td>\n      <td>22.76</td>\n      <td>8d5266042046a06655c8db133d120ba5</td>\n      <td>4</td>\n      <td>Muito boa a loja</td>\n      <td>Muito bom o produto.</td>\n      <td>2018-08-08 00:00:00</td>\n      <td>2018-08-08 18:37:50</td>\n    </tr>\n    <tr>\n      <th>2</th>\n      <td>47770eb9100c2d0c44946d9cf07ec65d</td>\n      <td>41ce2a54c0b03bf3443c3d931a367089</td>\n      <td>delivered</td>\n      <td>2018-08-08 08:38:49</td>\n      <td>2018-08-08 08:55:23</td>\n      <td>2018-08-08 13:50:00</td>\n      <td>2018-08-17 18:06:29</td>\n      <td>2018-09-04 00:00:00</td>\n      <td>3a653a41f6f9fc3d2a113cf8398680e8</td>\n      <td>75265</td>\n      <td>...</td>\n      <td>4869f7a5dfa277a7dca6462dcf3b52b2</td>\n      <td>2018-08-13 08:55:23</td>\n      <td>159.90</td>\n      <td>19.22</td>\n      <td>e73b67b67587f7644d5bd1a52deb1b01</td>\n      <td>5</td>\n      <td>NaN</td>\n      <td>NaN</td>\n      <td>2018-08-18 00:00:00</td>\n      <td>2018-08-22 19:07:58</td>\n    </tr>\n    <tr>\n      <th>3</th>\n      <td>949d5b44dbf5de918fe9c16f97b45f8a</td>\n      <td>f88197465ea7920adcdbec7375364d82</td>\n      <td>delivered</td>\n      <td>2017-11-18 19:28:06</td>\n      <td>2017-11-18 19:45:59</td>\n      <td>2017-11-22 13:39:59</td>\n      <td>2017-12-02 00:28:42</td>\n      <td>2017-12-15 00:00:00</td>\n      <td>7c142cf63193a1473d2e66489a9ae977</td>\n      <td>59296</td>\n      <td>...</td>\n      <td>66922902710d126a0e7d26b0e3805106</td>\n      <td>2017-11-23 19:45:59</td>\n      <td>45.00</td>\n      <td>27.20</td>\n      <td>359d03e676b3c069f62cadba8dd3f6e8</td>\n      <td>5</td>\n      <td>NaN</td>\n      <td>O produto foi exatamente o que eu esperava e e...</td>\n      <td>2017-12-03 00:00:00</td>\n      <td>2017-12-05 19:21:58</td>\n    </tr>\n    <tr>\n      <th>4</th>\n      <td>ad21c59c0840e6cb83a9ceb5573f8159</td>\n      <td>8ab97904e6daea8866dbdbc4fb7aad2c</td>\n      <td>delivered</td>\n      <td>2018-02-13 21:18:39</td>\n      <td>2018-02-13 22:20:29</td>\n      <td>2018-02-14 19:46:34</td>\n      <td>2018-02-16 18:17:02</td>\n      <td>2018-02-26 00:00:00</td>\n      <td>72632f0f9dd73dfee390c9b22eb56dd6</td>\n      <td>9195</td>\n      <td>...</td>\n      <td>2c9e548be18521d1c43cde1c582c6de8</td>\n      <td>2018-02-19 20:31:37</td>\n      <td>19.90</td>\n      <td>8.72</td>\n      <td>e50934924e227544ba8246aeb3770dd4</td>\n      <td>5</td>\n      <td>NaN</td>\n      <td>NaN</td>\n      <td>2018-02-17 00:00:00</td>\n      <td>2018-02-18 13:02:51</td>\n    </tr>\n    <tr>\n      <th>...</th>\n      <td>...</td>\n      <td>...</td>\n      <td>...</td>\n      <td>...</td>\n      <td>...</td>\n      <td>...</td>\n      <td>...</td>\n      <td>...</td>\n      <td>...</td>\n      <td>...</td>\n      <td>...</td>\n      <td>...</td>\n      <td>...</td>\n      <td>...</td>\n      <td>...</td>\n      <td>...</td>\n      <td>...</td>\n      <td>...</td>\n      <td>...</td>\n      <td>...</td>\n      <td>...</td>\n    </tr>\n    <tr>\n      <th>112367</th>\n      <td>63943bddc261676b46f01ca7ac2f7bd8</td>\n      <td>1fca14ff2861355f6e5f14306ff977a7</td>\n      <td>delivered</td>\n      <td>2018-02-06 12:58:58</td>\n      <td>2018-02-06 13:10:37</td>\n      <td>2018-02-07 23:22:42</td>\n      <td>2018-02-28 17:37:56</td>\n      <td>2018-03-02 00:00:00</td>\n      <td>da62f9e57a76d978d02ab5362c509660</td>\n      <td>11722</td>\n      <td>...</td>\n      <td>1f9ab4708f3056ede07124aad39a2554</td>\n      <td>2018-02-12 13:10:37</td>\n      <td>174.90</td>\n      <td>20.10</td>\n      <td>29bb71b2760d0f876dfa178a76bc4734</td>\n      <td>4</td>\n      <td>NaN</td>\n      <td>So uma peça que veio rachado mas tudo bem rs</td>\n      <td>2018-03-01 00:00:00</td>\n      <td>2018-03-02 17:50:01</td>\n    </tr>\n    <tr>\n      <th>112368</th>\n      <td>83c1379a015df1e13d02aae0204711ab</td>\n      <td>1aa71eb042121263aafbe80c1b562c9c</td>\n      <td>delivered</td>\n      <td>2017-08-27 14:46:43</td>\n      <td>2017-08-27 15:04:16</td>\n      <td>2017-08-28 20:52:26</td>\n      <td>2017-09-21 11:24:17</td>\n      <td>2017-09-27 00:00:00</td>\n      <td>737520a9aad80b3fbbdad19b66b37b30</td>\n      <td>45920</td>\n      <td>...</td>\n      <td>d50d79cb34e38265a8649c383dcffd48</td>\n      <td>2017-09-05 15:04:16</td>\n      <td>205.99</td>\n      <td>65.02</td>\n      <td>371579771219f6db2d830d50805977bb</td>\n      <td>5</td>\n      <td>NaN</td>\n      <td>Foi entregue antes do prazo.</td>\n      <td>2017-09-22 00:00:00</td>\n      <td>2017-09-22 23:10:57</td>\n    </tr>\n    <tr>\n      <th>112369</th>\n      <td>11c177c8e97725db2631073c19f07b62</td>\n      <td>b331b74b18dc79bcdf6532d51e1637c1</td>\n      <td>delivered</td>\n      <td>2018-01-08 21:28:27</td>\n      <td>2018-01-08 21:36:21</td>\n      <td>2018-01-12 15:35:03</td>\n      <td>2018-01-25 23:32:54</td>\n      <td>2018-02-15 00:00:00</td>\n      <td>5097a5312c8b157bb7be58ae360ef43c</td>\n      <td>28685</td>\n      <td>...</td>\n      <td>a1043bafd471dff536d0c462352beb48</td>\n      <td>2018-01-12 21:36:21</td>\n      <td>179.99</td>\n      <td>40.59</td>\n      <td>8ab6855b9fe9b812cd03a480a25058a1</td>\n      <td>2</td>\n      <td>NaN</td>\n      <td>Foi entregue somente 1. Quero saber do outro p...</td>\n      <td>2018-01-26 00:00:00</td>\n      <td>2018-01-27 09:16:56</td>\n    </tr>\n    <tr>\n      <th>112370</th>\n      <td>11c177c8e97725db2631073c19f07b62</td>\n      <td>b331b74b18dc79bcdf6532d51e1637c1</td>\n      <td>delivered</td>\n      <td>2018-01-08 21:28:27</td>\n      <td>2018-01-08 21:36:21</td>\n      <td>2018-01-12 15:35:03</td>\n      <td>2018-01-25 23:32:54</td>\n      <td>2018-02-15 00:00:00</td>\n      <td>5097a5312c8b157bb7be58ae360ef43c</td>\n      <td>28685</td>\n      <td>...</td>\n      <td>a1043bafd471dff536d0c462352beb48</td>\n      <td>2018-01-12 21:36:21</td>\n      <td>179.99</td>\n      <td>40.59</td>\n      <td>8ab6855b9fe9b812cd03a480a25058a1</td>\n      <td>2</td>\n      <td>NaN</td>\n      <td>Foi entregue somente 1. Quero saber do outro p...</td>\n      <td>2018-01-26 00:00:00</td>\n      <td>2018-01-27 09:16:56</td>\n    </tr>\n    <tr>\n      <th>112371</th>\n      <td>66dea50a8b16d9b4dee7af250b4be1a5</td>\n      <td>edb027a75a1449115f6b43211ae02a24</td>\n      <td>delivered</td>\n      <td>2018-03-08 20:57:30</td>\n      <td>2018-03-09 11:20:28</td>\n      <td>2018-03-09 22:11:59</td>\n      <td>2018-03-16 13:08:30</td>\n      <td>2018-04-03 00:00:00</td>\n      <td>60350aa974b26ff12caad89e55993bd6</td>\n      <td>83750</td>\n      <td>...</td>\n      <td>ececbfcff9804a2d6b40f589df8eef2b</td>\n      <td>2018-03-15 10:55:42</td>\n      <td>68.50</td>\n      <td>18.36</td>\n      <td>dc9c59b4688062c25758c2be4cafc523</td>\n      <td>5</td>\n      <td>NaN</td>\n      <td>NaN</td>\n      <td>2018-03-17 00:00:00</td>\n      <td>2018-03-17 16:33:31</td>\n    </tr>\n  </tbody>\n</table>\n<p>112372 rows × 24 columns</p>\n</div>"
     },
     "execution_count": 37,
     "metadata": {},
     "output_type": "execute_result"
    }
   ],
   "source": [
    "dataset_rfm_features"
   ],
   "metadata": {
    "collapsed": false,
    "pycharm": {
     "name": "#%%\n"
    }
   }
  },
  {
   "cell_type": "code",
   "execution_count": 38,
   "outputs": [],
   "source": [
    "dataset_rfm_features['order_purchase_timestamp'] = pd.to_datetime(dataset_rfm_features['order_purchase_timestamp'].astype(str), format='%Y/%m/%d') # .astype(str)"
   ],
   "metadata": {
    "collapsed": false,
    "pycharm": {
     "name": "#%%\n"
    }
   }
  },
  {
   "cell_type": "code",
   "execution_count": 39,
   "outputs": [],
   "source": [
    "rfm_review_score = create_rfm_dataset(dataset_rfm_features, time_limit, review_score=True)"
   ],
   "metadata": {
    "collapsed": false,
    "pycharm": {
     "name": "#%%\n"
    }
   }
  },
  {
   "cell_type": "raw",
   "source": [
    "sns_colors = sns.color_palette()"
   ],
   "metadata": {
    "collapsed": false,
    "pycharm": {
     "name": "#%% raw\n"
    }
   }
  },
  {
   "cell_type": "markdown",
   "source": [
    "#### 2) Review_score analysis"
   ],
   "metadata": {
    "collapsed": false,
    "pycharm": {
     "name": "#%% md\n"
    }
   }
  },
  {
   "cell_type": "code",
   "execution_count": 40,
   "outputs": [
    {
     "data": {
      "text/plain": "5.000000    54569\n4.000000    18279\n1.000000    10306\n3.000000     7820\n2.000000     2964\n4.500000      246\n3.500000      126\n2.500000       65\n3.666667       53\n4.666667       46\nName: review_score, dtype: int64"
     },
     "execution_count": 40,
     "metadata": {},
     "output_type": "execute_result"
    }
   ],
   "source": [
    "rfm_review_score[\"review_score\"].value_counts().sort_values(ascending=False).head(10)"
   ],
   "metadata": {
    "collapsed": false,
    "pycharm": {
     "name": "#%%\n"
    }
   }
  },
  {
   "cell_type": "code",
   "execution_count": 41,
   "outputs": [
    {
     "data": {
      "text/plain": "<AxesSubplot:xlabel='review_score', ylabel='Count'>"
     },
     "execution_count": 41,
     "metadata": {},
     "output_type": "execute_result"
    },
    {
     "data": {
      "text/plain": "<Figure size 432x288 with 1 Axes>",
      "image/png": "[encoded data removed]"
     },
     "metadata": {
      "needs_background": "light"
     },
     "output_type": "display_data"
    }
   ],
   "source": [
    "sns.histplot(data=rfm_review_score, x=\"review_score\", bins=4)"
   ],
   "metadata": {
    "collapsed": false,
    "pycharm": {
     "name": "#%%\n"
    }
   }
  },
  {
   "cell_type": "code",
   "execution_count": 42,
   "outputs": [
    {
     "data": {
      "text/plain": "<AxesSubplot:xlabel='review_score', ylabel='Count'>"
     },
     "execution_count": 42,
     "metadata": {},
     "output_type": "execute_result"
    },
    {
     "data": {
      "text/plain": "<Figure size 432x288 with 1 Axes>",
      "image/png": "[encoded data removed]"
     },
     "metadata": {
      "needs_background": "light"
     },
     "output_type": "display_data"
    }
   ],
   "source": [
    "sns.histplot(data=rfm_review_score, x=\"review_score\", bins=8)"
   ],
   "metadata": {
    "collapsed": false,
    "pycharm": {
     "name": "#%%\n"
    }
   }
  },
  {
   "cell_type": "markdown",
   "source": [
    "##### Boxplot"
   ],
   "metadata": {
    "collapsed": false,
    "pycharm": {
     "name": "#%% md\n"
    }
   }
  },
  {
   "cell_type": "code",
   "execution_count": 43,
   "outputs": [
    {
     "data": {
      "text/plain": "<Figure size 576x432 with 4 Axes>",
      "image/png": "[encoded data removed]"
     },
     "metadata": {
      "needs_background": "light"
     },
     "output_type": "display_data"
    }
   ],
   "source": [
    "display_boxplot(rfm_review_score)"
   ],
   "metadata": {
    "collapsed": false,
    "pycharm": {
     "name": "#%%\n"
    }
   }
  },
  {
   "cell_type": "markdown",
   "source": [
    "##### Correlation matrix"
   ],
   "metadata": {
    "collapsed": false,
    "pycharm": {
     "name": "#%% md\n"
    }
   }
  },
  {
   "cell_type": "code",
   "execution_count": 44,
   "outputs": [
    {
     "data": {
      "text/plain": "<Figure size 432x360 with 2 Axes>",
      "image/png": "[encoded data removed]"
     },
     "metadata": {
      "needs_background": "light"
     },
     "output_type": "display_data"
    }
   ],
   "source": [
    "correlation_matrix(rfm_review_score, width=6, height=5)"
   ],
   "metadata": {
    "collapsed": false,
    "pycharm": {
     "name": "#%%\n"
    }
   }
  },
  {
   "cell_type": "markdown",
   "source": [
    "#### 3) Saving dataset"
   ],
   "metadata": {
    "collapsed": false,
    "pycharm": {
     "name": "#%% md\n"
    }
   }
  },
  {
   "cell_type": "code",
   "execution_count": 45,
   "outputs": [],
   "source": [
    "rfm_review_score.to_csv(output_path + \"dataset_rfm_review_score.csv\")#, index=False)"
   ],
   "metadata": {
    "collapsed": false,
    "pycharm": {
     "name": "#%%\n"
    }
   }
  },
  {
   "cell_type": "code",
   "execution_count": 45,
   "outputs": [],
   "source": [],
   "metadata": {
    "collapsed": false,
    "pycharm": {
     "name": "#%%\n"
    }
   }
  },
  {
   "cell_type": "code",
   "execution_count": 46,
   "outputs": [
    {
     "name": "stdout",
     "output_type": "stream",
     "text": [
      "computing time : 51.256049 sec\n",
      "computing time : 00:00:51\n"
     ]
    }
   ],
   "source": [
    "# End of exploration time\n",
    "t1 = time()\n",
    "print(\"computing time : {:8.6f} sec\".format(t1 - t0))\n",
    "print(\"computing time : \" + strftime('%H:%M:%S', gmtime(t1 - t0)))"
   ],
   "metadata": {
    "collapsed": false,
    "pycharm": {
     "name": "#%%\n"
    }
   }
  }
 ],
 "metadata": {
  "kernelspec": {
   "display_name": "Python 3",
   "language": "python",
   "name": "python3"
  },
  "language_info": {
   "codemirror_mode": {
    "name": "ipython",
    "version": 2
   },
   "file_extension": ".py",
   "mimetype": "text/x-python",
   "name": "python",
   "nbconvert_exporter": "python",
   "pygments_lexer": "ipython2",
   "version": "2.7.6"
  }
 },
 "nbformat": 4,
 "nbformat_minor": 0
}
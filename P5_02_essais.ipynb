{
 "cells": [
  {
   "cell_type": "markdown",
   "source": [
    "### Importing libraries"
   ],
   "metadata": {
    "collapsed": false,
    "pycharm": {
     "name": "#%% md\n"
    }
   }
  },
  {
   "cell_type": "code",
   "execution_count": 219,
   "metadata": {
    "collapsed": true,
    "pycharm": {
     "name": "#%%\n"
    }
   },
   "outputs": [
    {
     "data": {
      "application/javascript": "IPython.notebook.set_autosave_interval(300000)"
     },
     "metadata": {},
     "output_type": "display_data"
    },
    {
     "name": "stdout",
     "output_type": "stream",
     "text": [
      "Autosaving every 300 seconds\n"
     ]
    }
   ],
   "source": [
    "%reset -f\n",
    "\n",
    "from functions import *\n",
    "\n",
    "import pickle\n",
    "\n",
    "from sklearn.preprocessing import scale, StandardScaler\n",
    "\n",
    "from sklearn.decomposition import PCA\n",
    "from sklearn.manifold import TSNE\n",
    "\n",
    "from sklearn.cluster import KMeans\n",
    "from sklearn.cluster import DBSCAN\n",
    "from sklearn.cluster import AgglomerativeClustering\n",
    "\n",
    "from sklearn.metrics import davies_bouldin_score\n",
    "from sklearn.metrics import silhouette_score\n",
    "\n",
    "%matplotlib inline\n",
    "%autosave 300"
   ]
  },
  {
   "cell_type": "code",
   "execution_count": 220,
   "outputs": [],
   "source": [
    "# Starting time\n",
    "t0 = time()\n",
    "\n",
    "input_path = \"./dataset/cleaned/\"\n",
    "input_filename = \"dataset_rfm.csv\""
   ],
   "metadata": {
    "collapsed": false,
    "pycharm": {
     "name": "#%%\n"
    }
   }
  },
  {
   "cell_type": "markdown",
   "source": [
    "### Importing dataset"
   ],
   "metadata": {
    "collapsed": false,
    "pycharm": {
     "name": "#%% md\n"
    }
   }
  },
  {
   "cell_type": "code",
   "execution_count": 221,
   "outputs": [
    {
     "name": "stdout",
     "output_type": "stream",
     "text": [
      "___Loading raw dataset___\n",
      "Initial shape : (95420, 4)\n"
     ]
    }
   ],
   "source": [
    "dataset_rfm = load_data(input_path, input_filename)"
   ],
   "metadata": {
    "collapsed": false,
    "pycharm": {
     "name": "#%%\n"
    }
   }
  },
  {
   "cell_type": "code",
   "execution_count": 222,
   "outputs": [
    {
     "data": {
      "text/plain": "                     customer_unique_id  Recency  Frequency  Monetary\n0      0000366f3b9a7992bf8c76cfdf3221e2      115          1    129.90\n1      0000b849f77a49e4a4ce2b2a4ca5be3f      118          1     18.90\n2      0000f46a3911fa3c0805444483337064      541          1     69.00\n3      0000f6ccb0745a6a4b88665a16c9f078      325          1     25.99\n4      0004aac84e0df4da2b147fca70cf8255      292          1    180.00\n...                                 ...      ...        ...       ...\n95415  fffcf5a5ff07b0908bd4e2dbc735a684      451          1   1570.00\n95416  fffea47cd6d3cc0a88bd621562a9d061      266          1     64.89\n95417  ffff371b4d645b6ecea244b27531430a      572          1     89.90\n95418  ffff5962728ec6157033ef9805bacc48      123          1    115.00\n95419  ffffd2657e2aad2907e67c3e9daecbeb      488          1     56.99\n\n[95420 rows x 4 columns]",
      "text/html": "<div>\n<style scoped>\n    .dataframe tbody tr th:only-of-type {\n        vertical-align: middle;\n    }\n\n    .dataframe tbody tr th {\n        vertical-align: top;\n    }\n\n    .dataframe thead th {\n        text-align: right;\n    }\n</style>\n<table border=\"1\" class=\"dataframe\">\n  <thead>\n    <tr style=\"text-align: right;\">\n      <th></th>\n      <th>customer_unique_id</th>\n      <th>Recency</th>\n      <th>Frequency</th>\n      <th>Monetary</th>\n    </tr>\n  </thead>\n  <tbody>\n    <tr>\n      <th>0</th>\n      <td>0000366f3b9a7992bf8c76cfdf3221e2</td>\n      <td>115</td>\n      <td>1</td>\n      <td>129.90</td>\n    </tr>\n    <tr>\n      <th>1</th>\n      <td>0000b849f77a49e4a4ce2b2a4ca5be3f</td>\n      <td>118</td>\n      <td>1</td>\n      <td>18.90</td>\n    </tr>\n    <tr>\n      <th>2</th>\n      <td>0000f46a3911fa3c0805444483337064</td>\n      <td>541</td>\n      <td>1</td>\n      <td>69.00</td>\n    </tr>\n    <tr>\n      <th>3</th>\n      <td>0000f6ccb0745a6a4b88665a16c9f078</td>\n      <td>325</td>\n      <td>1</td>\n      <td>25.99</td>\n    </tr>\n    <tr>\n      <th>4</th>\n      <td>0004aac84e0df4da2b147fca70cf8255</td>\n      <td>292</td>\n      <td>1</td>\n      <td>180.00</td>\n    </tr>\n    <tr>\n      <th>...</th>\n      <td>...</td>\n      <td>...</td>\n      <td>...</td>\n      <td>...</td>\n    </tr>\n    <tr>\n      <th>95415</th>\n      <td>fffcf5a5ff07b0908bd4e2dbc735a684</td>\n      <td>451</td>\n      <td>1</td>\n      <td>1570.00</td>\n    </tr>\n    <tr>\n      <th>95416</th>\n      <td>fffea47cd6d3cc0a88bd621562a9d061</td>\n      <td>266</td>\n      <td>1</td>\n      <td>64.89</td>\n    </tr>\n    <tr>\n      <th>95417</th>\n      <td>ffff371b4d645b6ecea244b27531430a</td>\n      <td>572</td>\n      <td>1</td>\n      <td>89.90</td>\n    </tr>\n    <tr>\n      <th>95418</th>\n      <td>ffff5962728ec6157033ef9805bacc48</td>\n      <td>123</td>\n      <td>1</td>\n      <td>115.00</td>\n    </tr>\n    <tr>\n      <th>95419</th>\n      <td>ffffd2657e2aad2907e67c3e9daecbeb</td>\n      <td>488</td>\n      <td>1</td>\n      <td>56.99</td>\n    </tr>\n  </tbody>\n</table>\n<p>95420 rows × 4 columns</p>\n</div>"
     },
     "execution_count": 222,
     "metadata": {},
     "output_type": "execute_result"
    }
   ],
   "source": [
    "dataset_rfm"
   ],
   "metadata": {
    "collapsed": false,
    "pycharm": {
     "name": "#%%\n"
    }
   }
  },
  {
   "cell_type": "code",
   "execution_count": 223,
   "outputs": [
    {
     "data": {
      "text/plain": "       Recency  Frequency  Monetary\n0          115          1    129.90\n1          118          1     18.90\n2          541          1     69.00\n3          325          1     25.99\n4          292          1    180.00\n...        ...        ...       ...\n95415      451          1   1570.00\n95416      266          1     64.89\n95417      572          1     89.90\n95418      123          1    115.00\n95419      488          1     56.99\n\n[95420 rows x 3 columns]",
      "text/html": "<div>\n<style scoped>\n    .dataframe tbody tr th:only-of-type {\n        vertical-align: middle;\n    }\n\n    .dataframe tbody tr th {\n        vertical-align: top;\n    }\n\n    .dataframe thead th {\n        text-align: right;\n    }\n</style>\n<table border=\"1\" class=\"dataframe\">\n  <thead>\n    <tr style=\"text-align: right;\">\n      <th></th>\n      <th>Recency</th>\n      <th>Frequency</th>\n      <th>Monetary</th>\n    </tr>\n  </thead>\n  <tbody>\n    <tr>\n      <th>0</th>\n      <td>115</td>\n      <td>1</td>\n      <td>129.90</td>\n    </tr>\n    <tr>\n      <th>1</th>\n      <td>118</td>\n      <td>1</td>\n      <td>18.90</td>\n    </tr>\n    <tr>\n      <th>2</th>\n      <td>541</td>\n      <td>1</td>\n      <td>69.00</td>\n    </tr>\n    <tr>\n      <th>3</th>\n      <td>325</td>\n      <td>1</td>\n      <td>25.99</td>\n    </tr>\n    <tr>\n      <th>4</th>\n      <td>292</td>\n      <td>1</td>\n      <td>180.00</td>\n    </tr>\n    <tr>\n      <th>...</th>\n      <td>...</td>\n      <td>...</td>\n      <td>...</td>\n    </tr>\n    <tr>\n      <th>95415</th>\n      <td>451</td>\n      <td>1</td>\n      <td>1570.00</td>\n    </tr>\n    <tr>\n      <th>95416</th>\n      <td>266</td>\n      <td>1</td>\n      <td>64.89</td>\n    </tr>\n    <tr>\n      <th>95417</th>\n      <td>572</td>\n      <td>1</td>\n      <td>89.90</td>\n    </tr>\n    <tr>\n      <th>95418</th>\n      <td>123</td>\n      <td>1</td>\n      <td>115.00</td>\n    </tr>\n    <tr>\n      <th>95419</th>\n      <td>488</td>\n      <td>1</td>\n      <td>56.99</td>\n    </tr>\n  </tbody>\n</table>\n<p>95420 rows × 3 columns</p>\n</div>"
     },
     "execution_count": 223,
     "metadata": {},
     "output_type": "execute_result"
    }
   ],
   "source": [
    "X = dataset_rfm.drop(\"customer_unique_id\", axis=1).copy()\n",
    "X"
   ],
   "metadata": {
    "collapsed": false,
    "pycharm": {
     "name": "#%%\n"
    }
   }
  },
  {
   "cell_type": "markdown",
   "source": [
    "#### Scaling"
   ],
   "metadata": {
    "collapsed": false,
    "pycharm": {
     "name": "#%% md\n"
    }
   }
  },
  {
   "cell_type": "code",
   "execution_count": 224,
   "outputs": [
    {
     "name": "stdout",
     "output_type": "stream",
     "text": [
      "(95420, 3)\n"
     ]
    },
    {
     "data": {
      "text/plain": "        Recency  Frequency  Monetary\n0     -0.833121  -0.161045 -0.057615\n1     -0.813533  -0.161045 -0.567596\n2      1.948293  -0.161045 -0.337415\n3      0.537999  -0.161045 -0.535021\n4      0.322537  -0.161045  0.172566\n...         ...        ...       ...\n95415  1.360670  -0.161045  6.558813\n95416  0.152779  -0.161045 -0.356298\n95417  2.150696  -0.161045 -0.241392\n95418 -0.780888  -0.161045 -0.126072\n95419  1.602249  -0.161045 -0.392594\n\n[95420 rows x 3 columns]",
      "text/html": "<div>\n<style scoped>\n    .dataframe tbody tr th:only-of-type {\n        vertical-align: middle;\n    }\n\n    .dataframe tbody tr th {\n        vertical-align: top;\n    }\n\n    .dataframe thead th {\n        text-align: right;\n    }\n</style>\n<table border=\"1\" class=\"dataframe\">\n  <thead>\n    <tr style=\"text-align: right;\">\n      <th></th>\n      <th>Recency</th>\n      <th>Frequency</th>\n      <th>Monetary</th>\n    </tr>\n  </thead>\n  <tbody>\n    <tr>\n      <th>0</th>\n      <td>-0.833121</td>\n      <td>-0.161045</td>\n      <td>-0.057615</td>\n    </tr>\n    <tr>\n      <th>1</th>\n      <td>-0.813533</td>\n      <td>-0.161045</td>\n      <td>-0.567596</td>\n    </tr>\n    <tr>\n      <th>2</th>\n      <td>1.948293</td>\n      <td>-0.161045</td>\n      <td>-0.337415</td>\n    </tr>\n    <tr>\n      <th>3</th>\n      <td>0.537999</td>\n      <td>-0.161045</td>\n      <td>-0.535021</td>\n    </tr>\n    <tr>\n      <th>4</th>\n      <td>0.322537</td>\n      <td>-0.161045</td>\n      <td>0.172566</td>\n    </tr>\n    <tr>\n      <th>...</th>\n      <td>...</td>\n      <td>...</td>\n      <td>...</td>\n    </tr>\n    <tr>\n      <th>95415</th>\n      <td>1.360670</td>\n      <td>-0.161045</td>\n      <td>6.558813</td>\n    </tr>\n    <tr>\n      <th>95416</th>\n      <td>0.152779</td>\n      <td>-0.161045</td>\n      <td>-0.356298</td>\n    </tr>\n    <tr>\n      <th>95417</th>\n      <td>2.150696</td>\n      <td>-0.161045</td>\n      <td>-0.241392</td>\n    </tr>\n    <tr>\n      <th>95418</th>\n      <td>-0.780888</td>\n      <td>-0.161045</td>\n      <td>-0.126072</td>\n    </tr>\n    <tr>\n      <th>95419</th>\n      <td>1.602249</td>\n      <td>-0.161045</td>\n      <td>-0.392594</td>\n    </tr>\n  </tbody>\n</table>\n<p>95420 rows × 3 columns</p>\n</div>"
     },
     "execution_count": 224,
     "metadata": {},
     "output_type": "execute_result"
    }
   ],
   "source": [
    "X_norm = X.copy()\n",
    "X_norm[X_norm.columns] = scale(X)\n",
    "print(X_norm.shape)\n",
    "\n",
    "X_norm"
   ],
   "metadata": {
    "collapsed": false,
    "pycharm": {
     "name": "#%%\n"
    }
   }
  },
  {
   "cell_type": "code",
   "execution_count": 225,
   "outputs": [
    {
     "data": {
      "text/plain": "             count          mean       std       min       25%       50%  \\\nRecency    95420.0  2.014970e-17  1.000005 -1.583972 -0.813533 -0.127974   \nFrequency  95420.0  1.407069e-15  1.000005 -0.161045 -0.161045 -0.161045   \nMonetary   95420.0 -5.528194e-17  1.000005 -0.650525 -0.434358 -0.241392   \n\n                75%        max  \nRecency    0.714286   3.169242  \nFrequency -0.161045  70.850618  \nMonetary   0.057705  61.094607  ",
      "text/html": "<div>\n<style scoped>\n    .dataframe tbody tr th:only-of-type {\n        vertical-align: middle;\n    }\n\n    .dataframe tbody tr th {\n        vertical-align: top;\n    }\n\n    .dataframe thead th {\n        text-align: right;\n    }\n</style>\n<table border=\"1\" class=\"dataframe\">\n  <thead>\n    <tr style=\"text-align: right;\">\n      <th></th>\n      <th>count</th>\n      <th>mean</th>\n      <th>std</th>\n      <th>min</th>\n      <th>25%</th>\n      <th>50%</th>\n      <th>75%</th>\n      <th>max</th>\n    </tr>\n  </thead>\n  <tbody>\n    <tr>\n      <th>Recency</th>\n      <td>95420.0</td>\n      <td>2.014970e-17</td>\n      <td>1.000005</td>\n      <td>-1.583972</td>\n      <td>-0.813533</td>\n      <td>-0.127974</td>\n      <td>0.714286</td>\n      <td>3.169242</td>\n    </tr>\n    <tr>\n      <th>Frequency</th>\n      <td>95420.0</td>\n      <td>1.407069e-15</td>\n      <td>1.000005</td>\n      <td>-0.161045</td>\n      <td>-0.161045</td>\n      <td>-0.161045</td>\n      <td>-0.161045</td>\n      <td>70.850618</td>\n    </tr>\n    <tr>\n      <th>Monetary</th>\n      <td>95420.0</td>\n      <td>-5.528194e-17</td>\n      <td>1.000005</td>\n      <td>-0.650525</td>\n      <td>-0.434358</td>\n      <td>-0.241392</td>\n      <td>0.057705</td>\n      <td>61.094607</td>\n    </tr>\n  </tbody>\n</table>\n</div>"
     },
     "execution_count": 225,
     "metadata": {},
     "output_type": "execute_result"
    }
   ],
   "source": [
    "X_norm.describe().transpose()"
   ],
   "metadata": {
    "collapsed": false,
    "pycharm": {
     "name": "#%%\n"
    }
   }
  },
  {
   "cell_type": "code",
   "execution_count": 226,
   "outputs": [
    {
     "name": "stdout",
     "output_type": "stream",
     "text": [
      "___Density distribution___\n"
     ]
    },
    {
     "data": {
      "text/plain": "<Figure size 864x1008 with 28 Axes>",
      "image/png": "[encoded data removed]"
     },
     "metadata": {
      "needs_background": "light"
     },
     "output_type": "display_data"
    },
    {
     "data": {
      "text/plain": "<Figure size 576x432 with 3 Axes>",
      "image/png": "[encoded data removed]"
     },
     "metadata": {
      "needs_background": "light"
     },
     "output_type": "display_data"
    }
   ],
   "source": [
    "density_histplot(X_norm)\n",
    "display_boxplot(X_norm)"
   ],
   "metadata": {
    "collapsed": false,
    "pycharm": {
     "name": "#%%\n"
    }
   }
  },
  {
   "cell_type": "markdown",
   "source": [
    "#### Standardisation"
   ],
   "metadata": {
    "collapsed": false,
    "pycharm": {
     "name": "#%% md\n"
    }
   }
  },
  {
   "cell_type": "code",
   "execution_count": 227,
   "outputs": [
    {
     "name": "stdout",
     "output_type": "stream",
     "text": [
      "(95420, 3)\n"
     ]
    },
    {
     "data": {
      "text/plain": "        Recency  Frequency  Monetary\n0     -0.833121  -0.161045 -0.057615\n1     -0.813533  -0.161045 -0.567596\n2      1.948293  -0.161045 -0.337415\n3      0.537999  -0.161045 -0.535021\n4      0.322537  -0.161045  0.172566\n...         ...        ...       ...\n95415  1.360670  -0.161045  6.558813\n95416  0.152779  -0.161045 -0.356298\n95417  2.150696  -0.161045 -0.241392\n95418 -0.780888  -0.161045 -0.126072\n95419  1.602249  -0.161045 -0.392594\n\n[95420 rows x 3 columns]",
      "text/html": "<div>\n<style scoped>\n    .dataframe tbody tr th:only-of-type {\n        vertical-align: middle;\n    }\n\n    .dataframe tbody tr th {\n        vertical-align: top;\n    }\n\n    .dataframe thead th {\n        text-align: right;\n    }\n</style>\n<table border=\"1\" class=\"dataframe\">\n  <thead>\n    <tr style=\"text-align: right;\">\n      <th></th>\n      <th>Recency</th>\n      <th>Frequency</th>\n      <th>Monetary</th>\n    </tr>\n  </thead>\n  <tbody>\n    <tr>\n      <th>0</th>\n      <td>-0.833121</td>\n      <td>-0.161045</td>\n      <td>-0.057615</td>\n    </tr>\n    <tr>\n      <th>1</th>\n      <td>-0.813533</td>\n      <td>-0.161045</td>\n      <td>-0.567596</td>\n    </tr>\n    <tr>\n      <th>2</th>\n      <td>1.948293</td>\n      <td>-0.161045</td>\n      <td>-0.337415</td>\n    </tr>\n    <tr>\n      <th>3</th>\n      <td>0.537999</td>\n      <td>-0.161045</td>\n      <td>-0.535021</td>\n    </tr>\n    <tr>\n      <th>4</th>\n      <td>0.322537</td>\n      <td>-0.161045</td>\n      <td>0.172566</td>\n    </tr>\n    <tr>\n      <th>...</th>\n      <td>...</td>\n      <td>...</td>\n      <td>...</td>\n    </tr>\n    <tr>\n      <th>95415</th>\n      <td>1.360670</td>\n      <td>-0.161045</td>\n      <td>6.558813</td>\n    </tr>\n    <tr>\n      <th>95416</th>\n      <td>0.152779</td>\n      <td>-0.161045</td>\n      <td>-0.356298</td>\n    </tr>\n    <tr>\n      <th>95417</th>\n      <td>2.150696</td>\n      <td>-0.161045</td>\n      <td>-0.241392</td>\n    </tr>\n    <tr>\n      <th>95418</th>\n      <td>-0.780888</td>\n      <td>-0.161045</td>\n      <td>-0.126072</td>\n    </tr>\n    <tr>\n      <th>95419</th>\n      <td>1.602249</td>\n      <td>-0.161045</td>\n      <td>-0.392594</td>\n    </tr>\n  </tbody>\n</table>\n<p>95420 rows × 3 columns</p>\n</div>"
     },
     "execution_count": 227,
     "metadata": {},
     "output_type": "execute_result"
    }
   ],
   "source": [
    "X_std = X.copy()\n",
    "scaler = StandardScaler()\n",
    "\n",
    "X_std[X_std.columns] = scaler.fit_transform(X_std)\n",
    "print(X_std.shape)\n",
    "\n",
    "X_std"
   ],
   "metadata": {
    "collapsed": false,
    "pycharm": {
     "name": "#%%\n"
    }
   }
  },
  {
   "cell_type": "code",
   "execution_count": 228,
   "outputs": [
    {
     "data": {
      "text/plain": "             count          mean       std       min       25%       50%  \\\nRecency    95420.0  2.014970e-17  1.000005 -1.583972 -0.813533 -0.127974   \nFrequency  95420.0  1.407069e-15  1.000005 -0.161045 -0.161045 -0.161045   \nMonetary   95420.0 -5.528194e-17  1.000005 -0.650525 -0.434358 -0.241392   \n\n                75%        max  \nRecency    0.714286   3.169242  \nFrequency -0.161045  70.850618  \nMonetary   0.057705  61.094607  ",
      "text/html": "<div>\n<style scoped>\n    .dataframe tbody tr th:only-of-type {\n        vertical-align: middle;\n    }\n\n    .dataframe tbody tr th {\n        vertical-align: top;\n    }\n\n    .dataframe thead th {\n        text-align: right;\n    }\n</style>\n<table border=\"1\" class=\"dataframe\">\n  <thead>\n    <tr style=\"text-align: right;\">\n      <th></th>\n      <th>count</th>\n      <th>mean</th>\n      <th>std</th>\n      <th>min</th>\n      <th>25%</th>\n      <th>50%</th>\n      <th>75%</th>\n      <th>max</th>\n    </tr>\n  </thead>\n  <tbody>\n    <tr>\n      <th>Recency</th>\n      <td>95420.0</td>\n      <td>2.014970e-17</td>\n      <td>1.000005</td>\n      <td>-1.583972</td>\n      <td>-0.813533</td>\n      <td>-0.127974</td>\n      <td>0.714286</td>\n      <td>3.169242</td>\n    </tr>\n    <tr>\n      <th>Frequency</th>\n      <td>95420.0</td>\n      <td>1.407069e-15</td>\n      <td>1.000005</td>\n      <td>-0.161045</td>\n      <td>-0.161045</td>\n      <td>-0.161045</td>\n      <td>-0.161045</td>\n      <td>70.850618</td>\n    </tr>\n    <tr>\n      <th>Monetary</th>\n      <td>95420.0</td>\n      <td>-5.528194e-17</td>\n      <td>1.000005</td>\n      <td>-0.650525</td>\n      <td>-0.434358</td>\n      <td>-0.241392</td>\n      <td>0.057705</td>\n      <td>61.094607</td>\n    </tr>\n  </tbody>\n</table>\n</div>"
     },
     "execution_count": 228,
     "metadata": {},
     "output_type": "execute_result"
    }
   ],
   "source": [
    "X_std.describe().transpose()"
   ],
   "metadata": {
    "collapsed": false,
    "pycharm": {
     "name": "#%%\n"
    }
   }
  },
  {
   "cell_type": "code",
   "execution_count": null,
   "outputs": [
    {
     "name": "stdout",
     "output_type": "stream",
     "text": [
      "___Density distribution___\n"
     ]
    }
   ],
   "source": [
    "density_histplot(X_std)\n",
    "display_boxplot(X_std)"
   ],
   "metadata": {
    "collapsed": false,
    "pycharm": {
     "name": "#%%\n",
     "is_executing": true
    }
   }
  },
  {
   "cell_type": "markdown",
   "source": [
    "##### Verifying that scale and std scaler are the same here"
   ],
   "metadata": {
    "collapsed": false,
    "pycharm": {
     "name": "#%% md\n"
    }
   }
  },
  {
   "cell_type": "code",
   "execution_count": null,
   "outputs": [],
   "source": [
    "d = pd.concat([X_norm, X_std])\n",
    "d"
   ],
   "metadata": {
    "collapsed": false,
    "pycharm": {
     "name": "#%%\n",
     "is_executing": true
    }
   }
  },
  {
   "cell_type": "code",
   "execution_count": null,
   "outputs": [],
   "source": [
    "d.drop_duplicates(keep=False)"
   ],
   "metadata": {
    "collapsed": false,
    "pycharm": {
     "name": "#%%\n",
     "is_executing": true
    }
   }
  },
  {
   "cell_type": "code",
   "execution_count": null,
   "outputs": [],
   "source": [],
   "metadata": {
    "collapsed": false,
    "pycharm": {
     "name": "#%%\n",
     "is_executing": true
    }
   }
  },
  {
   "cell_type": "markdown",
   "source": [
    "##### ATTENTION : we use only 200 clients over 95000 for these tryouts"
   ],
   "metadata": {
    "collapsed": false,
    "pycharm": {
     "name": "#%% md\n"
    }
   }
  },
  {
   "cell_type": "code",
   "execution_count": null,
   "outputs": [],
   "source": [
    "X_norm_sample = X_norm.copy()\n",
    "X_norm_sample = X_norm_sample.sample(n=5000, random_state=0, ignore_index=True) # we need to reset the index to get a box plot\n",
    "\n",
    "X_norm_sample"
   ],
   "metadata": {
    "collapsed": false,
    "pycharm": {
     "name": "#%%\n",
     "is_executing": true
    }
   }
  },
  {
   "cell_type": "code",
   "execution_count": null,
   "outputs": [],
   "source": [
    "display_boxplot(X_norm_sample)\n",
    "density_histplot(X_norm_sample)"
   ],
   "metadata": {
    "collapsed": false,
    "pycharm": {
     "name": "#%%\n",
     "is_executing": true
    }
   }
  },
  {
   "cell_type": "markdown",
   "source": [
    "### PCA : Principal Component Analysis"
   ],
   "metadata": {
    "collapsed": false,
    "pycharm": {
     "name": "#%% md\n"
    }
   }
  },
  {
   "cell_type": "code",
   "execution_count": null,
   "outputs": [],
   "source": [
    "pca = PCA(n_components=2)\n",
    "pca.fit(X_norm)\n",
    "print(pca.explained_variance_ratio_.cumsum())"
   ],
   "metadata": {
    "collapsed": false,
    "pycharm": {
     "name": "#%%\n",
     "is_executing": true
    }
   }
  },
  {
   "cell_type": "code",
   "execution_count": null,
   "outputs": [],
   "source": [
    "plt.figure(figsize=(12,5))\n",
    "plt.title('PCA : Cumulated sum of explained variance as a function of the number of components')\n",
    "plt.xlabel('Number of components')\n",
    "plt.ylabel('Cumulated variance explained')\n",
    "\n",
    "plt.plot(np.arange(start=1, stop=pca.n_components + 1),\n",
    "         np.cumsum(pca.explained_variance_ratio_))"
   ],
   "metadata": {
    "collapsed": false,
    "pycharm": {
     "name": "#%%\n",
     "is_executing": true
    }
   }
  },
  {
   "cell_type": "code",
   "execution_count": null,
   "outputs": [],
   "source": [
    "print(\"List of variance explained per component :\", pca.explained_variance_ratio_)\n",
    "print(\"Sum of the variance explained per component :\", pca.explained_variance_ratio_.sum())"
   ],
   "metadata": {
    "collapsed": false,
    "pycharm": {
     "name": "#%%\n",
     "is_executing": true
    }
   }
  },
  {
   "cell_type": "code",
   "execution_count": null,
   "outputs": [],
   "source": [
    "# projeter X sur les composantes principales\n",
    "X_pca = pca.transform(X_norm)\n",
    "print(\"The PCA with 2 components explains\", pca.explained_variance_ratio_.cumsum()[1], \"% of the variance.\")"
   ],
   "metadata": {
    "collapsed": false,
    "pycharm": {
     "name": "#%%\n",
     "is_executing": true
    }
   }
  },
  {
   "cell_type": "code",
   "execution_count": null,
   "outputs": [],
   "source": [
    "X_pca"
   ],
   "metadata": {
    "collapsed": false,
    "pycharm": {
     "name": "#%%\n",
     "is_executing": true
    }
   }
  },
  {
   "cell_type": "markdown",
   "source": [
    "##### projection"
   ],
   "metadata": {
    "collapsed": false,
    "pycharm": {
     "name": "#%% md\n"
    }
   }
  },
  {
   "cell_type": "code",
   "execution_count": null,
   "outputs": [],
   "source": [
    "pcs = pca.components_\n",
    "\n",
    "for i, (x, y) in enumerate(zip(pcs[0, :], pcs[1, :])):\n",
    "    # Afficher un segment de l'origine au point (x, y)\n",
    "    plt.plot([0, x], [0, y], color='k')\n",
    "    # Afficher le nom (data.columns[i]) de la performance\n",
    "    plt.text(x, y, X_norm.columns[i], fontsize='14')\n",
    "\n",
    "# Afficher une ligne horizontale y=0\n",
    "plt.plot([-0.7, 0.7], [0, 0], color='grey', ls='--')\n",
    "\n",
    "# Afficher une ligne verticale x=0\n",
    "plt.plot([0, 0], [-0.7, 0.7], color='grey', ls='--')\n",
    "\n",
    "plt.xlim([-0.7, 0.7])\n",
    "plt.ylim([-0.7, 0.7])"
   ],
   "metadata": {
    "collapsed": false,
    "pycharm": {
     "name": "#%%\n",
     "is_executing": true
    }
   }
  },
  {
   "cell_type": "code",
   "execution_count": null,
   "outputs": [],
   "source": [
    "# sample :\n",
    "pca_sample = PCA(n_components=2)\n",
    "pca_sample.fit(X_norm_sample)\n",
    "print(pca_sample.explained_variance_ratio_.cumsum())\n",
    "X_pca_sample = pca_sample.transform(X_norm_sample)"
   ],
   "metadata": {
    "collapsed": false,
    "pycharm": {
     "name": "#%%\n",
     "is_executing": true
    }
   }
  },
  {
   "cell_type": "markdown",
   "source": [
    "### t-SNE"
   ],
   "metadata": {
    "collapsed": false,
    "pycharm": {
     "name": "#%% md\n"
    }
   }
  },
  {
   "cell_type": "code",
   "execution_count": null,
   "outputs": [],
   "source": [
    "tsne = TSNE(n_components=2, init='pca', learning_rate='auto')\n",
    "X_tsne = tsne.fit_transform(X_norm_sample)"
   ],
   "metadata": {
    "collapsed": false,
    "pycharm": {
     "name": "#%%\n",
     "is_executing": true
    }
   }
  },
  {
   "cell_type": "code",
   "execution_count": null,
   "outputs": [],
   "source": [],
   "metadata": {
    "collapsed": false,
    "pycharm": {
     "name": "#%%\n",
     "is_executing": true
    }
   }
  },
  {
   "cell_type": "markdown",
   "source": [
    "### K-Means Clustering"
   ],
   "metadata": {
    "collapsed": false,
    "pycharm": {
     "name": "#%% md\n"
    }
   }
  },
  {
   "cell_type": "markdown",
   "source": [
    "#### First tryout"
   ],
   "metadata": {
    "collapsed": false,
    "pycharm": {
     "name": "#%% md\n"
    }
   }
  },
  {
   "cell_type": "code",
   "execution_count": null,
   "outputs": [],
   "source": [
    "kmeans_cluster = KMeans(n_clusters=3, verbose=0, random_state=0)\n",
    "kmeans_cluster.fit(X_norm_sample)\n",
    "\n",
    "# kmeans_cluster.labels_"
   ],
   "metadata": {
    "collapsed": false,
    "pycharm": {
     "name": "#%%\n",
     "is_executing": true
    }
   }
  },
  {
   "cell_type": "code",
   "execution_count": null,
   "outputs": [],
   "source": [
    "kmeans_cluster.inertia_"
   ],
   "metadata": {
    "collapsed": false,
    "pycharm": {
     "name": "#%%\n",
     "is_executing": true
    }
   }
  },
  {
   "cell_type": "code",
   "execution_count": null,
   "outputs": [],
   "source": [
    "silh = silhouette_score(X_norm_sample, kmeans_cluster.labels_)\n",
    "silh"
   ],
   "metadata": {
    "collapsed": false,
    "pycharm": {
     "name": "#%%\n",
     "is_executing": true
    }
   }
  },
  {
   "cell_type": "markdown",
   "source": [
    "##### Visualizing"
   ],
   "metadata": {
    "collapsed": false,
    "pycharm": {
     "name": "#%% md\n"
    }
   }
  },
  {
   "cell_type": "code",
   "execution_count": null,
   "outputs": [],
   "source": [
    "fig = plt.figure(figsize=(12, 5))\n",
    "\n",
    "ax = fig.add_subplot(121) # 1 en ordonnée / 2 en abcs / celle là la premiere\n",
    "ax.scatter(x=X_pca_sample[:, 0], y=X_pca_sample[:, 1], c=kmeans_cluster.labels_) # colorier en fct etiquette deu clusterning\n",
    "plt.title(\"Visualizing clusters with PCA\")\n",
    "\n",
    "ax = fig.add_subplot(122) # 1 en ordonnée / 2 en abcs / celle là la premiere\n",
    "ax.scatter(x=X_tsne[:,0], y=X_tsne[:,1], c=kmeans_cluster.labels_) # palette=sns.color_palette(\"hls\", n_colors=num_clusters)\n",
    "plt.title('Principal Components projection with t-SNE')\n"
   ],
   "metadata": {
    "collapsed": false,
    "pycharm": {
     "name": "#%%\n",
     "is_executing": true
    }
   }
  },
  {
   "cell_type": "code",
   "execution_count": null,
   "outputs": [],
   "source": [
    "plt.figure(figsize=(12, 5))\n",
    "\n",
    "ax1 = plt.subplot(1, 2, 1)\n",
    "sns.scatterplot(\n",
    "    x=X_pca_sample[:, 0], y=X_pca_sample[:, 1],\n",
    "    hue=kmeans_cluster.labels_,\n",
    "    ax=ax1\n",
    ")\n",
    "\n",
    "ax2 = plt.subplot(1, 2, 2)\n",
    "sns.scatterplot(\n",
    "    x=X_tsne[:,0], y=X_tsne[:,1],\n",
    "    hue=kmeans_cluster.labels_,\n",
    "    ax=ax2\n",
    ")"
   ],
   "metadata": {
    "collapsed": false,
    "pycharm": {
     "name": "#%%\n",
     "is_executing": true
    }
   }
  },
  {
   "cell_type": "markdown",
   "source": [
    "#### Searching the best number of clusters K"
   ],
   "metadata": {
    "collapsed": false,
    "pycharm": {
     "name": "#%% md\n"
    }
   }
  },
  {
   "cell_type": "code",
   "execution_count": null,
   "outputs": [],
   "source": [
    "inertia = {}\n",
    "dict_kmeans = {}\n",
    "\n",
    "for num_clusters in range(1, 25):\n",
    "    print(\"\\n\\nTrying K =\", num_clusters, end='\\n')\n",
    "    kmeans_cluster = KMeans(n_clusters=num_clusters,\n",
    "                    verbose=1,\n",
    "                    random_state=0).fit(X_norm_sample)\n",
    "    inertia[num_clusters] = kmeans_cluster.inertia_\n",
    "    dict_kmeans[num_clusters] = kmeans_cluster"
   ],
   "metadata": {
    "collapsed": false,
    "pycharm": {
     "name": "#%%\n",
     "is_executing": true
    }
   }
  },
  {
   "cell_type": "code",
   "execution_count": null,
   "outputs": [],
   "source": [
    "inertia"
   ],
   "metadata": {
    "collapsed": false,
    "pycharm": {
     "name": "#%%\n",
     "is_executing": true
    }
   }
  },
  {
   "cell_type": "code",
   "execution_count": null,
   "outputs": [],
   "source": [
    "print(\"K-Means minimises the inertia / intra-custer Variance.\")\n",
    "\n",
    "plt.figure(figsize=(8, 5))\n",
    "plt.title('K-Means: The sum of inertia as a function of the number of clusters.')\n",
    "sns.lineplot(x=list(inertia.keys()), y=list(inertia.values()))"
   ],
   "metadata": {
    "collapsed": false,
    "pycharm": {
     "name": "#%%\n",
     "is_executing": true
    }
   }
  },
  {
   "cell_type": "code",
   "execution_count": null,
   "outputs": [],
   "source": [
    "silhouettes = []\n",
    "for num_clusters in range(2, 25):\n",
    "    cls = KMeans(n_clusters=num_clusters, random_state=0) # #init='random', n_init=1)\n",
    "    cls.fit(X_norm_sample)\n",
    "    silh = silhouette_score(X_norm_sample, cls.labels_)\n",
    "    silhouettes.append(silh)\n",
    "\n",
    "print(\"We want the silhouette score to be close to 1.\")\n",
    "plt.plot(range(2, 25), silhouettes, marker='o')"
   ],
   "metadata": {
    "collapsed": false,
    "pycharm": {
     "name": "#%%\n",
     "is_executing": true
    }
   }
  },
  {
   "cell_type": "code",
   "execution_count": null,
   "outputs": [],
   "source": [],
   "metadata": {
    "collapsed": false,
    "pycharm": {
     "name": "#%%\n",
     "is_executing": true
    }
   }
  },
  {
   "cell_type": "markdown",
   "source": [
    "### Hierarchical clustering"
   ],
   "metadata": {
    "collapsed": false,
    "pycharm": {
     "name": "#%% md\n"
    }
   }
  },
  {
   "cell_type": "code",
   "execution_count": null,
   "outputs": [],
   "source": [
    "hierarchical_cls = AgglomerativeClustering().fit(X_norm_sample) # n_clusters=5"
   ],
   "metadata": {
    "collapsed": false,
    "pycharm": {
     "name": "#%%\n",
     "is_executing": true
    }
   }
  },
  {
   "cell_type": "code",
   "execution_count": null,
   "outputs": [],
   "source": [
    "hierarchical_cls"
   ],
   "metadata": {
    "collapsed": false,
    "pycharm": {
     "name": "#%%\n",
     "is_executing": true
    }
   }
  },
  {
   "cell_type": "code",
   "execution_count": null,
   "outputs": [],
   "source": [
    "hierarchical_cls.labels_"
   ],
   "metadata": {
    "collapsed": false,
    "pycharm": {
     "name": "#%%\n",
     "is_executing": true
    }
   }
  },
  {
   "cell_type": "code",
   "execution_count": null,
   "outputs": [],
   "source": [
    "hierarchical_cls.n_clusters"
   ],
   "metadata": {
    "collapsed": false,
    "pycharm": {
     "name": "#%%\n",
     "is_executing": true
    }
   }
  },
  {
   "cell_type": "code",
   "execution_count": null,
   "outputs": [],
   "source": [
    "fig = plt.figure(figsize=(12, 5))\n",
    "\n",
    "ax = fig.add_subplot(121) # 1 en ordonnée / 2 en abcs / celle là la premiere\n",
    "ax.scatter(x=X_pca_sample[:, 0], y=X_pca_sample[:, 1], c=hierarchical_cls.labels_) # colorier en fct etiquette deu clusterning\n",
    "plt.title(\"Visualizing clusters with PCA\")\n",
    "\n",
    "ax = fig.add_subplot(122) # 1 en ordonnée / 2 en abcs / celle là la premiere\n",
    "ax.scatter(x=X_tsne[:,0], y=X_tsne[:,1], c=hierarchical_cls.labels_) # palette=sns.color_palette(\"hls\", n_colors=num_clusters)\n",
    "plt.title('Principal Components projection with t-SNE')\n"
   ],
   "metadata": {
    "collapsed": false,
    "pycharm": {
     "name": "#%%\n",
     "is_executing": true
    }
   }
  },
  {
   "cell_type": "code",
   "execution_count": null,
   "outputs": [],
   "source": [
    "silhouette_score(X_norm_sample, hierarchical_cls.labels_)"
   ],
   "metadata": {
    "collapsed": false,
    "pycharm": {
     "name": "#%%\n",
     "is_executing": true
    }
   }
  },
  {
   "cell_type": "code",
   "execution_count": null,
   "outputs": [],
   "source": [],
   "metadata": {
    "collapsed": false,
    "pycharm": {
     "name": "#%%\n",
     "is_executing": true
    }
   }
  },
  {
   "cell_type": "markdown",
   "source": [
    "### Segmentation : RFM Score (Giving a rank to each customer based on RFM using K-Means)"
   ],
   "metadata": {
    "collapsed": false,
    "pycharm": {
     "name": "#%% md\n"
    }
   }
  },
  {
   "cell_type": "markdown",
   "source": [
    "##### Clustering RFM variables using K-Means"
   ],
   "metadata": {
    "collapsed": false,
    "pycharm": {
     "name": "#%% md\n"
    }
   }
  },
  {
   "cell_type": "code",
   "execution_count": null,
   "outputs": [],
   "source": [
    "kmeans_cluster = KMeans(n_clusters=4, random_state=0)"
   ],
   "metadata": {
    "collapsed": false,
    "pycharm": {
     "name": "#%%\n",
     "is_executing": true
    }
   }
  },
  {
   "cell_type": "code",
   "execution_count": null,
   "outputs": [],
   "source": [
    "rfm_columns = ['Recency','Frequency','Monetary']"
   ],
   "metadata": {
    "collapsed": false,
    "pycharm": {
     "name": "#%%\n",
     "is_executing": true
    }
   }
  },
  {
   "cell_type": "code",
   "execution_count": null,
   "outputs": [],
   "source": [
    "rfm_clustering = apply_kmeans_per_column(dataset_rfm, rfm_columns, kmeans_cluster, n_clusters=4)"
   ],
   "metadata": {
    "collapsed": false,
    "pycharm": {
     "name": "#%%\n",
     "is_executing": true
    }
   }
  },
  {
   "cell_type": "code",
   "execution_count": null,
   "outputs": [],
   "source": [
    "display(rfm_clustering)"
   ],
   "metadata": {
    "collapsed": false,
    "pycharm": {
     "name": "#%%\n",
     "is_executing": true
    }
   }
  },
  {
   "cell_type": "markdown",
   "source": [
    "##### Segmentation as a function of RFM criteria : getting ideas"
   ],
   "metadata": {
    "collapsed": false,
    "pycharm": {
     "name": "#%% md\n"
    }
   }
  },
  {
   "cell_type": "code",
   "execution_count": null,
   "outputs": [],
   "source": [
    "#rfm_clustering[\"RFM_score\"] = rfm_clustering[\"Recency_cluster\"] * 100 + rfm_clustering[\"Frequency_cluster\"] * 10 + rfm_clustering[\"Monetary_cluster\"]\n",
    "rfm_clustering['RFM_score'] = rfm_clustering.Recency_cluster.astype(str) + rfm_clustering.Frequency_cluster.astype(str) + rfm_clustering.Monetary_cluster.astype(str)\n",
    "\n",
    "display(rfm_clustering)"
   ],
   "metadata": {
    "collapsed": false,
    "pycharm": {
     "name": "#%%\n",
     "is_executing": true
    }
   }
  },
  {
   "cell_type": "code",
   "execution_count": null,
   "outputs": [],
   "source": [
    "rfm_clustering[[\"RFM_score\"]].value_counts()"
   ],
   "metadata": {
    "collapsed": false,
    "pycharm": {
     "name": "#%%\n",
     "is_executing": true
    }
   }
  },
  {
   "cell_type": "code",
   "execution_count": null,
   "outputs": [],
   "source": [
    "print(\"We have {} combinaisons possible here.\".format(rfm_clustering[\"RFM_score\"].nunique()))\n",
    "\n",
    "n_clusters = 4\n",
    "rfm_variables = 3\n",
    "print(\"In theory, we would have {} combinaisons.\".format(n_clusters ** rfm_variables))"
   ],
   "metadata": {
    "collapsed": false,
    "pycharm": {
     "name": "#%%\n",
     "is_executing": true
    }
   }
  },
  {
   "cell_type": "code",
   "execution_count": null,
   "outputs": [],
   "source": [
    "data = rfm_clustering['RFM_score']\n",
    "\n",
    "fig = plt.figure(figsize=(12, 5))\n",
    "data.value_counts().plot(kind='bar');"
   ],
   "metadata": {
    "collapsed": false,
    "pycharm": {
     "name": "#%%\n",
     "is_executing": true
    }
   }
  },
  {
   "cell_type": "markdown",
   "source": [
    "##### Specifying each cluster with describe"
   ],
   "metadata": {
    "collapsed": false,
    "pycharm": {
     "name": "#%% md\n"
    }
   }
  },
  {
   "cell_type": "code",
   "execution_count": null,
   "outputs": [],
   "source": [
    "description_clustering = rfm_clustering.copy()\n",
    "\n",
    "for i, rfm_variable in enumerate([\"Recency\", \"Frequency\", \"Monetary\"]):\n",
    "    for j, rfm_cluster in enumerate([\"Recency_cluster\", \"Frequency_cluster\", \"Monetary_cluster\"]):\n",
    "        if i == j:\n",
    "            display(description_clustering[[rfm_cluster, rfm_variable]].groupby(rfm_cluster).describe())"
   ],
   "metadata": {
    "collapsed": false,
    "pycharm": {
     "name": "#%%\n",
     "is_executing": true
    }
   }
  },
  {
   "cell_type": "code",
   "execution_count": null,
   "outputs": [],
   "source": [
    "recency_dict = {\n",
    "    0: \"two_years_ago_\",\n",
    "    1: \"last_year_\",\n",
    "    2: \"4-6_months_ago_\",\n",
    "    3: \"0_4_months_ago_\"\n",
    "}\n",
    "\n",
    "frequency_dict = {\n",
    "    0: \"1_order_\",\n",
    "    1: \"2_orders_\",\n",
    "    2: \"3_to_4_orders_\",\n",
    "    3: \"more_than_5_orders_\"\n",
    "}\n",
    "\n",
    "# 1 euro = 0.2 BRL\n",
    "monetary_dict = {\n",
    "    0: \"up_to_176_BRL\",\n",
    "    1: \"up_to_551_BRL\",\n",
    "    2: \"up_to_1521_BRL\",\n",
    "    3: \"up_to_13440_BRL\"\n",
    "}"
   ],
   "metadata": {
    "collapsed": false,
    "pycharm": {
     "name": "#%%\n",
     "is_executing": true
    }
   }
  },
  {
   "cell_type": "markdown",
   "source": [
    "##### Segmentation"
   ],
   "metadata": {
    "collapsed": false,
    "pycharm": {
     "name": "#%% md\n"
    }
   }
  },
  {
   "cell_type": "code",
   "execution_count": null,
   "outputs": [],
   "source": [
    "rfm_clustering['Classification'] = 'none'\n",
    "\n",
    "#filter_ = (rfm_clustering['Classification'] == 'none')\n",
    "\n",
    "# Most present type of customers\n",
    "rfm_clustering.loc[(rfm_clustering['Recency_cluster'] == 2) & # bought recently\n",
    "                   (rfm_clustering['Frequency_cluster'] == 0) & # bought cheap stuff\n",
    "                   (rfm_clustering['Monetary_cluster'] == 0) # bought once\n",
    "                   & (rfm_clustering['Classification'] == 'none'), # so that we won't over write classification\n",
    "                   'Classification'] = recency_dict[2]  + frequency_dict[0] + monetary_dict[0]\n",
    "\n",
    "# Most present type of customers\n",
    "rfm_clustering.loc[(rfm_clustering['Recency_cluster'] == 3) & # bought recently\n",
    "                   (rfm_clustering['Frequency_cluster'] == 0) & # bought cheap stuff\n",
    "                   (rfm_clustering['Monetary_cluster'] == 0)\n",
    "                    & (rfm_clustering['Classification'] == 'none'), # bought once\n",
    "                   'Classification'] = recency_dict[3]  + frequency_dict[0] + monetary_dict[0]\n",
    "\n",
    "# Most present type of customers\n",
    "rfm_clustering.loc[(rfm_clustering['Recency_cluster'] == 1) &\n",
    "                   (rfm_clustering['Frequency_cluster'] == 0) & # bought cheap stuff\n",
    "                   (rfm_clustering['Monetary_cluster'] == 0)  # bought once\n",
    "                   & (rfm_clustering['Classification'] == 'none'),\n",
    "                   'Classification'] = recency_dict[1]  + frequency_dict[0] + monetary_dict[0]\n",
    "\n",
    "# Most present type of customers\n",
    "rfm_clustering.loc[(rfm_clustering['Recency_cluster'] == 0) &\n",
    "                   (rfm_clustering['Frequency_cluster'] == 0) & # bought cheap stuff\n",
    "                   (rfm_clustering['Monetary_cluster'] == 0)  # bought once\n",
    "                   & (rfm_clustering['Classification'] == 'none') ,\n",
    "                   'Classification'] = recency_dict[0]  + frequency_dict[0] + monetary_dict[0]\n",
    "\n",
    "\n",
    "#Lowest-spending only_bought_once customers\n",
    "rfm_clustering.loc[(rfm_clustering['Recency_cluster'] <= 1) & # bought recently or not sooo long ago\n",
    "                   (rfm_clustering['Frequency_cluster'] == 0) & # bought once\n",
    "                   (rfm_clustering['Monetary_cluster'] <= 1)  # bought cheap stuff\n",
    "                   & (rfm_clustering['Classification'] == 'none'),\n",
    "                   'Classification'] = recency_dict[1]  + frequency_dict[0] + monetary_dict[1]\n"
   ],
   "metadata": {
    "collapsed": false,
    "pycharm": {
     "name": "#%%\n",
     "is_executing": true
    }
   }
  },
  {
   "cell_type": "code",
   "execution_count": null,
   "outputs": [],
   "source": [
    "#Best Customers\n",
    "rfm_clustering.loc[(rfm_clustering['Recency_cluster'] == 3)\n",
    "                   & (rfm_clustering['Frequency_cluster'] == 3)\n",
    "              & (rfm_clustering['Monetary_cluster'] == 3)#, #\n",
    "                & (rfm_clustering['Classification'] == 'none'),\n",
    "              'Classification'] = 'top_customer'\n",
    "\n",
    "#High-spending New Customers\n",
    "rfm_clustering.loc[(rfm_clustering['Recency_cluster'] == 3) &\n",
    "              (rfm_clustering['Frequency_cluster'] == 0) &\n",
    "              (rfm_clustering['Monetary_cluster'] == 3)#, #\n",
    "                  & (rfm_clustering['Classification'] == 'none'),\n",
    "              'Classification'] = 'high_spending_new_customer'\n",
    "\n",
    "#Lowest-spending active loyal customers\n",
    "rfm_clustering.loc[(rfm_clustering['Recency_cluster'] != 0) &\n",
    "                   (rfm_clustering['Frequency_cluster'] > 0) &\n",
    "              (rfm_clustering['Monetary_cluster'] < 2)#, #\n",
    "                  & (rfm_clustering['Classification'] == 'none'),\n",
    "              'Classification'] = 'low_spending_loyal_customer'\n",
    "\n",
    "#Churned Best Customers\n",
    "rfm_clustering.loc[(rfm_clustering['Recency_cluster'] == 0)\n",
    "              & (rfm_clustering['Frequency_cluster'] > 1)\n",
    "                   & (rfm_clustering['Monetary_cluster'] == 3) #, #\n",
    "                   & (rfm_clustering['Classification'] == 'none'),\n",
    "              'Classification'] = 'churned_top_customer'"
   ],
   "metadata": {
    "collapsed": false,
    "pycharm": {
     "name": "#%%\n",
     "is_executing": true
    }
   }
  },
  {
   "cell_type": "code",
   "execution_count": null,
   "outputs": [],
   "source": [
    "data = rfm_clustering['Classification']\n",
    "\n",
    "data.value_counts()"
   ],
   "metadata": {
    "collapsed": false,
    "pycharm": {
     "name": "#%%\n",
     "is_executing": true
    }
   }
  },
  {
   "cell_type": "code",
   "execution_count": null,
   "outputs": [],
   "source": [
    "data.value_counts().plot(kind='bar');"
   ],
   "metadata": {
    "collapsed": false,
    "pycharm": {
     "name": "#%%\n",
     "is_executing": true
    }
   }
  },
  {
   "cell_type": "code",
   "execution_count": null,
   "outputs": [],
   "source": [
    "print(\"To get a segmentation idea\")\n",
    "rfm_clustering[rfm_clustering['Classification'] == 'none']"
   ],
   "metadata": {
    "collapsed": false,
    "pycharm": {
     "name": "#%%\n",
     "is_executing": true
    }
   }
  },
  {
   "cell_type": "markdown",
   "source": [
    "#### Customer Personas"
   ],
   "metadata": {
    "collapsed": false,
    "pycharm": {
     "name": "#%% md\n"
    }
   }
  },
  {
   "cell_type": "markdown",
   "source": [
    "https://ironfocus.com/blog/rfm-analysis-how-to-increase-your-sales/"
   ],
   "metadata": {
    "collapsed": false,
    "pycharm": {
     "name": "#%% md\n"
    }
   }
  },
  {
   "cell_type": "code",
   "execution_count": null,
   "outputs": [],
   "source": [
    "personas = {\n",
    "    \"Brand Champion\": {\"R\": 3, \"F\": 3, \"M\": 3},\n",
    "    \"Loyal Customers\": {\"R\": 3, \"F\": 3, \"M\": 2},\n",
    "\n",
    "    \"Possibly Alienated_1\": {\"R\": 0, \"F\": 2, \"M\": None},\n",
    "    \"Possibly Alienated_2\": {\"R\": 0, \"F\": 3, \"M\": None},\n",
    "\n",
    "    \"Possibly Alienated_3\": {\"R\": 1, \"F\": 2, \"M\": None},\n",
    "    \"Possibly Alienated_4\": {\"R\": 1, \"F\": 3, \"M\": None},\n",
    "\n",
    "    \"New Customers\": {\"R\": 3, \"F\": 0, \"M\": None},\n",
    "    \"One-off big spenders\": {\"R\": 0, \"F\": 0, \"M\": 3},\n",
    "    \"Expired leads\": {\"R\": 0, \"F\": 0, \"M\": 0},\n",
    "}"
   ],
   "metadata": {
    "collapsed": false,
    "pycharm": {
     "name": "#%%\n",
     "is_executing": true
    }
   }
  },
  {
   "cell_type": "code",
   "execution_count": null,
   "outputs": [],
   "source": [
    "rfm_clustering['Persona'] = 'none'\n",
    "\n",
    "rfm_clustering.loc[(rfm_clustering['Recency_cluster'] == 3)\n",
    "                   & (rfm_clustering['Frequency_cluster'] == 3)\n",
    "                   & (rfm_clustering['Monetary_cluster'] == 3)\n",
    "                   & (rfm_clustering['Persona'] == 'none'),\n",
    "                   'Persona'] = 'Brand Champion'\n",
    "\n",
    "rfm_clustering.loc[(rfm_clustering['Recency_cluster'] == 3)\n",
    "                   & (rfm_clustering['Frequency_cluster'] == 3)\n",
    "                   & (rfm_clustering['Monetary_cluster'] == 2)\n",
    "                   & (rfm_clustering['Persona'] == 'none'),\n",
    "                   'Persona'] = 'Loyal Customers'\n",
    "\n",
    "rfm_clustering.loc[(rfm_clustering['Recency_cluster'] <= 1) #| (rfm_clustering['Recency_cluster'] == 1)) # 0 or 1\n",
    "                   & ((rfm_clustering['Frequency_cluster'] == 2) | (rfm_clustering['Frequency_cluster'] == 3))\n",
    "                   & (rfm_clustering['Persona'] == 'none'),\n",
    "                   'Persona'] = 'Possibly Alienated'\n",
    "\n",
    "rfm_clustering.loc[(rfm_clustering['Recency_cluster'] == 3) #| (rfm_clustering['Recency_cluster'] == 1)) # 0 or 1\n",
    "                   & (rfm_clustering['Frequency_cluster'] == 0)\n",
    "                   & (rfm_clustering['Persona'] == 'none'),\n",
    "                   'Persona'] = 'New Customers'\n",
    "\n",
    "rfm_clustering.loc[(rfm_clustering['Recency_cluster'] == 0)\n",
    "                   & (rfm_clustering['Frequency_cluster'] == 0)\n",
    "                   & (rfm_clustering['Monetary_cluster'] == 3)\n",
    "                   & (rfm_clustering['Persona'] == 'none'),\n",
    "                   'Persona'] = 'One-off big spenders'\n",
    "\n",
    "rfm_clustering.loc[(rfm_clustering['Recency_cluster'] == 0)\n",
    "                   & (rfm_clustering['Frequency_cluster'] == 0)\n",
    "                   & (rfm_clustering['Monetary_cluster'] == 0)\n",
    "                   & (rfm_clustering['Persona'] == 'none'),\n",
    "                   'Persona'] = 'Expired leads'"
   ],
   "metadata": {
    "collapsed": false,
    "pycharm": {
     "name": "#%%\n",
     "is_executing": true
    }
   }
  },
  {
   "cell_type": "code",
   "execution_count": null,
   "outputs": [],
   "source": [
    "data = rfm_clustering['Persona']\n",
    "\n",
    "data.value_counts()"
   ],
   "metadata": {
    "collapsed": false,
    "pycharm": {
     "name": "#%%\n",
     "is_executing": true
    }
   }
  },
  {
   "cell_type": "code",
   "execution_count": null,
   "outputs": [],
   "source": [
    "data.value_counts().plot(kind='bar');"
   ],
   "metadata": {
    "collapsed": false,
    "pycharm": {
     "name": "#%%\n",
     "is_executing": true
    }
   }
  },
  {
   "cell_type": "code",
   "execution_count": null,
   "outputs": [],
   "source": [],
   "metadata": {
    "collapsed": false,
    "pycharm": {
     "name": "#%%\n",
     "is_executing": true
    }
   }
  },
  {
   "cell_type": "code",
   "execution_count": null,
   "outputs": [],
   "source": [],
   "metadata": {
    "collapsed": false,
    "pycharm": {
     "name": "#%%\n",
     "is_executing": true
    }
   }
  },
  {
   "cell_type": "code",
   "execution_count": null,
   "outputs": [],
   "source": [
    "# End of simulation time\n",
    "t1 = time()\n",
    "print(\"computing time : {:8.6f} sec\".format(t1 - t0))\n",
    "print(\"computing time : \" + strftime('%H:%M:%S', gmtime(t1 - t0)))"
   ],
   "metadata": {
    "collapsed": false,
    "pycharm": {
     "name": "#%%\n",
     "is_executing": true
    }
   }
  }
 ],
 "metadata": {
  "kernelspec": {
   "display_name": "Python 3",
   "language": "python",
   "name": "python3"
  },
  "language_info": {
   "codemirror_mode": {
    "name": "ipython",
    "version": 2
   },
   "file_extension": ".py",
   "mimetype": "text/x-python",
   "name": "python",
   "nbconvert_exporter": "python",
   "pygments_lexer": "ipython2",
   "version": "2.7.6"
  }
 },
 "nbformat": 4,
 "nbformat_minor": 0
}
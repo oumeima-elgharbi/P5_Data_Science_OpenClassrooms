{
 "cells": [
  {
   "cell_type": "code",
   "execution_count": 1,
   "metadata": {
    "collapsed": true,
    "pycharm": {
     "name": "#%%\n"
    }
   },
   "outputs": [
    {
     "data": {
      "application/javascript": "IPython.notebook.set_autosave_interval(300000)"
     },
     "metadata": {},
     "output_type": "display_data"
    },
    {
     "name": "stdout",
     "output_type": "stream",
     "text": [
      "Autosaving every 300 seconds\n"
     ]
    }
   ],
   "source": [
    "%reset -f\n",
    "\n",
    "import pandas as pd\n",
    "import numpy as np\n",
    "import matplotlib.pyplot as plt\n",
    "import seaborn as sns\n",
    "import datetime\n",
    "\n",
    "# to compute time of pipeline\n",
    "from time import time, strftime, gmtime\n",
    "\n",
    "import warnings\n",
    "\n",
    "warnings.filterwarnings(action=\"ignore\")\n",
    "\n",
    "input_path = \"./dataset/source/\"\n",
    "\n",
    "#output_path = \"./dataset/cleaned/\"\n",
    "#output_filename = \"data_cleaned.csv\"\n",
    "\n",
    "# Set file name\n",
    "#raw_dataset_file = \"{}{}\".format(input_path, input_filename)\n",
    "#cleaned_dataset_file = \"{}{}\".format(output_path, output_filename)\n",
    "\n",
    "import warnings\n",
    "warnings.filterwarnings('ignore')\n",
    "#warnings.filterwarnings(action=\"once\")\n",
    "\n",
    "%matplotlib inline\n",
    "%autosave 300"
   ]
  },
  {
   "cell_type": "raw",
   "source": [
    "dataset_customers = \"olist_customers_dataset.csv\"\n",
    "dataset_geolocalion = \"olist_geolocation_dataset.csv\"\n",
    "dataset_order_items = \"olist_order_items_dataset.csv\"\n",
    "dataset_order_payments = \"olist_order_payments_dataset.csv\"\n",
    "dataset_order_reviews = \"olist_order_reviews_dataset.csv\"\n",
    "dataset_orders = \"olist_orders_dataset.csv\"\n",
    "dataset_products = \"olist_products_dataset.csv\"\n",
    "dataset_sellers = \"olist_sellers_dataset.csv\"\n",
    "dataset_product_category_name_translation = \"product_category_name_translation.csv\""
   ],
   "metadata": {
    "collapsed": false,
    "pycharm": {
     "name": "#%% raw\n"
    }
   }
  },
  {
   "cell_type": "code",
   "execution_count": 5,
   "outputs": [],
   "source": [
    "def load_data(path, filename):\n",
    "    \"\"\"\n",
    "    Step 0)\n",
    "    :param path:\n",
    "    :param filename: (string)\n",
    "    :return:\n",
    "    \"\"\"\n",
    "    print(\"___Loading raw dataset___\")\n",
    "\n",
    "    # Load raw data\n",
    "    dataset_file = \"{}{}\".format(path, filename)\n",
    "    dataset = pd.read_csv(dataset_file)\n",
    "\n",
    "    print(\"Initial shape :\", dataset.shape)\n",
    "    return dataset"
   ],
   "metadata": {
    "collapsed": false,
    "pycharm": {
     "name": "#%%\n"
    }
   }
  },
  {
   "cell_type": "code",
   "execution_count": 36,
   "outputs": [
    {
     "name": "stdout",
     "output_type": "stream",
     "text": [
      "['archive.zip', 'olist_customers_dataset.csv', 'olist_geolocation_dataset.csv', 'olist_orders_dataset.csv', 'olist_order_items_dataset.csv', 'olist_order_payments_dataset.csv', 'olist_order_reviews_dataset.csv', 'olist_products_dataset.csv', 'olist_sellers_dataset.csv', 'product_category_name_translation.csv']\n",
      "['olist_customers_dataset.csv', 'olist_geolocation_dataset.csv', 'olist_orders_dataset.csv', 'olist_order_items_dataset.csv', 'olist_order_payments_dataset.csv', 'olist_order_reviews_dataset.csv', 'olist_products_dataset.csv', 'olist_sellers_dataset.csv', 'product_category_name_translation.csv']\n"
     ]
    }
   ],
   "source": [
    "from os import listdir\n",
    "from os.path import isfile, join\n",
    "all_files = [f for f in listdir(input_path) if isfile(join(input_path, f))]\n",
    "\n",
    "all_csv_files = [file for file in all_files if file.endswith(\".csv\")]\n",
    "print(all_files)\n",
    "\n",
    "print(all_csv_files)"
   ],
   "metadata": {
    "collapsed": false,
    "pycharm": {
     "name": "#%%\n"
    }
   }
  },
  {
   "cell_type": "code",
   "execution_count": 38,
   "outputs": [
    {
     "name": "stdout",
     "output_type": "stream",
     "text": [
      "___Loading raw dataset___\n",
      "Initial shape : (99441, 5)\n",
      "This is the dataset n°1 : customers\n"
     ]
    },
    {
     "data": {
      "text/plain": "                        customer_id                customer_unique_id  \\\n0  06b8999e2fba1a1fbc88172c00ba8bc7  861eff4711a542e4b93843c6dd7febb0   \n1  18955e83d337fd6b2def6b18a428ac77  290c77bc529b7ac935b93aa66c333dc3   \n2  4e7b3e00288586ebd08712fdd0374a03  060e732b5b29e8181a18229c7b0b2b5e   \n3  b2b6027bc5c5109e529d4dc6358b12c3  259dac757896d24d7702b9acbbff3f3c   \n4  4f2d8ab171c80ec8364f7c12e35b23ad  345ecd01c38d18a9036ed96c73b8d066   \n5  879864dab9bc3047522c92c82e1212b8  4c93744516667ad3b8f1fb645a3116a4   \n6  fd826e7cf63160e536e0908c76c3f441  addec96d2e059c80c30fe6871d30d177   \n7  5e274e7a0c3809e14aba7ad5aae0d407  57b2a98a409812fe9618067b6b8ebe4f   \n8  5adf08e34b2e993982a47070956c5c65  1175e95fb47ddff9de6b2b06188f7e0d   \n9  4b7139f34592b3a31687243a302fa75b  9afe194fb833f79e300e37e580171f22   \n\n   customer_zip_code_prefix          customer_city customer_state  \n0                     14409                 franca             SP  \n1                      9790  sao bernardo do campo             SP  \n2                      1151              sao paulo             SP  \n3                      8775        mogi das cruzes             SP  \n4                     13056               campinas             SP  \n5                     89254         jaragua do sul             SC  \n6                      4534              sao paulo             SP  \n7                     35182                timoteo             MG  \n8                     81560               curitiba             PR  \n9                     30575         belo horizonte             MG  ",
      "text/html": "<div>\n<style scoped>\n    .dataframe tbody tr th:only-of-type {\n        vertical-align: middle;\n    }\n\n    .dataframe tbody tr th {\n        vertical-align: top;\n    }\n\n    .dataframe thead th {\n        text-align: right;\n    }\n</style>\n<table border=\"1\" class=\"dataframe\">\n  <thead>\n    <tr style=\"text-align: right;\">\n      <th></th>\n      <th>customer_id</th>\n      <th>customer_unique_id</th>\n      <th>customer_zip_code_prefix</th>\n      <th>customer_city</th>\n      <th>customer_state</th>\n    </tr>\n  </thead>\n  <tbody>\n    <tr>\n      <th>0</th>\n      <td>06b8999e2fba1a1fbc88172c00ba8bc7</td>\n      <td>861eff4711a542e4b93843c6dd7febb0</td>\n      <td>14409</td>\n      <td>franca</td>\n      <td>SP</td>\n    </tr>\n    <tr>\n      <th>1</th>\n      <td>18955e83d337fd6b2def6b18a428ac77</td>\n      <td>290c77bc529b7ac935b93aa66c333dc3</td>\n      <td>9790</td>\n      <td>sao bernardo do campo</td>\n      <td>SP</td>\n    </tr>\n    <tr>\n      <th>2</th>\n      <td>4e7b3e00288586ebd08712fdd0374a03</td>\n      <td>060e732b5b29e8181a18229c7b0b2b5e</td>\n      <td>1151</td>\n      <td>sao paulo</td>\n      <td>SP</td>\n    </tr>\n    <tr>\n      <th>3</th>\n      <td>b2b6027bc5c5109e529d4dc6358b12c3</td>\n      <td>259dac757896d24d7702b9acbbff3f3c</td>\n      <td>8775</td>\n      <td>mogi das cruzes</td>\n      <td>SP</td>\n    </tr>\n    <tr>\n      <th>4</th>\n      <td>4f2d8ab171c80ec8364f7c12e35b23ad</td>\n      <td>345ecd01c38d18a9036ed96c73b8d066</td>\n      <td>13056</td>\n      <td>campinas</td>\n      <td>SP</td>\n    </tr>\n    <tr>\n      <th>5</th>\n      <td>879864dab9bc3047522c92c82e1212b8</td>\n      <td>4c93744516667ad3b8f1fb645a3116a4</td>\n      <td>89254</td>\n      <td>jaragua do sul</td>\n      <td>SC</td>\n    </tr>\n    <tr>\n      <th>6</th>\n      <td>fd826e7cf63160e536e0908c76c3f441</td>\n      <td>addec96d2e059c80c30fe6871d30d177</td>\n      <td>4534</td>\n      <td>sao paulo</td>\n      <td>SP</td>\n    </tr>\n    <tr>\n      <th>7</th>\n      <td>5e274e7a0c3809e14aba7ad5aae0d407</td>\n      <td>57b2a98a409812fe9618067b6b8ebe4f</td>\n      <td>35182</td>\n      <td>timoteo</td>\n      <td>MG</td>\n    </tr>\n    <tr>\n      <th>8</th>\n      <td>5adf08e34b2e993982a47070956c5c65</td>\n      <td>1175e95fb47ddff9de6b2b06188f7e0d</td>\n      <td>81560</td>\n      <td>curitiba</td>\n      <td>PR</td>\n    </tr>\n    <tr>\n      <th>9</th>\n      <td>4b7139f34592b3a31687243a302fa75b</td>\n      <td>9afe194fb833f79e300e37e580171f22</td>\n      <td>30575</td>\n      <td>belo horizonte</td>\n      <td>MG</td>\n    </tr>\n  </tbody>\n</table>\n</div>"
     },
     "metadata": {},
     "output_type": "display_data"
    },
    {
     "name": "stdout",
     "output_type": "stream",
     "text": [
      "<class 'pandas.core.frame.DataFrame'>\n",
      "RangeIndex: 99441 entries, 0 to 99440\n",
      "Data columns (total 5 columns):\n",
      " #   Column                    Non-Null Count  Dtype \n",
      "---  ------                    --------------  ----- \n",
      " 0   customer_id               99441 non-null  object\n",
      " 1   customer_unique_id        99441 non-null  object\n",
      " 2   customer_zip_code_prefix  99441 non-null  int64 \n",
      " 3   customer_city             99441 non-null  object\n",
      " 4   customer_state            99441 non-null  object\n",
      "dtypes: int64(1), object(4)\n",
      "memory usage: 3.8+ MB\n"
     ]
    },
    {
     "data": {
      "text/plain": "None"
     },
     "metadata": {},
     "output_type": "display_data"
    },
    {
     "name": "stdout",
     "output_type": "stream",
     "text": [
      "___Loading raw dataset___\n",
      "Initial shape : (1000163, 5)\n",
      "This is the dataset n°2 : geolocation\n"
     ]
    },
    {
     "data": {
      "text/plain": "   geolocation_zip_code_prefix  geolocation_lat  geolocation_lng  \\\n0                         1037       -23.545621       -46.639292   \n1                         1046       -23.546081       -46.644820   \n2                         1046       -23.546129       -46.642951   \n3                         1041       -23.544392       -46.639499   \n4                         1035       -23.541578       -46.641607   \n5                         1012       -23.547762       -46.635361   \n6                         1047       -23.546273       -46.641225   \n7                         1013       -23.546923       -46.634264   \n8                         1029       -23.543769       -46.634278   \n9                         1011       -23.547640       -46.636032   \n\n  geolocation_city geolocation_state  \n0        sao paulo                SP  \n1        sao paulo                SP  \n2        sao paulo                SP  \n3        sao paulo                SP  \n4        sao paulo                SP  \n5        são paulo                SP  \n6        sao paulo                SP  \n7        sao paulo                SP  \n8        sao paulo                SP  \n9        sao paulo                SP  ",
      "text/html": "<div>\n<style scoped>\n    .dataframe tbody tr th:only-of-type {\n        vertical-align: middle;\n    }\n\n    .dataframe tbody tr th {\n        vertical-align: top;\n    }\n\n    .dataframe thead th {\n        text-align: right;\n    }\n</style>\n<table border=\"1\" class=\"dataframe\">\n  <thead>\n    <tr style=\"text-align: right;\">\n      <th></th>\n      <th>geolocation_zip_code_prefix</th>\n      <th>geolocation_lat</th>\n      <th>geolocation_lng</th>\n      <th>geolocation_city</th>\n      <th>geolocation_state</th>\n    </tr>\n  </thead>\n  <tbody>\n    <tr>\n      <th>0</th>\n      <td>1037</td>\n      <td>-23.545621</td>\n      <td>-46.639292</td>\n      <td>sao paulo</td>\n      <td>SP</td>\n    </tr>\n    <tr>\n      <th>1</th>\n      <td>1046</td>\n      <td>-23.546081</td>\n      <td>-46.644820</td>\n      <td>sao paulo</td>\n      <td>SP</td>\n    </tr>\n    <tr>\n      <th>2</th>\n      <td>1046</td>\n      <td>-23.546129</td>\n      <td>-46.642951</td>\n      <td>sao paulo</td>\n      <td>SP</td>\n    </tr>\n    <tr>\n      <th>3</th>\n      <td>1041</td>\n      <td>-23.544392</td>\n      <td>-46.639499</td>\n      <td>sao paulo</td>\n      <td>SP</td>\n    </tr>\n    <tr>\n      <th>4</th>\n      <td>1035</td>\n      <td>-23.541578</td>\n      <td>-46.641607</td>\n      <td>sao paulo</td>\n      <td>SP</td>\n    </tr>\n    <tr>\n      <th>5</th>\n      <td>1012</td>\n      <td>-23.547762</td>\n      <td>-46.635361</td>\n      <td>são paulo</td>\n      <td>SP</td>\n    </tr>\n    <tr>\n      <th>6</th>\n      <td>1047</td>\n      <td>-23.546273</td>\n      <td>-46.641225</td>\n      <td>sao paulo</td>\n      <td>SP</td>\n    </tr>\n    <tr>\n      <th>7</th>\n      <td>1013</td>\n      <td>-23.546923</td>\n      <td>-46.634264</td>\n      <td>sao paulo</td>\n      <td>SP</td>\n    </tr>\n    <tr>\n      <th>8</th>\n      <td>1029</td>\n      <td>-23.543769</td>\n      <td>-46.634278</td>\n      <td>sao paulo</td>\n      <td>SP</td>\n    </tr>\n    <tr>\n      <th>9</th>\n      <td>1011</td>\n      <td>-23.547640</td>\n      <td>-46.636032</td>\n      <td>sao paulo</td>\n      <td>SP</td>\n    </tr>\n  </tbody>\n</table>\n</div>"
     },
     "metadata": {},
     "output_type": "display_data"
    },
    {
     "name": "stdout",
     "output_type": "stream",
     "text": [
      "<class 'pandas.core.frame.DataFrame'>\n",
      "RangeIndex: 1000163 entries, 0 to 1000162\n",
      "Data columns (total 5 columns):\n",
      " #   Column                       Non-Null Count    Dtype  \n",
      "---  ------                       --------------    -----  \n",
      " 0   geolocation_zip_code_prefix  1000163 non-null  int64  \n",
      " 1   geolocation_lat              1000163 non-null  float64\n",
      " 2   geolocation_lng              1000163 non-null  float64\n",
      " 3   geolocation_city             1000163 non-null  object \n",
      " 4   geolocation_state            1000163 non-null  object \n",
      "dtypes: float64(2), int64(1), object(2)\n",
      "memory usage: 38.2+ MB\n"
     ]
    },
    {
     "data": {
      "text/plain": "None"
     },
     "metadata": {},
     "output_type": "display_data"
    },
    {
     "name": "stdout",
     "output_type": "stream",
     "text": [
      "___Loading raw dataset___\n",
      "Initial shape : (99441, 8)\n",
      "This is the dataset n°3 : orders\n"
     ]
    },
    {
     "data": {
      "text/plain": "                           order_id                       customer_id  \\\n0  e481f51cbdc54678b7cc49136f2d6af7  9ef432eb6251297304e76186b10a928d   \n1  53cdb2fc8bc7dce0b6741e2150273451  b0830fb4747a6c6d20dea0b8c802d7ef   \n2  47770eb9100c2d0c44946d9cf07ec65d  41ce2a54c0b03bf3443c3d931a367089   \n3  949d5b44dbf5de918fe9c16f97b45f8a  f88197465ea7920adcdbec7375364d82   \n4  ad21c59c0840e6cb83a9ceb5573f8159  8ab97904e6daea8866dbdbc4fb7aad2c   \n5  a4591c265e18cb1dcee52889e2d8acc3  503740e9ca751ccdda7ba28e9ab8f608   \n6  136cce7faa42fdb2cefd53fdc79a6098  ed0271e0b7da060a393796590e7b737a   \n7  6514b8ad8028c9f2cc2374ded245783f  9bdf08b4b3b52b5526ff42d37d47f222   \n8  76c6e866289321a7c93b82b54852dc33  f54a9f0e6b351c431402b8461ea51999   \n9  e69bfb5eb88e0ed6a785585b27e16dbf  31ad1d1b63eb9962463f764d4e6e0c9d   \n\n  order_status order_purchase_timestamp    order_approved_at  \\\n0    delivered      2017-10-02 10:56:33  2017-10-02 11:07:15   \n1    delivered      2018-07-24 20:41:37  2018-07-26 03:24:27   \n2    delivered      2018-08-08 08:38:49  2018-08-08 08:55:23   \n3    delivered      2017-11-18 19:28:06  2017-11-18 19:45:59   \n4    delivered      2018-02-13 21:18:39  2018-02-13 22:20:29   \n5    delivered      2017-07-09 21:57:05  2017-07-09 22:10:13   \n6     invoiced      2017-04-11 12:22:08  2017-04-13 13:25:17   \n7    delivered      2017-05-16 13:10:30  2017-05-16 13:22:11   \n8    delivered      2017-01-23 18:29:09  2017-01-25 02:50:47   \n9    delivered      2017-07-29 11:55:02  2017-07-29 12:05:32   \n\n  order_delivered_carrier_date order_delivered_customer_date  \\\n0          2017-10-04 19:55:00           2017-10-10 21:25:13   \n1          2018-07-26 14:31:00           2018-08-07 15:27:45   \n2          2018-08-08 13:50:00           2018-08-17 18:06:29   \n3          2017-11-22 13:39:59           2017-12-02 00:28:42   \n4          2018-02-14 19:46:34           2018-02-16 18:17:02   \n5          2017-07-11 14:58:04           2017-07-26 10:57:55   \n6                          NaN                           NaN   \n7          2017-05-22 10:07:46           2017-05-26 12:55:51   \n8          2017-01-26 14:16:31           2017-02-02 14:08:10   \n9          2017-08-10 19:45:24           2017-08-16 17:14:30   \n\n  order_estimated_delivery_date  \n0           2017-10-18 00:00:00  \n1           2018-08-13 00:00:00  \n2           2018-09-04 00:00:00  \n3           2017-12-15 00:00:00  \n4           2018-02-26 00:00:00  \n5           2017-08-01 00:00:00  \n6           2017-05-09 00:00:00  \n7           2017-06-07 00:00:00  \n8           2017-03-06 00:00:00  \n9           2017-08-23 00:00:00  ",
      "text/html": "<div>\n<style scoped>\n    .dataframe tbody tr th:only-of-type {\n        vertical-align: middle;\n    }\n\n    .dataframe tbody tr th {\n        vertical-align: top;\n    }\n\n    .dataframe thead th {\n        text-align: right;\n    }\n</style>\n<table border=\"1\" class=\"dataframe\">\n  <thead>\n    <tr style=\"text-align: right;\">\n      <th></th>\n      <th>order_id</th>\n      <th>customer_id</th>\n      <th>order_status</th>\n      <th>order_purchase_timestamp</th>\n      <th>order_approved_at</th>\n      <th>order_delivered_carrier_date</th>\n      <th>order_delivered_customer_date</th>\n      <th>order_estimated_delivery_date</th>\n    </tr>\n  </thead>\n  <tbody>\n    <tr>\n      <th>0</th>\n      <td>e481f51cbdc54678b7cc49136f2d6af7</td>\n      <td>9ef432eb6251297304e76186b10a928d</td>\n      <td>delivered</td>\n      <td>2017-10-02 10:56:33</td>\n      <td>2017-10-02 11:07:15</td>\n      <td>2017-10-04 19:55:00</td>\n      <td>2017-10-10 21:25:13</td>\n      <td>2017-10-18 00:00:00</td>\n    </tr>\n    <tr>\n      <th>1</th>\n      <td>53cdb2fc8bc7dce0b6741e2150273451</td>\n      <td>b0830fb4747a6c6d20dea0b8c802d7ef</td>\n      <td>delivered</td>\n      <td>2018-07-24 20:41:37</td>\n      <td>2018-07-26 03:24:27</td>\n      <td>2018-07-26 14:31:00</td>\n      <td>2018-08-07 15:27:45</td>\n      <td>2018-08-13 00:00:00</td>\n    </tr>\n    <tr>\n      <th>2</th>\n      <td>47770eb9100c2d0c44946d9cf07ec65d</td>\n      <td>41ce2a54c0b03bf3443c3d931a367089</td>\n      <td>delivered</td>\n      <td>2018-08-08 08:38:49</td>\n      <td>2018-08-08 08:55:23</td>\n      <td>2018-08-08 13:50:00</td>\n      <td>2018-08-17 18:06:29</td>\n      <td>2018-09-04 00:00:00</td>\n    </tr>\n    <tr>\n      <th>3</th>\n      <td>949d5b44dbf5de918fe9c16f97b45f8a</td>\n      <td>f88197465ea7920adcdbec7375364d82</td>\n      <td>delivered</td>\n      <td>2017-11-18 19:28:06</td>\n      <td>2017-11-18 19:45:59</td>\n      <td>2017-11-22 13:39:59</td>\n      <td>2017-12-02 00:28:42</td>\n      <td>2017-12-15 00:00:00</td>\n    </tr>\n    <tr>\n      <th>4</th>\n      <td>ad21c59c0840e6cb83a9ceb5573f8159</td>\n      <td>8ab97904e6daea8866dbdbc4fb7aad2c</td>\n      <td>delivered</td>\n      <td>2018-02-13 21:18:39</td>\n      <td>2018-02-13 22:20:29</td>\n      <td>2018-02-14 19:46:34</td>\n      <td>2018-02-16 18:17:02</td>\n      <td>2018-02-26 00:00:00</td>\n    </tr>\n    <tr>\n      <th>5</th>\n      <td>a4591c265e18cb1dcee52889e2d8acc3</td>\n      <td>503740e9ca751ccdda7ba28e9ab8f608</td>\n      <td>delivered</td>\n      <td>2017-07-09 21:57:05</td>\n      <td>2017-07-09 22:10:13</td>\n      <td>2017-07-11 14:58:04</td>\n      <td>2017-07-26 10:57:55</td>\n      <td>2017-08-01 00:00:00</td>\n    </tr>\n    <tr>\n      <th>6</th>\n      <td>136cce7faa42fdb2cefd53fdc79a6098</td>\n      <td>ed0271e0b7da060a393796590e7b737a</td>\n      <td>invoiced</td>\n      <td>2017-04-11 12:22:08</td>\n      <td>2017-04-13 13:25:17</td>\n      <td>NaN</td>\n      <td>NaN</td>\n      <td>2017-05-09 00:00:00</td>\n    </tr>\n    <tr>\n      <th>7</th>\n      <td>6514b8ad8028c9f2cc2374ded245783f</td>\n      <td>9bdf08b4b3b52b5526ff42d37d47f222</td>\n      <td>delivered</td>\n      <td>2017-05-16 13:10:30</td>\n      <td>2017-05-16 13:22:11</td>\n      <td>2017-05-22 10:07:46</td>\n      <td>2017-05-26 12:55:51</td>\n      <td>2017-06-07 00:00:00</td>\n    </tr>\n    <tr>\n      <th>8</th>\n      <td>76c6e866289321a7c93b82b54852dc33</td>\n      <td>f54a9f0e6b351c431402b8461ea51999</td>\n      <td>delivered</td>\n      <td>2017-01-23 18:29:09</td>\n      <td>2017-01-25 02:50:47</td>\n      <td>2017-01-26 14:16:31</td>\n      <td>2017-02-02 14:08:10</td>\n      <td>2017-03-06 00:00:00</td>\n    </tr>\n    <tr>\n      <th>9</th>\n      <td>e69bfb5eb88e0ed6a785585b27e16dbf</td>\n      <td>31ad1d1b63eb9962463f764d4e6e0c9d</td>\n      <td>delivered</td>\n      <td>2017-07-29 11:55:02</td>\n      <td>2017-07-29 12:05:32</td>\n      <td>2017-08-10 19:45:24</td>\n      <td>2017-08-16 17:14:30</td>\n      <td>2017-08-23 00:00:00</td>\n    </tr>\n  </tbody>\n</table>\n</div>"
     },
     "metadata": {},
     "output_type": "display_data"
    },
    {
     "name": "stdout",
     "output_type": "stream",
     "text": [
      "<class 'pandas.core.frame.DataFrame'>\n",
      "RangeIndex: 99441 entries, 0 to 99440\n",
      "Data columns (total 8 columns):\n",
      " #   Column                         Non-Null Count  Dtype \n",
      "---  ------                         --------------  ----- \n",
      " 0   order_id                       99441 non-null  object\n",
      " 1   customer_id                    99441 non-null  object\n",
      " 2   order_status                   99441 non-null  object\n",
      " 3   order_purchase_timestamp       99441 non-null  object\n",
      " 4   order_approved_at              99281 non-null  object\n",
      " 5   order_delivered_carrier_date   97658 non-null  object\n",
      " 6   order_delivered_customer_date  96476 non-null  object\n",
      " 7   order_estimated_delivery_date  99441 non-null  object\n",
      "dtypes: object(8)\n",
      "memory usage: 6.1+ MB\n"
     ]
    },
    {
     "data": {
      "text/plain": "None"
     },
     "metadata": {},
     "output_type": "display_data"
    },
    {
     "name": "stdout",
     "output_type": "stream",
     "text": [
      "___Loading raw dataset___\n",
      "Initial shape : (112650, 7)\n",
      "This is the dataset n°4 : order\n"
     ]
    },
    {
     "data": {
      "text/plain": "                           order_id  order_item_id  \\\n0  00010242fe8c5a6d1ba2dd792cb16214              1   \n1  00018f77f2f0320c557190d7a144bdd3              1   \n2  000229ec398224ef6ca0657da4fc703e              1   \n3  00024acbcdf0a6daa1e931b038114c75              1   \n4  00042b26cf59d7ce69dfabb4e55b4fd9              1   \n5  00048cc3ae777c65dbb7d2a0634bc1ea              1   \n6  00054e8431b9d7675808bcb819fb4a32              1   \n7  000576fe39319847cbb9d288c5617fa6              1   \n8  0005a1a1728c9d785b8e2b08b904576c              1   \n9  0005f50442cb953dcd1d21e1fb923495              1   \n\n                         product_id                         seller_id  \\\n0  4244733e06e7ecb4970a6e2683c13e61  48436dade18ac8b2bce089ec2a041202   \n1  e5f2d52b802189ee658865ca93d83a8f  dd7ddc04e1b6c2c614352b383efe2d36   \n2  c777355d18b72b67abbeef9df44fd0fd  5b51032eddd242adc84c38acab88f23d   \n3  7634da152a4610f1595efa32f14722fc  9d7a1d34a5052409006425275ba1c2b4   \n4  ac6c3623068f30de03045865e4e10089  df560393f3a51e74553ab94004ba5c87   \n5  ef92defde845ab8450f9d70c526ef70f  6426d21aca402a131fc0a5d0960a3c90   \n6  8d4f2bb7e93e6710a28f34fa83ee7d28  7040e82f899a04d1b434b795a43b4617   \n7  557d850972a7d6f792fd18ae1400d9b6  5996cddab893a4652a15592fb58ab8db   \n8  310ae3c140ff94b03219ad0adc3c778f  a416b6a846a11724393025641d4edd5e   \n9  4535b0e1091c278dfd193e5a1d63b39f  ba143b05f0110f0dc71ad71b4466ce92   \n\n   shipping_limit_date   price  freight_value  \n0  2017-09-19 09:45:35   58.90          13.29  \n1  2017-05-03 11:05:13  239.90          19.93  \n2  2018-01-18 14:48:30  199.00          17.87  \n3  2018-08-15 10:10:18   12.99          12.79  \n4  2017-02-13 13:57:51  199.90          18.14  \n5  2017-05-23 03:55:27   21.90          12.69  \n6  2017-12-14 12:10:31   19.90          11.85  \n7  2018-07-10 12:30:45  810.00          70.75  \n8  2018-03-26 18:31:29  145.95          11.65  \n9  2018-07-06 14:10:56   53.99          11.40  ",
      "text/html": "<div>\n<style scoped>\n    .dataframe tbody tr th:only-of-type {\n        vertical-align: middle;\n    }\n\n    .dataframe tbody tr th {\n        vertical-align: top;\n    }\n\n    .dataframe thead th {\n        text-align: right;\n    }\n</style>\n<table border=\"1\" class=\"dataframe\">\n  <thead>\n    <tr style=\"text-align: right;\">\n      <th></th>\n      <th>order_id</th>\n      <th>order_item_id</th>\n      <th>product_id</th>\n      <th>seller_id</th>\n      <th>shipping_limit_date</th>\n      <th>price</th>\n      <th>freight_value</th>\n    </tr>\n  </thead>\n  <tbody>\n    <tr>\n      <th>0</th>\n      <td>00010242fe8c5a6d1ba2dd792cb16214</td>\n      <td>1</td>\n      <td>4244733e06e7ecb4970a6e2683c13e61</td>\n      <td>48436dade18ac8b2bce089ec2a041202</td>\n      <td>2017-09-19 09:45:35</td>\n      <td>58.90</td>\n      <td>13.29</td>\n    </tr>\n    <tr>\n      <th>1</th>\n      <td>00018f77f2f0320c557190d7a144bdd3</td>\n      <td>1</td>\n      <td>e5f2d52b802189ee658865ca93d83a8f</td>\n      <td>dd7ddc04e1b6c2c614352b383efe2d36</td>\n      <td>2017-05-03 11:05:13</td>\n      <td>239.90</td>\n      <td>19.93</td>\n    </tr>\n    <tr>\n      <th>2</th>\n      <td>000229ec398224ef6ca0657da4fc703e</td>\n      <td>1</td>\n      <td>c777355d18b72b67abbeef9df44fd0fd</td>\n      <td>5b51032eddd242adc84c38acab88f23d</td>\n      <td>2018-01-18 14:48:30</td>\n      <td>199.00</td>\n      <td>17.87</td>\n    </tr>\n    <tr>\n      <th>3</th>\n      <td>00024acbcdf0a6daa1e931b038114c75</td>\n      <td>1</td>\n      <td>7634da152a4610f1595efa32f14722fc</td>\n      <td>9d7a1d34a5052409006425275ba1c2b4</td>\n      <td>2018-08-15 10:10:18</td>\n      <td>12.99</td>\n      <td>12.79</td>\n    </tr>\n    <tr>\n      <th>4</th>\n      <td>00042b26cf59d7ce69dfabb4e55b4fd9</td>\n      <td>1</td>\n      <td>ac6c3623068f30de03045865e4e10089</td>\n      <td>df560393f3a51e74553ab94004ba5c87</td>\n      <td>2017-02-13 13:57:51</td>\n      <td>199.90</td>\n      <td>18.14</td>\n    </tr>\n    <tr>\n      <th>5</th>\n      <td>00048cc3ae777c65dbb7d2a0634bc1ea</td>\n      <td>1</td>\n      <td>ef92defde845ab8450f9d70c526ef70f</td>\n      <td>6426d21aca402a131fc0a5d0960a3c90</td>\n      <td>2017-05-23 03:55:27</td>\n      <td>21.90</td>\n      <td>12.69</td>\n    </tr>\n    <tr>\n      <th>6</th>\n      <td>00054e8431b9d7675808bcb819fb4a32</td>\n      <td>1</td>\n      <td>8d4f2bb7e93e6710a28f34fa83ee7d28</td>\n      <td>7040e82f899a04d1b434b795a43b4617</td>\n      <td>2017-12-14 12:10:31</td>\n      <td>19.90</td>\n      <td>11.85</td>\n    </tr>\n    <tr>\n      <th>7</th>\n      <td>000576fe39319847cbb9d288c5617fa6</td>\n      <td>1</td>\n      <td>557d850972a7d6f792fd18ae1400d9b6</td>\n      <td>5996cddab893a4652a15592fb58ab8db</td>\n      <td>2018-07-10 12:30:45</td>\n      <td>810.00</td>\n      <td>70.75</td>\n    </tr>\n    <tr>\n      <th>8</th>\n      <td>0005a1a1728c9d785b8e2b08b904576c</td>\n      <td>1</td>\n      <td>310ae3c140ff94b03219ad0adc3c778f</td>\n      <td>a416b6a846a11724393025641d4edd5e</td>\n      <td>2018-03-26 18:31:29</td>\n      <td>145.95</td>\n      <td>11.65</td>\n    </tr>\n    <tr>\n      <th>9</th>\n      <td>0005f50442cb953dcd1d21e1fb923495</td>\n      <td>1</td>\n      <td>4535b0e1091c278dfd193e5a1d63b39f</td>\n      <td>ba143b05f0110f0dc71ad71b4466ce92</td>\n      <td>2018-07-06 14:10:56</td>\n      <td>53.99</td>\n      <td>11.40</td>\n    </tr>\n  </tbody>\n</table>\n</div>"
     },
     "metadata": {},
     "output_type": "display_data"
    },
    {
     "name": "stdout",
     "output_type": "stream",
     "text": [
      "<class 'pandas.core.frame.DataFrame'>\n",
      "RangeIndex: 112650 entries, 0 to 112649\n",
      "Data columns (total 7 columns):\n",
      " #   Column               Non-Null Count   Dtype  \n",
      "---  ------               --------------   -----  \n",
      " 0   order_id             112650 non-null  object \n",
      " 1   order_item_id        112650 non-null  int64  \n",
      " 2   product_id           112650 non-null  object \n",
      " 3   seller_id            112650 non-null  object \n",
      " 4   shipping_limit_date  112650 non-null  object \n",
      " 5   price                112650 non-null  float64\n",
      " 6   freight_value        112650 non-null  float64\n",
      "dtypes: float64(2), int64(1), object(4)\n",
      "memory usage: 6.0+ MB\n"
     ]
    },
    {
     "data": {
      "text/plain": "None"
     },
     "metadata": {},
     "output_type": "display_data"
    },
    {
     "name": "stdout",
     "output_type": "stream",
     "text": [
      "___Loading raw dataset___\n",
      "Initial shape : (103886, 5)\n",
      "This is the dataset n°5 : order\n"
     ]
    },
    {
     "data": {
      "text/plain": "                           order_id  payment_sequential payment_type  \\\n0  b81ef226f3fe1789b1e8b2acac839d17                   1  credit_card   \n1  a9810da82917af2d9aefd1278f1dcfa0                   1  credit_card   \n2  25e8ea4e93396b6fa0d3dd708e76c1bd                   1  credit_card   \n3  ba78997921bbcdc1373bb41e913ab953                   1  credit_card   \n4  42fdf880ba16b47b59251dd489d4441a                   1  credit_card   \n5  298fcdf1f73eb413e4d26d01b25bc1cd                   1  credit_card   \n6  771ee386b001f06208a7419e4fc1bbd7                   1  credit_card   \n7  3d7239c394a212faae122962df514ac7                   1  credit_card   \n8  1f78449c87a54faf9e96e88ba1491fa9                   1  credit_card   \n9  0573b5e23cbd798006520e1d5b4c6714                   1       boleto   \n\n   payment_installments  payment_value  \n0                     8          99.33  \n1                     1          24.39  \n2                     1          65.71  \n3                     8         107.78  \n4                     2         128.45  \n5                     2          96.12  \n6                     1          81.16  \n7                     3          51.84  \n8                     6         341.09  \n9                     1          51.95  ",
      "text/html": "<div>\n<style scoped>\n    .dataframe tbody tr th:only-of-type {\n        vertical-align: middle;\n    }\n\n    .dataframe tbody tr th {\n        vertical-align: top;\n    }\n\n    .dataframe thead th {\n        text-align: right;\n    }\n</style>\n<table border=\"1\" class=\"dataframe\">\n  <thead>\n    <tr style=\"text-align: right;\">\n      <th></th>\n      <th>order_id</th>\n      <th>payment_sequential</th>\n      <th>payment_type</th>\n      <th>payment_installments</th>\n      <th>payment_value</th>\n    </tr>\n  </thead>\n  <tbody>\n    <tr>\n      <th>0</th>\n      <td>b81ef226f3fe1789b1e8b2acac839d17</td>\n      <td>1</td>\n      <td>credit_card</td>\n      <td>8</td>\n      <td>99.33</td>\n    </tr>\n    <tr>\n      <th>1</th>\n      <td>a9810da82917af2d9aefd1278f1dcfa0</td>\n      <td>1</td>\n      <td>credit_card</td>\n      <td>1</td>\n      <td>24.39</td>\n    </tr>\n    <tr>\n      <th>2</th>\n      <td>25e8ea4e93396b6fa0d3dd708e76c1bd</td>\n      <td>1</td>\n      <td>credit_card</td>\n      <td>1</td>\n      <td>65.71</td>\n    </tr>\n    <tr>\n      <th>3</th>\n      <td>ba78997921bbcdc1373bb41e913ab953</td>\n      <td>1</td>\n      <td>credit_card</td>\n      <td>8</td>\n      <td>107.78</td>\n    </tr>\n    <tr>\n      <th>4</th>\n      <td>42fdf880ba16b47b59251dd489d4441a</td>\n      <td>1</td>\n      <td>credit_card</td>\n      <td>2</td>\n      <td>128.45</td>\n    </tr>\n    <tr>\n      <th>5</th>\n      <td>298fcdf1f73eb413e4d26d01b25bc1cd</td>\n      <td>1</td>\n      <td>credit_card</td>\n      <td>2</td>\n      <td>96.12</td>\n    </tr>\n    <tr>\n      <th>6</th>\n      <td>771ee386b001f06208a7419e4fc1bbd7</td>\n      <td>1</td>\n      <td>credit_card</td>\n      <td>1</td>\n      <td>81.16</td>\n    </tr>\n    <tr>\n      <th>7</th>\n      <td>3d7239c394a212faae122962df514ac7</td>\n      <td>1</td>\n      <td>credit_card</td>\n      <td>3</td>\n      <td>51.84</td>\n    </tr>\n    <tr>\n      <th>8</th>\n      <td>1f78449c87a54faf9e96e88ba1491fa9</td>\n      <td>1</td>\n      <td>credit_card</td>\n      <td>6</td>\n      <td>341.09</td>\n    </tr>\n    <tr>\n      <th>9</th>\n      <td>0573b5e23cbd798006520e1d5b4c6714</td>\n      <td>1</td>\n      <td>boleto</td>\n      <td>1</td>\n      <td>51.95</td>\n    </tr>\n  </tbody>\n</table>\n</div>"
     },
     "metadata": {},
     "output_type": "display_data"
    },
    {
     "name": "stdout",
     "output_type": "stream",
     "text": [
      "<class 'pandas.core.frame.DataFrame'>\n",
      "RangeIndex: 103886 entries, 0 to 103885\n",
      "Data columns (total 5 columns):\n",
      " #   Column                Non-Null Count   Dtype  \n",
      "---  ------                --------------   -----  \n",
      " 0   order_id              103886 non-null  object \n",
      " 1   payment_sequential    103886 non-null  int64  \n",
      " 2   payment_type          103886 non-null  object \n",
      " 3   payment_installments  103886 non-null  int64  \n",
      " 4   payment_value         103886 non-null  float64\n",
      "dtypes: float64(1), int64(2), object(2)\n",
      "memory usage: 4.0+ MB\n"
     ]
    },
    {
     "data": {
      "text/plain": "None"
     },
     "metadata": {},
     "output_type": "display_data"
    },
    {
     "name": "stdout",
     "output_type": "stream",
     "text": [
      "___Loading raw dataset___\n",
      "Initial shape : (99224, 7)\n",
      "This is the dataset n°6 : order\n"
     ]
    },
    {
     "data": {
      "text/plain": "                          review_id                          order_id  \\\n0  7bc2406110b926393aa56f80a40eba40  73fc7af87114b39712e6da79b0a377eb   \n1  80e641a11e56f04c1ad469d5645fdfde  a548910a1c6147796b98fdf73dbeba33   \n2  228ce5500dc1d8e020d8d1322874b6f0  f9e4b658b201a9f2ecdecbb34bed034b   \n3  e64fb393e7b32834bb789ff8bb30750e  658677c97b385a9be170737859d3511b   \n4  f7c4243c7fe1938f181bec41a392bdeb  8e6bfb81e283fa7e4f11123a3fb894f1   \n5  15197aa66ff4d0650b5434f1b46cda19  b18dcdf73be66366873cd26c5724d1dc   \n6  07f9bee5d1b850860defd761afa7ff16  e48aa0d2dcec3a2e87348811bcfdf22b   \n7  7c6400515c67679fbee952a7525281ef  c31a859e34e3adac22f376954e19b39d   \n8  a3f6f7f6f433de0aefbb97da197c554c  9c214ac970e84273583ab523dfafd09b   \n9  8670d52e15e00043ae7de4c01cc2fe06  b9bf720beb4ab3728760088589c62129   \n\n   review_score review_comment_title  \\\n0             4                  NaN   \n1             5                  NaN   \n2             5                  NaN   \n3             5                  NaN   \n4             5                  NaN   \n5             1                  NaN   \n6             5                  NaN   \n7             5                  NaN   \n8             5                  NaN   \n9             4            recomendo   \n\n                              review_comment_message review_creation_date  \\\n0                                                NaN  2018-01-18 00:00:00   \n1                                                NaN  2018-03-10 00:00:00   \n2                                                NaN  2018-02-17 00:00:00   \n3              Recebi bem antes do prazo estipulado.  2017-04-21 00:00:00   \n4  Parabéns lojas lannister adorei comprar pela I...  2018-03-01 00:00:00   \n5                                                NaN  2018-04-13 00:00:00   \n6                                                NaN  2017-07-16 00:00:00   \n7                                                NaN  2018-08-14 00:00:00   \n8                                                NaN  2017-05-17 00:00:00   \n9  aparelho eficiente. no site a marca do aparelh...  2018-05-22 00:00:00   \n\n  review_answer_timestamp  \n0     2018-01-18 21:46:59  \n1     2018-03-11 03:05:13  \n2     2018-02-18 14:36:24  \n3     2017-04-21 22:02:06  \n4     2018-03-02 10:26:53  \n5     2018-04-16 00:39:37  \n6     2017-07-18 19:30:34  \n7     2018-08-14 21:36:06  \n8     2017-05-18 12:05:37  \n9     2018-05-23 16:45:47  ",
      "text/html": "<div>\n<style scoped>\n    .dataframe tbody tr th:only-of-type {\n        vertical-align: middle;\n    }\n\n    .dataframe tbody tr th {\n        vertical-align: top;\n    }\n\n    .dataframe thead th {\n        text-align: right;\n    }\n</style>\n<table border=\"1\" class=\"dataframe\">\n  <thead>\n    <tr style=\"text-align: right;\">\n      <th></th>\n      <th>review_id</th>\n      <th>order_id</th>\n      <th>review_score</th>\n      <th>review_comment_title</th>\n      <th>review_comment_message</th>\n      <th>review_creation_date</th>\n      <th>review_answer_timestamp</th>\n    </tr>\n  </thead>\n  <tbody>\n    <tr>\n      <th>0</th>\n      <td>7bc2406110b926393aa56f80a40eba40</td>\n      <td>73fc7af87114b39712e6da79b0a377eb</td>\n      <td>4</td>\n      <td>NaN</td>\n      <td>NaN</td>\n      <td>2018-01-18 00:00:00</td>\n      <td>2018-01-18 21:46:59</td>\n    </tr>\n    <tr>\n      <th>1</th>\n      <td>80e641a11e56f04c1ad469d5645fdfde</td>\n      <td>a548910a1c6147796b98fdf73dbeba33</td>\n      <td>5</td>\n      <td>NaN</td>\n      <td>NaN</td>\n      <td>2018-03-10 00:00:00</td>\n      <td>2018-03-11 03:05:13</td>\n    </tr>\n    <tr>\n      <th>2</th>\n      <td>228ce5500dc1d8e020d8d1322874b6f0</td>\n      <td>f9e4b658b201a9f2ecdecbb34bed034b</td>\n      <td>5</td>\n      <td>NaN</td>\n      <td>NaN</td>\n      <td>2018-02-17 00:00:00</td>\n      <td>2018-02-18 14:36:24</td>\n    </tr>\n    <tr>\n      <th>3</th>\n      <td>e64fb393e7b32834bb789ff8bb30750e</td>\n      <td>658677c97b385a9be170737859d3511b</td>\n      <td>5</td>\n      <td>NaN</td>\n      <td>Recebi bem antes do prazo estipulado.</td>\n      <td>2017-04-21 00:00:00</td>\n      <td>2017-04-21 22:02:06</td>\n    </tr>\n    <tr>\n      <th>4</th>\n      <td>f7c4243c7fe1938f181bec41a392bdeb</td>\n      <td>8e6bfb81e283fa7e4f11123a3fb894f1</td>\n      <td>5</td>\n      <td>NaN</td>\n      <td>Parabéns lojas lannister adorei comprar pela I...</td>\n      <td>2018-03-01 00:00:00</td>\n      <td>2018-03-02 10:26:53</td>\n    </tr>\n    <tr>\n      <th>5</th>\n      <td>15197aa66ff4d0650b5434f1b46cda19</td>\n      <td>b18dcdf73be66366873cd26c5724d1dc</td>\n      <td>1</td>\n      <td>NaN</td>\n      <td>NaN</td>\n      <td>2018-04-13 00:00:00</td>\n      <td>2018-04-16 00:39:37</td>\n    </tr>\n    <tr>\n      <th>6</th>\n      <td>07f9bee5d1b850860defd761afa7ff16</td>\n      <td>e48aa0d2dcec3a2e87348811bcfdf22b</td>\n      <td>5</td>\n      <td>NaN</td>\n      <td>NaN</td>\n      <td>2017-07-16 00:00:00</td>\n      <td>2017-07-18 19:30:34</td>\n    </tr>\n    <tr>\n      <th>7</th>\n      <td>7c6400515c67679fbee952a7525281ef</td>\n      <td>c31a859e34e3adac22f376954e19b39d</td>\n      <td>5</td>\n      <td>NaN</td>\n      <td>NaN</td>\n      <td>2018-08-14 00:00:00</td>\n      <td>2018-08-14 21:36:06</td>\n    </tr>\n    <tr>\n      <th>8</th>\n      <td>a3f6f7f6f433de0aefbb97da197c554c</td>\n      <td>9c214ac970e84273583ab523dfafd09b</td>\n      <td>5</td>\n      <td>NaN</td>\n      <td>NaN</td>\n      <td>2017-05-17 00:00:00</td>\n      <td>2017-05-18 12:05:37</td>\n    </tr>\n    <tr>\n      <th>9</th>\n      <td>8670d52e15e00043ae7de4c01cc2fe06</td>\n      <td>b9bf720beb4ab3728760088589c62129</td>\n      <td>4</td>\n      <td>recomendo</td>\n      <td>aparelho eficiente. no site a marca do aparelh...</td>\n      <td>2018-05-22 00:00:00</td>\n      <td>2018-05-23 16:45:47</td>\n    </tr>\n  </tbody>\n</table>\n</div>"
     },
     "metadata": {},
     "output_type": "display_data"
    },
    {
     "name": "stdout",
     "output_type": "stream",
     "text": [
      "<class 'pandas.core.frame.DataFrame'>\n",
      "RangeIndex: 99224 entries, 0 to 99223\n",
      "Data columns (total 7 columns):\n",
      " #   Column                   Non-Null Count  Dtype \n",
      "---  ------                   --------------  ----- \n",
      " 0   review_id                99224 non-null  object\n",
      " 1   order_id                 99224 non-null  object\n",
      " 2   review_score             99224 non-null  int64 \n",
      " 3   review_comment_title     11568 non-null  object\n",
      " 4   review_comment_message   40977 non-null  object\n",
      " 5   review_creation_date     99224 non-null  object\n",
      " 6   review_answer_timestamp  99224 non-null  object\n",
      "dtypes: int64(1), object(6)\n",
      "memory usage: 5.3+ MB\n"
     ]
    },
    {
     "data": {
      "text/plain": "None"
     },
     "metadata": {},
     "output_type": "display_data"
    },
    {
     "name": "stdout",
     "output_type": "stream",
     "text": [
      "___Loading raw dataset___\n",
      "Initial shape : (32951, 9)\n",
      "This is the dataset n°7 : products\n"
     ]
    },
    {
     "data": {
      "text/plain": "                         product_id  product_category_name  \\\n0  1e9e8ef04dbcff4541ed26657ea517e5             perfumaria   \n1  3aa071139cb16b67ca9e5dea641aaa2f                  artes   \n2  96bd76ec8810374ed1b65e291975717f          esporte_lazer   \n3  cef67bcfe19066a932b7673e239eb23d                  bebes   \n4  9dc1a7de274444849c219cff195d0b71  utilidades_domesticas   \n5  41d3672d4792049fa1779bb35283ed13  instrumentos_musicais   \n6  732bd381ad09e530fe0a5f457d81becb             cool_stuff   \n7  2548af3e6e77a690cf3eb6368e9ab61e       moveis_decoracao   \n8  37cc742be07708b53a98702e77a21a02       eletrodomesticos   \n9  8c92109888e8cdf9d66dc7e463025574             brinquedos   \n\n   product_name_lenght  product_description_lenght  product_photos_qty  \\\n0                 40.0                       287.0                 1.0   \n1                 44.0                       276.0                 1.0   \n2                 46.0                       250.0                 1.0   \n3                 27.0                       261.0                 1.0   \n4                 37.0                       402.0                 4.0   \n5                 60.0                       745.0                 1.0   \n6                 56.0                      1272.0                 4.0   \n7                 56.0                       184.0                 2.0   \n8                 57.0                       163.0                 1.0   \n9                 36.0                      1156.0                 1.0   \n\n   product_weight_g  product_length_cm  product_height_cm  product_width_cm  \n0             225.0               16.0               10.0              14.0  \n1            1000.0               30.0               18.0              20.0  \n2             154.0               18.0                9.0              15.0  \n3             371.0               26.0                4.0              26.0  \n4             625.0               20.0               17.0              13.0  \n5             200.0               38.0                5.0              11.0  \n6           18350.0               70.0               24.0              44.0  \n7             900.0               40.0                8.0              40.0  \n8             400.0               27.0               13.0              17.0  \n9             600.0               17.0               10.0              12.0  ",
      "text/html": "<div>\n<style scoped>\n    .dataframe tbody tr th:only-of-type {\n        vertical-align: middle;\n    }\n\n    .dataframe tbody tr th {\n        vertical-align: top;\n    }\n\n    .dataframe thead th {\n        text-align: right;\n    }\n</style>\n<table border=\"1\" class=\"dataframe\">\n  <thead>\n    <tr style=\"text-align: right;\">\n      <th></th>\n      <th>product_id</th>\n      <th>product_category_name</th>\n      <th>product_name_lenght</th>\n      <th>product_description_lenght</th>\n      <th>product_photos_qty</th>\n      <th>product_weight_g</th>\n      <th>product_length_cm</th>\n      <th>product_height_cm</th>\n      <th>product_width_cm</th>\n    </tr>\n  </thead>\n  <tbody>\n    <tr>\n      <th>0</th>\n      <td>1e9e8ef04dbcff4541ed26657ea517e5</td>\n      <td>perfumaria</td>\n      <td>40.0</td>\n      <td>287.0</td>\n      <td>1.0</td>\n      <td>225.0</td>\n      <td>16.0</td>\n      <td>10.0</td>\n      <td>14.0</td>\n    </tr>\n    <tr>\n      <th>1</th>\n      <td>3aa071139cb16b67ca9e5dea641aaa2f</td>\n      <td>artes</td>\n      <td>44.0</td>\n      <td>276.0</td>\n      <td>1.0</td>\n      <td>1000.0</td>\n      <td>30.0</td>\n      <td>18.0</td>\n      <td>20.0</td>\n    </tr>\n    <tr>\n      <th>2</th>\n      <td>96bd76ec8810374ed1b65e291975717f</td>\n      <td>esporte_lazer</td>\n      <td>46.0</td>\n      <td>250.0</td>\n      <td>1.0</td>\n      <td>154.0</td>\n      <td>18.0</td>\n      <td>9.0</td>\n      <td>15.0</td>\n    </tr>\n    <tr>\n      <th>3</th>\n      <td>cef67bcfe19066a932b7673e239eb23d</td>\n      <td>bebes</td>\n      <td>27.0</td>\n      <td>261.0</td>\n      <td>1.0</td>\n      <td>371.0</td>\n      <td>26.0</td>\n      <td>4.0</td>\n      <td>26.0</td>\n    </tr>\n    <tr>\n      <th>4</th>\n      <td>9dc1a7de274444849c219cff195d0b71</td>\n      <td>utilidades_domesticas</td>\n      <td>37.0</td>\n      <td>402.0</td>\n      <td>4.0</td>\n      <td>625.0</td>\n      <td>20.0</td>\n      <td>17.0</td>\n      <td>13.0</td>\n    </tr>\n    <tr>\n      <th>5</th>\n      <td>41d3672d4792049fa1779bb35283ed13</td>\n      <td>instrumentos_musicais</td>\n      <td>60.0</td>\n      <td>745.0</td>\n      <td>1.0</td>\n      <td>200.0</td>\n      <td>38.0</td>\n      <td>5.0</td>\n      <td>11.0</td>\n    </tr>\n    <tr>\n      <th>6</th>\n      <td>732bd381ad09e530fe0a5f457d81becb</td>\n      <td>cool_stuff</td>\n      <td>56.0</td>\n      <td>1272.0</td>\n      <td>4.0</td>\n      <td>18350.0</td>\n      <td>70.0</td>\n      <td>24.0</td>\n      <td>44.0</td>\n    </tr>\n    <tr>\n      <th>7</th>\n      <td>2548af3e6e77a690cf3eb6368e9ab61e</td>\n      <td>moveis_decoracao</td>\n      <td>56.0</td>\n      <td>184.0</td>\n      <td>2.0</td>\n      <td>900.0</td>\n      <td>40.0</td>\n      <td>8.0</td>\n      <td>40.0</td>\n    </tr>\n    <tr>\n      <th>8</th>\n      <td>37cc742be07708b53a98702e77a21a02</td>\n      <td>eletrodomesticos</td>\n      <td>57.0</td>\n      <td>163.0</td>\n      <td>1.0</td>\n      <td>400.0</td>\n      <td>27.0</td>\n      <td>13.0</td>\n      <td>17.0</td>\n    </tr>\n    <tr>\n      <th>9</th>\n      <td>8c92109888e8cdf9d66dc7e463025574</td>\n      <td>brinquedos</td>\n      <td>36.0</td>\n      <td>1156.0</td>\n      <td>1.0</td>\n      <td>600.0</td>\n      <td>17.0</td>\n      <td>10.0</td>\n      <td>12.0</td>\n    </tr>\n  </tbody>\n</table>\n</div>"
     },
     "metadata": {},
     "output_type": "display_data"
    },
    {
     "name": "stdout",
     "output_type": "stream",
     "text": [
      "<class 'pandas.core.frame.DataFrame'>\n",
      "RangeIndex: 32951 entries, 0 to 32950\n",
      "Data columns (total 9 columns):\n",
      " #   Column                      Non-Null Count  Dtype  \n",
      "---  ------                      --------------  -----  \n",
      " 0   product_id                  32951 non-null  object \n",
      " 1   product_category_name       32341 non-null  object \n",
      " 2   product_name_lenght         32341 non-null  float64\n",
      " 3   product_description_lenght  32341 non-null  float64\n",
      " 4   product_photos_qty          32341 non-null  float64\n",
      " 5   product_weight_g            32949 non-null  float64\n",
      " 6   product_length_cm           32949 non-null  float64\n",
      " 7   product_height_cm           32949 non-null  float64\n",
      " 8   product_width_cm            32949 non-null  float64\n",
      "dtypes: float64(7), object(2)\n",
      "memory usage: 2.3+ MB\n"
     ]
    },
    {
     "data": {
      "text/plain": "None"
     },
     "metadata": {},
     "output_type": "display_data"
    },
    {
     "name": "stdout",
     "output_type": "stream",
     "text": [
      "___Loading raw dataset___\n",
      "Initial shape : (3095, 4)\n",
      "This is the dataset n°8 : sellers\n"
     ]
    },
    {
     "data": {
      "text/plain": "                          seller_id  seller_zip_code_prefix  \\\n0  3442f8959a84dea7ee197c632cb2df15                   13023   \n1  d1b65fc7debc3361ea86b5f14c68d2e2                   13844   \n2  ce3ad9de960102d0677a81f5d0bb7b2d                   20031   \n3  c0f3eea2e14555b6faeea3dd58c1b1c3                    4195   \n4  51a04a8a6bdcb23deccc82b0b80742cf                   12914   \n5  c240c4061717ac1806ae6ee72be3533b                   20920   \n6  e49c26c3edfa46d227d5121a6b6e4d37                   55325   \n7  1b938a7ec6ac5061a66a3766e0e75f90                   16304   \n8  768a86e36ad6aae3d03ee3c6433d61df                    1529   \n9  ccc4bbb5f32a6ab2b7066a4130f114e3                   80310   \n\n         seller_city seller_state  \n0           campinas           SP  \n1         mogi guacu           SP  \n2     rio de janeiro           RJ  \n3          sao paulo           SP  \n4  braganca paulista           SP  \n5     rio de janeiro           RJ  \n6             brejao           PE  \n7          penapolis           SP  \n8          sao paulo           SP  \n9           curitiba           PR  ",
      "text/html": "<div>\n<style scoped>\n    .dataframe tbody tr th:only-of-type {\n        vertical-align: middle;\n    }\n\n    .dataframe tbody tr th {\n        vertical-align: top;\n    }\n\n    .dataframe thead th {\n        text-align: right;\n    }\n</style>\n<table border=\"1\" class=\"dataframe\">\n  <thead>\n    <tr style=\"text-align: right;\">\n      <th></th>\n      <th>seller_id</th>\n      <th>seller_zip_code_prefix</th>\n      <th>seller_city</th>\n      <th>seller_state</th>\n    </tr>\n  </thead>\n  <tbody>\n    <tr>\n      <th>0</th>\n      <td>3442f8959a84dea7ee197c632cb2df15</td>\n      <td>13023</td>\n      <td>campinas</td>\n      <td>SP</td>\n    </tr>\n    <tr>\n      <th>1</th>\n      <td>d1b65fc7debc3361ea86b5f14c68d2e2</td>\n      <td>13844</td>\n      <td>mogi guacu</td>\n      <td>SP</td>\n    </tr>\n    <tr>\n      <th>2</th>\n      <td>ce3ad9de960102d0677a81f5d0bb7b2d</td>\n      <td>20031</td>\n      <td>rio de janeiro</td>\n      <td>RJ</td>\n    </tr>\n    <tr>\n      <th>3</th>\n      <td>c0f3eea2e14555b6faeea3dd58c1b1c3</td>\n      <td>4195</td>\n      <td>sao paulo</td>\n      <td>SP</td>\n    </tr>\n    <tr>\n      <th>4</th>\n      <td>51a04a8a6bdcb23deccc82b0b80742cf</td>\n      <td>12914</td>\n      <td>braganca paulista</td>\n      <td>SP</td>\n    </tr>\n    <tr>\n      <th>5</th>\n      <td>c240c4061717ac1806ae6ee72be3533b</td>\n      <td>20920</td>\n      <td>rio de janeiro</td>\n      <td>RJ</td>\n    </tr>\n    <tr>\n      <th>6</th>\n      <td>e49c26c3edfa46d227d5121a6b6e4d37</td>\n      <td>55325</td>\n      <td>brejao</td>\n      <td>PE</td>\n    </tr>\n    <tr>\n      <th>7</th>\n      <td>1b938a7ec6ac5061a66a3766e0e75f90</td>\n      <td>16304</td>\n      <td>penapolis</td>\n      <td>SP</td>\n    </tr>\n    <tr>\n      <th>8</th>\n      <td>768a86e36ad6aae3d03ee3c6433d61df</td>\n      <td>1529</td>\n      <td>sao paulo</td>\n      <td>SP</td>\n    </tr>\n    <tr>\n      <th>9</th>\n      <td>ccc4bbb5f32a6ab2b7066a4130f114e3</td>\n      <td>80310</td>\n      <td>curitiba</td>\n      <td>PR</td>\n    </tr>\n  </tbody>\n</table>\n</div>"
     },
     "metadata": {},
     "output_type": "display_data"
    },
    {
     "name": "stdout",
     "output_type": "stream",
     "text": [
      "<class 'pandas.core.frame.DataFrame'>\n",
      "RangeIndex: 3095 entries, 0 to 3094\n",
      "Data columns (total 4 columns):\n",
      " #   Column                  Non-Null Count  Dtype \n",
      "---  ------                  --------------  ----- \n",
      " 0   seller_id               3095 non-null   object\n",
      " 1   seller_zip_code_prefix  3095 non-null   int64 \n",
      " 2   seller_city             3095 non-null   object\n",
      " 3   seller_state            3095 non-null   object\n",
      "dtypes: int64(1), object(3)\n",
      "memory usage: 96.8+ KB\n"
     ]
    },
    {
     "data": {
      "text/plain": "None"
     },
     "metadata": {},
     "output_type": "display_data"
    },
    {
     "name": "stdout",
     "output_type": "stream",
     "text": [
      "___Loading raw dataset___\n",
      "Initial shape : (71, 2)\n",
      "This is the dataset n°9 : product_category_name_translation\n"
     ]
    },
    {
     "data": {
      "text/plain": "    product_category_name product_category_name_english\n0            beleza_saude                 health_beauty\n1  informatica_acessorios         computers_accessories\n2              automotivo                          auto\n3         cama_mesa_banho                bed_bath_table\n4        moveis_decoracao               furniture_decor\n5           esporte_lazer                sports_leisure\n6              perfumaria                     perfumery\n7   utilidades_domesticas                    housewares\n8               telefonia                     telephony\n9      relogios_presentes                 watches_gifts",
      "text/html": "<div>\n<style scoped>\n    .dataframe tbody tr th:only-of-type {\n        vertical-align: middle;\n    }\n\n    .dataframe tbody tr th {\n        vertical-align: top;\n    }\n\n    .dataframe thead th {\n        text-align: right;\n    }\n</style>\n<table border=\"1\" class=\"dataframe\">\n  <thead>\n    <tr style=\"text-align: right;\">\n      <th></th>\n      <th>product_category_name</th>\n      <th>product_category_name_english</th>\n    </tr>\n  </thead>\n  <tbody>\n    <tr>\n      <th>0</th>\n      <td>beleza_saude</td>\n      <td>health_beauty</td>\n    </tr>\n    <tr>\n      <th>1</th>\n      <td>informatica_acessorios</td>\n      <td>computers_accessories</td>\n    </tr>\n    <tr>\n      <th>2</th>\n      <td>automotivo</td>\n      <td>auto</td>\n    </tr>\n    <tr>\n      <th>3</th>\n      <td>cama_mesa_banho</td>\n      <td>bed_bath_table</td>\n    </tr>\n    <tr>\n      <th>4</th>\n      <td>moveis_decoracao</td>\n      <td>furniture_decor</td>\n    </tr>\n    <tr>\n      <th>5</th>\n      <td>esporte_lazer</td>\n      <td>sports_leisure</td>\n    </tr>\n    <tr>\n      <th>6</th>\n      <td>perfumaria</td>\n      <td>perfumery</td>\n    </tr>\n    <tr>\n      <th>7</th>\n      <td>utilidades_domesticas</td>\n      <td>housewares</td>\n    </tr>\n    <tr>\n      <th>8</th>\n      <td>telefonia</td>\n      <td>telephony</td>\n    </tr>\n    <tr>\n      <th>9</th>\n      <td>relogios_presentes</td>\n      <td>watches_gifts</td>\n    </tr>\n  </tbody>\n</table>\n</div>"
     },
     "metadata": {},
     "output_type": "display_data"
    },
    {
     "name": "stdout",
     "output_type": "stream",
     "text": [
      "<class 'pandas.core.frame.DataFrame'>\n",
      "RangeIndex: 71 entries, 0 to 70\n",
      "Data columns (total 2 columns):\n",
      " #   Column                         Non-Null Count  Dtype \n",
      "---  ------                         --------------  ----- \n",
      " 0   product_category_name          71 non-null     object\n",
      " 1   product_category_name_english  71 non-null     object\n",
      "dtypes: object(2)\n",
      "memory usage: 1.2+ KB\n"
     ]
    },
    {
     "data": {
      "text/plain": "None"
     },
     "metadata": {},
     "output_type": "display_data"
    }
   ],
   "source": [
    "for index, dataset_csv in enumerate(all_csv_files):\n",
    "    name = dataset_csv.split(\".\")[0]\n",
    "    if name.startswith(\"olist\"):\n",
    "        name = name.split(\"_\")[1]\n",
    "        #print(name)\n",
    "    #else:\n",
    "    #    print(name)\n",
    "    #continue\n",
    "    #print(name)\n",
    "    globals()[\"dataset_\" + name] = load_data(input_path, dataset_csv)\n",
    "    df = globals()[\"dataset_\" + name]\n",
    "\n",
    "    print(\"This is the dataset n°{} : {}\".format(index + 1, name))\n",
    "    display(df.head(10))\n",
    "    display(df.info())"
   ],
   "metadata": {
    "collapsed": false,
    "pycharm": {
     "name": "#%%\n"
    }
   }
  }
 ],
 "metadata": {
  "kernelspec": {
   "display_name": "Python 3",
   "language": "python",
   "name": "python3"
  },
  "language_info": {
   "codemirror_mode": {
    "name": "ipython",
    "version": 2
   },
   "file_extension": ".py",
   "mimetype": "text/x-python",
   "name": "python",
   "nbconvert_exporter": "python",
   "pygments_lexer": "ipython2",
   "version": "2.7.6"
  }
 },
 "nbformat": 4,
 "nbformat_minor": 0
}
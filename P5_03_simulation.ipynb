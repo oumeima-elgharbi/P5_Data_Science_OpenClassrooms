{
 "cells": [
  {
   "cell_type": "markdown",
   "source": [
    "- OpenClassrooms Project 5, Data Scientist\n",
    "- Author : Oumeima EL GHARBI\n",
    "- Date : September, October 2022"
   ],
   "metadata": {
    "collapsed": false,
    "pycharm": {
     "name": "#%% md\n"
    }
   }
  },
  {
   "cell_type": "markdown",
   "source": [
    "## Part III : Predictive maintenance of clustering"
   ],
   "metadata": {
    "collapsed": false,
    "pycharm": {
     "name": "#%% md\n"
    }
   }
  },
  {
   "cell_type": "markdown",
   "source": [
    "In this last notebook, we want to determine the number of days the segmentation predicted is stable (meaning the number of days the clustering predicts correctly the different clusters).\n",
    "\n",
    "We will create different datasets from T0 to Tn where Tn will be the dataset will all the data / customers.\n",
    "We will fit/predict at each period T a new clustering and we will predict a clustering using the kmeans used at T0.\n",
    "\n",
    "We will compare these two clustering at T using the ARI score and a Confusion Matrix.\n",
    "\n",
    "The aim is to determine the number of days / weeks the segmentation is well predicted by the initial clustering.\n",
    "\n",
    "- We made two simulations\n",
    "- Simulation 1 : over 9 months, every 15 days.\n",
    "- Simulation 2 : over 3 months, every 7 days.\n"
   ],
   "metadata": {
    "collapsed": false,
    "pycharm": {
     "name": "#%% md\n"
    }
   }
  },
  {
   "cell_type": "markdown",
   "source": [
    "### Importing libraries"
   ],
   "metadata": {
    "collapsed": false,
    "pycharm": {
     "name": "#%% md\n"
    }
   }
  },
  {
   "cell_type": "code",
   "execution_count": 1,
   "outputs": [
    {
     "data": {
      "application/javascript": "IPython.notebook.set_autosave_interval(300000)"
     },
     "metadata": {},
     "output_type": "display_data"
    },
    {
     "name": "stdout",
     "output_type": "stream",
     "text": [
      "Autosaving every 300 seconds\n"
     ]
    }
   ],
   "source": [
    "import pandas as pd\n",
    "%reset -f\n",
    "\n",
    "from simulation_functions import *\n",
    "from functions import *\n",
    "from graphing_functions import *\n",
    "\n",
    "import pickle\n",
    "\n",
    "# to compute time of pipeline\n",
    "from time import time, strftime, gmtime\n",
    "\n",
    "%matplotlib inline\n",
    "%autosave 300"
   ],
   "metadata": {
    "collapsed": false,
    "pycharm": {
     "name": "#%%\n"
    }
   }
  },
  {
   "cell_type": "code",
   "execution_count": 2,
   "outputs": [],
   "source": [
    "# Starting time\n",
    "t0 = time()\n",
    "\n",
    "input_path = \"./dataset/cleaned/\"\n",
    "input_filename = \"merged_dataset.csv\"\n",
    "\n",
    "simulation_path = \"./dataset/simulation/\"\n",
    "experiment_1_path = simulation_path + \"/experiment_1/\"\n",
    "experiment_2_path = simulation_path + \"/experiment_2/\""
   ],
   "metadata": {
    "collapsed": false,
    "pycharm": {
     "name": "#%%\n"
    }
   }
  },
  {
   "cell_type": "markdown",
   "source": [
    "### Importing dataset"
   ],
   "metadata": {
    "collapsed": false,
    "pycharm": {
     "name": "#%% md\n"
    }
   }
  },
  {
   "cell_type": "code",
   "execution_count": 3,
   "outputs": [
    {
     "name": "stdout",
     "output_type": "stream",
     "text": [
      "___Loading raw dataset___\n",
      "Initial shape : (112650, 18)\n"
     ]
    }
   ],
   "source": [
    "data = load_data(input_path, input_filename)"
   ],
   "metadata": {
    "collapsed": false,
    "pycharm": {
     "name": "#%%\n"
    }
   }
  },
  {
   "cell_type": "code",
   "execution_count": 4,
   "outputs": [
    {
     "data": {
      "text/plain": "                                order_id                       customer_id  \\\n0       e481f51cbdc54678b7cc49136f2d6af7  9ef432eb6251297304e76186b10a928d   \n1       53cdb2fc8bc7dce0b6741e2150273451  b0830fb4747a6c6d20dea0b8c802d7ef   \n2       47770eb9100c2d0c44946d9cf07ec65d  41ce2a54c0b03bf3443c3d931a367089   \n3       949d5b44dbf5de918fe9c16f97b45f8a  f88197465ea7920adcdbec7375364d82   \n4       ad21c59c0840e6cb83a9ceb5573f8159  8ab97904e6daea8866dbdbc4fb7aad2c   \n...                                  ...                               ...   \n112645  63943bddc261676b46f01ca7ac2f7bd8  1fca14ff2861355f6e5f14306ff977a7   \n112646  83c1379a015df1e13d02aae0204711ab  1aa71eb042121263aafbe80c1b562c9c   \n112647  11c177c8e97725db2631073c19f07b62  b331b74b18dc79bcdf6532d51e1637c1   \n112648  11c177c8e97725db2631073c19f07b62  b331b74b18dc79bcdf6532d51e1637c1   \n112649  66dea50a8b16d9b4dee7af250b4be1a5  edb027a75a1449115f6b43211ae02a24   \n\n       order_status order_purchase_timestamp    order_approved_at  \\\n0         delivered      2017-10-02 10:56:33  2017-10-02 11:07:15   \n1         delivered      2018-07-24 20:41:37  2018-07-26 03:24:27   \n2         delivered      2018-08-08 08:38:49  2018-08-08 08:55:23   \n3         delivered      2017-11-18 19:28:06  2017-11-18 19:45:59   \n4         delivered      2018-02-13 21:18:39  2018-02-13 22:20:29   \n...             ...                      ...                  ...   \n112645    delivered      2018-02-06 12:58:58  2018-02-06 13:10:37   \n112646    delivered      2017-08-27 14:46:43  2017-08-27 15:04:16   \n112647    delivered      2018-01-08 21:28:27  2018-01-08 21:36:21   \n112648    delivered      2018-01-08 21:28:27  2018-01-08 21:36:21   \n112649    delivered      2018-03-08 20:57:30  2018-03-09 11:20:28   \n\n       order_delivered_carrier_date order_delivered_customer_date  \\\n0               2017-10-04 19:55:00           2017-10-10 21:25:13   \n1               2018-07-26 14:31:00           2018-08-07 15:27:45   \n2               2018-08-08 13:50:00           2018-08-17 18:06:29   \n3               2017-11-22 13:39:59           2017-12-02 00:28:42   \n4               2018-02-14 19:46:34           2018-02-16 18:17:02   \n...                             ...                           ...   \n112645          2018-02-07 23:22:42           2018-02-28 17:37:56   \n112646          2017-08-28 20:52:26           2017-09-21 11:24:17   \n112647          2018-01-12 15:35:03           2018-01-25 23:32:54   \n112648          2018-01-12 15:35:03           2018-01-25 23:32:54   \n112649          2018-03-09 22:11:59           2018-03-16 13:08:30   \n\n       order_estimated_delivery_date                customer_unique_id  \\\n0                2017-10-18 00:00:00  7c396fd4830fd04220f754e42b4e5bff   \n1                2018-08-13 00:00:00  af07308b275d755c9edb36a90c618231   \n2                2018-09-04 00:00:00  3a653a41f6f9fc3d2a113cf8398680e8   \n3                2017-12-15 00:00:00  7c142cf63193a1473d2e66489a9ae977   \n4                2018-02-26 00:00:00  72632f0f9dd73dfee390c9b22eb56dd6   \n...                              ...                               ...   \n112645           2018-03-02 00:00:00  da62f9e57a76d978d02ab5362c509660   \n112646           2017-09-27 00:00:00  737520a9aad80b3fbbdad19b66b37b30   \n112647           2018-02-15 00:00:00  5097a5312c8b157bb7be58ae360ef43c   \n112648           2018-02-15 00:00:00  5097a5312c8b157bb7be58ae360ef43c   \n112649           2018-04-03 00:00:00  60350aa974b26ff12caad89e55993bd6   \n\n        customer_zip_code_prefix            customer_city customer_state  \\\n0                           3149                sao paulo             SP   \n1                          47813                barreiras             BA   \n2                          75265               vianopolis             GO   \n3                          59296  sao goncalo do amarante             RN   \n4                           9195              santo andre             SP   \n...                          ...                      ...            ...   \n112645                     11722             praia grande             SP   \n112646                     45920              nova vicosa             BA   \n112647                     28685                  japuiba             RJ   \n112648                     28685                  japuiba             RJ   \n112649                     83750                     lapa             PR   \n\n        order_item_id                        product_id  \\\n0                   1  87285b34884572647811a353c7ac498a   \n1                   1  595fac2a385ac33a80bd5114aec74eb8   \n2                   1  aa4383b373c6aca5d8797843e5594415   \n3                   1  d0b61bfb1de832b15ba9d266ca96e5b0   \n4                   1  65266b2da20d04dbe00c5c2d3bb7859e   \n...               ...                               ...   \n112645              1  f1d4ce8c6dd66c47bbaa8c6781c2a923   \n112646              1  b80910977a37536adeddd63663f916ad   \n112647              1  d1c427060a0f73f6b889a5c7c61f2ac4   \n112648              2  d1c427060a0f73f6b889a5c7c61f2ac4   \n112649              1  006619bbed68b000c8ba3f8725d5409e   \n\n                               seller_id  shipping_limit_date   price  \\\n0       3504c0cb71d7fa48d967e0e4c94d59d9  2017-10-06 11:07:15   29.99   \n1       289cdb325fb7e7f891c38608bf9e0962  2018-07-30 03:24:27  118.70   \n2       4869f7a5dfa277a7dca6462dcf3b52b2  2018-08-13 08:55:23  159.90   \n3       66922902710d126a0e7d26b0e3805106  2017-11-23 19:45:59   45.00   \n4       2c9e548be18521d1c43cde1c582c6de8  2018-02-19 20:31:37   19.90   \n...                                  ...                  ...     ...   \n112645  1f9ab4708f3056ede07124aad39a2554  2018-02-12 13:10:37  174.90   \n112646  d50d79cb34e38265a8649c383dcffd48  2017-09-05 15:04:16  205.99   \n112647  a1043bafd471dff536d0c462352beb48  2018-01-12 21:36:21  179.99   \n112648  a1043bafd471dff536d0c462352beb48  2018-01-12 21:36:21  179.99   \n112649  ececbfcff9804a2d6b40f589df8eef2b  2018-03-15 10:55:42   68.50   \n\n        freight_value  \n0                8.72  \n1               22.76  \n2               19.22  \n3               27.20  \n4                8.72  \n...               ...  \n112645          20.10  \n112646          65.02  \n112647          40.59  \n112648          40.59  \n112649          18.36  \n\n[112650 rows x 18 columns]",
      "text/html": "<div>\n<style scoped>\n    .dataframe tbody tr th:only-of-type {\n        vertical-align: middle;\n    }\n\n    .dataframe tbody tr th {\n        vertical-align: top;\n    }\n\n    .dataframe thead th {\n        text-align: right;\n    }\n</style>\n<table border=\"1\" class=\"dataframe\">\n  <thead>\n    <tr style=\"text-align: right;\">\n      <th></th>\n      <th>order_id</th>\n      <th>customer_id</th>\n      <th>order_status</th>\n      <th>order_purchase_timestamp</th>\n      <th>order_approved_at</th>\n      <th>order_delivered_carrier_date</th>\n      <th>order_delivered_customer_date</th>\n      <th>order_estimated_delivery_date</th>\n      <th>customer_unique_id</th>\n      <th>customer_zip_code_prefix</th>\n      <th>customer_city</th>\n      <th>customer_state</th>\n      <th>order_item_id</th>\n      <th>product_id</th>\n      <th>seller_id</th>\n      <th>shipping_limit_date</th>\n      <th>price</th>\n      <th>freight_value</th>\n    </tr>\n  </thead>\n  <tbody>\n    <tr>\n      <th>0</th>\n      <td>e481f51cbdc54678b7cc49136f2d6af7</td>\n      <td>9ef432eb6251297304e76186b10a928d</td>\n      <td>delivered</td>\n      <td>2017-10-02 10:56:33</td>\n      <td>2017-10-02 11:07:15</td>\n      <td>2017-10-04 19:55:00</td>\n      <td>2017-10-10 21:25:13</td>\n      <td>2017-10-18 00:00:00</td>\n      <td>7c396fd4830fd04220f754e42b4e5bff</td>\n      <td>3149</td>\n      <td>sao paulo</td>\n      <td>SP</td>\n      <td>1</td>\n      <td>87285b34884572647811a353c7ac498a</td>\n      <td>3504c0cb71d7fa48d967e0e4c94d59d9</td>\n      <td>2017-10-06 11:07:15</td>\n      <td>29.99</td>\n      <td>8.72</td>\n    </tr>\n    <tr>\n      <th>1</th>\n      <td>53cdb2fc8bc7dce0b6741e2150273451</td>\n      <td>b0830fb4747a6c6d20dea0b8c802d7ef</td>\n      <td>delivered</td>\n      <td>2018-07-24 20:41:37</td>\n      <td>2018-07-26 03:24:27</td>\n      <td>2018-07-26 14:31:00</td>\n      <td>2018-08-07 15:27:45</td>\n      <td>2018-08-13 00:00:00</td>\n      <td>af07308b275d755c9edb36a90c618231</td>\n      <td>47813</td>\n      <td>barreiras</td>\n      <td>BA</td>\n      <td>1</td>\n      <td>595fac2a385ac33a80bd5114aec74eb8</td>\n      <td>289cdb325fb7e7f891c38608bf9e0962</td>\n      <td>2018-07-30 03:24:27</td>\n      <td>118.70</td>\n      <td>22.76</td>\n    </tr>\n    <tr>\n      <th>2</th>\n      <td>47770eb9100c2d0c44946d9cf07ec65d</td>\n      <td>41ce2a54c0b03bf3443c3d931a367089</td>\n      <td>delivered</td>\n      <td>2018-08-08 08:38:49</td>\n      <td>2018-08-08 08:55:23</td>\n      <td>2018-08-08 13:50:00</td>\n      <td>2018-08-17 18:06:29</td>\n      <td>2018-09-04 00:00:00</td>\n      <td>3a653a41f6f9fc3d2a113cf8398680e8</td>\n      <td>75265</td>\n      <td>vianopolis</td>\n      <td>GO</td>\n      <td>1</td>\n      <td>aa4383b373c6aca5d8797843e5594415</td>\n      <td>4869f7a5dfa277a7dca6462dcf3b52b2</td>\n      <td>2018-08-13 08:55:23</td>\n      <td>159.90</td>\n      <td>19.22</td>\n    </tr>\n    <tr>\n      <th>3</th>\n      <td>949d5b44dbf5de918fe9c16f97b45f8a</td>\n      <td>f88197465ea7920adcdbec7375364d82</td>\n      <td>delivered</td>\n      <td>2017-11-18 19:28:06</td>\n      <td>2017-11-18 19:45:59</td>\n      <td>2017-11-22 13:39:59</td>\n      <td>2017-12-02 00:28:42</td>\n      <td>2017-12-15 00:00:00</td>\n      <td>7c142cf63193a1473d2e66489a9ae977</td>\n      <td>59296</td>\n      <td>sao goncalo do amarante</td>\n      <td>RN</td>\n      <td>1</td>\n      <td>d0b61bfb1de832b15ba9d266ca96e5b0</td>\n      <td>66922902710d126a0e7d26b0e3805106</td>\n      <td>2017-11-23 19:45:59</td>\n      <td>45.00</td>\n      <td>27.20</td>\n    </tr>\n    <tr>\n      <th>4</th>\n      <td>ad21c59c0840e6cb83a9ceb5573f8159</td>\n      <td>8ab97904e6daea8866dbdbc4fb7aad2c</td>\n      <td>delivered</td>\n      <td>2018-02-13 21:18:39</td>\n      <td>2018-02-13 22:20:29</td>\n      <td>2018-02-14 19:46:34</td>\n      <td>2018-02-16 18:17:02</td>\n      <td>2018-02-26 00:00:00</td>\n      <td>72632f0f9dd73dfee390c9b22eb56dd6</td>\n      <td>9195</td>\n      <td>santo andre</td>\n      <td>SP</td>\n      <td>1</td>\n      <td>65266b2da20d04dbe00c5c2d3bb7859e</td>\n      <td>2c9e548be18521d1c43cde1c582c6de8</td>\n      <td>2018-02-19 20:31:37</td>\n      <td>19.90</td>\n      <td>8.72</td>\n    </tr>\n    <tr>\n      <th>...</th>\n      <td>...</td>\n      <td>...</td>\n      <td>...</td>\n      <td>...</td>\n      <td>...</td>\n      <td>...</td>\n      <td>...</td>\n      <td>...</td>\n      <td>...</td>\n      <td>...</td>\n      <td>...</td>\n      <td>...</td>\n      <td>...</td>\n      <td>...</td>\n      <td>...</td>\n      <td>...</td>\n      <td>...</td>\n      <td>...</td>\n    </tr>\n    <tr>\n      <th>112645</th>\n      <td>63943bddc261676b46f01ca7ac2f7bd8</td>\n      <td>1fca14ff2861355f6e5f14306ff977a7</td>\n      <td>delivered</td>\n      <td>2018-02-06 12:58:58</td>\n      <td>2018-02-06 13:10:37</td>\n      <td>2018-02-07 23:22:42</td>\n      <td>2018-02-28 17:37:56</td>\n      <td>2018-03-02 00:00:00</td>\n      <td>da62f9e57a76d978d02ab5362c509660</td>\n      <td>11722</td>\n      <td>praia grande</td>\n      <td>SP</td>\n      <td>1</td>\n      <td>f1d4ce8c6dd66c47bbaa8c6781c2a923</td>\n      <td>1f9ab4708f3056ede07124aad39a2554</td>\n      <td>2018-02-12 13:10:37</td>\n      <td>174.90</td>\n      <td>20.10</td>\n    </tr>\n    <tr>\n      <th>112646</th>\n      <td>83c1379a015df1e13d02aae0204711ab</td>\n      <td>1aa71eb042121263aafbe80c1b562c9c</td>\n      <td>delivered</td>\n      <td>2017-08-27 14:46:43</td>\n      <td>2017-08-27 15:04:16</td>\n      <td>2017-08-28 20:52:26</td>\n      <td>2017-09-21 11:24:17</td>\n      <td>2017-09-27 00:00:00</td>\n      <td>737520a9aad80b3fbbdad19b66b37b30</td>\n      <td>45920</td>\n      <td>nova vicosa</td>\n      <td>BA</td>\n      <td>1</td>\n      <td>b80910977a37536adeddd63663f916ad</td>\n      <td>d50d79cb34e38265a8649c383dcffd48</td>\n      <td>2017-09-05 15:04:16</td>\n      <td>205.99</td>\n      <td>65.02</td>\n    </tr>\n    <tr>\n      <th>112647</th>\n      <td>11c177c8e97725db2631073c19f07b62</td>\n      <td>b331b74b18dc79bcdf6532d51e1637c1</td>\n      <td>delivered</td>\n      <td>2018-01-08 21:28:27</td>\n      <td>2018-01-08 21:36:21</td>\n      <td>2018-01-12 15:35:03</td>\n      <td>2018-01-25 23:32:54</td>\n      <td>2018-02-15 00:00:00</td>\n      <td>5097a5312c8b157bb7be58ae360ef43c</td>\n      <td>28685</td>\n      <td>japuiba</td>\n      <td>RJ</td>\n      <td>1</td>\n      <td>d1c427060a0f73f6b889a5c7c61f2ac4</td>\n      <td>a1043bafd471dff536d0c462352beb48</td>\n      <td>2018-01-12 21:36:21</td>\n      <td>179.99</td>\n      <td>40.59</td>\n    </tr>\n    <tr>\n      <th>112648</th>\n      <td>11c177c8e97725db2631073c19f07b62</td>\n      <td>b331b74b18dc79bcdf6532d51e1637c1</td>\n      <td>delivered</td>\n      <td>2018-01-08 21:28:27</td>\n      <td>2018-01-08 21:36:21</td>\n      <td>2018-01-12 15:35:03</td>\n      <td>2018-01-25 23:32:54</td>\n      <td>2018-02-15 00:00:00</td>\n      <td>5097a5312c8b157bb7be58ae360ef43c</td>\n      <td>28685</td>\n      <td>japuiba</td>\n      <td>RJ</td>\n      <td>2</td>\n      <td>d1c427060a0f73f6b889a5c7c61f2ac4</td>\n      <td>a1043bafd471dff536d0c462352beb48</td>\n      <td>2018-01-12 21:36:21</td>\n      <td>179.99</td>\n      <td>40.59</td>\n    </tr>\n    <tr>\n      <th>112649</th>\n      <td>66dea50a8b16d9b4dee7af250b4be1a5</td>\n      <td>edb027a75a1449115f6b43211ae02a24</td>\n      <td>delivered</td>\n      <td>2018-03-08 20:57:30</td>\n      <td>2018-03-09 11:20:28</td>\n      <td>2018-03-09 22:11:59</td>\n      <td>2018-03-16 13:08:30</td>\n      <td>2018-04-03 00:00:00</td>\n      <td>60350aa974b26ff12caad89e55993bd6</td>\n      <td>83750</td>\n      <td>lapa</td>\n      <td>PR</td>\n      <td>1</td>\n      <td>006619bbed68b000c8ba3f8725d5409e</td>\n      <td>ececbfcff9804a2d6b40f589df8eef2b</td>\n      <td>2018-03-15 10:55:42</td>\n      <td>68.50</td>\n      <td>18.36</td>\n    </tr>\n  </tbody>\n</table>\n<p>112650 rows × 18 columns</p>\n</div>"
     },
     "execution_count": 4,
     "metadata": {},
     "output_type": "execute_result"
    }
   ],
   "source": [
    "data"
   ],
   "metadata": {
    "collapsed": false,
    "pycharm": {
     "name": "#%%\n"
    }
   }
  },
  {
   "cell_type": "markdown",
   "source": [
    "## I) Preparing simulation datasets\n",
    "\n",
    "##### This section below is not cleaned to detail the process\n",
    "\n",
    "##### In the section II, we create the simulation datasets and run the simulation"
   ],
   "metadata": {
    "collapsed": false,
    "pycharm": {
     "name": "#%% md\n"
    }
   }
  },
  {
   "cell_type": "code",
   "execution_count": 5,
   "outputs": [],
   "source": [
    "data['order_purchase_timestamp'] = pd.to_datetime(data['order_purchase_timestamp'].astype(str), format='%Y/%m/%d') # .astype(str)"
   ],
   "metadata": {
    "collapsed": false,
    "pycharm": {
     "name": "#%%\n"
    }
   }
  },
  {
   "cell_type": "code",
   "execution_count": 6,
   "outputs": [
    {
     "name": "stdout",
     "output_type": "stream",
     "text": [
      "Last day recorded in the dataset : 2018-09-03 09:06:57 <class 'pandas._libs.tslibs.timestamps.Timestamp'>\n",
      "Year : 2018\n",
      "Month : 9\n",
      "Day : 3\n"
     ]
    }
   ],
   "source": [
    "last_day_recorded = data[\"order_purchase_timestamp\"].max()\n",
    "\n",
    "print(\"Last day recorded in the dataset :\", last_day_recorded, type(last_day_recorded))\n",
    "\n",
    "print(\"Year :\", last_day_recorded.year)\n",
    "print(\"Month :\", last_day_recorded.month)\n",
    "print(\"Day :\", last_day_recorded.day)"
   ],
   "metadata": {
    "collapsed": false,
    "pycharm": {
     "name": "#%%\n"
    }
   }
  },
  {
   "cell_type": "code",
   "execution_count": 7,
   "outputs": [],
   "source": [
    "nb_days = 15"
   ],
   "metadata": {
    "collapsed": false,
    "pycharm": {
     "name": "#%%\n"
    }
   }
  },
  {
   "cell_type": "code",
   "execution_count": 8,
   "outputs": [
    {
     "data": {
      "text/plain": "Timestamp('2018-08-19 09:06:57')"
     },
     "execution_count": 8,
     "metadata": {},
     "output_type": "execute_result"
    }
   ],
   "source": [
    "# Time limit\n",
    "time_limit = max(data.order_purchase_timestamp) + relativedelta(days=-nb_days)\n",
    "\n",
    "time_limit"
   ],
   "metadata": {
    "collapsed": false,
    "pycharm": {
     "name": "#%%\n"
    }
   }
  },
  {
   "cell_type": "code",
   "execution_count": 9,
   "outputs": [
    {
     "name": "stdout",
     "output_type": "stream",
     "text": [
      "Verification of the filter : 2018-08-19 08:57:45\n"
     ]
    }
   ],
   "source": [
    "data_previous_days = data.copy()\n",
    "filter_date = data_previous_days[\"order_purchase_timestamp\"] <= time_limit\n",
    "\n",
    "data_previous_days = data_previous_days[filter_date]\n",
    "print(\"Verification of the filter :\", max(data_previous_days.order_purchase_timestamp))"
   ],
   "metadata": {
    "collapsed": false,
    "pycharm": {
     "name": "#%%\n"
    }
   }
  },
  {
   "cell_type": "code",
   "execution_count": 10,
   "outputs": [],
   "source": [
    "data_previous_days = data_previous_days.groupby('customer_unique_id').agg({'order_purchase_timestamp' : lambda x: (time_limit - x.max()).days,\n",
    "                                           'order_id' : pd.Series.nunique,\n",
    "                                           'price' : 'sum',\n",
    "                                           })\n",
    "# Rename columns\n",
    "dataset_rfm_previous_days = data_previous_days.rename(columns = {'order_purchase_timestamp' : 'Recency',\n",
    "                                   'order_id' : 'Frequency',\n",
    "                                   'price' : 'Monetary'}) #, inplace = True)"
   ],
   "metadata": {
    "collapsed": false,
    "pycharm": {
     "name": "#%%\n"
    }
   }
  },
  {
   "cell_type": "code",
   "execution_count": 11,
   "outputs": [
    {
     "data": {
      "text/plain": "                                  Recency  Frequency  Monetary\ncustomer_unique_id                                            \n0000366f3b9a7992bf8c76cfdf3221e2      100          1    129.90\n0000b849f77a49e4a4ce2b2a4ca5be3f      103          1     18.90\n0000f46a3911fa3c0805444483337064      526          1     69.00\n0000f6ccb0745a6a4b88665a16c9f078      310          1     25.99\n0004aac84e0df4da2b147fca70cf8255      277          1    180.00\n...                                   ...        ...       ...\nfffcf5a5ff07b0908bd4e2dbc735a684      436          1   1570.00\nfffea47cd6d3cc0a88bd621562a9d061      251          1     64.89\nffff371b4d645b6ecea244b27531430a      557          1     89.90\nffff5962728ec6157033ef9805bacc48      108          1    115.00\nffffd2657e2aad2907e67c3e9daecbeb      473          1     56.99\n\n[94102 rows x 3 columns]",
      "text/html": "<div>\n<style scoped>\n    .dataframe tbody tr th:only-of-type {\n        vertical-align: middle;\n    }\n\n    .dataframe tbody tr th {\n        vertical-align: top;\n    }\n\n    .dataframe thead th {\n        text-align: right;\n    }\n</style>\n<table border=\"1\" class=\"dataframe\">\n  <thead>\n    <tr style=\"text-align: right;\">\n      <th></th>\n      <th>Recency</th>\n      <th>Frequency</th>\n      <th>Monetary</th>\n    </tr>\n    <tr>\n      <th>customer_unique_id</th>\n      <th></th>\n      <th></th>\n      <th></th>\n    </tr>\n  </thead>\n  <tbody>\n    <tr>\n      <th>0000366f3b9a7992bf8c76cfdf3221e2</th>\n      <td>100</td>\n      <td>1</td>\n      <td>129.90</td>\n    </tr>\n    <tr>\n      <th>0000b849f77a49e4a4ce2b2a4ca5be3f</th>\n      <td>103</td>\n      <td>1</td>\n      <td>18.90</td>\n    </tr>\n    <tr>\n      <th>0000f46a3911fa3c0805444483337064</th>\n      <td>526</td>\n      <td>1</td>\n      <td>69.00</td>\n    </tr>\n    <tr>\n      <th>0000f6ccb0745a6a4b88665a16c9f078</th>\n      <td>310</td>\n      <td>1</td>\n      <td>25.99</td>\n    </tr>\n    <tr>\n      <th>0004aac84e0df4da2b147fca70cf8255</th>\n      <td>277</td>\n      <td>1</td>\n      <td>180.00</td>\n    </tr>\n    <tr>\n      <th>...</th>\n      <td>...</td>\n      <td>...</td>\n      <td>...</td>\n    </tr>\n    <tr>\n      <th>fffcf5a5ff07b0908bd4e2dbc735a684</th>\n      <td>436</td>\n      <td>1</td>\n      <td>1570.00</td>\n    </tr>\n    <tr>\n      <th>fffea47cd6d3cc0a88bd621562a9d061</th>\n      <td>251</td>\n      <td>1</td>\n      <td>64.89</td>\n    </tr>\n    <tr>\n      <th>ffff371b4d645b6ecea244b27531430a</th>\n      <td>557</td>\n      <td>1</td>\n      <td>89.90</td>\n    </tr>\n    <tr>\n      <th>ffff5962728ec6157033ef9805bacc48</th>\n      <td>108</td>\n      <td>1</td>\n      <td>115.00</td>\n    </tr>\n    <tr>\n      <th>ffffd2657e2aad2907e67c3e9daecbeb</th>\n      <td>473</td>\n      <td>1</td>\n      <td>56.99</td>\n    </tr>\n  </tbody>\n</table>\n<p>94102 rows × 3 columns</p>\n</div>"
     },
     "execution_count": 11,
     "metadata": {},
     "output_type": "execute_result"
    }
   ],
   "source": [
    "dataset_rfm_previous_days"
   ],
   "metadata": {
    "collapsed": false,
    "pycharm": {
     "name": "#%%\n"
    }
   }
  },
  {
   "cell_type": "code",
   "execution_count": 11,
   "outputs": [],
   "source": [],
   "metadata": {
    "collapsed": false,
    "pycharm": {
     "name": "#%%\n"
    }
   }
  },
  {
   "cell_type": "markdown",
   "source": [
    "## II) Simulation"
   ],
   "metadata": {
    "collapsed": false,
    "pycharm": {
     "name": "#%% md\n"
    }
   }
  },
  {
   "cell_type": "code",
   "execution_count": 12,
   "outputs": [
    {
     "name": "stdout",
     "output_type": "stream",
     "text": [
      "We will run all the experiments with K = 4\n"
     ]
    }
   ],
   "source": [
    "nb_clusters = 4\n",
    "print(\"We will run all the experiments with K =\", nb_clusters)"
   ],
   "metadata": {
    "collapsed": false,
    "pycharm": {
     "name": "#%%\n"
    }
   }
  },
  {
   "cell_type": "markdown",
   "source": [
    "### 1) Experiment 1 : simulation over 9 months"
   ],
   "metadata": {
    "collapsed": false,
    "pycharm": {
     "name": "#%% md\n"
    }
   }
  },
  {
   "cell_type": "markdown",
   "source": [
    "####"
   ],
   "metadata": {
    "collapsed": false,
    "pycharm": {
     "name": "#%% md\n"
    }
   }
  },
  {
   "cell_type": "code",
   "execution_count": 13,
   "outputs": [],
   "source": [
    "nb_periods_exp_1 = 17\n",
    "nb_days_exp_1 = 15"
   ],
   "metadata": {
    "collapsed": false,
    "pycharm": {
     "name": "#%%\n"
    }
   }
  },
  {
   "cell_type": "code",
   "execution_count": 14,
   "outputs": [
    {
     "name": "stdout",
     "output_type": "stream",
     "text": [
      "\n",
      "\n",
      "\n",
      "Step : 1 Maximum order purchase date : 2017-12-22 09:06:57\n",
      "Verification of the filter : 2017-12-22 09:06:20\n",
      "This dataset has 42415 unique clients\n",
      "\n",
      "\n",
      "\n",
      "Step : 2 Maximum order purchase date : 2018-01-06 09:06:57\n",
      "Verification of the filter : 2018-01-06 09:03:41\n",
      "This dataset has 44483 unique clients\n",
      "\n",
      "\n",
      "\n",
      "Step : 3 Maximum order purchase date : 2018-01-21 09:06:57\n",
      "Verification of the filter : 2018-01-21 09:03:17\n",
      "This dataset has 48074 unique clients\n",
      "\n",
      "\n",
      "\n",
      "Step : 4 Maximum order purchase date : 2018-02-05 09:06:57\n",
      "Verification of the filter : 2018-02-05 09:06:12\n",
      "This dataset has 51346 unique clients\n",
      "\n",
      "\n",
      "\n",
      "Step : 5 Maximum order purchase date : 2018-02-20 09:06:57\n",
      "Verification of the filter : 2018-02-20 09:05:49\n",
      "This dataset has 54669 unique clients\n",
      "\n",
      "\n",
      "\n",
      "Step : 6 Maximum order purchase date : 2018-03-07 09:06:57\n",
      "Verification of the filter : 2018-03-07 09:02:41\n",
      "This dataset has 58414 unique clients\n",
      "\n",
      "\n",
      "\n",
      "Step : 7 Maximum order purchase date : 2018-03-22 09:06:57\n",
      "Verification of the filter : 2018-03-22 08:49:51\n",
      "This dataset has 61879 unique clients\n",
      "\n",
      "\n",
      "\n",
      "Step : 8 Maximum order purchase date : 2018-04-06 09:06:57\n",
      "Verification of the filter : 2018-04-06 09:04:13\n",
      "This dataset has 65121 unique clients\n",
      "\n",
      "\n",
      "\n",
      "Step : 9 Maximum order purchase date : 2018-04-21 09:06:57\n",
      "Verification of the filter : 2018-04-21 09:00:35\n",
      "This dataset has 68407 unique clients\n",
      "\n",
      "\n",
      "\n",
      "Step : 10 Maximum order purchase date : 2018-05-06 09:06:57\n",
      "Verification of the filter : 2018-05-06 09:02:34\n",
      "This dataset has 71881 unique clients\n",
      "\n",
      "\n",
      "\n",
      "Step : 11 Maximum order purchase date : 2018-05-21 09:06:57\n",
      "Verification of the filter : 2018-05-21 08:55:06\n",
      "This dataset has 75772 unique clients\n",
      "\n",
      "\n",
      "\n",
      "Step : 12 Maximum order purchase date : 2018-06-05 09:06:57\n",
      "Verification of the filter : 2018-06-05 09:02:27\n",
      "This dataset has 77917 unique clients\n",
      "\n",
      "\n",
      "\n",
      "Step : 13 Maximum order purchase date : 2018-06-20 09:06:57\n",
      "Verification of the filter : 2018-06-20 09:02:43\n",
      "This dataset has 81013 unique clients\n",
      "\n",
      "\n",
      "\n",
      "Step : 14 Maximum order purchase date : 2018-07-05 09:06:57\n",
      "Verification of the filter : 2018-07-05 09:00:13\n",
      "This dataset has 83964 unique clients\n",
      "\n",
      "\n",
      "\n",
      "Step : 15 Maximum order purchase date : 2018-07-20 09:06:57\n",
      "Verification of the filter : 2018-07-20 09:06:18\n",
      "This dataset has 86403 unique clients\n",
      "\n",
      "\n",
      "\n",
      "Step : 16 Maximum order purchase date : 2018-08-04 09:06:57\n",
      "Verification of the filter : 2018-08-04 08:57:37\n",
      "This dataset has 90092 unique clients\n",
      "\n",
      "\n",
      "\n",
      "Step : 17 Maximum order purchase date : 2018-08-19 09:06:57\n",
      "Verification of the filter : 2018-08-19 08:57:45\n",
      "This dataset has 94102 unique clients\n",
      "\n",
      "\n",
      "\n",
      "Step : 18 Maximum order purchase date : 2018-09-03 09:06:57\n",
      "Verification of the filter : 2018-09-03 09:06:57\n",
      "This dataset has 95420 unique clients\n"
     ]
    }
   ],
   "source": [
    "simulate_dataset(data, nb_days=nb_days_exp_1, nb_periods=nb_periods_exp_1, output_path=experiment_1_path, experiment_nb=1)"
   ],
   "metadata": {
    "collapsed": false,
    "pycharm": {
     "name": "#%%\n"
    }
   }
  },
  {
   "cell_type": "code",
   "execution_count": 15,
   "outputs": [],
   "source": [
    "X_T0 = pd.read_csv(experiment_1_path + \"rfm_T0.csv\").drop(\"customer_unique_id\", axis=1).copy()"
   ],
   "metadata": {
    "collapsed": false,
    "pycharm": {
     "name": "#%%\n"
    }
   }
  },
  {
   "cell_type": "code",
   "execution_count": 16,
   "outputs": [
    {
     "data": {
      "text/plain": "(42415, 3)"
     },
     "execution_count": 16,
     "metadata": {},
     "output_type": "execute_result"
    }
   ],
   "source": [
    "X_T0.shape"
   ],
   "metadata": {
    "collapsed": false,
    "pycharm": {
     "name": "#%%\n"
    }
   }
  },
  {
   "cell_type": "code",
   "execution_count": 17,
   "outputs": [
    {
     "name": "stdout",
     "output_type": "stream",
     "text": [
      "(42415, 3)\n"
     ]
    },
    {
     "data": {
      "text/plain": "    Recency  Frequency  Monetary\n0  1.568474  -0.160436 -0.327221\n1 -0.646025  -0.160436 -0.516989\n2 -0.984351  -0.160436  0.162531\n3  1.629988  -0.160436 -0.036017\n4  0.235674  -0.160436 -0.570333",
      "text/html": "<div>\n<style scoped>\n    .dataframe tbody tr th:only-of-type {\n        vertical-align: middle;\n    }\n\n    .dataframe tbody tr th {\n        vertical-align: top;\n    }\n\n    .dataframe thead th {\n        text-align: right;\n    }\n</style>\n<table border=\"1\" class=\"dataframe\">\n  <thead>\n    <tr style=\"text-align: right;\">\n      <th></th>\n      <th>Recency</th>\n      <th>Frequency</th>\n      <th>Monetary</th>\n    </tr>\n  </thead>\n  <tbody>\n    <tr>\n      <th>0</th>\n      <td>1.568474</td>\n      <td>-0.160436</td>\n      <td>-0.327221</td>\n    </tr>\n    <tr>\n      <th>1</th>\n      <td>-0.646025</td>\n      <td>-0.160436</td>\n      <td>-0.516989</td>\n    </tr>\n    <tr>\n      <th>2</th>\n      <td>-0.984351</td>\n      <td>-0.160436</td>\n      <td>0.162531</td>\n    </tr>\n    <tr>\n      <th>3</th>\n      <td>1.629988</td>\n      <td>-0.160436</td>\n      <td>-0.036017</td>\n    </tr>\n    <tr>\n      <th>4</th>\n      <td>0.235674</td>\n      <td>-0.160436</td>\n      <td>-0.570333</td>\n    </tr>\n  </tbody>\n</table>\n</div>"
     },
     "execution_count": 17,
     "metadata": {},
     "output_type": "execute_result"
    }
   ],
   "source": [
    "scaler_exp_1 = StandardScaler().fit(X_T0[X_T0.columns])\n",
    "\n",
    "X_std_T0 = X_T0.copy()\n",
    "X_std_T0[X_std_T0.columns] = scaler_exp_1.transform(X_std_T0[X_std_T0.columns])\n",
    "print(X_std_T0.shape)\n",
    "\n",
    "X_std_T0.head()"
   ],
   "metadata": {
    "collapsed": false,
    "pycharm": {
     "name": "#%%\n"
    }
   }
  },
  {
   "cell_type": "markdown",
   "source": [
    "##### We save the StandardScaler used to fit the dataset at T0"
   ],
   "metadata": {
    "collapsed": false,
    "pycharm": {
     "name": "#%% md\n"
    }
   }
  },
  {
   "cell_type": "code",
   "execution_count": 18,
   "outputs": [],
   "source": [
    "# Saving clustering model\n",
    "model = {'scaler_T0': scaler_exp_1}\n",
    "filename = './model/simulation/experiment_{}/scaler_T0.pkl'.format(\"1\")\n",
    "with open(filename, \"wb\") as f: # wb writing\n",
    "    pickle.dump(model, f)"
   ],
   "metadata": {
    "collapsed": false,
    "pycharm": {
     "name": "#%%\n"
    }
   }
  },
  {
   "cell_type": "markdown",
   "source": [
    "##### PCA"
   ],
   "metadata": {
    "collapsed": false,
    "pycharm": {
     "name": "#%% md\n"
    }
   }
  },
  {
   "cell_type": "code",
   "execution_count": 19,
   "outputs": [
    {
     "name": "stdout",
     "output_type": "stream",
     "text": [
      "[0.3645731  0.69904393]\n"
     ]
    }
   ],
   "source": [
    "from sklearn.decomposition import PCA\n",
    "\n",
    "pca_T0 = PCA(n_components=2, random_state=0)\n",
    "pca_T0.fit(X_std_T0)\n",
    "print(pca_T0.explained_variance_ratio_.cumsum())\n",
    "\n",
    "X_pca_T0 = pca_T0.transform(X_std_T0)"
   ],
   "metadata": {
    "collapsed": false,
    "pycharm": {
     "name": "#%%\n"
    }
   }
  },
  {
   "cell_type": "code",
   "execution_count": 20,
   "outputs": [
    {
     "data": {
      "text/plain": "<Figure size 432x288 with 1 Axes>",
      "image/png": "[encoded data removed]"
     },
     "metadata": {
      "needs_background": "light"
     },
     "output_type": "display_data"
    }
   ],
   "source": [
    "display_pca_components(pca_fit=pca_T0, X_norm=X_std_T0)"
   ],
   "metadata": {
    "collapsed": false,
    "pycharm": {
     "name": "#%%\n"
    }
   }
  },
  {
   "cell_type": "markdown",
   "source": [
    "##### K-Means with K = 4"
   ],
   "metadata": {
    "collapsed": false,
    "pycharm": {
     "name": "#%% md\n"
    }
   }
  },
  {
   "cell_type": "code",
   "execution_count": 21,
   "outputs": [
    {
     "data": {
      "text/plain": "KMeans(n_clusters=4, random_state=0)",
      "text/html": "<style>#sk-container-id-1 {color: black;background-color: white;}#sk-container-id-1 pre{padding: 0;}#sk-container-id-1 div.sk-toggleable {background-color: white;}#sk-container-id-1 label.sk-toggleable__label {cursor: pointer;display: block;width: 100%;margin-bottom: 0;padding: 0.3em;box-sizing: border-box;text-align: center;}#sk-container-id-1 label.sk-toggleable__label-arrow:before {content: \"▸\";float: left;margin-right: 0.25em;color: #696969;}#sk-container-id-1 label.sk-toggleable__label-arrow:hover:before {color: black;}#sk-container-id-1 div.sk-estimator:hover label.sk-toggleable__label-arrow:before {color: black;}#sk-container-id-1 div.sk-toggleable__content {max-height: 0;max-width: 0;overflow: hidden;text-align: left;background-color: #f0f8ff;}#sk-container-id-1 div.sk-toggleable__content pre {margin: 0.2em;color: black;border-radius: 0.25em;background-color: #f0f8ff;}#sk-container-id-1 input.sk-toggleable__control:checked~div.sk-toggleable__content {max-height: 200px;max-width: 100%;overflow: auto;}#sk-container-id-1 input.sk-toggleable__control:checked~label.sk-toggleable__label-arrow:before {content: \"▾\";}#sk-container-id-1 div.sk-estimator input.sk-toggleable__control:checked~label.sk-toggleable__label {background-color: #d4ebff;}#sk-container-id-1 div.sk-label input.sk-toggleable__control:checked~label.sk-toggleable__label {background-color: #d4ebff;}#sk-container-id-1 input.sk-hidden--visually {border: 0;clip: rect(1px 1px 1px 1px);clip: rect(1px, 1px, 1px, 1px);height: 1px;margin: -1px;overflow: hidden;padding: 0;position: absolute;width: 1px;}#sk-container-id-1 div.sk-estimator {font-family: monospace;background-color: #f0f8ff;border: 1px dotted black;border-radius: 0.25em;box-sizing: border-box;margin-bottom: 0.5em;}#sk-container-id-1 div.sk-estimator:hover {background-color: #d4ebff;}#sk-container-id-1 div.sk-parallel-item::after {content: \"\";width: 100%;border-bottom: 1px solid gray;flex-grow: 1;}#sk-container-id-1 div.sk-label:hover label.sk-toggleable__label {background-color: #d4ebff;}#sk-container-id-1 div.sk-serial::before {content: \"\";position: absolute;border-left: 1px solid gray;box-sizing: border-box;top: 0;bottom: 0;left: 50%;z-index: 0;}#sk-container-id-1 div.sk-serial {display: flex;flex-direction: column;align-items: center;background-color: white;padding-right: 0.2em;padding-left: 0.2em;position: relative;}#sk-container-id-1 div.sk-item {position: relative;z-index: 1;}#sk-container-id-1 div.sk-parallel {display: flex;align-items: stretch;justify-content: center;background-color: white;position: relative;}#sk-container-id-1 div.sk-item::before, #sk-container-id-1 div.sk-parallel-item::before {content: \"\";position: absolute;border-left: 1px solid gray;box-sizing: border-box;top: 0;bottom: 0;left: 50%;z-index: -1;}#sk-container-id-1 div.sk-parallel-item {display: flex;flex-direction: column;z-index: 1;position: relative;background-color: white;}#sk-container-id-1 div.sk-parallel-item:first-child::after {align-self: flex-end;width: 50%;}#sk-container-id-1 div.sk-parallel-item:last-child::after {align-self: flex-start;width: 50%;}#sk-container-id-1 div.sk-parallel-item:only-child::after {width: 0;}#sk-container-id-1 div.sk-dashed-wrapped {border: 1px dashed gray;margin: 0 0.4em 0.5em 0.4em;box-sizing: border-box;padding-bottom: 0.4em;background-color: white;}#sk-container-id-1 div.sk-label label {font-family: monospace;font-weight: bold;display: inline-block;line-height: 1.2em;}#sk-container-id-1 div.sk-label-container {text-align: center;}#sk-container-id-1 div.sk-container {/* jupyter's `normalize.less` sets `[hidden] { display: none; }` but bootstrap.min.css set `[hidden] { display: none !important; }` so we also need the `!important` here to be able to override the default hidden behavior on the sphinx rendered scikit-learn.org. See: https://github.com/scikit-learn/scikit-learn/issues/21755 */display: inline-block !important;position: relative;}#sk-container-id-1 div.sk-text-repr-fallback {display: none;}</style><div id=\"sk-container-id-1\" class=\"sk-top-container\"><div class=\"sk-text-repr-fallback\"><pre>KMeans(n_clusters=4, random_state=0)</pre><b>In a Jupyter environment, please rerun this cell to show the HTML representation or trust the notebook. <br />On GitHub, the HTML representation is unable to render, please try loading this page with nbviewer.org.</b></div><div class=\"sk-container\" hidden><div class=\"sk-item\"><div class=\"sk-estimator sk-toggleable\"><input class=\"sk-toggleable__control sk-hidden--visually\" id=\"sk-estimator-id-1\" type=\"checkbox\" checked><label for=\"sk-estimator-id-1\" class=\"sk-toggleable__label sk-toggleable__label-arrow\">KMeans</label><div class=\"sk-toggleable__content\"><pre>KMeans(n_clusters=4, random_state=0)</pre></div></div></div></div></div>"
     },
     "execution_count": 21,
     "metadata": {},
     "output_type": "execute_result"
    }
   ],
   "source": [
    "from sklearn.cluster import KMeans\n",
    "\n",
    "kmeans_cls_T0 = KMeans(n_clusters=nb_clusters, verbose=0, random_state=0)\n",
    "kmeans_cls_T0.fit(X_std_T0)"
   ],
   "metadata": {
    "collapsed": false,
    "pycharm": {
     "name": "#%%\n"
    }
   }
  },
  {
   "cell_type": "code",
   "execution_count": 22,
   "outputs": [
    {
     "data": {
      "text/plain": "Text(0.5, 1.0, 'Visualizing clusters with PCA')"
     },
     "execution_count": 22,
     "metadata": {},
     "output_type": "execute_result"
    },
    {
     "data": {
      "text/plain": "<Figure size 864x360 with 1 Axes>",
      "image/png": "[encoded data removed]"
     },
     "metadata": {
      "needs_background": "light"
     },
     "output_type": "display_data"
    }
   ],
   "source": [
    "fig = plt.figure(figsize=(12, 5))\n",
    "\n",
    "ax = fig.add_subplot(121) # 1 en ordonnée / 2 en abcs / celle là la premiere\n",
    "ax.scatter(x=X_pca_T0[:, 0], y=X_pca_T0[:, 1], c=kmeans_cls_T0.labels_) # colorier en fct etiquette deu clusterning\n",
    "plt.title(\"Visualizing clusters with PCA\")"
   ],
   "metadata": {
    "collapsed": false,
    "pycharm": {
     "name": "#%%\n"
    }
   }
  },
  {
   "cell_type": "markdown",
   "source": [
    "##### T1 = T0 + 15 days"
   ],
   "metadata": {
    "collapsed": false,
    "pycharm": {
     "name": "#%% md\n"
    }
   }
  },
  {
   "cell_type": "code",
   "execution_count": 23,
   "outputs": [],
   "source": [
    "X_T1 = pd.read_csv(experiment_1_path + \"/rfm_T1.csv\").drop(\"customer_unique_id\", axis=1).copy()"
   ],
   "metadata": {
    "collapsed": false,
    "pycharm": {
     "name": "#%%\n"
    }
   }
  },
  {
   "cell_type": "code",
   "execution_count": 24,
   "outputs": [
    {
     "name": "stdout",
     "output_type": "stream",
     "text": [
      "Predicting new clusters\n",
      "(44483, 3)\n"
     ]
    },
    {
     "data": {
      "text/plain": "KMeans(n_clusters=4, random_state=0)",
      "text/html": "<style>#sk-container-id-2 {color: black;background-color: white;}#sk-container-id-2 pre{padding: 0;}#sk-container-id-2 div.sk-toggleable {background-color: white;}#sk-container-id-2 label.sk-toggleable__label {cursor: pointer;display: block;width: 100%;margin-bottom: 0;padding: 0.3em;box-sizing: border-box;text-align: center;}#sk-container-id-2 label.sk-toggleable__label-arrow:before {content: \"▸\";float: left;margin-right: 0.25em;color: #696969;}#sk-container-id-2 label.sk-toggleable__label-arrow:hover:before {color: black;}#sk-container-id-2 div.sk-estimator:hover label.sk-toggleable__label-arrow:before {color: black;}#sk-container-id-2 div.sk-toggleable__content {max-height: 0;max-width: 0;overflow: hidden;text-align: left;background-color: #f0f8ff;}#sk-container-id-2 div.sk-toggleable__content pre {margin: 0.2em;color: black;border-radius: 0.25em;background-color: #f0f8ff;}#sk-container-id-2 input.sk-toggleable__control:checked~div.sk-toggleable__content {max-height: 200px;max-width: 100%;overflow: auto;}#sk-container-id-2 input.sk-toggleable__control:checked~label.sk-toggleable__label-arrow:before {content: \"▾\";}#sk-container-id-2 div.sk-estimator input.sk-toggleable__control:checked~label.sk-toggleable__label {background-color: #d4ebff;}#sk-container-id-2 div.sk-label input.sk-toggleable__control:checked~label.sk-toggleable__label {background-color: #d4ebff;}#sk-container-id-2 input.sk-hidden--visually {border: 0;clip: rect(1px 1px 1px 1px);clip: rect(1px, 1px, 1px, 1px);height: 1px;margin: -1px;overflow: hidden;padding: 0;position: absolute;width: 1px;}#sk-container-id-2 div.sk-estimator {font-family: monospace;background-color: #f0f8ff;border: 1px dotted black;border-radius: 0.25em;box-sizing: border-box;margin-bottom: 0.5em;}#sk-container-id-2 div.sk-estimator:hover {background-color: #d4ebff;}#sk-container-id-2 div.sk-parallel-item::after {content: \"\";width: 100%;border-bottom: 1px solid gray;flex-grow: 1;}#sk-container-id-2 div.sk-label:hover label.sk-toggleable__label {background-color: #d4ebff;}#sk-container-id-2 div.sk-serial::before {content: \"\";position: absolute;border-left: 1px solid gray;box-sizing: border-box;top: 0;bottom: 0;left: 50%;z-index: 0;}#sk-container-id-2 div.sk-serial {display: flex;flex-direction: column;align-items: center;background-color: white;padding-right: 0.2em;padding-left: 0.2em;position: relative;}#sk-container-id-2 div.sk-item {position: relative;z-index: 1;}#sk-container-id-2 div.sk-parallel {display: flex;align-items: stretch;justify-content: center;background-color: white;position: relative;}#sk-container-id-2 div.sk-item::before, #sk-container-id-2 div.sk-parallel-item::before {content: \"\";position: absolute;border-left: 1px solid gray;box-sizing: border-box;top: 0;bottom: 0;left: 50%;z-index: -1;}#sk-container-id-2 div.sk-parallel-item {display: flex;flex-direction: column;z-index: 1;position: relative;background-color: white;}#sk-container-id-2 div.sk-parallel-item:first-child::after {align-self: flex-end;width: 50%;}#sk-container-id-2 div.sk-parallel-item:last-child::after {align-self: flex-start;width: 50%;}#sk-container-id-2 div.sk-parallel-item:only-child::after {width: 0;}#sk-container-id-2 div.sk-dashed-wrapped {border: 1px dashed gray;margin: 0 0.4em 0.5em 0.4em;box-sizing: border-box;padding-bottom: 0.4em;background-color: white;}#sk-container-id-2 div.sk-label label {font-family: monospace;font-weight: bold;display: inline-block;line-height: 1.2em;}#sk-container-id-2 div.sk-label-container {text-align: center;}#sk-container-id-2 div.sk-container {/* jupyter's `normalize.less` sets `[hidden] { display: none; }` but bootstrap.min.css set `[hidden] { display: none !important; }` so we also need the `!important` here to be able to override the default hidden behavior on the sphinx rendered scikit-learn.org. See: https://github.com/scikit-learn/scikit-learn/issues/21755 */display: inline-block !important;position: relative;}#sk-container-id-2 div.sk-text-repr-fallback {display: none;}</style><div id=\"sk-container-id-2\" class=\"sk-top-container\"><div class=\"sk-text-repr-fallback\"><pre>KMeans(n_clusters=4, random_state=0)</pre><b>In a Jupyter environment, please rerun this cell to show the HTML representation or trust the notebook. <br />On GitHub, the HTML representation is unable to render, please try loading this page with nbviewer.org.</b></div><div class=\"sk-container\" hidden><div class=\"sk-item\"><div class=\"sk-estimator sk-toggleable\"><input class=\"sk-toggleable__control sk-hidden--visually\" id=\"sk-estimator-id-2\" type=\"checkbox\" checked><label for=\"sk-estimator-id-2\" class=\"sk-toggleable__label sk-toggleable__label-arrow\">KMeans</label><div class=\"sk-toggleable__content\"><pre>KMeans(n_clusters=4, random_state=0)</pre></div></div></div></div></div>"
     },
     "execution_count": 24,
     "metadata": {},
     "output_type": "execute_result"
    }
   ],
   "source": [
    "print(\"Predicting new clusters\")\n",
    "\n",
    "X_std_T1 = X_T1.copy()\n",
    "scaler = StandardScaler()\n",
    "\n",
    "X_std_T1[X_std_T1.columns] = scaler.fit_transform(X_std_T1)\n",
    "print(X_std_T1.shape)\n",
    "\n",
    "kmeans_cls_T1_new = KMeans(n_clusters=4, verbose=0, random_state=0)\n",
    "kmeans_cls_T1_new.fit(X_std_T1)"
   ],
   "metadata": {
    "collapsed": false,
    "pycharm": {
     "name": "#%%\n"
    }
   }
  },
  {
   "cell_type": "code",
   "execution_count": 25,
   "outputs": [
    {
     "name": "stdout",
     "output_type": "stream",
     "text": [
      "Using the initial K-Means to predict clusters\n"
     ]
    },
    {
     "data": {
      "text/plain": "StandardScaler()",
      "text/html": "<style>#sk-container-id-3 {color: black;background-color: white;}#sk-container-id-3 pre{padding: 0;}#sk-container-id-3 div.sk-toggleable {background-color: white;}#sk-container-id-3 label.sk-toggleable__label {cursor: pointer;display: block;width: 100%;margin-bottom: 0;padding: 0.3em;box-sizing: border-box;text-align: center;}#sk-container-id-3 label.sk-toggleable__label-arrow:before {content: \"▸\";float: left;margin-right: 0.25em;color: #696969;}#sk-container-id-3 label.sk-toggleable__label-arrow:hover:before {color: black;}#sk-container-id-3 div.sk-estimator:hover label.sk-toggleable__label-arrow:before {color: black;}#sk-container-id-3 div.sk-toggleable__content {max-height: 0;max-width: 0;overflow: hidden;text-align: left;background-color: #f0f8ff;}#sk-container-id-3 div.sk-toggleable__content pre {margin: 0.2em;color: black;border-radius: 0.25em;background-color: #f0f8ff;}#sk-container-id-3 input.sk-toggleable__control:checked~div.sk-toggleable__content {max-height: 200px;max-width: 100%;overflow: auto;}#sk-container-id-3 input.sk-toggleable__control:checked~label.sk-toggleable__label-arrow:before {content: \"▾\";}#sk-container-id-3 div.sk-estimator input.sk-toggleable__control:checked~label.sk-toggleable__label {background-color: #d4ebff;}#sk-container-id-3 div.sk-label input.sk-toggleable__control:checked~label.sk-toggleable__label {background-color: #d4ebff;}#sk-container-id-3 input.sk-hidden--visually {border: 0;clip: rect(1px 1px 1px 1px);clip: rect(1px, 1px, 1px, 1px);height: 1px;margin: -1px;overflow: hidden;padding: 0;position: absolute;width: 1px;}#sk-container-id-3 div.sk-estimator {font-family: monospace;background-color: #f0f8ff;border: 1px dotted black;border-radius: 0.25em;box-sizing: border-box;margin-bottom: 0.5em;}#sk-container-id-3 div.sk-estimator:hover {background-color: #d4ebff;}#sk-container-id-3 div.sk-parallel-item::after {content: \"\";width: 100%;border-bottom: 1px solid gray;flex-grow: 1;}#sk-container-id-3 div.sk-label:hover label.sk-toggleable__label {background-color: #d4ebff;}#sk-container-id-3 div.sk-serial::before {content: \"\";position: absolute;border-left: 1px solid gray;box-sizing: border-box;top: 0;bottom: 0;left: 50%;z-index: 0;}#sk-container-id-3 div.sk-serial {display: flex;flex-direction: column;align-items: center;background-color: white;padding-right: 0.2em;padding-left: 0.2em;position: relative;}#sk-container-id-3 div.sk-item {position: relative;z-index: 1;}#sk-container-id-3 div.sk-parallel {display: flex;align-items: stretch;justify-content: center;background-color: white;position: relative;}#sk-container-id-3 div.sk-item::before, #sk-container-id-3 div.sk-parallel-item::before {content: \"\";position: absolute;border-left: 1px solid gray;box-sizing: border-box;top: 0;bottom: 0;left: 50%;z-index: -1;}#sk-container-id-3 div.sk-parallel-item {display: flex;flex-direction: column;z-index: 1;position: relative;background-color: white;}#sk-container-id-3 div.sk-parallel-item:first-child::after {align-self: flex-end;width: 50%;}#sk-container-id-3 div.sk-parallel-item:last-child::after {align-self: flex-start;width: 50%;}#sk-container-id-3 div.sk-parallel-item:only-child::after {width: 0;}#sk-container-id-3 div.sk-dashed-wrapped {border: 1px dashed gray;margin: 0 0.4em 0.5em 0.4em;box-sizing: border-box;padding-bottom: 0.4em;background-color: white;}#sk-container-id-3 div.sk-label label {font-family: monospace;font-weight: bold;display: inline-block;line-height: 1.2em;}#sk-container-id-3 div.sk-label-container {text-align: center;}#sk-container-id-3 div.sk-container {/* jupyter's `normalize.less` sets `[hidden] { display: none; }` but bootstrap.min.css set `[hidden] { display: none !important; }` so we also need the `!important` here to be able to override the default hidden behavior on the sphinx rendered scikit-learn.org. See: https://github.com/scikit-learn/scikit-learn/issues/21755 */display: inline-block !important;position: relative;}#sk-container-id-3 div.sk-text-repr-fallback {display: none;}</style><div id=\"sk-container-id-3\" class=\"sk-top-container\"><div class=\"sk-text-repr-fallback\"><pre>StandardScaler()</pre><b>In a Jupyter environment, please rerun this cell to show the HTML representation or trust the notebook. <br />On GitHub, the HTML representation is unable to render, please try loading this page with nbviewer.org.</b></div><div class=\"sk-container\" hidden><div class=\"sk-item\"><div class=\"sk-estimator sk-toggleable\"><input class=\"sk-toggleable__control sk-hidden--visually\" id=\"sk-estimator-id-3\" type=\"checkbox\" checked><label for=\"sk-estimator-id-3\" class=\"sk-toggleable__label sk-toggleable__label-arrow\">StandardScaler</label><div class=\"sk-toggleable__content\"><pre>StandardScaler()</pre></div></div></div></div></div>"
     },
     "execution_count": 25,
     "metadata": {},
     "output_type": "execute_result"
    }
   ],
   "source": [
    "print(\"Using the initial K-Means to predict clusters\")\n",
    "\n",
    "scaler_filename = './model/simulation/experiment_{}/scaler_T0.pkl'.format(\"1\")\n",
    "with open(scaler_filename, 'rb') as f:\n",
    "    scaler_T0 = pickle.load(f)\n",
    "\n",
    "scaler_T0[\"scaler_T0\"]"
   ],
   "metadata": {
    "collapsed": false,
    "pycharm": {
     "name": "#%%\n"
    }
   }
  },
  {
   "cell_type": "code",
   "execution_count": 26,
   "outputs": [
    {
     "data": {
      "text/plain": "        Recency  Frequency  Monetary\n0      1.722259  -0.160436 -0.327221\n1     -0.492241  -0.160436 -0.516989\n2     -0.830567  -0.160436  0.162531\n3      1.783773  -0.160436 -0.036017\n4      0.389458  -0.160436 -0.570333\n...         ...        ...       ...\n44478 -1.271416  -0.160436  0.025754\n44479  0.799551  -0.160436  6.295468\n44480 -1.097127  -0.160436 -0.345355\n44481  2.040080  -0.160436 -0.235007\n44482  1.178886  -0.160436 -0.380212\n\n[44483 rows x 3 columns]",
      "text/html": "<div>\n<style scoped>\n    .dataframe tbody tr th:only-of-type {\n        vertical-align: middle;\n    }\n\n    .dataframe tbody tr th {\n        vertical-align: top;\n    }\n\n    .dataframe thead th {\n        text-align: right;\n    }\n</style>\n<table border=\"1\" class=\"dataframe\">\n  <thead>\n    <tr style=\"text-align: right;\">\n      <th></th>\n      <th>Recency</th>\n      <th>Frequency</th>\n      <th>Monetary</th>\n    </tr>\n  </thead>\n  <tbody>\n    <tr>\n      <th>0</th>\n      <td>1.722259</td>\n      <td>-0.160436</td>\n      <td>-0.327221</td>\n    </tr>\n    <tr>\n      <th>1</th>\n      <td>-0.492241</td>\n      <td>-0.160436</td>\n      <td>-0.516989</td>\n    </tr>\n    <tr>\n      <th>2</th>\n      <td>-0.830567</td>\n      <td>-0.160436</td>\n      <td>0.162531</td>\n    </tr>\n    <tr>\n      <th>3</th>\n      <td>1.783773</td>\n      <td>-0.160436</td>\n      <td>-0.036017</td>\n    </tr>\n    <tr>\n      <th>4</th>\n      <td>0.389458</td>\n      <td>-0.160436</td>\n      <td>-0.570333</td>\n    </tr>\n    <tr>\n      <th>...</th>\n      <td>...</td>\n      <td>...</td>\n      <td>...</td>\n    </tr>\n    <tr>\n      <th>44478</th>\n      <td>-1.271416</td>\n      <td>-0.160436</td>\n      <td>0.025754</td>\n    </tr>\n    <tr>\n      <th>44479</th>\n      <td>0.799551</td>\n      <td>-0.160436</td>\n      <td>6.295468</td>\n    </tr>\n    <tr>\n      <th>44480</th>\n      <td>-1.097127</td>\n      <td>-0.160436</td>\n      <td>-0.345355</td>\n    </tr>\n    <tr>\n      <th>44481</th>\n      <td>2.040080</td>\n      <td>-0.160436</td>\n      <td>-0.235007</td>\n    </tr>\n    <tr>\n      <th>44482</th>\n      <td>1.178886</td>\n      <td>-0.160436</td>\n      <td>-0.380212</td>\n    </tr>\n  </tbody>\n</table>\n<p>44483 rows × 3 columns</p>\n</div>"
     },
     "execution_count": 26,
     "metadata": {},
     "output_type": "execute_result"
    }
   ],
   "source": [
    "X_std_T1_scaler_T0 = X_T1.copy()\n",
    "X_std_T1_scaler_T0[X_std_T1_scaler_T0.columns] = scaler_T0[\"scaler_T0\"].transform(X_std_T1_scaler_T0[X_std_T1_scaler_T0.columns])\n",
    "\n",
    "X_std_T1_scaler_T0"
   ],
   "metadata": {
    "collapsed": false,
    "pycharm": {
     "name": "#%%\n"
    }
   }
  },
  {
   "cell_type": "code",
   "execution_count": 27,
   "outputs": [],
   "source": [
    "kmeans_cls_T1_init = kmeans_cls_T0.predict(X_std_T1_scaler_T0)"
   ],
   "metadata": {
    "collapsed": false,
    "pycharm": {
     "name": "#%%\n"
    }
   }
  },
  {
   "cell_type": "code",
   "execution_count": 28,
   "outputs": [
    {
     "data": {
      "text/plain": "array([1, 0, 0, 1, 1])"
     },
     "execution_count": 28,
     "metadata": {},
     "output_type": "execute_result"
    }
   ],
   "source": [
    "kmeans_cls_T1_new.labels_[:5]"
   ],
   "metadata": {
    "collapsed": false,
    "pycharm": {
     "name": "#%%\n"
    }
   }
  },
  {
   "cell_type": "code",
   "execution_count": 29,
   "outputs": [
    {
     "data": {
      "text/plain": "array([2, 0, 0, 2, 2])"
     },
     "execution_count": 29,
     "metadata": {},
     "output_type": "execute_result"
    }
   ],
   "source": [
    "kmeans_cls_T1_init[:5]"
   ],
   "metadata": {
    "collapsed": false,
    "pycharm": {
     "name": "#%%\n"
    }
   }
  },
  {
   "cell_type": "code",
   "execution_count": 30,
   "outputs": [
    {
     "data": {
      "text/plain": "0.9010417486451141"
     },
     "execution_count": 30,
     "metadata": {},
     "output_type": "execute_result"
    }
   ],
   "source": [
    "ARI_T1 = adjusted_rand_score(kmeans_cls_T1_init, kmeans_cls_T1_new.labels_) # Y true labels / pred labels\n",
    "ARI_T1"
   ],
   "metadata": {
    "collapsed": false,
    "pycharm": {
     "name": "#%%\n"
    }
   }
  },
  {
   "cell_type": "markdown",
   "source": [
    "##### We display the confusion matrix between the prediction at T1 using the clustering from T0 and the clustering from T0"
   ],
   "metadata": {
    "collapsed": false,
    "pycharm": {
     "name": "#%% md\n"
    }
   }
  },
  {
   "cell_type": "code",
   "execution_count": 31,
   "outputs": [
    {
     "data": {
      "text/plain": "        pred_0  pred_1  pred_2  pred_3\ntrue_0   24033       0       9       0\ntrue_1       0       0       0    1249\ntrue_2    1170   16995      25       0\ntrue_3       0       0    1002       0",
      "text/html": "<div>\n<style scoped>\n    .dataframe tbody tr th:only-of-type {\n        vertical-align: middle;\n    }\n\n    .dataframe tbody tr th {\n        vertical-align: top;\n    }\n\n    .dataframe thead th {\n        text-align: right;\n    }\n</style>\n<table border=\"1\" class=\"dataframe\">\n  <thead>\n    <tr style=\"text-align: right;\">\n      <th></th>\n      <th>pred_0</th>\n      <th>pred_1</th>\n      <th>pred_2</th>\n      <th>pred_3</th>\n    </tr>\n  </thead>\n  <tbody>\n    <tr>\n      <th>true_0</th>\n      <td>24033</td>\n      <td>0</td>\n      <td>9</td>\n      <td>0</td>\n    </tr>\n    <tr>\n      <th>true_1</th>\n      <td>0</td>\n      <td>0</td>\n      <td>0</td>\n      <td>1249</td>\n    </tr>\n    <tr>\n      <th>true_2</th>\n      <td>1170</td>\n      <td>16995</td>\n      <td>25</td>\n      <td>0</td>\n    </tr>\n    <tr>\n      <th>true_3</th>\n      <td>0</td>\n      <td>0</td>\n      <td>1002</td>\n      <td>0</td>\n    </tr>\n  </tbody>\n</table>\n</div>"
     },
     "execution_count": 31,
     "metadata": {},
     "output_type": "execute_result"
    }
   ],
   "source": [
    "confusion(y_true=kmeans_cls_T1_init, y_pred=kmeans_cls_T1_new.labels_)"
   ],
   "metadata": {
    "collapsed": false,
    "pycharm": {
     "name": "#%%\n"
    }
   }
  },
  {
   "cell_type": "markdown",
   "source": [
    "#### 2) Evaluate ARI for all T (all periods)"
   ],
   "metadata": {
    "collapsed": false,
    "pycharm": {
     "name": "#%% md\n"
    }
   }
  },
  {
   "cell_type": "raw",
   "source": [
    "simulation_results[simulation_results.index.duplicated()]"
   ],
   "metadata": {
    "collapsed": false,
    "pycharm": {
     "name": "#%% raw\n"
    }
   }
  },
  {
   "cell_type": "code",
   "execution_count": 32,
   "outputs": [
    {
     "name": "stdout",
     "output_type": "stream",
     "text": [
      "\n",
      "\n",
      "\n",
      "For T = 1\n",
      "(44483, 3)\n",
      "We make a new clustering using that fits the new dataset.\n",
      "KMeans(n_clusters=4, random_state=0)\n",
      "We predict a clustering using the clustering at T0 for the new dataset.\n",
      "ARI for T = 1\n"
     ]
    },
    {
     "data": {
      "text/plain": "   T       ARI\n0  1  0.901042",
      "text/html": "<div>\n<style scoped>\n    .dataframe tbody tr th:only-of-type {\n        vertical-align: middle;\n    }\n\n    .dataframe tbody tr th {\n        vertical-align: top;\n    }\n\n    .dataframe thead th {\n        text-align: right;\n    }\n</style>\n<table border=\"1\" class=\"dataframe\">\n  <thead>\n    <tr style=\"text-align: right;\">\n      <th></th>\n      <th>T</th>\n      <th>ARI</th>\n    </tr>\n  </thead>\n  <tbody>\n    <tr>\n      <th>0</th>\n      <td>1</td>\n      <td>0.901042</td>\n    </tr>\n  </tbody>\n</table>\n</div>"
     },
     "metadata": {},
     "output_type": "display_data"
    },
    {
     "data": {
      "text/plain": "        pred_0  pred_1  pred_2  pred_3\ntrue_0   24033       0       9       0\ntrue_1       0       0       0    1249\ntrue_2    1170   16995      25       0\ntrue_3       0       0    1002       0",
      "text/html": "<div>\n<style scoped>\n    .dataframe tbody tr th:only-of-type {\n        vertical-align: middle;\n    }\n\n    .dataframe tbody tr th {\n        vertical-align: top;\n    }\n\n    .dataframe thead th {\n        text-align: right;\n    }\n</style>\n<table border=\"1\" class=\"dataframe\">\n  <thead>\n    <tr style=\"text-align: right;\">\n      <th></th>\n      <th>pred_0</th>\n      <th>pred_1</th>\n      <th>pred_2</th>\n      <th>pred_3</th>\n    </tr>\n  </thead>\n  <tbody>\n    <tr>\n      <th>true_0</th>\n      <td>24033</td>\n      <td>0</td>\n      <td>9</td>\n      <td>0</td>\n    </tr>\n    <tr>\n      <th>true_1</th>\n      <td>0</td>\n      <td>0</td>\n      <td>0</td>\n      <td>1249</td>\n    </tr>\n    <tr>\n      <th>true_2</th>\n      <td>1170</td>\n      <td>16995</td>\n      <td>25</td>\n      <td>0</td>\n    </tr>\n    <tr>\n      <th>true_3</th>\n      <td>0</td>\n      <td>0</td>\n      <td>1002</td>\n      <td>0</td>\n    </tr>\n  </tbody>\n</table>\n</div>"
     },
     "metadata": {},
     "output_type": "display_data"
    },
    {
     "name": "stdout",
     "output_type": "stream",
     "text": [
      "\n",
      "\n",
      "\n",
      "For T = 2\n",
      "(48074, 3)\n",
      "We make a new clustering using that fits the new dataset.\n",
      "KMeans(n_clusters=4, random_state=0)\n",
      "We predict a clustering using the clustering at T0 for the new dataset.\n",
      "ARI for T = 2\n"
     ]
    },
    {
     "data": {
      "text/plain": "   T       ARI\n0  1  0.901042\n1  2  0.872430",
      "text/html": "<div>\n<style scoped>\n    .dataframe tbody tr th:only-of-type {\n        vertical-align: middle;\n    }\n\n    .dataframe tbody tr th {\n        vertical-align: top;\n    }\n\n    .dataframe thead th {\n        text-align: right;\n    }\n</style>\n<table border=\"1\" class=\"dataframe\">\n  <thead>\n    <tr style=\"text-align: right;\">\n      <th></th>\n      <th>T</th>\n      <th>ARI</th>\n    </tr>\n  </thead>\n  <tbody>\n    <tr>\n      <th>0</th>\n      <td>1</td>\n      <td>0.901042</td>\n    </tr>\n    <tr>\n      <th>1</th>\n      <td>2</td>\n      <td>0.872430</td>\n    </tr>\n  </tbody>\n</table>\n</div>"
     },
     "metadata": {},
     "output_type": "display_data"
    },
    {
     "data": {
      "text/plain": "        pred_0  pred_1  pred_2  pred_3\ntrue_0       0   25539       0      38\ntrue_1       0       0    1359       1\ntrue_2   18389    1622       0      49\ntrue_3       0       0       0    1077",
      "text/html": "<div>\n<style scoped>\n    .dataframe tbody tr th:only-of-type {\n        vertical-align: middle;\n    }\n\n    .dataframe tbody tr th {\n        vertical-align: top;\n    }\n\n    .dataframe thead th {\n        text-align: right;\n    }\n</style>\n<table border=\"1\" class=\"dataframe\">\n  <thead>\n    <tr style=\"text-align: right;\">\n      <th></th>\n      <th>pred_0</th>\n      <th>pred_1</th>\n      <th>pred_2</th>\n      <th>pred_3</th>\n    </tr>\n  </thead>\n  <tbody>\n    <tr>\n      <th>true_0</th>\n      <td>0</td>\n      <td>25539</td>\n      <td>0</td>\n      <td>38</td>\n    </tr>\n    <tr>\n      <th>true_1</th>\n      <td>0</td>\n      <td>0</td>\n      <td>1359</td>\n      <td>1</td>\n    </tr>\n    <tr>\n      <th>true_2</th>\n      <td>18389</td>\n      <td>1622</td>\n      <td>0</td>\n      <td>49</td>\n    </tr>\n    <tr>\n      <th>true_3</th>\n      <td>0</td>\n      <td>0</td>\n      <td>0</td>\n      <td>1077</td>\n    </tr>\n  </tbody>\n</table>\n</div>"
     },
     "metadata": {},
     "output_type": "display_data"
    },
    {
     "name": "stdout",
     "output_type": "stream",
     "text": [
      "\n",
      "\n",
      "\n",
      "For T = 3\n",
      "(51346, 3)\n",
      "We make a new clustering using that fits the new dataset.\n",
      "KMeans(n_clusters=4, random_state=0)\n",
      "We predict a clustering using the clustering at T0 for the new dataset.\n",
      "ARI for T = 3\n"
     ]
    },
    {
     "data": {
      "text/plain": "   T       ARI\n0  1  0.901042\n1  2  0.872430\n2  3  0.835567",
      "text/html": "<div>\n<style scoped>\n    .dataframe tbody tr th:only-of-type {\n        vertical-align: middle;\n    }\n\n    .dataframe tbody tr th {\n        vertical-align: top;\n    }\n\n    .dataframe thead th {\n        text-align: right;\n    }\n</style>\n<table border=\"1\" class=\"dataframe\">\n  <thead>\n    <tr style=\"text-align: right;\">\n      <th></th>\n      <th>T</th>\n      <th>ARI</th>\n    </tr>\n  </thead>\n  <tbody>\n    <tr>\n      <th>0</th>\n      <td>1</td>\n      <td>0.901042</td>\n    </tr>\n    <tr>\n      <th>1</th>\n      <td>2</td>\n      <td>0.872430</td>\n    </tr>\n    <tr>\n      <th>2</th>\n      <td>3</td>\n      <td>0.835567</td>\n    </tr>\n  </tbody>\n</table>\n</div>"
     },
     "metadata": {},
     "output_type": "display_data"
    },
    {
     "data": {
      "text/plain": "        pred_0  pred_1  pred_2  pred_3\ntrue_0   26854       0      72       0\ntrue_1       0       0       2    1464\ntrue_2    2238   19499      87       0\ntrue_3       0       0    1130       0",
      "text/html": "<div>\n<style scoped>\n    .dataframe tbody tr th:only-of-type {\n        vertical-align: middle;\n    }\n\n    .dataframe tbody tr th {\n        vertical-align: top;\n    }\n\n    .dataframe thead th {\n        text-align: right;\n    }\n</style>\n<table border=\"1\" class=\"dataframe\">\n  <thead>\n    <tr style=\"text-align: right;\">\n      <th></th>\n      <th>pred_0</th>\n      <th>pred_1</th>\n      <th>pred_2</th>\n      <th>pred_3</th>\n    </tr>\n  </thead>\n  <tbody>\n    <tr>\n      <th>true_0</th>\n      <td>26854</td>\n      <td>0</td>\n      <td>72</td>\n      <td>0</td>\n    </tr>\n    <tr>\n      <th>true_1</th>\n      <td>0</td>\n      <td>0</td>\n      <td>2</td>\n      <td>1464</td>\n    </tr>\n    <tr>\n      <th>true_2</th>\n      <td>2238</td>\n      <td>19499</td>\n      <td>87</td>\n      <td>0</td>\n    </tr>\n    <tr>\n      <th>true_3</th>\n      <td>0</td>\n      <td>0</td>\n      <td>1130</td>\n      <td>0</td>\n    </tr>\n  </tbody>\n</table>\n</div>"
     },
     "metadata": {},
     "output_type": "display_data"
    },
    {
     "name": "stdout",
     "output_type": "stream",
     "text": [
      "\n",
      "\n",
      "\n",
      "For T = 4\n",
      "(54669, 3)\n",
      "We make a new clustering using that fits the new dataset.\n",
      "KMeans(n_clusters=4, random_state=0)\n",
      "We predict a clustering using the clustering at T0 for the new dataset.\n",
      "ARI for T = 4\n"
     ]
    },
    {
     "data": {
      "text/plain": "   T       ARI\n0  1  0.901042\n1  2  0.872430\n2  3  0.835567\n3  4  0.756864",
      "text/html": "<div>\n<style scoped>\n    .dataframe tbody tr th:only-of-type {\n        vertical-align: middle;\n    }\n\n    .dataframe tbody tr th {\n        vertical-align: top;\n    }\n\n    .dataframe thead th {\n        text-align: right;\n    }\n</style>\n<table border=\"1\" class=\"dataframe\">\n  <thead>\n    <tr style=\"text-align: right;\">\n      <th></th>\n      <th>T</th>\n      <th>ARI</th>\n    </tr>\n  </thead>\n  <tbody>\n    <tr>\n      <th>0</th>\n      <td>1</td>\n      <td>0.901042</td>\n    </tr>\n    <tr>\n      <th>1</th>\n      <td>2</td>\n      <td>0.872430</td>\n    </tr>\n    <tr>\n      <th>2</th>\n      <td>3</td>\n      <td>0.835567</td>\n    </tr>\n    <tr>\n      <th>3</th>\n      <td>4</td>\n      <td>0.756864</td>\n    </tr>\n  </tbody>\n</table>\n</div>"
     },
     "metadata": {},
     "output_type": "display_data"
    },
    {
     "data": {
      "text/plain": "        pred_0  pred_1  pred_2  pred_3\ntrue_0   27774       0       0     243\ntrue_1       0       0    1589       2\ntrue_2    3513   20174       0     201\ntrue_3       0       0       0    1173",
      "text/html": "<div>\n<style scoped>\n    .dataframe tbody tr th:only-of-type {\n        vertical-align: middle;\n    }\n\n    .dataframe tbody tr th {\n        vertical-align: top;\n    }\n\n    .dataframe thead th {\n        text-align: right;\n    }\n</style>\n<table border=\"1\" class=\"dataframe\">\n  <thead>\n    <tr style=\"text-align: right;\">\n      <th></th>\n      <th>pred_0</th>\n      <th>pred_1</th>\n      <th>pred_2</th>\n      <th>pred_3</th>\n    </tr>\n  </thead>\n  <tbody>\n    <tr>\n      <th>true_0</th>\n      <td>27774</td>\n      <td>0</td>\n      <td>0</td>\n      <td>243</td>\n    </tr>\n    <tr>\n      <th>true_1</th>\n      <td>0</td>\n      <td>0</td>\n      <td>1589</td>\n      <td>2</td>\n    </tr>\n    <tr>\n      <th>true_2</th>\n      <td>3513</td>\n      <td>20174</td>\n      <td>0</td>\n      <td>201</td>\n    </tr>\n    <tr>\n      <th>true_3</th>\n      <td>0</td>\n      <td>0</td>\n      <td>0</td>\n      <td>1173</td>\n    </tr>\n  </tbody>\n</table>\n</div>"
     },
     "metadata": {},
     "output_type": "display_data"
    },
    {
     "name": "stdout",
     "output_type": "stream",
     "text": [
      "\n",
      "\n",
      "\n",
      "For T = 5\n",
      "(58414, 3)\n",
      "We make a new clustering using that fits the new dataset.\n",
      "KMeans(n_clusters=4, random_state=0)\n",
      "We predict a clustering using the clustering at T0 for the new dataset.\n",
      "ARI for T = 5\n"
     ]
    },
    {
     "data": {
      "text/plain": "   T       ARI\n0  1  0.901042\n1  2  0.872430\n2  3  0.835567\n3  4  0.756864\n4  5  0.724575",
      "text/html": "<div>\n<style scoped>\n    .dataframe tbody tr th:only-of-type {\n        vertical-align: middle;\n    }\n\n    .dataframe tbody tr th {\n        vertical-align: top;\n    }\n\n    .dataframe thead th {\n        text-align: right;\n    }\n</style>\n<table border=\"1\" class=\"dataframe\">\n  <thead>\n    <tr style=\"text-align: right;\">\n      <th></th>\n      <th>T</th>\n      <th>ARI</th>\n    </tr>\n  </thead>\n  <tbody>\n    <tr>\n      <th>0</th>\n      <td>1</td>\n      <td>0.901042</td>\n    </tr>\n    <tr>\n      <th>1</th>\n      <td>2</td>\n      <td>0.872430</td>\n    </tr>\n    <tr>\n      <th>2</th>\n      <td>3</td>\n      <td>0.835567</td>\n    </tr>\n    <tr>\n      <th>3</th>\n      <td>4</td>\n      <td>0.756864</td>\n    </tr>\n    <tr>\n      <th>4</th>\n      <td>5</td>\n      <td>0.724575</td>\n    </tr>\n  </tbody>\n</table>\n</div>"
     },
     "metadata": {},
     "output_type": "display_data"
    },
    {
     "data": {
      "text/plain": "        pred_0  pred_1  pred_2  pred_3\ntrue_0       0   29492       0     237\ntrue_1       0       0    1731       4\ntrue_2   21127    4346       0     233\ntrue_3       0       0       0    1244",
      "text/html": "<div>\n<style scoped>\n    .dataframe tbody tr th:only-of-type {\n        vertical-align: middle;\n    }\n\n    .dataframe tbody tr th {\n        vertical-align: top;\n    }\n\n    .dataframe thead th {\n        text-align: right;\n    }\n</style>\n<table border=\"1\" class=\"dataframe\">\n  <thead>\n    <tr style=\"text-align: right;\">\n      <th></th>\n      <th>pred_0</th>\n      <th>pred_1</th>\n      <th>pred_2</th>\n      <th>pred_3</th>\n    </tr>\n  </thead>\n  <tbody>\n    <tr>\n      <th>true_0</th>\n      <td>0</td>\n      <td>29492</td>\n      <td>0</td>\n      <td>237</td>\n    </tr>\n    <tr>\n      <th>true_1</th>\n      <td>0</td>\n      <td>0</td>\n      <td>1731</td>\n      <td>4</td>\n    </tr>\n    <tr>\n      <th>true_2</th>\n      <td>21127</td>\n      <td>4346</td>\n      <td>0</td>\n      <td>233</td>\n    </tr>\n    <tr>\n      <th>true_3</th>\n      <td>0</td>\n      <td>0</td>\n      <td>0</td>\n      <td>1244</td>\n    </tr>\n  </tbody>\n</table>\n</div>"
     },
     "metadata": {},
     "output_type": "display_data"
    },
    {
     "name": "stdout",
     "output_type": "stream",
     "text": [
      "\n",
      "\n",
      "\n",
      "For T = 6\n",
      "(61879, 3)\n",
      "We make a new clustering using that fits the new dataset.\n",
      "KMeans(n_clusters=4, random_state=0)\n",
      "We predict a clustering using the clustering at T0 for the new dataset.\n",
      "ARI for T = 6\n"
     ]
    },
    {
     "data": {
      "text/plain": "   T       ARI\n0  1  0.901042\n1  2  0.872430\n2  3  0.835567\n3  4  0.756864\n4  5  0.724575\n5  6  0.672223",
      "text/html": "<div>\n<style scoped>\n    .dataframe tbody tr th:only-of-type {\n        vertical-align: middle;\n    }\n\n    .dataframe tbody tr th {\n        vertical-align: top;\n    }\n\n    .dataframe thead th {\n        text-align: right;\n    }\n</style>\n<table border=\"1\" class=\"dataframe\">\n  <thead>\n    <tr style=\"text-align: right;\">\n      <th></th>\n      <th>T</th>\n      <th>ARI</th>\n    </tr>\n  </thead>\n  <tbody>\n    <tr>\n      <th>0</th>\n      <td>1</td>\n      <td>0.901042</td>\n    </tr>\n    <tr>\n      <th>1</th>\n      <td>2</td>\n      <td>0.872430</td>\n    </tr>\n    <tr>\n      <th>2</th>\n      <td>3</td>\n      <td>0.835567</td>\n    </tr>\n    <tr>\n      <th>3</th>\n      <td>4</td>\n      <td>0.756864</td>\n    </tr>\n    <tr>\n      <th>4</th>\n      <td>5</td>\n      <td>0.724575</td>\n    </tr>\n    <tr>\n      <th>5</th>\n      <td>6</td>\n      <td>0.672223</td>\n    </tr>\n  </tbody>\n</table>\n</div>"
     },
     "metadata": {},
     "output_type": "display_data"
    },
    {
     "data": {
      "text/plain": "        pred_0  pred_1  pred_2  pred_3\ntrue_0       0   30673       0     234\ntrue_1       0       0    1839       4\ntrue_2   21904    5643       0     271\ntrue_3       0       0       0    1311",
      "text/html": "<div>\n<style scoped>\n    .dataframe tbody tr th:only-of-type {\n        vertical-align: middle;\n    }\n\n    .dataframe tbody tr th {\n        vertical-align: top;\n    }\n\n    .dataframe thead th {\n        text-align: right;\n    }\n</style>\n<table border=\"1\" class=\"dataframe\">\n  <thead>\n    <tr style=\"text-align: right;\">\n      <th></th>\n      <th>pred_0</th>\n      <th>pred_1</th>\n      <th>pred_2</th>\n      <th>pred_3</th>\n    </tr>\n  </thead>\n  <tbody>\n    <tr>\n      <th>true_0</th>\n      <td>0</td>\n      <td>30673</td>\n      <td>0</td>\n      <td>234</td>\n    </tr>\n    <tr>\n      <th>true_1</th>\n      <td>0</td>\n      <td>0</td>\n      <td>1839</td>\n      <td>4</td>\n    </tr>\n    <tr>\n      <th>true_2</th>\n      <td>21904</td>\n      <td>5643</td>\n      <td>0</td>\n      <td>271</td>\n    </tr>\n    <tr>\n      <th>true_3</th>\n      <td>0</td>\n      <td>0</td>\n      <td>0</td>\n      <td>1311</td>\n    </tr>\n  </tbody>\n</table>\n</div>"
     },
     "metadata": {},
     "output_type": "display_data"
    },
    {
     "name": "stdout",
     "output_type": "stream",
     "text": [
      "\n",
      "\n",
      "\n",
      "For T = 7\n",
      "(65121, 3)\n",
      "We make a new clustering using that fits the new dataset.\n",
      "KMeans(n_clusters=4, random_state=0)\n",
      "We predict a clustering using the clustering at T0 for the new dataset.\n",
      "ARI for T = 7\n"
     ]
    },
    {
     "data": {
      "text/plain": "   T       ARI\n0  1  0.901042\n1  2  0.872430\n2  3  0.835567\n3  4  0.756864\n4  5  0.724575\n5  6  0.672223\n6  7  0.663626",
      "text/html": "<div>\n<style scoped>\n    .dataframe tbody tr th:only-of-type {\n        vertical-align: middle;\n    }\n\n    .dataframe tbody tr th {\n        vertical-align: top;\n    }\n\n    .dataframe thead th {\n        text-align: right;\n    }\n</style>\n<table border=\"1\" class=\"dataframe\">\n  <thead>\n    <tr style=\"text-align: right;\">\n      <th></th>\n      <th>T</th>\n      <th>ARI</th>\n    </tr>\n  </thead>\n  <tbody>\n    <tr>\n      <th>0</th>\n      <td>1</td>\n      <td>0.901042</td>\n    </tr>\n    <tr>\n      <th>1</th>\n      <td>2</td>\n      <td>0.872430</td>\n    </tr>\n    <tr>\n      <th>2</th>\n      <td>3</td>\n      <td>0.835567</td>\n    </tr>\n    <tr>\n      <th>3</th>\n      <td>4</td>\n      <td>0.756864</td>\n    </tr>\n    <tr>\n      <th>4</th>\n      <td>5</td>\n      <td>0.724575</td>\n    </tr>\n    <tr>\n      <th>5</th>\n      <td>6</td>\n      <td>0.672223</td>\n    </tr>\n    <tr>\n      <th>6</th>\n      <td>7</td>\n      <td>0.663626</td>\n    </tr>\n  </tbody>\n</table>\n</div>"
     },
     "metadata": {},
     "output_type": "display_data"
    },
    {
     "data": {
      "text/plain": "        pred_0  pred_1  pred_2  pred_3\ntrue_0   31932     209       0       0\ntrue_1       0       4       0    1927\ntrue_2    6125     315   23235       0\ntrue_3       0    1374       0       0",
      "text/html": "<div>\n<style scoped>\n    .dataframe tbody tr th:only-of-type {\n        vertical-align: middle;\n    }\n\n    .dataframe tbody tr th {\n        vertical-align: top;\n    }\n\n    .dataframe thead th {\n        text-align: right;\n    }\n</style>\n<table border=\"1\" class=\"dataframe\">\n  <thead>\n    <tr style=\"text-align: right;\">\n      <th></th>\n      <th>pred_0</th>\n      <th>pred_1</th>\n      <th>pred_2</th>\n      <th>pred_3</th>\n    </tr>\n  </thead>\n  <tbody>\n    <tr>\n      <th>true_0</th>\n      <td>31932</td>\n      <td>209</td>\n      <td>0</td>\n      <td>0</td>\n    </tr>\n    <tr>\n      <th>true_1</th>\n      <td>0</td>\n      <td>4</td>\n      <td>0</td>\n      <td>1927</td>\n    </tr>\n    <tr>\n      <th>true_2</th>\n      <td>6125</td>\n      <td>315</td>\n      <td>23235</td>\n      <td>0</td>\n    </tr>\n    <tr>\n      <th>true_3</th>\n      <td>0</td>\n      <td>1374</td>\n      <td>0</td>\n      <td>0</td>\n    </tr>\n  </tbody>\n</table>\n</div>"
     },
     "metadata": {},
     "output_type": "display_data"
    },
    {
     "name": "stdout",
     "output_type": "stream",
     "text": [
      "\n",
      "\n",
      "\n",
      "For T = 8\n",
      "(68407, 3)\n",
      "We make a new clustering using that fits the new dataset.\n",
      "KMeans(n_clusters=4, random_state=0)\n",
      "We predict a clustering using the clustering at T0 for the new dataset.\n",
      "ARI for T = 8\n"
     ]
    },
    {
     "data": {
      "text/plain": "   T       ARI\n0  1  0.901042\n1  2  0.872430\n2  3  0.835567\n3  4  0.756864\n4  5  0.724575\n5  6  0.672223\n6  7  0.663626\n7  8  0.606990",
      "text/html": "<div>\n<style scoped>\n    .dataframe tbody tr th:only-of-type {\n        vertical-align: middle;\n    }\n\n    .dataframe tbody tr th {\n        vertical-align: top;\n    }\n\n    .dataframe thead th {\n        text-align: right;\n    }\n</style>\n<table border=\"1\" class=\"dataframe\">\n  <thead>\n    <tr style=\"text-align: right;\">\n      <th></th>\n      <th>T</th>\n      <th>ARI</th>\n    </tr>\n  </thead>\n  <tbody>\n    <tr>\n      <th>0</th>\n      <td>1</td>\n      <td>0.901042</td>\n    </tr>\n    <tr>\n      <th>1</th>\n      <td>2</td>\n      <td>0.872430</td>\n    </tr>\n    <tr>\n      <th>2</th>\n      <td>3</td>\n      <td>0.835567</td>\n    </tr>\n    <tr>\n      <th>3</th>\n      <td>4</td>\n      <td>0.756864</td>\n    </tr>\n    <tr>\n      <th>4</th>\n      <td>5</td>\n      <td>0.724575</td>\n    </tr>\n    <tr>\n      <th>5</th>\n      <td>6</td>\n      <td>0.672223</td>\n    </tr>\n    <tr>\n      <th>6</th>\n      <td>7</td>\n      <td>0.663626</td>\n    </tr>\n    <tr>\n      <th>7</th>\n      <td>8</td>\n      <td>0.606990</td>\n    </tr>\n  </tbody>\n</table>\n</div>"
     },
     "metadata": {},
     "output_type": "display_data"
    },
    {
     "data": {
      "text/plain": "        pred_0  pred_1  pred_2  pred_3\ntrue_0   32528       0       0     195\ntrue_1       0       0    2025       4\ntrue_2    7771   24098       0     318\ntrue_3       0       0       0    1468",
      "text/html": "<div>\n<style scoped>\n    .dataframe tbody tr th:only-of-type {\n        vertical-align: middle;\n    }\n\n    .dataframe tbody tr th {\n        vertical-align: top;\n    }\n\n    .dataframe thead th {\n        text-align: right;\n    }\n</style>\n<table border=\"1\" class=\"dataframe\">\n  <thead>\n    <tr style=\"text-align: right;\">\n      <th></th>\n      <th>pred_0</th>\n      <th>pred_1</th>\n      <th>pred_2</th>\n      <th>pred_3</th>\n    </tr>\n  </thead>\n  <tbody>\n    <tr>\n      <th>true_0</th>\n      <td>32528</td>\n      <td>0</td>\n      <td>0</td>\n      <td>195</td>\n    </tr>\n    <tr>\n      <th>true_1</th>\n      <td>0</td>\n      <td>0</td>\n      <td>2025</td>\n      <td>4</td>\n    </tr>\n    <tr>\n      <th>true_2</th>\n      <td>7771</td>\n      <td>24098</td>\n      <td>0</td>\n      <td>318</td>\n    </tr>\n    <tr>\n      <th>true_3</th>\n      <td>0</td>\n      <td>0</td>\n      <td>0</td>\n      <td>1468</td>\n    </tr>\n  </tbody>\n</table>\n</div>"
     },
     "metadata": {},
     "output_type": "display_data"
    },
    {
     "name": "stdout",
     "output_type": "stream",
     "text": [
      "\n",
      "\n",
      "\n",
      "For T = 9\n",
      "(71881, 3)\n",
      "We make a new clustering using that fits the new dataset.\n",
      "KMeans(n_clusters=4, random_state=0)\n",
      "We predict a clustering using the clustering at T0 for the new dataset.\n",
      "ARI for T = 9\n"
     ]
    },
    {
     "data": {
      "text/plain": "   T       ARI\n0  1  0.901042\n1  2  0.872430\n2  3  0.835567\n3  4  0.756864\n4  5  0.724575\n5  6  0.672223\n6  7  0.663626\n7  8  0.606990\n8  9  0.467983",
      "text/html": "<div>\n<style scoped>\n    .dataframe tbody tr th:only-of-type {\n        vertical-align: middle;\n    }\n\n    .dataframe tbody tr th {\n        vertical-align: top;\n    }\n\n    .dataframe thead th {\n        text-align: right;\n    }\n</style>\n<table border=\"1\" class=\"dataframe\">\n  <thead>\n    <tr style=\"text-align: right;\">\n      <th></th>\n      <th>T</th>\n      <th>ARI</th>\n    </tr>\n  </thead>\n  <tbody>\n    <tr>\n      <th>0</th>\n      <td>1</td>\n      <td>0.901042</td>\n    </tr>\n    <tr>\n      <th>1</th>\n      <td>2</td>\n      <td>0.872430</td>\n    </tr>\n    <tr>\n      <th>2</th>\n      <td>3</td>\n      <td>0.835567</td>\n    </tr>\n    <tr>\n      <th>3</th>\n      <td>4</td>\n      <td>0.756864</td>\n    </tr>\n    <tr>\n      <th>4</th>\n      <td>5</td>\n      <td>0.724575</td>\n    </tr>\n    <tr>\n      <th>5</th>\n      <td>6</td>\n      <td>0.672223</td>\n    </tr>\n    <tr>\n      <th>6</th>\n      <td>7</td>\n      <td>0.663626</td>\n    </tr>\n    <tr>\n      <th>7</th>\n      <td>8</td>\n      <td>0.606990</td>\n    </tr>\n    <tr>\n      <th>8</th>\n      <td>9</td>\n      <td>0.467983</td>\n    </tr>\n  </tbody>\n</table>\n</div>"
     },
     "metadata": {},
     "output_type": "display_data"
    },
    {
     "data": {
      "text/plain": "        pred_0  pred_1  pred_2  pred_3\ntrue_0       0   30807     158       0\ntrue_1       0       0       3    2127\ntrue_2   24983   11937     342       0\ntrue_3       0       0    1524       0",
      "text/html": "<div>\n<style scoped>\n    .dataframe tbody tr th:only-of-type {\n        vertical-align: middle;\n    }\n\n    .dataframe tbody tr th {\n        vertical-align: top;\n    }\n\n    .dataframe thead th {\n        text-align: right;\n    }\n</style>\n<table border=\"1\" class=\"dataframe\">\n  <thead>\n    <tr style=\"text-align: right;\">\n      <th></th>\n      <th>pred_0</th>\n      <th>pred_1</th>\n      <th>pred_2</th>\n      <th>pred_3</th>\n    </tr>\n  </thead>\n  <tbody>\n    <tr>\n      <th>true_0</th>\n      <td>0</td>\n      <td>30807</td>\n      <td>158</td>\n      <td>0</td>\n    </tr>\n    <tr>\n      <th>true_1</th>\n      <td>0</td>\n      <td>0</td>\n      <td>3</td>\n      <td>2127</td>\n    </tr>\n    <tr>\n      <th>true_2</th>\n      <td>24983</td>\n      <td>11937</td>\n      <td>342</td>\n      <td>0</td>\n    </tr>\n    <tr>\n      <th>true_3</th>\n      <td>0</td>\n      <td>0</td>\n      <td>1524</td>\n      <td>0</td>\n    </tr>\n  </tbody>\n</table>\n</div>"
     },
     "metadata": {},
     "output_type": "display_data"
    },
    {
     "name": "stdout",
     "output_type": "stream",
     "text": [
      "\n",
      "\n",
      "\n",
      "For T = 10\n",
      "(75772, 3)\n",
      "We make a new clustering using that fits the new dataset.\n",
      "KMeans(n_clusters=4, random_state=0)\n",
      "We predict a clustering using the clustering at T0 for the new dataset.\n",
      "ARI for T = 10\n"
     ]
    },
    {
     "data": {
      "text/plain": "    T       ARI\n0   1  0.901042\n1   2  0.872430\n2   3  0.835567\n3   4  0.756864\n4   5  0.724575\n5   6  0.672223\n6   7  0.663626\n7   8  0.606990\n8   9  0.467983\n9  10  0.439050",
      "text/html": "<div>\n<style scoped>\n    .dataframe tbody tr th:only-of-type {\n        vertical-align: middle;\n    }\n\n    .dataframe tbody tr th {\n        vertical-align: top;\n    }\n\n    .dataframe thead th {\n        text-align: right;\n    }\n</style>\n<table border=\"1\" class=\"dataframe\">\n  <thead>\n    <tr style=\"text-align: right;\">\n      <th></th>\n      <th>T</th>\n      <th>ARI</th>\n    </tr>\n  </thead>\n  <tbody>\n    <tr>\n      <th>0</th>\n      <td>1</td>\n      <td>0.901042</td>\n    </tr>\n    <tr>\n      <th>1</th>\n      <td>2</td>\n      <td>0.872430</td>\n    </tr>\n    <tr>\n      <th>2</th>\n      <td>3</td>\n      <td>0.835567</td>\n    </tr>\n    <tr>\n      <th>3</th>\n      <td>4</td>\n      <td>0.756864</td>\n    </tr>\n    <tr>\n      <th>4</th>\n      <td>5</td>\n      <td>0.724575</td>\n    </tr>\n    <tr>\n      <th>5</th>\n      <td>6</td>\n      <td>0.672223</td>\n    </tr>\n    <tr>\n      <th>6</th>\n      <td>7</td>\n      <td>0.663626</td>\n    </tr>\n    <tr>\n      <th>7</th>\n      <td>8</td>\n      <td>0.606990</td>\n    </tr>\n    <tr>\n      <th>8</th>\n      <td>9</td>\n      <td>0.467983</td>\n    </tr>\n    <tr>\n      <th>9</th>\n      <td>10</td>\n      <td>0.439050</td>\n    </tr>\n  </tbody>\n</table>\n</div>"
     },
     "metadata": {},
     "output_type": "display_data"
    },
    {
     "data": {
      "text/plain": "        pred_0  pred_1  pred_2  pred_3\ntrue_0       0   31854       0     147\ntrue_1       0       0    2247       4\ntrue_2   26020   13524       0     351\ntrue_3       0       0       0    1625",
      "text/html": "<div>\n<style scoped>\n    .dataframe tbody tr th:only-of-type {\n        vertical-align: middle;\n    }\n\n    .dataframe tbody tr th {\n        vertical-align: top;\n    }\n\n    .dataframe thead th {\n        text-align: right;\n    }\n</style>\n<table border=\"1\" class=\"dataframe\">\n  <thead>\n    <tr style=\"text-align: right;\">\n      <th></th>\n      <th>pred_0</th>\n      <th>pred_1</th>\n      <th>pred_2</th>\n      <th>pred_3</th>\n    </tr>\n  </thead>\n  <tbody>\n    <tr>\n      <th>true_0</th>\n      <td>0</td>\n      <td>31854</td>\n      <td>0</td>\n      <td>147</td>\n    </tr>\n    <tr>\n      <th>true_1</th>\n      <td>0</td>\n      <td>0</td>\n      <td>2247</td>\n      <td>4</td>\n    </tr>\n    <tr>\n      <th>true_2</th>\n      <td>26020</td>\n      <td>13524</td>\n      <td>0</td>\n      <td>351</td>\n    </tr>\n    <tr>\n      <th>true_3</th>\n      <td>0</td>\n      <td>0</td>\n      <td>0</td>\n      <td>1625</td>\n    </tr>\n  </tbody>\n</table>\n</div>"
     },
     "metadata": {},
     "output_type": "display_data"
    },
    {
     "name": "stdout",
     "output_type": "stream",
     "text": [
      "\n",
      "\n",
      "\n",
      "For T = 11\n",
      "(77917, 3)\n",
      "We make a new clustering using that fits the new dataset.\n",
      "KMeans(n_clusters=4, random_state=0)\n",
      "We predict a clustering using the clustering at T0 for the new dataset.\n",
      "ARI for T = 11\n"
     ]
    },
    {
     "data": {
      "text/plain": "     T       ARI\n0    1  0.901042\n1    2  0.872430\n2    3  0.835567\n3    4  0.756864\n4    5  0.724575\n5    6  0.672223\n6    7  0.663626\n7    8  0.606990\n8    9  0.467983\n9   10  0.439050\n10  11  0.412422",
      "text/html": "<div>\n<style scoped>\n    .dataframe tbody tr th:only-of-type {\n        vertical-align: middle;\n    }\n\n    .dataframe tbody tr th {\n        vertical-align: top;\n    }\n\n    .dataframe thead th {\n        text-align: right;\n    }\n</style>\n<table border=\"1\" class=\"dataframe\">\n  <thead>\n    <tr style=\"text-align: right;\">\n      <th></th>\n      <th>T</th>\n      <th>ARI</th>\n    </tr>\n  </thead>\n  <tbody>\n    <tr>\n      <th>0</th>\n      <td>1</td>\n      <td>0.901042</td>\n    </tr>\n    <tr>\n      <th>1</th>\n      <td>2</td>\n      <td>0.872430</td>\n    </tr>\n    <tr>\n      <th>2</th>\n      <td>3</td>\n      <td>0.835567</td>\n    </tr>\n    <tr>\n      <th>3</th>\n      <td>4</td>\n      <td>0.756864</td>\n    </tr>\n    <tr>\n      <th>4</th>\n      <td>5</td>\n      <td>0.724575</td>\n    </tr>\n    <tr>\n      <th>5</th>\n      <td>6</td>\n      <td>0.672223</td>\n    </tr>\n    <tr>\n      <th>6</th>\n      <td>7</td>\n      <td>0.663626</td>\n    </tr>\n    <tr>\n      <th>7</th>\n      <td>8</td>\n      <td>0.606990</td>\n    </tr>\n    <tr>\n      <th>8</th>\n      <td>9</td>\n      <td>0.467983</td>\n    </tr>\n    <tr>\n      <th>9</th>\n      <td>10</td>\n      <td>0.439050</td>\n    </tr>\n    <tr>\n      <th>10</th>\n      <td>11</td>\n      <td>0.412422</td>\n    </tr>\n  </tbody>\n</table>\n</div>"
     },
     "metadata": {},
     "output_type": "display_data"
    },
    {
     "data": {
      "text/plain": "        pred_0  pred_1  pred_2  pred_3\ntrue_0   31910       0       0     116\ntrue_1       0    2335       0       4\ntrue_2   14820       0   26681     380\ntrue_3       0       0       0    1671",
      "text/html": "<div>\n<style scoped>\n    .dataframe tbody tr th:only-of-type {\n        vertical-align: middle;\n    }\n\n    .dataframe tbody tr th {\n        vertical-align: top;\n    }\n\n    .dataframe thead th {\n        text-align: right;\n    }\n</style>\n<table border=\"1\" class=\"dataframe\">\n  <thead>\n    <tr style=\"text-align: right;\">\n      <th></th>\n      <th>pred_0</th>\n      <th>pred_1</th>\n      <th>pred_2</th>\n      <th>pred_3</th>\n    </tr>\n  </thead>\n  <tbody>\n    <tr>\n      <th>true_0</th>\n      <td>31910</td>\n      <td>0</td>\n      <td>0</td>\n      <td>116</td>\n    </tr>\n    <tr>\n      <th>true_1</th>\n      <td>0</td>\n      <td>2335</td>\n      <td>0</td>\n      <td>4</td>\n    </tr>\n    <tr>\n      <th>true_2</th>\n      <td>14820</td>\n      <td>0</td>\n      <td>26681</td>\n      <td>380</td>\n    </tr>\n    <tr>\n      <th>true_3</th>\n      <td>0</td>\n      <td>0</td>\n      <td>0</td>\n      <td>1671</td>\n    </tr>\n  </tbody>\n</table>\n</div>"
     },
     "metadata": {},
     "output_type": "display_data"
    },
    {
     "name": "stdout",
     "output_type": "stream",
     "text": [
      "\n",
      "\n",
      "\n",
      "For T = 12\n",
      "(81013, 3)\n",
      "We make a new clustering using that fits the new dataset.\n",
      "KMeans(n_clusters=4, random_state=0)\n",
      "We predict a clustering using the clustering at T0 for the new dataset.\n",
      "ARI for T = 12\n"
     ]
    },
    {
     "data": {
      "text/plain": "     T       ARI\n0    1  0.901042\n1    2  0.872430\n2    3  0.835567\n3    4  0.756864\n4    5  0.724575\n5    6  0.672223\n6    7  0.663626\n7    8  0.606990\n8    9  0.467983\n9   10  0.439050\n10  11  0.412422\n11  12  0.363780",
      "text/html": "<div>\n<style scoped>\n    .dataframe tbody tr th:only-of-type {\n        vertical-align: middle;\n    }\n\n    .dataframe tbody tr th {\n        vertical-align: top;\n    }\n\n    .dataframe thead th {\n        text-align: right;\n    }\n</style>\n<table border=\"1\" class=\"dataframe\">\n  <thead>\n    <tr style=\"text-align: right;\">\n      <th></th>\n      <th>T</th>\n      <th>ARI</th>\n    </tr>\n  </thead>\n  <tbody>\n    <tr>\n      <th>0</th>\n      <td>1</td>\n      <td>0.901042</td>\n    </tr>\n    <tr>\n      <th>1</th>\n      <td>2</td>\n      <td>0.872430</td>\n    </tr>\n    <tr>\n      <th>2</th>\n      <td>3</td>\n      <td>0.835567</td>\n    </tr>\n    <tr>\n      <th>3</th>\n      <td>4</td>\n      <td>0.756864</td>\n    </tr>\n    <tr>\n      <th>4</th>\n      <td>5</td>\n      <td>0.724575</td>\n    </tr>\n    <tr>\n      <th>5</th>\n      <td>6</td>\n      <td>0.672223</td>\n    </tr>\n    <tr>\n      <th>6</th>\n      <td>7</td>\n      <td>0.663626</td>\n    </tr>\n    <tr>\n      <th>7</th>\n      <td>8</td>\n      <td>0.606990</td>\n    </tr>\n    <tr>\n      <th>8</th>\n      <td>9</td>\n      <td>0.467983</td>\n    </tr>\n    <tr>\n      <th>9</th>\n      <td>10</td>\n      <td>0.439050</td>\n    </tr>\n    <tr>\n      <th>10</th>\n      <td>11</td>\n      <td>0.412422</td>\n    </tr>\n    <tr>\n      <th>11</th>\n      <td>12</td>\n      <td>0.363780</td>\n    </tr>\n  </tbody>\n</table>\n</div>"
     },
     "metadata": {},
     "output_type": "display_data"
    },
    {
     "data": {
      "text/plain": "        pred_0  pred_1  pred_2  pred_3\ntrue_0   31443       0     106       0\ntrue_1       0       0       5    2434\ntrue_2   17235   27632     410       0\ntrue_3       0       0    1748       0",
      "text/html": "<div>\n<style scoped>\n    .dataframe tbody tr th:only-of-type {\n        vertical-align: middle;\n    }\n\n    .dataframe tbody tr th {\n        vertical-align: top;\n    }\n\n    .dataframe thead th {\n        text-align: right;\n    }\n</style>\n<table border=\"1\" class=\"dataframe\">\n  <thead>\n    <tr style=\"text-align: right;\">\n      <th></th>\n      <th>pred_0</th>\n      <th>pred_1</th>\n      <th>pred_2</th>\n      <th>pred_3</th>\n    </tr>\n  </thead>\n  <tbody>\n    <tr>\n      <th>true_0</th>\n      <td>31443</td>\n      <td>0</td>\n      <td>106</td>\n      <td>0</td>\n    </tr>\n    <tr>\n      <th>true_1</th>\n      <td>0</td>\n      <td>0</td>\n      <td>5</td>\n      <td>2434</td>\n    </tr>\n    <tr>\n      <th>true_2</th>\n      <td>17235</td>\n      <td>27632</td>\n      <td>410</td>\n      <td>0</td>\n    </tr>\n    <tr>\n      <th>true_3</th>\n      <td>0</td>\n      <td>0</td>\n      <td>1748</td>\n      <td>0</td>\n    </tr>\n  </tbody>\n</table>\n</div>"
     },
     "metadata": {},
     "output_type": "display_data"
    },
    {
     "name": "stdout",
     "output_type": "stream",
     "text": [
      "\n",
      "\n",
      "\n",
      "For T = 13\n",
      "(83964, 3)\n",
      "We make a new clustering using that fits the new dataset.\n",
      "KMeans(n_clusters=4, random_state=0)\n",
      "We predict a clustering using the clustering at T0 for the new dataset.\n",
      "ARI for T = 13\n"
     ]
    },
    {
     "data": {
      "text/plain": "     T       ARI\n0    1  0.901042\n1    2  0.872430\n2    3  0.835567\n3    4  0.756864\n4    5  0.724575\n5    6  0.672223\n6    7  0.663626\n7    8  0.606990\n8    9  0.467983\n9   10  0.439050\n10  11  0.412422\n11  12  0.363780\n12  13  0.322583",
      "text/html": "<div>\n<style scoped>\n    .dataframe tbody tr th:only-of-type {\n        vertical-align: middle;\n    }\n\n    .dataframe tbody tr th {\n        vertical-align: top;\n    }\n\n    .dataframe thead th {\n        text-align: right;\n    }\n</style>\n<table border=\"1\" class=\"dataframe\">\n  <thead>\n    <tr style=\"text-align: right;\">\n      <th></th>\n      <th>T</th>\n      <th>ARI</th>\n    </tr>\n  </thead>\n  <tbody>\n    <tr>\n      <th>0</th>\n      <td>1</td>\n      <td>0.901042</td>\n    </tr>\n    <tr>\n      <th>1</th>\n      <td>2</td>\n      <td>0.872430</td>\n    </tr>\n    <tr>\n      <th>2</th>\n      <td>3</td>\n      <td>0.835567</td>\n    </tr>\n    <tr>\n      <th>3</th>\n      <td>4</td>\n      <td>0.756864</td>\n    </tr>\n    <tr>\n      <th>4</th>\n      <td>5</td>\n      <td>0.724575</td>\n    </tr>\n    <tr>\n      <th>5</th>\n      <td>6</td>\n      <td>0.672223</td>\n    </tr>\n    <tr>\n      <th>6</th>\n      <td>7</td>\n      <td>0.663626</td>\n    </tr>\n    <tr>\n      <th>7</th>\n      <td>8</td>\n      <td>0.606990</td>\n    </tr>\n    <tr>\n      <th>8</th>\n      <td>9</td>\n      <td>0.467983</td>\n    </tr>\n    <tr>\n      <th>9</th>\n      <td>10</td>\n      <td>0.439050</td>\n    </tr>\n    <tr>\n      <th>10</th>\n      <td>11</td>\n      <td>0.412422</td>\n    </tr>\n    <tr>\n      <th>11</th>\n      <td>12</td>\n      <td>0.363780</td>\n    </tr>\n    <tr>\n      <th>12</th>\n      <td>13</td>\n      <td>0.322583</td>\n    </tr>\n  </tbody>\n</table>\n</div>"
     },
     "metadata": {},
     "output_type": "display_data"
    },
    {
     "data": {
      "text/plain": "        pred_0  pred_1  pred_2  pred_3\ntrue_0       0   31177       0      97\ntrue_1       0       0    2521       5\ntrue_2   28330   19609       0     428\ntrue_3       0       0       0    1797",
      "text/html": "<div>\n<style scoped>\n    .dataframe tbody tr th:only-of-type {\n        vertical-align: middle;\n    }\n\n    .dataframe tbody tr th {\n        vertical-align: top;\n    }\n\n    .dataframe thead th {\n        text-align: right;\n    }\n</style>\n<table border=\"1\" class=\"dataframe\">\n  <thead>\n    <tr style=\"text-align: right;\">\n      <th></th>\n      <th>pred_0</th>\n      <th>pred_1</th>\n      <th>pred_2</th>\n      <th>pred_3</th>\n    </tr>\n  </thead>\n  <tbody>\n    <tr>\n      <th>true_0</th>\n      <td>0</td>\n      <td>31177</td>\n      <td>0</td>\n      <td>97</td>\n    </tr>\n    <tr>\n      <th>true_1</th>\n      <td>0</td>\n      <td>0</td>\n      <td>2521</td>\n      <td>5</td>\n    </tr>\n    <tr>\n      <th>true_2</th>\n      <td>28330</td>\n      <td>19609</td>\n      <td>0</td>\n      <td>428</td>\n    </tr>\n    <tr>\n      <th>true_3</th>\n      <td>0</td>\n      <td>0</td>\n      <td>0</td>\n      <td>1797</td>\n    </tr>\n  </tbody>\n</table>\n</div>"
     },
     "metadata": {},
     "output_type": "display_data"
    },
    {
     "name": "stdout",
     "output_type": "stream",
     "text": [
      "\n",
      "\n",
      "\n",
      "For T = 14\n",
      "(86403, 3)\n",
      "We make a new clustering using that fits the new dataset.\n",
      "KMeans(n_clusters=4, random_state=0)\n",
      "We predict a clustering using the clustering at T0 for the new dataset.\n",
      "ARI for T = 14\n"
     ]
    },
    {
     "data": {
      "text/plain": "     T       ARI\n0    1  0.901042\n1    2  0.872430\n2    3  0.835567\n3    4  0.756864\n4    5  0.724575\n5    6  0.672223\n6    7  0.663626\n7    8  0.606990\n8    9  0.467983\n9   10  0.439050\n10  11  0.412422\n11  12  0.363780\n12  13  0.322583\n13  14  0.279777",
      "text/html": "<div>\n<style scoped>\n    .dataframe tbody tr th:only-of-type {\n        vertical-align: middle;\n    }\n\n    .dataframe tbody tr th {\n        vertical-align: top;\n    }\n\n    .dataframe thead th {\n        text-align: right;\n    }\n</style>\n<table border=\"1\" class=\"dataframe\">\n  <thead>\n    <tr style=\"text-align: right;\">\n      <th></th>\n      <th>T</th>\n      <th>ARI</th>\n    </tr>\n  </thead>\n  <tbody>\n    <tr>\n      <th>0</th>\n      <td>1</td>\n      <td>0.901042</td>\n    </tr>\n    <tr>\n      <th>1</th>\n      <td>2</td>\n      <td>0.872430</td>\n    </tr>\n    <tr>\n      <th>2</th>\n      <td>3</td>\n      <td>0.835567</td>\n    </tr>\n    <tr>\n      <th>3</th>\n      <td>4</td>\n      <td>0.756864</td>\n    </tr>\n    <tr>\n      <th>4</th>\n      <td>5</td>\n      <td>0.724575</td>\n    </tr>\n    <tr>\n      <th>5</th>\n      <td>6</td>\n      <td>0.672223</td>\n    </tr>\n    <tr>\n      <th>6</th>\n      <td>7</td>\n      <td>0.663626</td>\n    </tr>\n    <tr>\n      <th>7</th>\n      <td>8</td>\n      <td>0.606990</td>\n    </tr>\n    <tr>\n      <th>8</th>\n      <td>9</td>\n      <td>0.467983</td>\n    </tr>\n    <tr>\n      <th>9</th>\n      <td>10</td>\n      <td>0.439050</td>\n    </tr>\n    <tr>\n      <th>10</th>\n      <td>11</td>\n      <td>0.412422</td>\n    </tr>\n    <tr>\n      <th>11</th>\n      <td>12</td>\n      <td>0.363780</td>\n    </tr>\n    <tr>\n      <th>12</th>\n      <td>13</td>\n      <td>0.322583</td>\n    </tr>\n    <tr>\n      <th>13</th>\n      <td>14</td>\n      <td>0.279777</td>\n    </tr>\n  </tbody>\n</table>\n</div>"
     },
     "metadata": {},
     "output_type": "display_data"
    },
    {
     "data": {
      "text/plain": "        pred_0  pred_1  pred_2  pred_3\ntrue_0       0       0      69   30348\ntrue_1       0    2621       5       0\ntrue_2   28809       0     424   22276\ntrue_3       0       0    1851       0",
      "text/html": "<div>\n<style scoped>\n    .dataframe tbody tr th:only-of-type {\n        vertical-align: middle;\n    }\n\n    .dataframe tbody tr th {\n        vertical-align: top;\n    }\n\n    .dataframe thead th {\n        text-align: right;\n    }\n</style>\n<table border=\"1\" class=\"dataframe\">\n  <thead>\n    <tr style=\"text-align: right;\">\n      <th></th>\n      <th>pred_0</th>\n      <th>pred_1</th>\n      <th>pred_2</th>\n      <th>pred_3</th>\n    </tr>\n  </thead>\n  <tbody>\n    <tr>\n      <th>true_0</th>\n      <td>0</td>\n      <td>0</td>\n      <td>69</td>\n      <td>30348</td>\n    </tr>\n    <tr>\n      <th>true_1</th>\n      <td>0</td>\n      <td>2621</td>\n      <td>5</td>\n      <td>0</td>\n    </tr>\n    <tr>\n      <th>true_2</th>\n      <td>28809</td>\n      <td>0</td>\n      <td>424</td>\n      <td>22276</td>\n    </tr>\n    <tr>\n      <th>true_3</th>\n      <td>0</td>\n      <td>0</td>\n      <td>1851</td>\n      <td>0</td>\n    </tr>\n  </tbody>\n</table>\n</div>"
     },
     "metadata": {},
     "output_type": "display_data"
    },
    {
     "name": "stdout",
     "output_type": "stream",
     "text": [
      "\n",
      "\n",
      "\n",
      "For T = 15\n",
      "(90092, 3)\n",
      "We make a new clustering using that fits the new dataset.\n",
      "KMeans(n_clusters=4, random_state=0)\n",
      "We predict a clustering using the clustering at T0 for the new dataset.\n",
      "ARI for T = 15\n"
     ]
    },
    {
     "data": {
      "text/plain": "     T       ARI\n0    1  0.901042\n1    2  0.872430\n2    3  0.835567\n3    4  0.756864\n4    5  0.724575\n5    6  0.672223\n6    7  0.663626\n7    8  0.606990\n8    9  0.467983\n9   10  0.439050\n10  11  0.412422\n11  12  0.363780\n12  13  0.322583\n13  14  0.279777\n14  15  0.257714",
      "text/html": "<div>\n<style scoped>\n    .dataframe tbody tr th:only-of-type {\n        vertical-align: middle;\n    }\n\n    .dataframe tbody tr th {\n        vertical-align: top;\n    }\n\n    .dataframe thead th {\n        text-align: right;\n    }\n</style>\n<table border=\"1\" class=\"dataframe\">\n  <thead>\n    <tr style=\"text-align: right;\">\n      <th></th>\n      <th>T</th>\n      <th>ARI</th>\n    </tr>\n  </thead>\n  <tbody>\n    <tr>\n      <th>0</th>\n      <td>1</td>\n      <td>0.901042</td>\n    </tr>\n    <tr>\n      <th>1</th>\n      <td>2</td>\n      <td>0.872430</td>\n    </tr>\n    <tr>\n      <th>2</th>\n      <td>3</td>\n      <td>0.835567</td>\n    </tr>\n    <tr>\n      <th>3</th>\n      <td>4</td>\n      <td>0.756864</td>\n    </tr>\n    <tr>\n      <th>4</th>\n      <td>5</td>\n      <td>0.724575</td>\n    </tr>\n    <tr>\n      <th>5</th>\n      <td>6</td>\n      <td>0.672223</td>\n    </tr>\n    <tr>\n      <th>6</th>\n      <td>7</td>\n      <td>0.663626</td>\n    </tr>\n    <tr>\n      <th>7</th>\n      <td>8</td>\n      <td>0.606990</td>\n    </tr>\n    <tr>\n      <th>8</th>\n      <td>9</td>\n      <td>0.467983</td>\n    </tr>\n    <tr>\n      <th>9</th>\n      <td>10</td>\n      <td>0.439050</td>\n    </tr>\n    <tr>\n      <th>10</th>\n      <td>11</td>\n      <td>0.412422</td>\n    </tr>\n    <tr>\n      <th>11</th>\n      <td>12</td>\n      <td>0.363780</td>\n    </tr>\n    <tr>\n      <th>12</th>\n      <td>13</td>\n      <td>0.322583</td>\n    </tr>\n    <tr>\n      <th>13</th>\n      <td>14</td>\n      <td>0.279777</td>\n    </tr>\n    <tr>\n      <th>14</th>\n      <td>15</td>\n      <td>0.257714</td>\n    </tr>\n  </tbody>\n</table>\n</div>"
     },
     "metadata": {},
     "output_type": "display_data"
    },
    {
     "data": {
      "text/plain": "        pred_0  pred_1  pred_2  pred_3\ntrue_0   30383       0       0      36\ntrue_1       0    2731       0       5\ntrue_2   24625       0   30177     225\ntrue_3       0       0       0    1910",
      "text/html": "<div>\n<style scoped>\n    .dataframe tbody tr th:only-of-type {\n        vertical-align: middle;\n    }\n\n    .dataframe tbody tr th {\n        vertical-align: top;\n    }\n\n    .dataframe thead th {\n        text-align: right;\n    }\n</style>\n<table border=\"1\" class=\"dataframe\">\n  <thead>\n    <tr style=\"text-align: right;\">\n      <th></th>\n      <th>pred_0</th>\n      <th>pred_1</th>\n      <th>pred_2</th>\n      <th>pred_3</th>\n    </tr>\n  </thead>\n  <tbody>\n    <tr>\n      <th>true_0</th>\n      <td>30383</td>\n      <td>0</td>\n      <td>0</td>\n      <td>36</td>\n    </tr>\n    <tr>\n      <th>true_1</th>\n      <td>0</td>\n      <td>2731</td>\n      <td>0</td>\n      <td>5</td>\n    </tr>\n    <tr>\n      <th>true_2</th>\n      <td>24625</td>\n      <td>0</td>\n      <td>30177</td>\n      <td>225</td>\n    </tr>\n    <tr>\n      <th>true_3</th>\n      <td>0</td>\n      <td>0</td>\n      <td>0</td>\n      <td>1910</td>\n    </tr>\n  </tbody>\n</table>\n</div>"
     },
     "metadata": {},
     "output_type": "display_data"
    },
    {
     "name": "stdout",
     "output_type": "stream",
     "text": [
      "\n",
      "\n",
      "\n",
      "For T = 16\n",
      "(94102, 3)\n",
      "We make a new clustering using that fits the new dataset.\n",
      "KMeans(n_clusters=4, random_state=0)\n",
      "We predict a clustering using the clustering at T0 for the new dataset.\n",
      "ARI for T = 16\n"
     ]
    },
    {
     "data": {
      "text/plain": "     T       ARI\n0    1  0.901042\n1    2  0.872430\n2    3  0.835567\n3    4  0.756864\n4    5  0.724575\n5    6  0.672223\n6    7  0.663626\n7    8  0.606990\n8    9  0.467983\n9   10  0.439050\n10  11  0.412422\n11  12  0.363780\n12  13  0.322583\n13  14  0.279777\n14  15  0.257714\n15  16  0.356599",
      "text/html": "<div>\n<style scoped>\n    .dataframe tbody tr th:only-of-type {\n        vertical-align: middle;\n    }\n\n    .dataframe tbody tr th {\n        vertical-align: top;\n    }\n\n    .dataframe thead th {\n        text-align: right;\n    }\n</style>\n<table border=\"1\" class=\"dataframe\">\n  <thead>\n    <tr style=\"text-align: right;\">\n      <th></th>\n      <th>T</th>\n      <th>ARI</th>\n    </tr>\n  </thead>\n  <tbody>\n    <tr>\n      <th>0</th>\n      <td>1</td>\n      <td>0.901042</td>\n    </tr>\n    <tr>\n      <th>1</th>\n      <td>2</td>\n      <td>0.872430</td>\n    </tr>\n    <tr>\n      <th>2</th>\n      <td>3</td>\n      <td>0.835567</td>\n    </tr>\n    <tr>\n      <th>3</th>\n      <td>4</td>\n      <td>0.756864</td>\n    </tr>\n    <tr>\n      <th>4</th>\n      <td>5</td>\n      <td>0.724575</td>\n    </tr>\n    <tr>\n      <th>5</th>\n      <td>6</td>\n      <td>0.672223</td>\n    </tr>\n    <tr>\n      <th>6</th>\n      <td>7</td>\n      <td>0.663626</td>\n    </tr>\n    <tr>\n      <th>7</th>\n      <td>8</td>\n      <td>0.606990</td>\n    </tr>\n    <tr>\n      <th>8</th>\n      <td>9</td>\n      <td>0.467983</td>\n    </tr>\n    <tr>\n      <th>9</th>\n      <td>10</td>\n      <td>0.439050</td>\n    </tr>\n    <tr>\n      <th>10</th>\n      <td>11</td>\n      <td>0.412422</td>\n    </tr>\n    <tr>\n      <th>11</th>\n      <td>12</td>\n      <td>0.363780</td>\n    </tr>\n    <tr>\n      <th>12</th>\n      <td>13</td>\n      <td>0.322583</td>\n    </tr>\n    <tr>\n      <th>13</th>\n      <td>14</td>\n      <td>0.279777</td>\n    </tr>\n    <tr>\n      <th>14</th>\n      <td>15</td>\n      <td>0.257714</td>\n    </tr>\n    <tr>\n      <th>15</th>\n      <td>16</td>\n      <td>0.356599</td>\n    </tr>\n  </tbody>\n</table>\n</div>"
     },
     "metadata": {},
     "output_type": "display_data"
    },
    {
     "data": {
      "text/plain": "        pred_0  pred_1  pred_2  pred_3\ntrue_0   30930       0       0      14\ntrue_1       0    2844       0       6\ntrue_2   20576       0   37503     238\ntrue_3       0       0       0    1991",
      "text/html": "<div>\n<style scoped>\n    .dataframe tbody tr th:only-of-type {\n        vertical-align: middle;\n    }\n\n    .dataframe tbody tr th {\n        vertical-align: top;\n    }\n\n    .dataframe thead th {\n        text-align: right;\n    }\n</style>\n<table border=\"1\" class=\"dataframe\">\n  <thead>\n    <tr style=\"text-align: right;\">\n      <th></th>\n      <th>pred_0</th>\n      <th>pred_1</th>\n      <th>pred_2</th>\n      <th>pred_3</th>\n    </tr>\n  </thead>\n  <tbody>\n    <tr>\n      <th>true_0</th>\n      <td>30930</td>\n      <td>0</td>\n      <td>0</td>\n      <td>14</td>\n    </tr>\n    <tr>\n      <th>true_1</th>\n      <td>0</td>\n      <td>2844</td>\n      <td>0</td>\n      <td>6</td>\n    </tr>\n    <tr>\n      <th>true_2</th>\n      <td>20576</td>\n      <td>0</td>\n      <td>37503</td>\n      <td>238</td>\n    </tr>\n    <tr>\n      <th>true_3</th>\n      <td>0</td>\n      <td>0</td>\n      <td>0</td>\n      <td>1991</td>\n    </tr>\n  </tbody>\n</table>\n</div>"
     },
     "metadata": {},
     "output_type": "display_data"
    },
    {
     "name": "stdout",
     "output_type": "stream",
     "text": [
      "\n",
      "\n",
      "\n",
      "For T = 17\n",
      "(95420, 3)\n",
      "We make a new clustering using that fits the new dataset.\n",
      "KMeans(n_clusters=4, random_state=0)\n",
      "We predict a clustering using the clustering at T0 for the new dataset.\n",
      "ARI for T = 17\n"
     ]
    },
    {
     "data": {
      "text/plain": "     T       ARI\n0    1  0.901042\n1    2  0.872430\n2    3  0.835567\n3    4  0.756864\n4    5  0.724575\n5    6  0.672223\n6    7  0.663626\n7    8  0.606990\n8    9  0.467983\n9   10  0.439050\n10  11  0.412422\n11  12  0.363780\n12  13  0.322583\n13  14  0.279777\n14  15  0.257714\n15  16  0.356599\n16  17  0.318021",
      "text/html": "<div>\n<style scoped>\n    .dataframe tbody tr th:only-of-type {\n        vertical-align: middle;\n    }\n\n    .dataframe tbody tr th {\n        vertical-align: top;\n    }\n\n    .dataframe thead th {\n        text-align: right;\n    }\n</style>\n<table border=\"1\" class=\"dataframe\">\n  <thead>\n    <tr style=\"text-align: right;\">\n      <th></th>\n      <th>T</th>\n      <th>ARI</th>\n    </tr>\n  </thead>\n  <tbody>\n    <tr>\n      <th>0</th>\n      <td>1</td>\n      <td>0.901042</td>\n    </tr>\n    <tr>\n      <th>1</th>\n      <td>2</td>\n      <td>0.872430</td>\n    </tr>\n    <tr>\n      <th>2</th>\n      <td>3</td>\n      <td>0.835567</td>\n    </tr>\n    <tr>\n      <th>3</th>\n      <td>4</td>\n      <td>0.756864</td>\n    </tr>\n    <tr>\n      <th>4</th>\n      <td>5</td>\n      <td>0.724575</td>\n    </tr>\n    <tr>\n      <th>5</th>\n      <td>6</td>\n      <td>0.672223</td>\n    </tr>\n    <tr>\n      <th>6</th>\n      <td>7</td>\n      <td>0.663626</td>\n    </tr>\n    <tr>\n      <th>7</th>\n      <td>8</td>\n      <td>0.606990</td>\n    </tr>\n    <tr>\n      <th>8</th>\n      <td>9</td>\n      <td>0.467983</td>\n    </tr>\n    <tr>\n      <th>9</th>\n      <td>10</td>\n      <td>0.439050</td>\n    </tr>\n    <tr>\n      <th>10</th>\n      <td>11</td>\n      <td>0.412422</td>\n    </tr>\n    <tr>\n      <th>11</th>\n      <td>12</td>\n      <td>0.363780</td>\n    </tr>\n    <tr>\n      <th>12</th>\n      <td>13</td>\n      <td>0.322583</td>\n    </tr>\n    <tr>\n      <th>13</th>\n      <td>14</td>\n      <td>0.279777</td>\n    </tr>\n    <tr>\n      <th>14</th>\n      <td>15</td>\n      <td>0.257714</td>\n    </tr>\n    <tr>\n      <th>15</th>\n      <td>16</td>\n      <td>0.356599</td>\n    </tr>\n    <tr>\n      <th>16</th>\n      <td>17</td>\n      <td>0.318021</td>\n    </tr>\n  </tbody>\n</table>\n</div>"
     },
     "metadata": {},
     "output_type": "display_data"
    },
    {
     "data": {
      "text/plain": "        pred_0  pred_1  pred_2  pred_3\ntrue_0       0   29105       0       3\ntrue_1       0       0    2883       8\ntrue_2   38378   22777       0     272\ntrue_3       0       4       0    1990",
      "text/html": "<div>\n<style scoped>\n    .dataframe tbody tr th:only-of-type {\n        vertical-align: middle;\n    }\n\n    .dataframe tbody tr th {\n        vertical-align: top;\n    }\n\n    .dataframe thead th {\n        text-align: right;\n    }\n</style>\n<table border=\"1\" class=\"dataframe\">\n  <thead>\n    <tr style=\"text-align: right;\">\n      <th></th>\n      <th>pred_0</th>\n      <th>pred_1</th>\n      <th>pred_2</th>\n      <th>pred_3</th>\n    </tr>\n  </thead>\n  <tbody>\n    <tr>\n      <th>true_0</th>\n      <td>0</td>\n      <td>29105</td>\n      <td>0</td>\n      <td>3</td>\n    </tr>\n    <tr>\n      <th>true_1</th>\n      <td>0</td>\n      <td>0</td>\n      <td>2883</td>\n      <td>8</td>\n    </tr>\n    <tr>\n      <th>true_2</th>\n      <td>38378</td>\n      <td>22777</td>\n      <td>0</td>\n      <td>272</td>\n    </tr>\n    <tr>\n      <th>true_3</th>\n      <td>0</td>\n      <td>4</td>\n      <td>0</td>\n      <td>1990</td>\n    </tr>\n  </tbody>\n</table>\n</div>"
     },
     "metadata": {},
     "output_type": "display_data"
    }
   ],
   "source": [
    "simulation_results_exp_1 = pd.DataFrame({})\n",
    "\n",
    "simulation_results_exp_1 = run_simulation(nb_periods=nb_periods_exp_1, kmeans_cls_T0=kmeans_cls_T0, results=simulation_results_exp_1, experiment_nb=1, nb_clusters=nb_clusters)"
   ],
   "metadata": {
    "collapsed": false,
    "pycharm": {
     "name": "#%%\n"
    }
   }
  },
  {
   "cell_type": "code",
   "execution_count": 33,
   "outputs": [
    {
     "data": {
      "text/plain": "     T       ARI\n0    1  0.901042\n1    2  0.872430\n2    3  0.835567\n3    4  0.756864\n4    5  0.724575\n5    6  0.672223\n6    7  0.663626\n7    8  0.606990\n8    9  0.467983\n9   10  0.439050\n10  11  0.412422\n11  12  0.363780\n12  13  0.322583\n13  14  0.279777\n14  15  0.257714\n15  16  0.356599\n16  17  0.318021",
      "text/html": "<div>\n<style scoped>\n    .dataframe tbody tr th:only-of-type {\n        vertical-align: middle;\n    }\n\n    .dataframe tbody tr th {\n        vertical-align: top;\n    }\n\n    .dataframe thead th {\n        text-align: right;\n    }\n</style>\n<table border=\"1\" class=\"dataframe\">\n  <thead>\n    <tr style=\"text-align: right;\">\n      <th></th>\n      <th>T</th>\n      <th>ARI</th>\n    </tr>\n  </thead>\n  <tbody>\n    <tr>\n      <th>0</th>\n      <td>1</td>\n      <td>0.901042</td>\n    </tr>\n    <tr>\n      <th>1</th>\n      <td>2</td>\n      <td>0.872430</td>\n    </tr>\n    <tr>\n      <th>2</th>\n      <td>3</td>\n      <td>0.835567</td>\n    </tr>\n    <tr>\n      <th>3</th>\n      <td>4</td>\n      <td>0.756864</td>\n    </tr>\n    <tr>\n      <th>4</th>\n      <td>5</td>\n      <td>0.724575</td>\n    </tr>\n    <tr>\n      <th>5</th>\n      <td>6</td>\n      <td>0.672223</td>\n    </tr>\n    <tr>\n      <th>6</th>\n      <td>7</td>\n      <td>0.663626</td>\n    </tr>\n    <tr>\n      <th>7</th>\n      <td>8</td>\n      <td>0.606990</td>\n    </tr>\n    <tr>\n      <th>8</th>\n      <td>9</td>\n      <td>0.467983</td>\n    </tr>\n    <tr>\n      <th>9</th>\n      <td>10</td>\n      <td>0.439050</td>\n    </tr>\n    <tr>\n      <th>10</th>\n      <td>11</td>\n      <td>0.412422</td>\n    </tr>\n    <tr>\n      <th>11</th>\n      <td>12</td>\n      <td>0.363780</td>\n    </tr>\n    <tr>\n      <th>12</th>\n      <td>13</td>\n      <td>0.322583</td>\n    </tr>\n    <tr>\n      <th>13</th>\n      <td>14</td>\n      <td>0.279777</td>\n    </tr>\n    <tr>\n      <th>14</th>\n      <td>15</td>\n      <td>0.257714</td>\n    </tr>\n    <tr>\n      <th>15</th>\n      <td>16</td>\n      <td>0.356599</td>\n    </tr>\n    <tr>\n      <th>16</th>\n      <td>17</td>\n      <td>0.318021</td>\n    </tr>\n  </tbody>\n</table>\n</div>"
     },
     "execution_count": 33,
     "metadata": {},
     "output_type": "execute_result"
    }
   ],
   "source": [
    "simulation_results_exp_1"
   ],
   "metadata": {
    "collapsed": false,
    "pycharm": {
     "name": "#%%\n"
    }
   }
  },
  {
   "cell_type": "code",
   "execution_count": 34,
   "outputs": [
    {
     "data": {
      "text/plain": "<Figure size 432x288 with 1 Axes>",
      "image/png": "[encoded data removed]"
     },
     "metadata": {
      "needs_background": "light"
     },
     "output_type": "display_data"
    }
   ],
   "source": [
    "display_ARI_nb_days(simulation_results=simulation_results_exp_1, nb_days=nb_days_exp_1)"
   ],
   "metadata": {
    "collapsed": false,
    "pycharm": {
     "name": "#%%\n"
    }
   }
  },
  {
   "cell_type": "markdown",
   "source": [
    "### 2) Experiment 2 : Simulation over 3 months\n",
    "We take a period closer to the max purchase order date and run the simulation every 7 days."
   ],
   "metadata": {
    "collapsed": false,
    "pycharm": {
     "name": "#%% md\n"
    }
   }
  },
  {
   "cell_type": "code",
   "execution_count": 35,
   "outputs": [],
   "source": [
    "#T=4 == one month before\n",
    "nb_periods_exp_2 = 12 # 12 three before ago / tried 8 : two months ago\n",
    "nb_days_exp_2 = 7"
   ],
   "metadata": {
    "collapsed": false,
    "pycharm": {
     "name": "#%%\n"
    }
   }
  },
  {
   "cell_type": "code",
   "execution_count": 36,
   "outputs": [
    {
     "name": "stdout",
     "output_type": "stream",
     "text": [
      "\n",
      "\n",
      "\n",
      "Step : 1 Maximum order purchase date : 2018-06-11 09:06:57\n",
      "Verification of the filter : 2018-06-11 08:58:16\n",
      "This dataset has 79092 unique clients\n",
      "\n",
      "\n",
      "\n",
      "Step : 2 Maximum order purchase date : 2018-06-18 09:06:57\n",
      "Verification of the filter : 2018-06-18 08:59:45\n",
      "This dataset has 80547 unique clients\n",
      "\n",
      "\n",
      "\n",
      "Step : 3 Maximum order purchase date : 2018-06-25 09:06:57\n",
      "Verification of the filter : 2018-06-25 09:05:04\n",
      "This dataset has 81949 unique clients\n",
      "\n",
      "\n",
      "\n",
      "Step : 4 Maximum order purchase date : 2018-07-02 09:06:57\n",
      "Verification of the filter : 2018-07-02 09:01:31\n",
      "This dataset has 83297 unique clients\n",
      "\n",
      "\n",
      "\n",
      "Step : 5 Maximum order purchase date : 2018-07-09 09:06:57\n",
      "Verification of the filter : 2018-07-09 09:06:51\n",
      "This dataset has 84460 unique clients\n",
      "\n",
      "\n",
      "\n",
      "Step : 6 Maximum order purchase date : 2018-07-16 09:06:57\n",
      "Verification of the filter : 2018-07-16 09:04:15\n",
      "This dataset has 85421 unique clients\n",
      "\n",
      "\n",
      "\n",
      "Step : 7 Maximum order purchase date : 2018-07-23 09:06:57\n",
      "Verification of the filter : 2018-07-23 09:02:12\n",
      "This dataset has 87030 unique clients\n",
      "\n",
      "\n",
      "\n",
      "Step : 8 Maximum order purchase date : 2018-07-30 09:06:57\n",
      "Verification of the filter : 2018-07-30 08:55:37\n",
      "This dataset has 88614 unique clients\n",
      "\n",
      "\n",
      "\n",
      "Step : 9 Maximum order purchase date : 2018-08-06 09:06:57\n",
      "Verification of the filter : 2018-08-06 08:58:54\n",
      "This dataset has 90601 unique clients\n",
      "\n",
      "\n",
      "\n",
      "Step : 10 Maximum order purchase date : 2018-08-13 09:06:57\n",
      "Verification of the filter : 2018-08-13 09:04:32\n",
      "This dataset has 92516 unique clients\n",
      "\n",
      "\n",
      "\n",
      "Step : 11 Maximum order purchase date : 2018-08-20 09:06:57\n",
      "Verification of the filter : 2018-08-20 09:05:16\n",
      "This dataset has 94311 unique clients\n",
      "\n",
      "\n",
      "\n",
      "Step : 12 Maximum order purchase date : 2018-08-27 09:06:57\n",
      "Verification of the filter : 2018-08-27 08:56:49\n",
      "This dataset has 95314 unique clients\n",
      "\n",
      "\n",
      "\n",
      "Step : 13 Maximum order purchase date : 2018-09-03 09:06:57\n",
      "Verification of the filter : 2018-09-03 09:06:57\n",
      "This dataset has 95420 unique clients\n"
     ]
    }
   ],
   "source": [
    "simulate_dataset(data, nb_days=nb_days_exp_2, nb_periods=nb_periods_exp_2, output_path=experiment_2_path, experiment_nb=2)"
   ],
   "metadata": {
    "collapsed": false,
    "pycharm": {
     "name": "#%%\n"
    }
   }
  },
  {
   "cell_type": "code",
   "execution_count": 37,
   "outputs": [
    {
     "name": "stdout",
     "output_type": "stream",
     "text": [
      "(79092, 3)\n"
     ]
    }
   ],
   "source": [
    "X_T0_exp_2 = pd.read_csv(experiment_2_path + \"rfm_T0.csv\").drop(\"customer_unique_id\", axis=1).copy()\n",
    "\n",
    "scaler_exp_2 = StandardScaler().fit(X_T0_exp_2[X_T0_exp_2.columns])\n",
    "\n",
    "X_std_T0_exp_2 = X_T0_exp_2.copy()\n",
    "X_std_T0_exp_2[X_std_T0_exp_2.columns] = scaler_exp_2.transform(X_std_T0_exp_2[X_std_T0_exp_2.columns])\n",
    "print(X_std_T0_exp_2.shape)"
   ],
   "metadata": {
    "collapsed": false,
    "pycharm": {
     "name": "#%%\n"
    }
   }
  },
  {
   "cell_type": "code",
   "execution_count": 38,
   "outputs": [],
   "source": [
    "# Saving clustering model\n",
    "model = {'scaler_T0': scaler_exp_2}\n",
    "filename = './model/simulation/experiment_{}/scaler_T0.pkl'.format(\"2\")\n",
    "with open(filename, \"wb\") as f: # wb writing\n",
    "    pickle.dump(model, f)"
   ],
   "metadata": {
    "collapsed": false,
    "pycharm": {
     "name": "#%%\n"
    }
   }
  },
  {
   "cell_type": "code",
   "execution_count": 39,
   "outputs": [
    {
     "data": {
      "text/plain": "KMeans(n_clusters=4, random_state=0)",
      "text/html": "<style>#sk-container-id-4 {color: black;background-color: white;}#sk-container-id-4 pre{padding: 0;}#sk-container-id-4 div.sk-toggleable {background-color: white;}#sk-container-id-4 label.sk-toggleable__label {cursor: pointer;display: block;width: 100%;margin-bottom: 0;padding: 0.3em;box-sizing: border-box;text-align: center;}#sk-container-id-4 label.sk-toggleable__label-arrow:before {content: \"▸\";float: left;margin-right: 0.25em;color: #696969;}#sk-container-id-4 label.sk-toggleable__label-arrow:hover:before {color: black;}#sk-container-id-4 div.sk-estimator:hover label.sk-toggleable__label-arrow:before {color: black;}#sk-container-id-4 div.sk-toggleable__content {max-height: 0;max-width: 0;overflow: hidden;text-align: left;background-color: #f0f8ff;}#sk-container-id-4 div.sk-toggleable__content pre {margin: 0.2em;color: black;border-radius: 0.25em;background-color: #f0f8ff;}#sk-container-id-4 input.sk-toggleable__control:checked~div.sk-toggleable__content {max-height: 200px;max-width: 100%;overflow: auto;}#sk-container-id-4 input.sk-toggleable__control:checked~label.sk-toggleable__label-arrow:before {content: \"▾\";}#sk-container-id-4 div.sk-estimator input.sk-toggleable__control:checked~label.sk-toggleable__label {background-color: #d4ebff;}#sk-container-id-4 div.sk-label input.sk-toggleable__control:checked~label.sk-toggleable__label {background-color: #d4ebff;}#sk-container-id-4 input.sk-hidden--visually {border: 0;clip: rect(1px 1px 1px 1px);clip: rect(1px, 1px, 1px, 1px);height: 1px;margin: -1px;overflow: hidden;padding: 0;position: absolute;width: 1px;}#sk-container-id-4 div.sk-estimator {font-family: monospace;background-color: #f0f8ff;border: 1px dotted black;border-radius: 0.25em;box-sizing: border-box;margin-bottom: 0.5em;}#sk-container-id-4 div.sk-estimator:hover {background-color: #d4ebff;}#sk-container-id-4 div.sk-parallel-item::after {content: \"\";width: 100%;border-bottom: 1px solid gray;flex-grow: 1;}#sk-container-id-4 div.sk-label:hover label.sk-toggleable__label {background-color: #d4ebff;}#sk-container-id-4 div.sk-serial::before {content: \"\";position: absolute;border-left: 1px solid gray;box-sizing: border-box;top: 0;bottom: 0;left: 50%;z-index: 0;}#sk-container-id-4 div.sk-serial {display: flex;flex-direction: column;align-items: center;background-color: white;padding-right: 0.2em;padding-left: 0.2em;position: relative;}#sk-container-id-4 div.sk-item {position: relative;z-index: 1;}#sk-container-id-4 div.sk-parallel {display: flex;align-items: stretch;justify-content: center;background-color: white;position: relative;}#sk-container-id-4 div.sk-item::before, #sk-container-id-4 div.sk-parallel-item::before {content: \"\";position: absolute;border-left: 1px solid gray;box-sizing: border-box;top: 0;bottom: 0;left: 50%;z-index: -1;}#sk-container-id-4 div.sk-parallel-item {display: flex;flex-direction: column;z-index: 1;position: relative;background-color: white;}#sk-container-id-4 div.sk-parallel-item:first-child::after {align-self: flex-end;width: 50%;}#sk-container-id-4 div.sk-parallel-item:last-child::after {align-self: flex-start;width: 50%;}#sk-container-id-4 div.sk-parallel-item:only-child::after {width: 0;}#sk-container-id-4 div.sk-dashed-wrapped {border: 1px dashed gray;margin: 0 0.4em 0.5em 0.4em;box-sizing: border-box;padding-bottom: 0.4em;background-color: white;}#sk-container-id-4 div.sk-label label {font-family: monospace;font-weight: bold;display: inline-block;line-height: 1.2em;}#sk-container-id-4 div.sk-label-container {text-align: center;}#sk-container-id-4 div.sk-container {/* jupyter's `normalize.less` sets `[hidden] { display: none; }` but bootstrap.min.css set `[hidden] { display: none !important; }` so we also need the `!important` here to be able to override the default hidden behavior on the sphinx rendered scikit-learn.org. See: https://github.com/scikit-learn/scikit-learn/issues/21755 */display: inline-block !important;position: relative;}#sk-container-id-4 div.sk-text-repr-fallback {display: none;}</style><div id=\"sk-container-id-4\" class=\"sk-top-container\"><div class=\"sk-text-repr-fallback\"><pre>KMeans(n_clusters=4, random_state=0)</pre><b>In a Jupyter environment, please rerun this cell to show the HTML representation or trust the notebook. <br />On GitHub, the HTML representation is unable to render, please try loading this page with nbviewer.org.</b></div><div class=\"sk-container\" hidden><div class=\"sk-item\"><div class=\"sk-estimator sk-toggleable\"><input class=\"sk-toggleable__control sk-hidden--visually\" id=\"sk-estimator-id-4\" type=\"checkbox\" checked><label for=\"sk-estimator-id-4\" class=\"sk-toggleable__label sk-toggleable__label-arrow\">KMeans</label><div class=\"sk-toggleable__content\"><pre>KMeans(n_clusters=4, random_state=0)</pre></div></div></div></div></div>"
     },
     "execution_count": 39,
     "metadata": {},
     "output_type": "execute_result"
    }
   ],
   "source": [
    "kmeans_cls_T0_exp_2 = KMeans(n_clusters=nb_clusters, verbose=0, random_state=0)\n",
    "kmeans_cls_T0_exp_2.fit(X_std_T0_exp_2)"
   ],
   "metadata": {
    "collapsed": false,
    "pycharm": {
     "name": "#%%\n"
    }
   }
  },
  {
   "cell_type": "code",
   "execution_count": 40,
   "outputs": [
    {
     "name": "stdout",
     "output_type": "stream",
     "text": [
      "\n",
      "\n",
      "\n",
      "For T = 1\n",
      "(80547, 3)\n",
      "We make a new clustering using that fits the new dataset.\n",
      "KMeans(n_clusters=4, random_state=0)\n",
      "We predict a clustering using the clustering at T0 for the new dataset.\n",
      "ARI for T = 1\n"
     ]
    },
    {
     "data": {
      "text/plain": "   T      ARI\n0  1  0.97422",
      "text/html": "<div>\n<style scoped>\n    .dataframe tbody tr th:only-of-type {\n        vertical-align: middle;\n    }\n\n    .dataframe tbody tr th {\n        vertical-align: top;\n    }\n\n    .dataframe thead th {\n        text-align: right;\n    }\n</style>\n<table border=\"1\" class=\"dataframe\">\n  <thead>\n    <tr style=\"text-align: right;\">\n      <th></th>\n      <th>T</th>\n      <th>ARI</th>\n    </tr>\n  </thead>\n  <tbody>\n    <tr>\n      <th>0</th>\n      <td>1</td>\n      <td>0.97422</td>\n    </tr>\n  </tbody>\n</table>\n</div>"
     },
     "metadata": {},
     "output_type": "display_data"
    },
    {
     "data": {
      "text/plain": "        pred_0  pred_1  pred_2  pred_3\ntrue_0     552   27496       0       5\ntrue_1       0       0    2420       0\ntrue_2   47821       0       0       0\ntrue_3       0       0       0    2253",
      "text/html": "<div>\n<style scoped>\n    .dataframe tbody tr th:only-of-type {\n        vertical-align: middle;\n    }\n\n    .dataframe tbody tr th {\n        vertical-align: top;\n    }\n\n    .dataframe thead th {\n        text-align: right;\n    }\n</style>\n<table border=\"1\" class=\"dataframe\">\n  <thead>\n    <tr style=\"text-align: right;\">\n      <th></th>\n      <th>pred_0</th>\n      <th>pred_1</th>\n      <th>pred_2</th>\n      <th>pred_3</th>\n    </tr>\n  </thead>\n  <tbody>\n    <tr>\n      <th>true_0</th>\n      <td>552</td>\n      <td>27496</td>\n      <td>0</td>\n      <td>5</td>\n    </tr>\n    <tr>\n      <th>true_1</th>\n      <td>0</td>\n      <td>0</td>\n      <td>2420</td>\n      <td>0</td>\n    </tr>\n    <tr>\n      <th>true_2</th>\n      <td>47821</td>\n      <td>0</td>\n      <td>0</td>\n      <td>0</td>\n    </tr>\n    <tr>\n      <th>true_3</th>\n      <td>0</td>\n      <td>0</td>\n      <td>0</td>\n      <td>2253</td>\n    </tr>\n  </tbody>\n</table>\n</div>"
     },
     "metadata": {},
     "output_type": "display_data"
    },
    {
     "name": "stdout",
     "output_type": "stream",
     "text": [
      "\n",
      "\n",
      "\n",
      "For T = 2\n",
      "(81949, 3)\n",
      "We make a new clustering using that fits the new dataset.\n",
      "KMeans(n_clusters=4, random_state=0)\n",
      "We predict a clustering using the clustering at T0 for the new dataset.\n",
      "ARI for T = 2\n"
     ]
    },
    {
     "data": {
      "text/plain": "   T       ARI\n0  1  0.974220\n1  2  0.958896",
      "text/html": "<div>\n<style scoped>\n    .dataframe tbody tr th:only-of-type {\n        vertical-align: middle;\n    }\n\n    .dataframe tbody tr th {\n        vertical-align: top;\n    }\n\n    .dataframe thead th {\n        text-align: right;\n    }\n</style>\n<table border=\"1\" class=\"dataframe\">\n  <thead>\n    <tr style=\"text-align: right;\">\n      <th></th>\n      <th>T</th>\n      <th>ARI</th>\n    </tr>\n  </thead>\n  <tbody>\n    <tr>\n      <th>0</th>\n      <td>1</td>\n      <td>0.974220</td>\n    </tr>\n    <tr>\n      <th>1</th>\n      <td>2</td>\n      <td>0.958896</td>\n    </tr>\n  </tbody>\n</table>\n</div>"
     },
     "metadata": {},
     "output_type": "display_data"
    },
    {
     "data": {
      "text/plain": "        pred_0  pred_1  pred_2  pred_3\ntrue_0     899       0   27916       7\ntrue_1       0    2468       0       0\ntrue_2   48382       0       0       0\ntrue_3       1       0       0    2276",
      "text/html": "<div>\n<style scoped>\n    .dataframe tbody tr th:only-of-type {\n        vertical-align: middle;\n    }\n\n    .dataframe tbody tr th {\n        vertical-align: top;\n    }\n\n    .dataframe thead th {\n        text-align: right;\n    }\n</style>\n<table border=\"1\" class=\"dataframe\">\n  <thead>\n    <tr style=\"text-align: right;\">\n      <th></th>\n      <th>pred_0</th>\n      <th>pred_1</th>\n      <th>pred_2</th>\n      <th>pred_3</th>\n    </tr>\n  </thead>\n  <tbody>\n    <tr>\n      <th>true_0</th>\n      <td>899</td>\n      <td>0</td>\n      <td>27916</td>\n      <td>7</td>\n    </tr>\n    <tr>\n      <th>true_1</th>\n      <td>0</td>\n      <td>2468</td>\n      <td>0</td>\n      <td>0</td>\n    </tr>\n    <tr>\n      <th>true_2</th>\n      <td>48382</td>\n      <td>0</td>\n      <td>0</td>\n      <td>0</td>\n    </tr>\n    <tr>\n      <th>true_3</th>\n      <td>1</td>\n      <td>0</td>\n      <td>0</td>\n      <td>2276</td>\n    </tr>\n  </tbody>\n</table>\n</div>"
     },
     "metadata": {},
     "output_type": "display_data"
    },
    {
     "name": "stdout",
     "output_type": "stream",
     "text": [
      "\n",
      "\n",
      "\n",
      "For T = 3\n",
      "(83297, 3)\n",
      "We make a new clustering using that fits the new dataset.\n",
      "KMeans(n_clusters=4, random_state=0)\n",
      "We predict a clustering using the clustering at T0 for the new dataset.\n",
      "ARI for T = 3\n"
     ]
    },
    {
     "data": {
      "text/plain": "   T       ARI\n0  1  0.974220\n1  2  0.958896\n2  3  0.926436",
      "text/html": "<div>\n<style scoped>\n    .dataframe tbody tr th:only-of-type {\n        vertical-align: middle;\n    }\n\n    .dataframe tbody tr th {\n        vertical-align: top;\n    }\n\n    .dataframe thead th {\n        text-align: right;\n    }\n</style>\n<table border=\"1\" class=\"dataframe\">\n  <thead>\n    <tr style=\"text-align: right;\">\n      <th></th>\n      <th>T</th>\n      <th>ARI</th>\n    </tr>\n  </thead>\n  <tbody>\n    <tr>\n      <th>0</th>\n      <td>1</td>\n      <td>0.974220</td>\n    </tr>\n    <tr>\n      <th>1</th>\n      <td>2</td>\n      <td>0.958896</td>\n    </tr>\n    <tr>\n      <th>2</th>\n      <td>3</td>\n      <td>0.926436</td>\n    </tr>\n  </tbody>\n</table>\n</div>"
     },
     "metadata": {},
     "output_type": "display_data"
    },
    {
     "data": {
      "text/plain": "        pred_0  pred_1  pred_2  pred_3\ntrue_0    1648      14       0   28146\ntrue_1       0       0    2506       0\ntrue_2   48681       0       0       0\ntrue_3       5    2297       0       0",
      "text/html": "<div>\n<style scoped>\n    .dataframe tbody tr th:only-of-type {\n        vertical-align: middle;\n    }\n\n    .dataframe tbody tr th {\n        vertical-align: top;\n    }\n\n    .dataframe thead th {\n        text-align: right;\n    }\n</style>\n<table border=\"1\" class=\"dataframe\">\n  <thead>\n    <tr style=\"text-align: right;\">\n      <th></th>\n      <th>pred_0</th>\n      <th>pred_1</th>\n      <th>pred_2</th>\n      <th>pred_3</th>\n    </tr>\n  </thead>\n  <tbody>\n    <tr>\n      <th>true_0</th>\n      <td>1648</td>\n      <td>14</td>\n      <td>0</td>\n      <td>28146</td>\n    </tr>\n    <tr>\n      <th>true_1</th>\n      <td>0</td>\n      <td>0</td>\n      <td>2506</td>\n      <td>0</td>\n    </tr>\n    <tr>\n      <th>true_2</th>\n      <td>48681</td>\n      <td>0</td>\n      <td>0</td>\n      <td>0</td>\n    </tr>\n    <tr>\n      <th>true_3</th>\n      <td>5</td>\n      <td>2297</td>\n      <td>0</td>\n      <td>0</td>\n    </tr>\n  </tbody>\n</table>\n</div>"
     },
     "metadata": {},
     "output_type": "display_data"
    },
    {
     "name": "stdout",
     "output_type": "stream",
     "text": [
      "\n",
      "\n",
      "\n",
      "For T = 4\n",
      "(84460, 3)\n",
      "We make a new clustering using that fits the new dataset.\n",
      "KMeans(n_clusters=4, random_state=0)\n",
      "We predict a clustering using the clustering at T0 for the new dataset.\n",
      "ARI for T = 4\n"
     ]
    },
    {
     "data": {
      "text/plain": "   T       ARI\n0  1  0.974220\n1  2  0.958896\n2  3  0.926436\n3  4  0.890263",
      "text/html": "<div>\n<style scoped>\n    .dataframe tbody tr th:only-of-type {\n        vertical-align: middle;\n    }\n\n    .dataframe tbody tr th {\n        vertical-align: top;\n    }\n\n    .dataframe thead th {\n        text-align: right;\n    }\n</style>\n<table border=\"1\" class=\"dataframe\">\n  <thead>\n    <tr style=\"text-align: right;\">\n      <th></th>\n      <th>T</th>\n      <th>ARI</th>\n    </tr>\n  </thead>\n  <tbody>\n    <tr>\n      <th>0</th>\n      <td>1</td>\n      <td>0.974220</td>\n    </tr>\n    <tr>\n      <th>1</th>\n      <td>2</td>\n      <td>0.958896</td>\n    </tr>\n    <tr>\n      <th>2</th>\n      <td>3</td>\n      <td>0.926436</td>\n    </tr>\n    <tr>\n      <th>3</th>\n      <td>4</td>\n      <td>0.890263</td>\n    </tr>\n  </tbody>\n</table>\n</div>"
     },
     "metadata": {},
     "output_type": "display_data"
    },
    {
     "data": {
      "text/plain": "        pred_0  pred_1  pred_2  pred_3\ntrue_0    2518       0   28457      20\ntrue_1       0    2539       0       0\ntrue_2   48601       0       0       0\ntrue_3      10       0       0    2315",
      "text/html": "<div>\n<style scoped>\n    .dataframe tbody tr th:only-of-type {\n        vertical-align: middle;\n    }\n\n    .dataframe tbody tr th {\n        vertical-align: top;\n    }\n\n    .dataframe thead th {\n        text-align: right;\n    }\n</style>\n<table border=\"1\" class=\"dataframe\">\n  <thead>\n    <tr style=\"text-align: right;\">\n      <th></th>\n      <th>pred_0</th>\n      <th>pred_1</th>\n      <th>pred_2</th>\n      <th>pred_3</th>\n    </tr>\n  </thead>\n  <tbody>\n    <tr>\n      <th>true_0</th>\n      <td>2518</td>\n      <td>0</td>\n      <td>28457</td>\n      <td>20</td>\n    </tr>\n    <tr>\n      <th>true_1</th>\n      <td>0</td>\n      <td>2539</td>\n      <td>0</td>\n      <td>0</td>\n    </tr>\n    <tr>\n      <th>true_2</th>\n      <td>48601</td>\n      <td>0</td>\n      <td>0</td>\n      <td>0</td>\n    </tr>\n    <tr>\n      <th>true_3</th>\n      <td>10</td>\n      <td>0</td>\n      <td>0</td>\n      <td>2315</td>\n    </tr>\n  </tbody>\n</table>\n</div>"
     },
     "metadata": {},
     "output_type": "display_data"
    },
    {
     "name": "stdout",
     "output_type": "stream",
     "text": [
      "\n",
      "\n",
      "\n",
      "For T = 5\n",
      "(85421, 3)\n",
      "We make a new clustering using that fits the new dataset.\n",
      "KMeans(n_clusters=4, random_state=0)\n",
      "We predict a clustering using the clustering at T0 for the new dataset.\n",
      "ARI for T = 5\n"
     ]
    },
    {
     "data": {
      "text/plain": "   T       ARI\n0  1  0.974220\n1  2  0.958896\n2  3  0.926436\n3  4  0.890263\n4  5  0.841963",
      "text/html": "<div>\n<style scoped>\n    .dataframe tbody tr th:only-of-type {\n        vertical-align: middle;\n    }\n\n    .dataframe tbody tr th {\n        vertical-align: top;\n    }\n\n    .dataframe thead th {\n        text-align: right;\n    }\n</style>\n<table border=\"1\" class=\"dataframe\">\n  <thead>\n    <tr style=\"text-align: right;\">\n      <th></th>\n      <th>T</th>\n      <th>ARI</th>\n    </tr>\n  </thead>\n  <tbody>\n    <tr>\n      <th>0</th>\n      <td>1</td>\n      <td>0.974220</td>\n    </tr>\n    <tr>\n      <th>1</th>\n      <td>2</td>\n      <td>0.958896</td>\n    </tr>\n    <tr>\n      <th>2</th>\n      <td>3</td>\n      <td>0.926436</td>\n    </tr>\n    <tr>\n      <th>3</th>\n      <td>4</td>\n      <td>0.890263</td>\n    </tr>\n    <tr>\n      <th>4</th>\n      <td>5</td>\n      <td>0.841963</td>\n    </tr>\n  </tbody>\n</table>\n</div>"
     },
     "metadata": {},
     "output_type": "display_data"
    },
    {
     "data": {
      "text/plain": "        pred_0  pred_1  pred_2  pred_3\ntrue_0    3707       0   28699       5\ntrue_1       0    2572       0       0\ntrue_2   48076       0       0       0\ntrue_3      51       0       0    2311",
      "text/html": "<div>\n<style scoped>\n    .dataframe tbody tr th:only-of-type {\n        vertical-align: middle;\n    }\n\n    .dataframe tbody tr th {\n        vertical-align: top;\n    }\n\n    .dataframe thead th {\n        text-align: right;\n    }\n</style>\n<table border=\"1\" class=\"dataframe\">\n  <thead>\n    <tr style=\"text-align: right;\">\n      <th></th>\n      <th>pred_0</th>\n      <th>pred_1</th>\n      <th>pred_2</th>\n      <th>pred_3</th>\n    </tr>\n  </thead>\n  <tbody>\n    <tr>\n      <th>true_0</th>\n      <td>3707</td>\n      <td>0</td>\n      <td>28699</td>\n      <td>5</td>\n    </tr>\n    <tr>\n      <th>true_1</th>\n      <td>0</td>\n      <td>2572</td>\n      <td>0</td>\n      <td>0</td>\n    </tr>\n    <tr>\n      <th>true_2</th>\n      <td>48076</td>\n      <td>0</td>\n      <td>0</td>\n      <td>0</td>\n    </tr>\n    <tr>\n      <th>true_3</th>\n      <td>51</td>\n      <td>0</td>\n      <td>0</td>\n      <td>2311</td>\n    </tr>\n  </tbody>\n</table>\n</div>"
     },
     "metadata": {},
     "output_type": "display_data"
    },
    {
     "name": "stdout",
     "output_type": "stream",
     "text": [
      "\n",
      "\n",
      "\n",
      "For T = 6\n",
      "(87030, 3)\n",
      "We make a new clustering using that fits the new dataset.\n",
      "KMeans(n_clusters=4, random_state=0)\n",
      "We predict a clustering using the clustering at T0 for the new dataset.\n",
      "ARI for T = 6\n"
     ]
    },
    {
     "data": {
      "text/plain": "   T       ARI\n0  1  0.974220\n1  2  0.958896\n2  3  0.926436\n3  4  0.890263\n4  5  0.841963\n5  6  0.743017",
      "text/html": "<div>\n<style scoped>\n    .dataframe tbody tr th:only-of-type {\n        vertical-align: middle;\n    }\n\n    .dataframe tbody tr th {\n        vertical-align: top;\n    }\n\n    .dataframe thead th {\n        text-align: right;\n    }\n</style>\n<table border=\"1\" class=\"dataframe\">\n  <thead>\n    <tr style=\"text-align: right;\">\n      <th></th>\n      <th>T</th>\n      <th>ARI</th>\n    </tr>\n  </thead>\n  <tbody>\n    <tr>\n      <th>0</th>\n      <td>1</td>\n      <td>0.974220</td>\n    </tr>\n    <tr>\n      <th>1</th>\n      <td>2</td>\n      <td>0.958896</td>\n    </tr>\n    <tr>\n      <th>2</th>\n      <td>3</td>\n      <td>0.926436</td>\n    </tr>\n    <tr>\n      <th>3</th>\n      <td>4</td>\n      <td>0.890263</td>\n    </tr>\n    <tr>\n      <th>4</th>\n      <td>5</td>\n      <td>0.841963</td>\n    </tr>\n    <tr>\n      <th>5</th>\n      <td>6</td>\n      <td>0.743017</td>\n    </tr>\n  </tbody>\n</table>\n</div>"
     },
     "metadata": {},
     "output_type": "display_data"
    },
    {
     "data": {
      "text/plain": "        pred_0  pred_1  pred_2  pred_3\ntrue_0   29016       0      12    6377\ntrue_1       0    2640       0       0\ntrue_2       0       0       0   46582\ntrue_3       0       0    2356      47",
      "text/html": "<div>\n<style scoped>\n    .dataframe tbody tr th:only-of-type {\n        vertical-align: middle;\n    }\n\n    .dataframe tbody tr th {\n        vertical-align: top;\n    }\n\n    .dataframe thead th {\n        text-align: right;\n    }\n</style>\n<table border=\"1\" class=\"dataframe\">\n  <thead>\n    <tr style=\"text-align: right;\">\n      <th></th>\n      <th>pred_0</th>\n      <th>pred_1</th>\n      <th>pred_2</th>\n      <th>pred_3</th>\n    </tr>\n  </thead>\n  <tbody>\n    <tr>\n      <th>true_0</th>\n      <td>29016</td>\n      <td>0</td>\n      <td>12</td>\n      <td>6377</td>\n    </tr>\n    <tr>\n      <th>true_1</th>\n      <td>0</td>\n      <td>2640</td>\n      <td>0</td>\n      <td>0</td>\n    </tr>\n    <tr>\n      <th>true_2</th>\n      <td>0</td>\n      <td>0</td>\n      <td>0</td>\n      <td>46582</td>\n    </tr>\n    <tr>\n      <th>true_3</th>\n      <td>0</td>\n      <td>0</td>\n      <td>2356</td>\n      <td>47</td>\n    </tr>\n  </tbody>\n</table>\n</div>"
     },
     "metadata": {},
     "output_type": "display_data"
    },
    {
     "name": "stdout",
     "output_type": "stream",
     "text": [
      "\n",
      "\n",
      "\n",
      "For T = 7\n",
      "(88614, 3)\n",
      "We make a new clustering using that fits the new dataset.\n",
      "KMeans(n_clusters=4, random_state=0)\n",
      "We predict a clustering using the clustering at T0 for the new dataset.\n",
      "ARI for T = 7\n"
     ]
    },
    {
     "data": {
      "text/plain": "   T       ARI\n0  1  0.974220\n1  2  0.958896\n2  3  0.926436\n3  4  0.890263\n4  5  0.841963\n5  6  0.743017\n6  7  0.698333",
      "text/html": "<div>\n<style scoped>\n    .dataframe tbody tr th:only-of-type {\n        vertical-align: middle;\n    }\n\n    .dataframe tbody tr th {\n        vertical-align: top;\n    }\n\n    .dataframe thead th {\n        text-align: right;\n    }\n</style>\n<table border=\"1\" class=\"dataframe\">\n  <thead>\n    <tr style=\"text-align: right;\">\n      <th></th>\n      <th>T</th>\n      <th>ARI</th>\n    </tr>\n  </thead>\n  <tbody>\n    <tr>\n      <th>0</th>\n      <td>1</td>\n      <td>0.974220</td>\n    </tr>\n    <tr>\n      <th>1</th>\n      <td>2</td>\n      <td>0.958896</td>\n    </tr>\n    <tr>\n      <th>2</th>\n      <td>3</td>\n      <td>0.926436</td>\n    </tr>\n    <tr>\n      <th>3</th>\n      <td>4</td>\n      <td>0.890263</td>\n    </tr>\n    <tr>\n      <th>4</th>\n      <td>5</td>\n      <td>0.841963</td>\n    </tr>\n    <tr>\n      <th>5</th>\n      <td>6</td>\n      <td>0.743017</td>\n    </tr>\n    <tr>\n      <th>6</th>\n      <td>7</td>\n      <td>0.698333</td>\n    </tr>\n  </tbody>\n</table>\n</div>"
     },
     "metadata": {},
     "output_type": "display_data"
    },
    {
     "data": {
      "text/plain": "        pred_0  pred_1  pred_2  pred_3\ntrue_0   29462    7596       0       0\ntrue_1       0       0    2691       0\ntrue_2       0   46425       0       0\ntrue_3      92     202       0    2146",
      "text/html": "<div>\n<style scoped>\n    .dataframe tbody tr th:only-of-type {\n        vertical-align: middle;\n    }\n\n    .dataframe tbody tr th {\n        vertical-align: top;\n    }\n\n    .dataframe thead th {\n        text-align: right;\n    }\n</style>\n<table border=\"1\" class=\"dataframe\">\n  <thead>\n    <tr style=\"text-align: right;\">\n      <th></th>\n      <th>pred_0</th>\n      <th>pred_1</th>\n      <th>pred_2</th>\n      <th>pred_3</th>\n    </tr>\n  </thead>\n  <tbody>\n    <tr>\n      <th>true_0</th>\n      <td>29462</td>\n      <td>7596</td>\n      <td>0</td>\n      <td>0</td>\n    </tr>\n    <tr>\n      <th>true_1</th>\n      <td>0</td>\n      <td>0</td>\n      <td>2691</td>\n      <td>0</td>\n    </tr>\n    <tr>\n      <th>true_2</th>\n      <td>0</td>\n      <td>46425</td>\n      <td>0</td>\n      <td>0</td>\n    </tr>\n    <tr>\n      <th>true_3</th>\n      <td>92</td>\n      <td>202</td>\n      <td>0</td>\n      <td>2146</td>\n    </tr>\n  </tbody>\n</table>\n</div>"
     },
     "metadata": {},
     "output_type": "display_data"
    },
    {
     "name": "stdout",
     "output_type": "stream",
     "text": [
      "\n",
      "\n",
      "\n",
      "For T = 8\n",
      "(90601, 3)\n",
      "We make a new clustering using that fits the new dataset.\n",
      "KMeans(n_clusters=4, random_state=0)\n",
      "We predict a clustering using the clustering at T0 for the new dataset.\n",
      "ARI for T = 8\n"
     ]
    },
    {
     "data": {
      "text/plain": "   T       ARI\n0  1  0.974220\n1  2  0.958896\n2  3  0.926436\n3  4  0.890263\n4  5  0.841963\n5  6  0.743017\n6  7  0.698333\n7  8  0.683730",
      "text/html": "<div>\n<style scoped>\n    .dataframe tbody tr th:only-of-type {\n        vertical-align: middle;\n    }\n\n    .dataframe tbody tr th {\n        vertical-align: top;\n    }\n\n    .dataframe thead th {\n        text-align: right;\n    }\n</style>\n<table border=\"1\" class=\"dataframe\">\n  <thead>\n    <tr style=\"text-align: right;\">\n      <th></th>\n      <th>T</th>\n      <th>ARI</th>\n    </tr>\n  </thead>\n  <tbody>\n    <tr>\n      <th>0</th>\n      <td>1</td>\n      <td>0.974220</td>\n    </tr>\n    <tr>\n      <th>1</th>\n      <td>2</td>\n      <td>0.958896</td>\n    </tr>\n    <tr>\n      <th>2</th>\n      <td>3</td>\n      <td>0.926436</td>\n    </tr>\n    <tr>\n      <th>3</th>\n      <td>4</td>\n      <td>0.890263</td>\n    </tr>\n    <tr>\n      <th>4</th>\n      <td>5</td>\n      <td>0.841963</td>\n    </tr>\n    <tr>\n      <th>5</th>\n      <td>6</td>\n      <td>0.743017</td>\n    </tr>\n    <tr>\n      <th>6</th>\n      <td>7</td>\n      <td>0.698333</td>\n    </tr>\n    <tr>\n      <th>7</th>\n      <td>8</td>\n      <td>0.683730</td>\n    </tr>\n  </tbody>\n</table>\n</div>"
     },
     "metadata": {},
     "output_type": "display_data"
    },
    {
     "data": {
      "text/plain": "        pred_0  pred_1  pred_2  pred_3\ntrue_0       0    8198       0   30245\ntrue_1    2752       0       0       0\ntrue_2       0   46924       0       0\ntrue_3       0     207    2190      85",
      "text/html": "<div>\n<style scoped>\n    .dataframe tbody tr th:only-of-type {\n        vertical-align: middle;\n    }\n\n    .dataframe tbody tr th {\n        vertical-align: top;\n    }\n\n    .dataframe thead th {\n        text-align: right;\n    }\n</style>\n<table border=\"1\" class=\"dataframe\">\n  <thead>\n    <tr style=\"text-align: right;\">\n      <th></th>\n      <th>pred_0</th>\n      <th>pred_1</th>\n      <th>pred_2</th>\n      <th>pred_3</th>\n    </tr>\n  </thead>\n  <tbody>\n    <tr>\n      <th>true_0</th>\n      <td>0</td>\n      <td>8198</td>\n      <td>0</td>\n      <td>30245</td>\n    </tr>\n    <tr>\n      <th>true_1</th>\n      <td>2752</td>\n      <td>0</td>\n      <td>0</td>\n      <td>0</td>\n    </tr>\n    <tr>\n      <th>true_2</th>\n      <td>0</td>\n      <td>46924</td>\n      <td>0</td>\n      <td>0</td>\n    </tr>\n    <tr>\n      <th>true_3</th>\n      <td>0</td>\n      <td>207</td>\n      <td>2190</td>\n      <td>85</td>\n    </tr>\n  </tbody>\n</table>\n</div>"
     },
     "metadata": {},
     "output_type": "display_data"
    },
    {
     "name": "stdout",
     "output_type": "stream",
     "text": [
      "\n",
      "\n",
      "\n",
      "For T = 9\n",
      "(92516, 3)\n",
      "We make a new clustering using that fits the new dataset.\n",
      "KMeans(n_clusters=4, random_state=0)\n",
      "We predict a clustering using the clustering at T0 for the new dataset.\n",
      "ARI for T = 9\n"
     ]
    },
    {
     "data": {
      "text/plain": "   T       ARI\n0  1  0.974220\n1  2  0.958896\n2  3  0.926436\n3  4  0.890263\n4  5  0.841963\n5  6  0.743017\n6  7  0.698333\n7  8  0.683730\n8  9  0.869203",
      "text/html": "<div>\n<style scoped>\n    .dataframe tbody tr th:only-of-type {\n        vertical-align: middle;\n    }\n\n    .dataframe tbody tr th {\n        vertical-align: top;\n    }\n\n    .dataframe thead th {\n        text-align: right;\n    }\n</style>\n<table border=\"1\" class=\"dataframe\">\n  <thead>\n    <tr style=\"text-align: right;\">\n      <th></th>\n      <th>T</th>\n      <th>ARI</th>\n    </tr>\n  </thead>\n  <tbody>\n    <tr>\n      <th>0</th>\n      <td>1</td>\n      <td>0.974220</td>\n    </tr>\n    <tr>\n      <th>1</th>\n      <td>2</td>\n      <td>0.958896</td>\n    </tr>\n    <tr>\n      <th>2</th>\n      <td>3</td>\n      <td>0.926436</td>\n    </tr>\n    <tr>\n      <th>3</th>\n      <td>4</td>\n      <td>0.890263</td>\n    </tr>\n    <tr>\n      <th>4</th>\n      <td>5</td>\n      <td>0.841963</td>\n    </tr>\n    <tr>\n      <th>5</th>\n      <td>6</td>\n      <td>0.743017</td>\n    </tr>\n    <tr>\n      <th>6</th>\n      <td>7</td>\n      <td>0.698333</td>\n    </tr>\n    <tr>\n      <th>7</th>\n      <td>8</td>\n      <td>0.683730</td>\n    </tr>\n    <tr>\n      <th>8</th>\n      <td>9</td>\n      <td>0.869203</td>\n    </tr>\n  </tbody>\n</table>\n</div>"
     },
     "metadata": {},
     "output_type": "display_data"
    },
    {
     "data": {
      "text/plain": "        pred_0  pred_1  pred_2  pred_3\ntrue_0   36357    3117       0       0\ntrue_1       0       0    2799       1\ntrue_2       0   47710       0       0\ntrue_3     115     211       0    2206",
      "text/html": "<div>\n<style scoped>\n    .dataframe tbody tr th:only-of-type {\n        vertical-align: middle;\n    }\n\n    .dataframe tbody tr th {\n        vertical-align: top;\n    }\n\n    .dataframe thead th {\n        text-align: right;\n    }\n</style>\n<table border=\"1\" class=\"dataframe\">\n  <thead>\n    <tr style=\"text-align: right;\">\n      <th></th>\n      <th>pred_0</th>\n      <th>pred_1</th>\n      <th>pred_2</th>\n      <th>pred_3</th>\n    </tr>\n  </thead>\n  <tbody>\n    <tr>\n      <th>true_0</th>\n      <td>36357</td>\n      <td>3117</td>\n      <td>0</td>\n      <td>0</td>\n    </tr>\n    <tr>\n      <th>true_1</th>\n      <td>0</td>\n      <td>0</td>\n      <td>2799</td>\n      <td>1</td>\n    </tr>\n    <tr>\n      <th>true_2</th>\n      <td>0</td>\n      <td>47710</td>\n      <td>0</td>\n      <td>0</td>\n    </tr>\n    <tr>\n      <th>true_3</th>\n      <td>115</td>\n      <td>211</td>\n      <td>0</td>\n      <td>2206</td>\n    </tr>\n  </tbody>\n</table>\n</div>"
     },
     "metadata": {},
     "output_type": "display_data"
    },
    {
     "name": "stdout",
     "output_type": "stream",
     "text": [
      "\n",
      "\n",
      "\n",
      "For T = 10\n",
      "(94311, 3)\n",
      "We make a new clustering using that fits the new dataset.\n",
      "KMeans(n_clusters=4, random_state=0)\n",
      "We predict a clustering using the clustering at T0 for the new dataset.\n",
      "ARI for T = 10\n"
     ]
    },
    {
     "data": {
      "text/plain": "    T       ARI\n0   1  0.974220\n1   2  0.958896\n2   3  0.926436\n3   4  0.890263\n4   5  0.841963\n5   6  0.743017\n6   7  0.698333\n7   8  0.683730\n8   9  0.869203\n9  10  0.880272",
      "text/html": "<div>\n<style scoped>\n    .dataframe tbody tr th:only-of-type {\n        vertical-align: middle;\n    }\n\n    .dataframe tbody tr th {\n        vertical-align: top;\n    }\n\n    .dataframe thead th {\n        text-align: right;\n    }\n</style>\n<table border=\"1\" class=\"dataframe\">\n  <thead>\n    <tr style=\"text-align: right;\">\n      <th></th>\n      <th>T</th>\n      <th>ARI</th>\n    </tr>\n  </thead>\n  <tbody>\n    <tr>\n      <th>0</th>\n      <td>1</td>\n      <td>0.974220</td>\n    </tr>\n    <tr>\n      <th>1</th>\n      <td>2</td>\n      <td>0.958896</td>\n    </tr>\n    <tr>\n      <th>2</th>\n      <td>3</td>\n      <td>0.926436</td>\n    </tr>\n    <tr>\n      <th>3</th>\n      <td>4</td>\n      <td>0.890263</td>\n    </tr>\n    <tr>\n      <th>4</th>\n      <td>5</td>\n      <td>0.841963</td>\n    </tr>\n    <tr>\n      <th>5</th>\n      <td>6</td>\n      <td>0.743017</td>\n    </tr>\n    <tr>\n      <th>6</th>\n      <td>7</td>\n      <td>0.698333</td>\n    </tr>\n    <tr>\n      <th>7</th>\n      <td>8</td>\n      <td>0.683730</td>\n    </tr>\n    <tr>\n      <th>8</th>\n      <td>9</td>\n      <td>0.869203</td>\n    </tr>\n    <tr>\n      <th>9</th>\n      <td>10</td>\n      <td>0.880272</td>\n    </tr>\n  </tbody>\n</table>\n</div>"
     },
     "metadata": {},
     "output_type": "display_data"
    },
    {
     "data": {
      "text/plain": "        pred_0  pred_1  pred_2  pred_3\ntrue_0   37383    2881       0       0\ntrue_1       0       0       1    2848\ntrue_2       0   48622       0       0\ntrue_3     125     211    2240       0",
      "text/html": "<div>\n<style scoped>\n    .dataframe tbody tr th:only-of-type {\n        vertical-align: middle;\n    }\n\n    .dataframe tbody tr th {\n        vertical-align: top;\n    }\n\n    .dataframe thead th {\n        text-align: right;\n    }\n</style>\n<table border=\"1\" class=\"dataframe\">\n  <thead>\n    <tr style=\"text-align: right;\">\n      <th></th>\n      <th>pred_0</th>\n      <th>pred_1</th>\n      <th>pred_2</th>\n      <th>pred_3</th>\n    </tr>\n  </thead>\n  <tbody>\n    <tr>\n      <th>true_0</th>\n      <td>37383</td>\n      <td>2881</td>\n      <td>0</td>\n      <td>0</td>\n    </tr>\n    <tr>\n      <th>true_1</th>\n      <td>0</td>\n      <td>0</td>\n      <td>1</td>\n      <td>2848</td>\n    </tr>\n    <tr>\n      <th>true_2</th>\n      <td>0</td>\n      <td>48622</td>\n      <td>0</td>\n      <td>0</td>\n    </tr>\n    <tr>\n      <th>true_3</th>\n      <td>125</td>\n      <td>211</td>\n      <td>2240</td>\n      <td>0</td>\n    </tr>\n  </tbody>\n</table>\n</div>"
     },
     "metadata": {},
     "output_type": "display_data"
    },
    {
     "name": "stdout",
     "output_type": "stream",
     "text": [
      "\n",
      "\n",
      "\n",
      "For T = 11\n",
      "(95314, 3)\n",
      "We make a new clustering using that fits the new dataset.\n",
      "KMeans(n_clusters=4, random_state=0)\n",
      "We predict a clustering using the clustering at T0 for the new dataset.\n",
      "ARI for T = 11\n"
     ]
    },
    {
     "data": {
      "text/plain": "     T       ARI\n0    1  0.974220\n1    2  0.958896\n2    3  0.926436\n3    4  0.890263\n4    5  0.841963\n5    6  0.743017\n6    7  0.698333\n7    8  0.683730\n8    9  0.869203\n9   10  0.880272\n10  11  0.870886",
      "text/html": "<div>\n<style scoped>\n    .dataframe tbody tr th:only-of-type {\n        vertical-align: middle;\n    }\n\n    .dataframe tbody tr th {\n        vertical-align: top;\n    }\n\n    .dataframe thead th {\n        text-align: right;\n    }\n</style>\n<table border=\"1\" class=\"dataframe\">\n  <thead>\n    <tr style=\"text-align: right;\">\n      <th></th>\n      <th>T</th>\n      <th>ARI</th>\n    </tr>\n  </thead>\n  <tbody>\n    <tr>\n      <th>0</th>\n      <td>1</td>\n      <td>0.974220</td>\n    </tr>\n    <tr>\n      <th>1</th>\n      <td>2</td>\n      <td>0.958896</td>\n    </tr>\n    <tr>\n      <th>2</th>\n      <td>3</td>\n      <td>0.926436</td>\n    </tr>\n    <tr>\n      <th>3</th>\n      <td>4</td>\n      <td>0.890263</td>\n    </tr>\n    <tr>\n      <th>4</th>\n      <td>5</td>\n      <td>0.841963</td>\n    </tr>\n    <tr>\n      <th>5</th>\n      <td>6</td>\n      <td>0.743017</td>\n    </tr>\n    <tr>\n      <th>6</th>\n      <td>7</td>\n      <td>0.698333</td>\n    </tr>\n    <tr>\n      <th>7</th>\n      <td>8</td>\n      <td>0.683730</td>\n    </tr>\n    <tr>\n      <th>8</th>\n      <td>9</td>\n      <td>0.869203</td>\n    </tr>\n    <tr>\n      <th>9</th>\n      <td>10</td>\n      <td>0.880272</td>\n    </tr>\n    <tr>\n      <th>10</th>\n      <td>11</td>\n      <td>0.870886</td>\n    </tr>\n  </tbody>\n</table>\n</div>"
     },
     "metadata": {},
     "output_type": "display_data"
    },
    {
     "data": {
      "text/plain": "        pred_0  pred_1  pred_2  pred_3\ntrue_0    3171   38073       1       0\ntrue_1       0       0       3    2878\ntrue_2   48602       0       0       0\ntrue_3     211     111    2264       0",
      "text/html": "<div>\n<style scoped>\n    .dataframe tbody tr th:only-of-type {\n        vertical-align: middle;\n    }\n\n    .dataframe tbody tr th {\n        vertical-align: top;\n    }\n\n    .dataframe thead th {\n        text-align: right;\n    }\n</style>\n<table border=\"1\" class=\"dataframe\">\n  <thead>\n    <tr style=\"text-align: right;\">\n      <th></th>\n      <th>pred_0</th>\n      <th>pred_1</th>\n      <th>pred_2</th>\n      <th>pred_3</th>\n    </tr>\n  </thead>\n  <tbody>\n    <tr>\n      <th>true_0</th>\n      <td>3171</td>\n      <td>38073</td>\n      <td>1</td>\n      <td>0</td>\n    </tr>\n    <tr>\n      <th>true_1</th>\n      <td>0</td>\n      <td>0</td>\n      <td>3</td>\n      <td>2878</td>\n    </tr>\n    <tr>\n      <th>true_2</th>\n      <td>48602</td>\n      <td>0</td>\n      <td>0</td>\n      <td>0</td>\n    </tr>\n    <tr>\n      <th>true_3</th>\n      <td>211</td>\n      <td>111</td>\n      <td>2264</td>\n      <td>0</td>\n    </tr>\n  </tbody>\n</table>\n</div>"
     },
     "metadata": {},
     "output_type": "display_data"
    },
    {
     "name": "stdout",
     "output_type": "stream",
     "text": [
      "\n",
      "\n",
      "\n",
      "For T = 12\n",
      "(95420, 3)\n",
      "We make a new clustering using that fits the new dataset.\n",
      "KMeans(n_clusters=4, random_state=0)\n",
      "We predict a clustering using the clustering at T0 for the new dataset.\n",
      "ARI for T = 12\n"
     ]
    },
    {
     "data": {
      "text/plain": "     T       ARI\n0    1  0.974220\n1    2  0.958896\n2    3  0.926436\n3    4  0.890263\n4    5  0.841963\n5    6  0.743017\n6    7  0.698333\n7    8  0.683730\n8    9  0.869203\n9   10  0.880272\n10  11  0.870886\n11  12  0.821834",
      "text/html": "<div>\n<style scoped>\n    .dataframe tbody tr th:only-of-type {\n        vertical-align: middle;\n    }\n\n    .dataframe tbody tr th {\n        vertical-align: top;\n    }\n\n    .dataframe thead th {\n        text-align: right;\n    }\n</style>\n<table border=\"1\" class=\"dataframe\">\n  <thead>\n    <tr style=\"text-align: right;\">\n      <th></th>\n      <th>T</th>\n      <th>ARI</th>\n    </tr>\n  </thead>\n  <tbody>\n    <tr>\n      <th>0</th>\n      <td>1</td>\n      <td>0.974220</td>\n    </tr>\n    <tr>\n      <th>1</th>\n      <td>2</td>\n      <td>0.958896</td>\n    </tr>\n    <tr>\n      <th>2</th>\n      <td>3</td>\n      <td>0.926436</td>\n    </tr>\n    <tr>\n      <th>3</th>\n      <td>4</td>\n      <td>0.890263</td>\n    </tr>\n    <tr>\n      <th>4</th>\n      <td>5</td>\n      <td>0.841963</td>\n    </tr>\n    <tr>\n      <th>5</th>\n      <td>6</td>\n      <td>0.743017</td>\n    </tr>\n    <tr>\n      <th>6</th>\n      <td>7</td>\n      <td>0.698333</td>\n    </tr>\n    <tr>\n      <th>7</th>\n      <td>8</td>\n      <td>0.683730</td>\n    </tr>\n    <tr>\n      <th>8</th>\n      <td>9</td>\n      <td>0.869203</td>\n    </tr>\n    <tr>\n      <th>9</th>\n      <td>10</td>\n      <td>0.880272</td>\n    </tr>\n    <tr>\n      <th>10</th>\n      <td>11</td>\n      <td>0.870886</td>\n    </tr>\n    <tr>\n      <th>11</th>\n      <td>12</td>\n      <td>0.821834</td>\n    </tr>\n  </tbody>\n</table>\n</div>"
     },
     "metadata": {},
     "output_type": "display_data"
    },
    {
     "data": {
      "text/plain": "        pred_0  pred_1  pred_2  pred_3\ntrue_0   38283    4524       0       1\ntrue_1       0       0    2883       3\ntrue_2       0   47147       0       0\ntrue_3      95     215       0    2269",
      "text/html": "<div>\n<style scoped>\n    .dataframe tbody tr th:only-of-type {\n        vertical-align: middle;\n    }\n\n    .dataframe tbody tr th {\n        vertical-align: top;\n    }\n\n    .dataframe thead th {\n        text-align: right;\n    }\n</style>\n<table border=\"1\" class=\"dataframe\">\n  <thead>\n    <tr style=\"text-align: right;\">\n      <th></th>\n      <th>pred_0</th>\n      <th>pred_1</th>\n      <th>pred_2</th>\n      <th>pred_3</th>\n    </tr>\n  </thead>\n  <tbody>\n    <tr>\n      <th>true_0</th>\n      <td>38283</td>\n      <td>4524</td>\n      <td>0</td>\n      <td>1</td>\n    </tr>\n    <tr>\n      <th>true_1</th>\n      <td>0</td>\n      <td>0</td>\n      <td>2883</td>\n      <td>3</td>\n    </tr>\n    <tr>\n      <th>true_2</th>\n      <td>0</td>\n      <td>47147</td>\n      <td>0</td>\n      <td>0</td>\n    </tr>\n    <tr>\n      <th>true_3</th>\n      <td>95</td>\n      <td>215</td>\n      <td>0</td>\n      <td>2269</td>\n    </tr>\n  </tbody>\n</table>\n</div>"
     },
     "metadata": {},
     "output_type": "display_data"
    }
   ],
   "source": [
    "simulation_results_exp_2 = pd.DataFrame({})\n",
    "simulation_results_exp_2 = run_simulation(nb_periods=nb_periods_exp_2, kmeans_cls_T0=kmeans_cls_T0_exp_2, results=simulation_results_exp_2, experiment_nb=2, nb_clusters=nb_clusters)"
   ],
   "metadata": {
    "collapsed": false,
    "pycharm": {
     "name": "#%%\n"
    }
   }
  },
  {
   "cell_type": "code",
   "execution_count": 41,
   "outputs": [
    {
     "data": {
      "text/plain": "<Figure size 432x288 with 1 Axes>",
      "image/png": "[encoded data removed]"
     },
     "metadata": {
      "needs_background": "light"
     },
     "output_type": "display_data"
    }
   ],
   "source": [
    "display_ARI_nb_days(simulation_results=simulation_results_exp_2, nb_days=nb_days_exp_2)"
   ],
   "metadata": {
    "collapsed": false,
    "pycharm": {
     "name": "#%%\n"
    }
   }
  },
  {
   "cell_type": "markdown",
   "source": [
    "### 3) Conclusion\n",
    "\n",
    "We did two simulations.\n",
    "\n",
    "For the first simulation, we predicted the initial clustering in December 2017 soit 9 months before the end of the dataset.\n",
    "We simulated the clustering prediction every 15 days.\n",
    "\n",
    "After two months, we saw the ARI score decreased and get under 0.8.\n",
    "\n",
    "So, for the second simulation, we predicted the initial clustering in June 2017 so three months before the end of the dataset.\n",
    "We ran the simulation every week.\n",
    "\n",
    "- NB : In fact, we tried a simulation two months (nb_periods = 8) prior to the end date of the dataset and a simulation three months before (nb_periods = 12). It was difficult to conclude with a simulation period of two months, so we used three months.\n",
    "\n",
    "We saw that the ARI score decreases significantly at the 5th week.\n",
    "\n",
    "Thus, we will recommend to our client that the maintenance should be done every month (every 4 or 5 weeks).\n"
   ],
   "metadata": {
    "collapsed": false,
    "pycharm": {
     "name": "#%% md\n"
    }
   }
  },
  {
   "cell_type": "code",
   "execution_count": 41,
   "outputs": [],
   "source": [],
   "metadata": {
    "collapsed": false,
    "pycharm": {
     "name": "#%%\n"
    }
   }
  },
  {
   "cell_type": "code",
   "execution_count": 42,
   "outputs": [
    {
     "name": "stdout",
     "output_type": "stream",
     "text": [
      "computing time : 449.496162 sec\n",
      "computing time : 00:07:29\n"
     ]
    }
   ],
   "source": [
    "# End of simulation time\n",
    "t1 = time()\n",
    "print(\"computing time : {:8.6f} sec\".format(t1 - t0))\n",
    "print(\"computing time : \" + strftime('%H:%M:%S', gmtime(t1 - t0)))"
   ],
   "metadata": {
    "collapsed": false,
    "pycharm": {
     "name": "#%%\n"
    }
   }
  }
 ],
 "metadata": {
  "kernelspec": {
   "display_name": "Python 3",
   "language": "python",
   "name": "python3"
  },
  "language_info": {
   "codemirror_mode": {
    "name": "ipython",
    "version": 2
   },
   "file_extension": ".py",
   "mimetype": "text/x-python",
   "name": "python",
   "nbconvert_exporter": "python",
   "pygments_lexer": "ipython2",
   "version": "2.7.6"
  }
 },
 "nbformat": 4,
 "nbformat_minor": 0
}
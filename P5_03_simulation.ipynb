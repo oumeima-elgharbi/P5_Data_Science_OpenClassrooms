{
 "cells": [
  {
   "cell_type": "markdown",
   "source": [
    "Pour évaluer la stabilité de segmentation dans le temps : choisir une segmentation, le plus simple sera celle faite via kmeans.\n",
    "Faire un kmeans sur une période de référence (probablement une année complète).\n",
    "Faire ensuite glisser les périodes : M+1, M+2, M+3, etc\n",
    "Utiliser le kmeans de la période de référence pour prédire les clusters sur les périodes glissantes.\n",
    "Comparer les clusters prédits avec les clusters si on avait réentrainer le modèle sur la période glissante.\n",
    "Faire une matrice de confusion pour voir comment se répartissent les clients.\n",
    "Calculer l'indice de rand ajusté (class sklearn.metrics)\n",
    "En déduire quand la segmentation doit etre mise à jour.\n"
   ],
   "metadata": {
    "collapsed": false,
    "pycharm": {
     "name": "#%% md\n"
    }
   }
  },
  {
   "cell_type": "code",
   "execution_count": 41,
   "outputs": [],
   "source": [
    "\n",
    "# train model sur des données puis Mois + 1 / M + 2\n",
    "# kmeans (pickle) : load / predict / checker ARI score : si stable ou si ca change bcp et là doit refit\n",
    "\n",
    "# bdd order_purchase / max - 1 mois avant / reprend tout et fit\n",
    "\n",
    "# 3 sep\n",
    "# fit bdd 3 / 08 - reprend bdd entiere predict 3/09 - / ARI (normalement decroissant)\n",
    "# fit 03/07 / predict bdd / ARI\n",
    "# nombre de mois : janvier / M+8 / lineplot (inf à 0.8/0.7 apres trois mois)\n",
    "\n",
    "# trois 112000 / retirer les mois recents puis groupby // ne pas prendre les nouveaux clients (verifier si le modele tient sur la distance/ meme clients mais caracteristique diff)\n",
    "\n",
    "# dbscan"
   ],
   "metadata": {
    "collapsed": false,
    "pycharm": {
     "name": "#%%\n"
    }
   }
  },
  {
   "cell_type": "markdown",
   "source": [
    "### Importing libraries"
   ],
   "metadata": {
    "collapsed": false,
    "pycharm": {
     "name": "#%% md\n"
    }
   }
  },
  {
   "cell_type": "code",
   "execution_count": 42,
   "outputs": [
    {
     "data": {
      "application/javascript": "IPython.notebook.set_autosave_interval(300000)"
     },
     "metadata": {},
     "output_type": "display_data"
    },
    {
     "name": "stdout",
     "output_type": "stream",
     "text": [
      "Autosaving every 300 seconds\n"
     ]
    }
   ],
   "source": [
    "import pandas as pd\n",
    "%reset -f\n",
    "\n",
    "from simulation_functions import *\n",
    "from functions import *\n",
    "\n",
    "%matplotlib inline\n",
    "%autosave 300"
   ],
   "metadata": {
    "collapsed": false,
    "pycharm": {
     "name": "#%%\n"
    }
   }
  },
  {
   "cell_type": "code",
   "execution_count": 43,
   "outputs": [],
   "source": [
    "# Starting time\n",
    "t0 = time()\n",
    "\n",
    "input_path = \"./dataset/cleaned/\"\n",
    "input_filename = \"merged_dataset.csv\"\n",
    "\n",
    "simulation_path = \"./dataset/simulation/\"\n",
    "experiment_1_path = simulation_path + \"/experiment_1/\"\n",
    "experiment_2_path = simulation_path + \"/experiment_2/\""
   ],
   "metadata": {
    "collapsed": false,
    "pycharm": {
     "name": "#%%\n"
    }
   }
  },
  {
   "cell_type": "markdown",
   "source": [
    "### Importing dataset"
   ],
   "metadata": {
    "collapsed": false,
    "pycharm": {
     "name": "#%% md\n"
    }
   }
  },
  {
   "cell_type": "code",
   "execution_count": 44,
   "outputs": [
    {
     "name": "stdout",
     "output_type": "stream",
     "text": [
      "___Loading raw dataset___\n",
      "Initial shape : (112650, 18)\n"
     ]
    }
   ],
   "source": [
    "data = load_data(input_path, input_filename)"
   ],
   "metadata": {
    "collapsed": false,
    "pycharm": {
     "name": "#%%\n"
    }
   }
  },
  {
   "cell_type": "code",
   "execution_count": 45,
   "outputs": [
    {
     "data": {
      "text/plain": "                                order_id                       customer_id  \\\n0       e481f51cbdc54678b7cc49136f2d6af7  9ef432eb6251297304e76186b10a928d   \n1       53cdb2fc8bc7dce0b6741e2150273451  b0830fb4747a6c6d20dea0b8c802d7ef   \n2       47770eb9100c2d0c44946d9cf07ec65d  41ce2a54c0b03bf3443c3d931a367089   \n3       949d5b44dbf5de918fe9c16f97b45f8a  f88197465ea7920adcdbec7375364d82   \n4       ad21c59c0840e6cb83a9ceb5573f8159  8ab97904e6daea8866dbdbc4fb7aad2c   \n...                                  ...                               ...   \n112645  63943bddc261676b46f01ca7ac2f7bd8  1fca14ff2861355f6e5f14306ff977a7   \n112646  83c1379a015df1e13d02aae0204711ab  1aa71eb042121263aafbe80c1b562c9c   \n112647  11c177c8e97725db2631073c19f07b62  b331b74b18dc79bcdf6532d51e1637c1   \n112648  11c177c8e97725db2631073c19f07b62  b331b74b18dc79bcdf6532d51e1637c1   \n112649  66dea50a8b16d9b4dee7af250b4be1a5  edb027a75a1449115f6b43211ae02a24   \n\n       order_status order_purchase_timestamp    order_approved_at  \\\n0         delivered      2017-10-02 10:56:33  2017-10-02 11:07:15   \n1         delivered      2018-07-24 20:41:37  2018-07-26 03:24:27   \n2         delivered      2018-08-08 08:38:49  2018-08-08 08:55:23   \n3         delivered      2017-11-18 19:28:06  2017-11-18 19:45:59   \n4         delivered      2018-02-13 21:18:39  2018-02-13 22:20:29   \n...             ...                      ...                  ...   \n112645    delivered      2018-02-06 12:58:58  2018-02-06 13:10:37   \n112646    delivered      2017-08-27 14:46:43  2017-08-27 15:04:16   \n112647    delivered      2018-01-08 21:28:27  2018-01-08 21:36:21   \n112648    delivered      2018-01-08 21:28:27  2018-01-08 21:36:21   \n112649    delivered      2018-03-08 20:57:30  2018-03-09 11:20:28   \n\n       order_delivered_carrier_date order_delivered_customer_date  \\\n0               2017-10-04 19:55:00           2017-10-10 21:25:13   \n1               2018-07-26 14:31:00           2018-08-07 15:27:45   \n2               2018-08-08 13:50:00           2018-08-17 18:06:29   \n3               2017-11-22 13:39:59           2017-12-02 00:28:42   \n4               2018-02-14 19:46:34           2018-02-16 18:17:02   \n...                             ...                           ...   \n112645          2018-02-07 23:22:42           2018-02-28 17:37:56   \n112646          2017-08-28 20:52:26           2017-09-21 11:24:17   \n112647          2018-01-12 15:35:03           2018-01-25 23:32:54   \n112648          2018-01-12 15:35:03           2018-01-25 23:32:54   \n112649          2018-03-09 22:11:59           2018-03-16 13:08:30   \n\n       order_estimated_delivery_date                customer_unique_id  \\\n0                2017-10-18 00:00:00  7c396fd4830fd04220f754e42b4e5bff   \n1                2018-08-13 00:00:00  af07308b275d755c9edb36a90c618231   \n2                2018-09-04 00:00:00  3a653a41f6f9fc3d2a113cf8398680e8   \n3                2017-12-15 00:00:00  7c142cf63193a1473d2e66489a9ae977   \n4                2018-02-26 00:00:00  72632f0f9dd73dfee390c9b22eb56dd6   \n...                              ...                               ...   \n112645           2018-03-02 00:00:00  da62f9e57a76d978d02ab5362c509660   \n112646           2017-09-27 00:00:00  737520a9aad80b3fbbdad19b66b37b30   \n112647           2018-02-15 00:00:00  5097a5312c8b157bb7be58ae360ef43c   \n112648           2018-02-15 00:00:00  5097a5312c8b157bb7be58ae360ef43c   \n112649           2018-04-03 00:00:00  60350aa974b26ff12caad89e55993bd6   \n\n        customer_zip_code_prefix            customer_city customer_state  \\\n0                           3149                sao paulo             SP   \n1                          47813                barreiras             BA   \n2                          75265               vianopolis             GO   \n3                          59296  sao goncalo do amarante             RN   \n4                           9195              santo andre             SP   \n...                          ...                      ...            ...   \n112645                     11722             praia grande             SP   \n112646                     45920              nova vicosa             BA   \n112647                     28685                  japuiba             RJ   \n112648                     28685                  japuiba             RJ   \n112649                     83750                     lapa             PR   \n\n        order_item_id                        product_id  \\\n0                   1  87285b34884572647811a353c7ac498a   \n1                   1  595fac2a385ac33a80bd5114aec74eb8   \n2                   1  aa4383b373c6aca5d8797843e5594415   \n3                   1  d0b61bfb1de832b15ba9d266ca96e5b0   \n4                   1  65266b2da20d04dbe00c5c2d3bb7859e   \n...               ...                               ...   \n112645              1  f1d4ce8c6dd66c47bbaa8c6781c2a923   \n112646              1  b80910977a37536adeddd63663f916ad   \n112647              1  d1c427060a0f73f6b889a5c7c61f2ac4   \n112648              2  d1c427060a0f73f6b889a5c7c61f2ac4   \n112649              1  006619bbed68b000c8ba3f8725d5409e   \n\n                               seller_id  shipping_limit_date   price  \\\n0       3504c0cb71d7fa48d967e0e4c94d59d9  2017-10-06 11:07:15   29.99   \n1       289cdb325fb7e7f891c38608bf9e0962  2018-07-30 03:24:27  118.70   \n2       4869f7a5dfa277a7dca6462dcf3b52b2  2018-08-13 08:55:23  159.90   \n3       66922902710d126a0e7d26b0e3805106  2017-11-23 19:45:59   45.00   \n4       2c9e548be18521d1c43cde1c582c6de8  2018-02-19 20:31:37   19.90   \n...                                  ...                  ...     ...   \n112645  1f9ab4708f3056ede07124aad39a2554  2018-02-12 13:10:37  174.90   \n112646  d50d79cb34e38265a8649c383dcffd48  2017-09-05 15:04:16  205.99   \n112647  a1043bafd471dff536d0c462352beb48  2018-01-12 21:36:21  179.99   \n112648  a1043bafd471dff536d0c462352beb48  2018-01-12 21:36:21  179.99   \n112649  ececbfcff9804a2d6b40f589df8eef2b  2018-03-15 10:55:42   68.50   \n\n        freight_value  \n0                8.72  \n1               22.76  \n2               19.22  \n3               27.20  \n4                8.72  \n...               ...  \n112645          20.10  \n112646          65.02  \n112647          40.59  \n112648          40.59  \n112649          18.36  \n\n[112650 rows x 18 columns]",
      "text/html": "<div>\n<style scoped>\n    .dataframe tbody tr th:only-of-type {\n        vertical-align: middle;\n    }\n\n    .dataframe tbody tr th {\n        vertical-align: top;\n    }\n\n    .dataframe thead th {\n        text-align: right;\n    }\n</style>\n<table border=\"1\" class=\"dataframe\">\n  <thead>\n    <tr style=\"text-align: right;\">\n      <th></th>\n      <th>order_id</th>\n      <th>customer_id</th>\n      <th>order_status</th>\n      <th>order_purchase_timestamp</th>\n      <th>order_approved_at</th>\n      <th>order_delivered_carrier_date</th>\n      <th>order_delivered_customer_date</th>\n      <th>order_estimated_delivery_date</th>\n      <th>customer_unique_id</th>\n      <th>customer_zip_code_prefix</th>\n      <th>customer_city</th>\n      <th>customer_state</th>\n      <th>order_item_id</th>\n      <th>product_id</th>\n      <th>seller_id</th>\n      <th>shipping_limit_date</th>\n      <th>price</th>\n      <th>freight_value</th>\n    </tr>\n  </thead>\n  <tbody>\n    <tr>\n      <th>0</th>\n      <td>e481f51cbdc54678b7cc49136f2d6af7</td>\n      <td>9ef432eb6251297304e76186b10a928d</td>\n      <td>delivered</td>\n      <td>2017-10-02 10:56:33</td>\n      <td>2017-10-02 11:07:15</td>\n      <td>2017-10-04 19:55:00</td>\n      <td>2017-10-10 21:25:13</td>\n      <td>2017-10-18 00:00:00</td>\n      <td>7c396fd4830fd04220f754e42b4e5bff</td>\n      <td>3149</td>\n      <td>sao paulo</td>\n      <td>SP</td>\n      <td>1</td>\n      <td>87285b34884572647811a353c7ac498a</td>\n      <td>3504c0cb71d7fa48d967e0e4c94d59d9</td>\n      <td>2017-10-06 11:07:15</td>\n      <td>29.99</td>\n      <td>8.72</td>\n    </tr>\n    <tr>\n      <th>1</th>\n      <td>53cdb2fc8bc7dce0b6741e2150273451</td>\n      <td>b0830fb4747a6c6d20dea0b8c802d7ef</td>\n      <td>delivered</td>\n      <td>2018-07-24 20:41:37</td>\n      <td>2018-07-26 03:24:27</td>\n      <td>2018-07-26 14:31:00</td>\n      <td>2018-08-07 15:27:45</td>\n      <td>2018-08-13 00:00:00</td>\n      <td>af07308b275d755c9edb36a90c618231</td>\n      <td>47813</td>\n      <td>barreiras</td>\n      <td>BA</td>\n      <td>1</td>\n      <td>595fac2a385ac33a80bd5114aec74eb8</td>\n      <td>289cdb325fb7e7f891c38608bf9e0962</td>\n      <td>2018-07-30 03:24:27</td>\n      <td>118.70</td>\n      <td>22.76</td>\n    </tr>\n    <tr>\n      <th>2</th>\n      <td>47770eb9100c2d0c44946d9cf07ec65d</td>\n      <td>41ce2a54c0b03bf3443c3d931a367089</td>\n      <td>delivered</td>\n      <td>2018-08-08 08:38:49</td>\n      <td>2018-08-08 08:55:23</td>\n      <td>2018-08-08 13:50:00</td>\n      <td>2018-08-17 18:06:29</td>\n      <td>2018-09-04 00:00:00</td>\n      <td>3a653a41f6f9fc3d2a113cf8398680e8</td>\n      <td>75265</td>\n      <td>vianopolis</td>\n      <td>GO</td>\n      <td>1</td>\n      <td>aa4383b373c6aca5d8797843e5594415</td>\n      <td>4869f7a5dfa277a7dca6462dcf3b52b2</td>\n      <td>2018-08-13 08:55:23</td>\n      <td>159.90</td>\n      <td>19.22</td>\n    </tr>\n    <tr>\n      <th>3</th>\n      <td>949d5b44dbf5de918fe9c16f97b45f8a</td>\n      <td>f88197465ea7920adcdbec7375364d82</td>\n      <td>delivered</td>\n      <td>2017-11-18 19:28:06</td>\n      <td>2017-11-18 19:45:59</td>\n      <td>2017-11-22 13:39:59</td>\n      <td>2017-12-02 00:28:42</td>\n      <td>2017-12-15 00:00:00</td>\n      <td>7c142cf63193a1473d2e66489a9ae977</td>\n      <td>59296</td>\n      <td>sao goncalo do amarante</td>\n      <td>RN</td>\n      <td>1</td>\n      <td>d0b61bfb1de832b15ba9d266ca96e5b0</td>\n      <td>66922902710d126a0e7d26b0e3805106</td>\n      <td>2017-11-23 19:45:59</td>\n      <td>45.00</td>\n      <td>27.20</td>\n    </tr>\n    <tr>\n      <th>4</th>\n      <td>ad21c59c0840e6cb83a9ceb5573f8159</td>\n      <td>8ab97904e6daea8866dbdbc4fb7aad2c</td>\n      <td>delivered</td>\n      <td>2018-02-13 21:18:39</td>\n      <td>2018-02-13 22:20:29</td>\n      <td>2018-02-14 19:46:34</td>\n      <td>2018-02-16 18:17:02</td>\n      <td>2018-02-26 00:00:00</td>\n      <td>72632f0f9dd73dfee390c9b22eb56dd6</td>\n      <td>9195</td>\n      <td>santo andre</td>\n      <td>SP</td>\n      <td>1</td>\n      <td>65266b2da20d04dbe00c5c2d3bb7859e</td>\n      <td>2c9e548be18521d1c43cde1c582c6de8</td>\n      <td>2018-02-19 20:31:37</td>\n      <td>19.90</td>\n      <td>8.72</td>\n    </tr>\n    <tr>\n      <th>...</th>\n      <td>...</td>\n      <td>...</td>\n      <td>...</td>\n      <td>...</td>\n      <td>...</td>\n      <td>...</td>\n      <td>...</td>\n      <td>...</td>\n      <td>...</td>\n      <td>...</td>\n      <td>...</td>\n      <td>...</td>\n      <td>...</td>\n      <td>...</td>\n      <td>...</td>\n      <td>...</td>\n      <td>...</td>\n      <td>...</td>\n    </tr>\n    <tr>\n      <th>112645</th>\n      <td>63943bddc261676b46f01ca7ac2f7bd8</td>\n      <td>1fca14ff2861355f6e5f14306ff977a7</td>\n      <td>delivered</td>\n      <td>2018-02-06 12:58:58</td>\n      <td>2018-02-06 13:10:37</td>\n      <td>2018-02-07 23:22:42</td>\n      <td>2018-02-28 17:37:56</td>\n      <td>2018-03-02 00:00:00</td>\n      <td>da62f9e57a76d978d02ab5362c509660</td>\n      <td>11722</td>\n      <td>praia grande</td>\n      <td>SP</td>\n      <td>1</td>\n      <td>f1d4ce8c6dd66c47bbaa8c6781c2a923</td>\n      <td>1f9ab4708f3056ede07124aad39a2554</td>\n      <td>2018-02-12 13:10:37</td>\n      <td>174.90</td>\n      <td>20.10</td>\n    </tr>\n    <tr>\n      <th>112646</th>\n      <td>83c1379a015df1e13d02aae0204711ab</td>\n      <td>1aa71eb042121263aafbe80c1b562c9c</td>\n      <td>delivered</td>\n      <td>2017-08-27 14:46:43</td>\n      <td>2017-08-27 15:04:16</td>\n      <td>2017-08-28 20:52:26</td>\n      <td>2017-09-21 11:24:17</td>\n      <td>2017-09-27 00:00:00</td>\n      <td>737520a9aad80b3fbbdad19b66b37b30</td>\n      <td>45920</td>\n      <td>nova vicosa</td>\n      <td>BA</td>\n      <td>1</td>\n      <td>b80910977a37536adeddd63663f916ad</td>\n      <td>d50d79cb34e38265a8649c383dcffd48</td>\n      <td>2017-09-05 15:04:16</td>\n      <td>205.99</td>\n      <td>65.02</td>\n    </tr>\n    <tr>\n      <th>112647</th>\n      <td>11c177c8e97725db2631073c19f07b62</td>\n      <td>b331b74b18dc79bcdf6532d51e1637c1</td>\n      <td>delivered</td>\n      <td>2018-01-08 21:28:27</td>\n      <td>2018-01-08 21:36:21</td>\n      <td>2018-01-12 15:35:03</td>\n      <td>2018-01-25 23:32:54</td>\n      <td>2018-02-15 00:00:00</td>\n      <td>5097a5312c8b157bb7be58ae360ef43c</td>\n      <td>28685</td>\n      <td>japuiba</td>\n      <td>RJ</td>\n      <td>1</td>\n      <td>d1c427060a0f73f6b889a5c7c61f2ac4</td>\n      <td>a1043bafd471dff536d0c462352beb48</td>\n      <td>2018-01-12 21:36:21</td>\n      <td>179.99</td>\n      <td>40.59</td>\n    </tr>\n    <tr>\n      <th>112648</th>\n      <td>11c177c8e97725db2631073c19f07b62</td>\n      <td>b331b74b18dc79bcdf6532d51e1637c1</td>\n      <td>delivered</td>\n      <td>2018-01-08 21:28:27</td>\n      <td>2018-01-08 21:36:21</td>\n      <td>2018-01-12 15:35:03</td>\n      <td>2018-01-25 23:32:54</td>\n      <td>2018-02-15 00:00:00</td>\n      <td>5097a5312c8b157bb7be58ae360ef43c</td>\n      <td>28685</td>\n      <td>japuiba</td>\n      <td>RJ</td>\n      <td>2</td>\n      <td>d1c427060a0f73f6b889a5c7c61f2ac4</td>\n      <td>a1043bafd471dff536d0c462352beb48</td>\n      <td>2018-01-12 21:36:21</td>\n      <td>179.99</td>\n      <td>40.59</td>\n    </tr>\n    <tr>\n      <th>112649</th>\n      <td>66dea50a8b16d9b4dee7af250b4be1a5</td>\n      <td>edb027a75a1449115f6b43211ae02a24</td>\n      <td>delivered</td>\n      <td>2018-03-08 20:57:30</td>\n      <td>2018-03-09 11:20:28</td>\n      <td>2018-03-09 22:11:59</td>\n      <td>2018-03-16 13:08:30</td>\n      <td>2018-04-03 00:00:00</td>\n      <td>60350aa974b26ff12caad89e55993bd6</td>\n      <td>83750</td>\n      <td>lapa</td>\n      <td>PR</td>\n      <td>1</td>\n      <td>006619bbed68b000c8ba3f8725d5409e</td>\n      <td>ececbfcff9804a2d6b40f589df8eef2b</td>\n      <td>2018-03-15 10:55:42</td>\n      <td>68.50</td>\n      <td>18.36</td>\n    </tr>\n  </tbody>\n</table>\n<p>112650 rows × 18 columns</p>\n</div>"
     },
     "execution_count": 45,
     "metadata": {},
     "output_type": "execute_result"
    }
   ],
   "source": [
    "data"
   ],
   "metadata": {
    "collapsed": false,
    "pycharm": {
     "name": "#%%\n"
    }
   }
  },
  {
   "cell_type": "markdown",
   "source": [
    "## I) Preparing simulation datasets"
   ],
   "metadata": {
    "collapsed": false,
    "pycharm": {
     "name": "#%% md\n"
    }
   }
  },
  {
   "cell_type": "code",
   "execution_count": 46,
   "outputs": [],
   "source": [
    "data['order_purchase_timestamp'] = pd.to_datetime(data['order_purchase_timestamp'].astype(str), format='%Y/%m/%d') # .astype(str)"
   ],
   "metadata": {
    "collapsed": false,
    "pycharm": {
     "name": "#%%\n"
    }
   }
  },
  {
   "cell_type": "code",
   "execution_count": 47,
   "outputs": [
    {
     "name": "stdout",
     "output_type": "stream",
     "text": [
      "Last day recorded in the dataset : 2018-09-03 09:06:57 <class 'pandas._libs.tslibs.timestamps.Timestamp'>\n",
      "Year : 2018\n",
      "Month : 9\n",
      "Day : 3\n"
     ]
    }
   ],
   "source": [
    "last_day_recorded = data[\"order_purchase_timestamp\"].max()\n",
    "\n",
    "print(\"Last day recorded in the dataset :\", last_day_recorded, type(last_day_recorded))\n",
    "\n",
    "print(\"Year :\", last_day_recorded.year)\n",
    "print(\"Month :\", last_day_recorded.month)\n",
    "print(\"Day :\", last_day_recorded.day)"
   ],
   "metadata": {
    "collapsed": false,
    "pycharm": {
     "name": "#%%\n"
    }
   }
  },
  {
   "cell_type": "code",
   "execution_count": 48,
   "outputs": [],
   "source": [
    "nb_days = 15"
   ],
   "metadata": {
    "collapsed": false,
    "pycharm": {
     "name": "#%%\n"
    }
   }
  },
  {
   "cell_type": "code",
   "execution_count": 49,
   "outputs": [
    {
     "data": {
      "text/plain": "Timestamp('2018-08-19 09:06:57')"
     },
     "execution_count": 49,
     "metadata": {},
     "output_type": "execute_result"
    }
   ],
   "source": [
    "# Time limit\n",
    "time_limit = max(data.order_purchase_timestamp) + relativedelta(days=-nb_days)\n",
    "\n",
    "time_limit"
   ],
   "metadata": {
    "collapsed": false,
    "pycharm": {
     "name": "#%%\n"
    }
   }
  },
  {
   "cell_type": "code",
   "execution_count": 50,
   "outputs": [
    {
     "name": "stdout",
     "output_type": "stream",
     "text": [
      "Verification of the filter : 2018-08-19 08:57:45\n"
     ]
    }
   ],
   "source": [
    "data_previous_days = data.copy()\n",
    "filter_date = data_previous_days[\"order_purchase_timestamp\"] <= time_limit\n",
    "\n",
    "data_previous_days = data_previous_days[filter_date]\n",
    "print(\"Verification of the filter :\", max(data_previous_days.order_purchase_timestamp))"
   ],
   "metadata": {
    "collapsed": false,
    "pycharm": {
     "name": "#%%\n"
    }
   }
  },
  {
   "cell_type": "code",
   "execution_count": 51,
   "outputs": [],
   "source": [
    "data_previous_days = data_previous_days.groupby('customer_unique_id').agg({'order_purchase_timestamp' : lambda x: (time_limit - x.max()).days,\n",
    "                                           'order_id' : pd.Series.nunique,\n",
    "                                           'price' : 'sum',\n",
    "                                           })\n",
    "# Rename columns\n",
    "dataset_rfm_previous_days = data_previous_days.rename(columns = {'order_purchase_timestamp' : 'Recency',\n",
    "                                   'order_id' : 'Frequency',\n",
    "                                   'price' : 'Monetary'}) #, inplace = True)"
   ],
   "metadata": {
    "collapsed": false,
    "pycharm": {
     "name": "#%%\n"
    }
   }
  },
  {
   "cell_type": "code",
   "execution_count": 52,
   "outputs": [
    {
     "data": {
      "text/plain": "                                  Recency  Frequency  Monetary\ncustomer_unique_id                                            \n0000366f3b9a7992bf8c76cfdf3221e2      100          1    129.90\n0000b849f77a49e4a4ce2b2a4ca5be3f      103          1     18.90\n0000f46a3911fa3c0805444483337064      526          1     69.00\n0000f6ccb0745a6a4b88665a16c9f078      310          1     25.99\n0004aac84e0df4da2b147fca70cf8255      277          1    180.00\n...                                   ...        ...       ...\nfffcf5a5ff07b0908bd4e2dbc735a684      436          1   1570.00\nfffea47cd6d3cc0a88bd621562a9d061      251          1     64.89\nffff371b4d645b6ecea244b27531430a      557          1     89.90\nffff5962728ec6157033ef9805bacc48      108          1    115.00\nffffd2657e2aad2907e67c3e9daecbeb      473          1     56.99\n\n[94102 rows x 3 columns]",
      "text/html": "<div>\n<style scoped>\n    .dataframe tbody tr th:only-of-type {\n        vertical-align: middle;\n    }\n\n    .dataframe tbody tr th {\n        vertical-align: top;\n    }\n\n    .dataframe thead th {\n        text-align: right;\n    }\n</style>\n<table border=\"1\" class=\"dataframe\">\n  <thead>\n    <tr style=\"text-align: right;\">\n      <th></th>\n      <th>Recency</th>\n      <th>Frequency</th>\n      <th>Monetary</th>\n    </tr>\n    <tr>\n      <th>customer_unique_id</th>\n      <th></th>\n      <th></th>\n      <th></th>\n    </tr>\n  </thead>\n  <tbody>\n    <tr>\n      <th>0000366f3b9a7992bf8c76cfdf3221e2</th>\n      <td>100</td>\n      <td>1</td>\n      <td>129.90</td>\n    </tr>\n    <tr>\n      <th>0000b849f77a49e4a4ce2b2a4ca5be3f</th>\n      <td>103</td>\n      <td>1</td>\n      <td>18.90</td>\n    </tr>\n    <tr>\n      <th>0000f46a3911fa3c0805444483337064</th>\n      <td>526</td>\n      <td>1</td>\n      <td>69.00</td>\n    </tr>\n    <tr>\n      <th>0000f6ccb0745a6a4b88665a16c9f078</th>\n      <td>310</td>\n      <td>1</td>\n      <td>25.99</td>\n    </tr>\n    <tr>\n      <th>0004aac84e0df4da2b147fca70cf8255</th>\n      <td>277</td>\n      <td>1</td>\n      <td>180.00</td>\n    </tr>\n    <tr>\n      <th>...</th>\n      <td>...</td>\n      <td>...</td>\n      <td>...</td>\n    </tr>\n    <tr>\n      <th>fffcf5a5ff07b0908bd4e2dbc735a684</th>\n      <td>436</td>\n      <td>1</td>\n      <td>1570.00</td>\n    </tr>\n    <tr>\n      <th>fffea47cd6d3cc0a88bd621562a9d061</th>\n      <td>251</td>\n      <td>1</td>\n      <td>64.89</td>\n    </tr>\n    <tr>\n      <th>ffff371b4d645b6ecea244b27531430a</th>\n      <td>557</td>\n      <td>1</td>\n      <td>89.90</td>\n    </tr>\n    <tr>\n      <th>ffff5962728ec6157033ef9805bacc48</th>\n      <td>108</td>\n      <td>1</td>\n      <td>115.00</td>\n    </tr>\n    <tr>\n      <th>ffffd2657e2aad2907e67c3e9daecbeb</th>\n      <td>473</td>\n      <td>1</td>\n      <td>56.99</td>\n    </tr>\n  </tbody>\n</table>\n<p>94102 rows × 3 columns</p>\n</div>"
     },
     "execution_count": 52,
     "metadata": {},
     "output_type": "execute_result"
    }
   ],
   "source": [
    "dataset_rfm_previous_days"
   ],
   "metadata": {
    "collapsed": false,
    "pycharm": {
     "name": "#%%\n"
    }
   }
  },
  {
   "cell_type": "code",
   "execution_count": 53,
   "outputs": [],
   "source": [],
   "metadata": {
    "collapsed": false,
    "pycharm": {
     "name": "#%%\n"
    }
   }
  },
  {
   "cell_type": "markdown",
   "source": [
    "## II) Simulation"
   ],
   "metadata": {
    "collapsed": false,
    "pycharm": {
     "name": "#%% md\n"
    }
   }
  },
  {
   "cell_type": "markdown",
   "source": [
    "### Simulation 1 : simulation over 6 months"
   ],
   "metadata": {
    "collapsed": false,
    "pycharm": {
     "name": "#%% md\n"
    }
   }
  },
  {
   "cell_type": "markdown",
   "source": [
    "##### Experiment 1 : We create datasets and csv files over 6 months"
   ],
   "metadata": {
    "collapsed": false,
    "pycharm": {
     "name": "#%% md\n"
    }
   }
  },
  {
   "cell_type": "code",
   "execution_count": null,
   "outputs": [],
   "source": [
    "simulate_dataset(data, nb_days=15, nb_periods=21, output_path=experiment_1_path, experiment_nb=1)"
   ],
   "metadata": {
    "collapsed": false,
    "pycharm": {
     "name": "#%%\n"
    }
   }
  },
  {
   "cell_type": "code",
   "execution_count": 54,
   "outputs": [],
   "source": [
    "X_T0 = pd.read_csv(experiment_1_path + \"rfm_T0.csv\").drop(\"customer_unique_id\", axis=1).copy()"
   ],
   "metadata": {
    "collapsed": false,
    "pycharm": {
     "name": "#%%\n"
    }
   }
  },
  {
   "cell_type": "code",
   "execution_count": 55,
   "outputs": [
    {
     "data": {
      "text/plain": "       Recency  Frequency  Monetary\n0          376          1     69.00\n1          160          1     25.99\n2          127          1    180.00\n3           21          1    382.00\n4          382          1    135.00\n...        ...        ...       ...\n61874       84          1    149.00\n61875      286          1   1570.00\n61876      101          1     64.89\n61877      407          1     89.90\n61878      323          1     56.99\n\n[61879 rows x 3 columns]",
      "text/html": "<div>\n<style scoped>\n    .dataframe tbody tr th:only-of-type {\n        vertical-align: middle;\n    }\n\n    .dataframe tbody tr th {\n        vertical-align: top;\n    }\n\n    .dataframe thead th {\n        text-align: right;\n    }\n</style>\n<table border=\"1\" class=\"dataframe\">\n  <thead>\n    <tr style=\"text-align: right;\">\n      <th></th>\n      <th>Recency</th>\n      <th>Frequency</th>\n      <th>Monetary</th>\n    </tr>\n  </thead>\n  <tbody>\n    <tr>\n      <th>0</th>\n      <td>376</td>\n      <td>1</td>\n      <td>69.00</td>\n    </tr>\n    <tr>\n      <th>1</th>\n      <td>160</td>\n      <td>1</td>\n      <td>25.99</td>\n    </tr>\n    <tr>\n      <th>2</th>\n      <td>127</td>\n      <td>1</td>\n      <td>180.00</td>\n    </tr>\n    <tr>\n      <th>3</th>\n      <td>21</td>\n      <td>1</td>\n      <td>382.00</td>\n    </tr>\n    <tr>\n      <th>4</th>\n      <td>382</td>\n      <td>1</td>\n      <td>135.00</td>\n    </tr>\n    <tr>\n      <th>...</th>\n      <td>...</td>\n      <td>...</td>\n      <td>...</td>\n    </tr>\n    <tr>\n      <th>61874</th>\n      <td>84</td>\n      <td>1</td>\n      <td>149.00</td>\n    </tr>\n    <tr>\n      <th>61875</th>\n      <td>286</td>\n      <td>1</td>\n      <td>1570.00</td>\n    </tr>\n    <tr>\n      <th>61876</th>\n      <td>101</td>\n      <td>1</td>\n      <td>64.89</td>\n    </tr>\n    <tr>\n      <th>61877</th>\n      <td>407</td>\n      <td>1</td>\n      <td>89.90</td>\n    </tr>\n    <tr>\n      <th>61878</th>\n      <td>323</td>\n      <td>1</td>\n      <td>56.99</td>\n    </tr>\n  </tbody>\n</table>\n<p>61879 rows × 3 columns</p>\n</div>"
     },
     "execution_count": 55,
     "metadata": {},
     "output_type": "execute_result"
    }
   ],
   "source": [
    "X_T0"
   ],
   "metadata": {
    "collapsed": false,
    "pycharm": {
     "name": "#%%\n"
    }
   }
  },
  {
   "cell_type": "code",
   "execution_count": 56,
   "outputs": [
    {
     "name": "stdout",
     "output_type": "stream",
     "text": [
      "(61879, 3)\n"
     ]
    },
    {
     "data": {
      "text/plain": "        Recency  Frequency  Monetary\n0      1.792358  -0.162458 -0.336535\n1     -0.043041  -0.162458 -0.538719\n2     -0.323450  -0.162458  0.185262\n3     -1.224155  -0.162458  1.134838\n4      1.843341  -0.162458 -0.026277\n...         ...        ...       ...\n61874 -0.688830  -0.162458  0.039535\n61875  1.027608  -0.162458  6.719474\n61876 -0.544377  -0.162458 -0.355855\n61877  2.055771  -0.162458 -0.238286\n61878  1.342005  -0.162458 -0.392992\n\n[61879 rows x 3 columns]",
      "text/html": "<div>\n<style scoped>\n    .dataframe tbody tr th:only-of-type {\n        vertical-align: middle;\n    }\n\n    .dataframe tbody tr th {\n        vertical-align: top;\n    }\n\n    .dataframe thead th {\n        text-align: right;\n    }\n</style>\n<table border=\"1\" class=\"dataframe\">\n  <thead>\n    <tr style=\"text-align: right;\">\n      <th></th>\n      <th>Recency</th>\n      <th>Frequency</th>\n      <th>Monetary</th>\n    </tr>\n  </thead>\n  <tbody>\n    <tr>\n      <th>0</th>\n      <td>1.792358</td>\n      <td>-0.162458</td>\n      <td>-0.336535</td>\n    </tr>\n    <tr>\n      <th>1</th>\n      <td>-0.043041</td>\n      <td>-0.162458</td>\n      <td>-0.538719</td>\n    </tr>\n    <tr>\n      <th>2</th>\n      <td>-0.323450</td>\n      <td>-0.162458</td>\n      <td>0.185262</td>\n    </tr>\n    <tr>\n      <th>3</th>\n      <td>-1.224155</td>\n      <td>-0.162458</td>\n      <td>1.134838</td>\n    </tr>\n    <tr>\n      <th>4</th>\n      <td>1.843341</td>\n      <td>-0.162458</td>\n      <td>-0.026277</td>\n    </tr>\n    <tr>\n      <th>...</th>\n      <td>...</td>\n      <td>...</td>\n      <td>...</td>\n    </tr>\n    <tr>\n      <th>61874</th>\n      <td>-0.688830</td>\n      <td>-0.162458</td>\n      <td>0.039535</td>\n    </tr>\n    <tr>\n      <th>61875</th>\n      <td>1.027608</td>\n      <td>-0.162458</td>\n      <td>6.719474</td>\n    </tr>\n    <tr>\n      <th>61876</th>\n      <td>-0.544377</td>\n      <td>-0.162458</td>\n      <td>-0.355855</td>\n    </tr>\n    <tr>\n      <th>61877</th>\n      <td>2.055771</td>\n      <td>-0.162458</td>\n      <td>-0.238286</td>\n    </tr>\n    <tr>\n      <th>61878</th>\n      <td>1.342005</td>\n      <td>-0.162458</td>\n      <td>-0.392992</td>\n    </tr>\n  </tbody>\n</table>\n<p>61879 rows × 3 columns</p>\n</div>"
     },
     "execution_count": 56,
     "metadata": {},
     "output_type": "execute_result"
    }
   ],
   "source": [
    "scaler = StandardScaler().fit(X_T0[X_T0.columns])\n",
    "\n",
    "X_std_T0 = X_T0.copy()\n",
    "X_std_T0[X_std_T0.columns] = scaler.transform(X_std_T0[X_std_T0.columns])\n",
    "print(X_std_T0.shape)\n",
    "\n",
    "X_std_T0"
   ],
   "metadata": {
    "collapsed": false,
    "pycharm": {
     "name": "#%%\n"
    }
   }
  },
  {
   "cell_type": "markdown",
   "source": [
    "#### PCA"
   ],
   "metadata": {
    "collapsed": false,
    "pycharm": {
     "name": "#%% md\n"
    }
   }
  },
  {
   "cell_type": "code",
   "execution_count": 57,
   "outputs": [
    {
     "name": "stdout",
     "output_type": "stream",
     "text": [
      "[0.36741408 0.70324483]\n"
     ]
    }
   ],
   "source": [
    "from sklearn.decomposition import PCA\n",
    "\n",
    "pca_T0 = PCA(n_components=2, random_state=0)\n",
    "pca_T0.fit(X_std_T0)\n",
    "print(pca_T0.explained_variance_ratio_.cumsum())\n",
    "\n",
    "X_pca_T0 = pca_T0.transform(X_std_T0)"
   ],
   "metadata": {
    "collapsed": false,
    "pycharm": {
     "name": "#%%\n"
    }
   }
  },
  {
   "cell_type": "code",
   "execution_count": 58,
   "outputs": [
    {
     "data": {
      "text/plain": "(-0.7, 0.7)"
     },
     "execution_count": 58,
     "metadata": {},
     "output_type": "execute_result"
    },
    {
     "data": {
      "text/plain": "<Figure size 432x288 with 1 Axes>",
      "image/png": "[encoded data removed]"
     },
     "metadata": {
      "needs_background": "light"
     },
     "output_type": "display_data"
    }
   ],
   "source": [
    "pcs = pca_T0.components_\n",
    "\n",
    "for i, (x, y) in enumerate(zip(pcs[0, :], pcs[1, :])):\n",
    "    # Afficher un segment de l'origine au point (x, y)\n",
    "    plt.plot([0, x], [0, y], color='k')\n",
    "    # Afficher le nom (data.columns[i]) de la performance\n",
    "    plt.text(x, y, X_std_T0.columns[i], fontsize='14')\n",
    "\n",
    "# Afficher une ligne horizontale y=0\n",
    "plt.plot([-0.7, 0.7], [0, 0], color='grey', ls='--')\n",
    "\n",
    "# Afficher une ligne verticale x=0\n",
    "plt.plot([0, 0], [-0.7, 0.7], color='grey', ls='--')\n",
    "\n",
    "plt.xlim([-0.7, 0.7])\n",
    "plt.ylim([-0.7, 0.7])"
   ],
   "metadata": {
    "collapsed": false,
    "pycharm": {
     "name": "#%%\n"
    }
   }
  },
  {
   "cell_type": "markdown",
   "source": [
    "#### K-Means"
   ],
   "metadata": {
    "collapsed": false,
    "pycharm": {
     "name": "#%% md\n"
    }
   }
  },
  {
   "cell_type": "code",
   "execution_count": 59,
   "outputs": [
    {
     "data": {
      "text/plain": "KMeans(n_clusters=5, random_state=0)",
      "text/html": "<style>#sk-container-id-4 {color: black;background-color: white;}#sk-container-id-4 pre{padding: 0;}#sk-container-id-4 div.sk-toggleable {background-color: white;}#sk-container-id-4 label.sk-toggleable__label {cursor: pointer;display: block;width: 100%;margin-bottom: 0;padding: 0.3em;box-sizing: border-box;text-align: center;}#sk-container-id-4 label.sk-toggleable__label-arrow:before {content: \"▸\";float: left;margin-right: 0.25em;color: #696969;}#sk-container-id-4 label.sk-toggleable__label-arrow:hover:before {color: black;}#sk-container-id-4 div.sk-estimator:hover label.sk-toggleable__label-arrow:before {color: black;}#sk-container-id-4 div.sk-toggleable__content {max-height: 0;max-width: 0;overflow: hidden;text-align: left;background-color: #f0f8ff;}#sk-container-id-4 div.sk-toggleable__content pre {margin: 0.2em;color: black;border-radius: 0.25em;background-color: #f0f8ff;}#sk-container-id-4 input.sk-toggleable__control:checked~div.sk-toggleable__content {max-height: 200px;max-width: 100%;overflow: auto;}#sk-container-id-4 input.sk-toggleable__control:checked~label.sk-toggleable__label-arrow:before {content: \"▾\";}#sk-container-id-4 div.sk-estimator input.sk-toggleable__control:checked~label.sk-toggleable__label {background-color: #d4ebff;}#sk-container-id-4 div.sk-label input.sk-toggleable__control:checked~label.sk-toggleable__label {background-color: #d4ebff;}#sk-container-id-4 input.sk-hidden--visually {border: 0;clip: rect(1px 1px 1px 1px);clip: rect(1px, 1px, 1px, 1px);height: 1px;margin: -1px;overflow: hidden;padding: 0;position: absolute;width: 1px;}#sk-container-id-4 div.sk-estimator {font-family: monospace;background-color: #f0f8ff;border: 1px dotted black;border-radius: 0.25em;box-sizing: border-box;margin-bottom: 0.5em;}#sk-container-id-4 div.sk-estimator:hover {background-color: #d4ebff;}#sk-container-id-4 div.sk-parallel-item::after {content: \"\";width: 100%;border-bottom: 1px solid gray;flex-grow: 1;}#sk-container-id-4 div.sk-label:hover label.sk-toggleable__label {background-color: #d4ebff;}#sk-container-id-4 div.sk-serial::before {content: \"\";position: absolute;border-left: 1px solid gray;box-sizing: border-box;top: 0;bottom: 0;left: 50%;z-index: 0;}#sk-container-id-4 div.sk-serial {display: flex;flex-direction: column;align-items: center;background-color: white;padding-right: 0.2em;padding-left: 0.2em;position: relative;}#sk-container-id-4 div.sk-item {position: relative;z-index: 1;}#sk-container-id-4 div.sk-parallel {display: flex;align-items: stretch;justify-content: center;background-color: white;position: relative;}#sk-container-id-4 div.sk-item::before, #sk-container-id-4 div.sk-parallel-item::before {content: \"\";position: absolute;border-left: 1px solid gray;box-sizing: border-box;top: 0;bottom: 0;left: 50%;z-index: -1;}#sk-container-id-4 div.sk-parallel-item {display: flex;flex-direction: column;z-index: 1;position: relative;background-color: white;}#sk-container-id-4 div.sk-parallel-item:first-child::after {align-self: flex-end;width: 50%;}#sk-container-id-4 div.sk-parallel-item:last-child::after {align-self: flex-start;width: 50%;}#sk-container-id-4 div.sk-parallel-item:only-child::after {width: 0;}#sk-container-id-4 div.sk-dashed-wrapped {border: 1px dashed gray;margin: 0 0.4em 0.5em 0.4em;box-sizing: border-box;padding-bottom: 0.4em;background-color: white;}#sk-container-id-4 div.sk-label label {font-family: monospace;font-weight: bold;display: inline-block;line-height: 1.2em;}#sk-container-id-4 div.sk-label-container {text-align: center;}#sk-container-id-4 div.sk-container {/* jupyter's `normalize.less` sets `[hidden] { display: none; }` but bootstrap.min.css set `[hidden] { display: none !important; }` so we also need the `!important` here to be able to override the default hidden behavior on the sphinx rendered scikit-learn.org. See: https://github.com/scikit-learn/scikit-learn/issues/21755 */display: inline-block !important;position: relative;}#sk-container-id-4 div.sk-text-repr-fallback {display: none;}</style><div id=\"sk-container-id-4\" class=\"sk-top-container\"><div class=\"sk-text-repr-fallback\"><pre>KMeans(n_clusters=5, random_state=0)</pre><b>In a Jupyter environment, please rerun this cell to show the HTML representation or trust the notebook. <br />On GitHub, the HTML representation is unable to render, please try loading this page with nbviewer.org.</b></div><div class=\"sk-container\" hidden><div class=\"sk-item\"><div class=\"sk-estimator sk-toggleable\"><input class=\"sk-toggleable__control sk-hidden--visually\" id=\"sk-estimator-id-4\" type=\"checkbox\" checked><label for=\"sk-estimator-id-4\" class=\"sk-toggleable__label sk-toggleable__label-arrow\">KMeans</label><div class=\"sk-toggleable__content\"><pre>KMeans(n_clusters=5, random_state=0)</pre></div></div></div></div></div>"
     },
     "execution_count": 59,
     "metadata": {},
     "output_type": "execute_result"
    }
   ],
   "source": [
    "from sklearn.cluster import KMeans\n",
    "\n",
    "kmeans_cls_T0 = KMeans(n_clusters=5, verbose=0, random_state=0)\n",
    "kmeans_cls_T0.fit(X_std_T0)"
   ],
   "metadata": {
    "collapsed": false,
    "pycharm": {
     "name": "#%%\n"
    }
   }
  },
  {
   "cell_type": "code",
   "execution_count": 60,
   "outputs": [
    {
     "data": {
      "text/plain": "Text(0.5, 1.0, 'Visualizing clusters with PCA')"
     },
     "execution_count": 60,
     "metadata": {},
     "output_type": "execute_result"
    },
    {
     "data": {
      "text/plain": "<Figure size 864x360 with 1 Axes>",
      "image/png": "[encoded data removed]"
     },
     "metadata": {
      "needs_background": "light"
     },
     "output_type": "display_data"
    }
   ],
   "source": [
    "fig = plt.figure(figsize=(12, 5))\n",
    "\n",
    "ax = fig.add_subplot(121) # 1 en ordonnée / 2 en abcs / celle là la premiere\n",
    "ax.scatter(x=X_pca_T0[:, 0], y=X_pca_T0[:, 1], c=kmeans_cls_T0.labels_) # colorier en fct etiquette deu clusterning\n",
    "plt.title(\"Visualizing clusters with PCA\")"
   ],
   "metadata": {
    "collapsed": false,
    "pycharm": {
     "name": "#%%\n"
    }
   }
  },
  {
   "cell_type": "markdown",
   "source": [
    "#### T1 = T0 + 15 days"
   ],
   "metadata": {
    "collapsed": false,
    "pycharm": {
     "name": "#%% md\n"
    }
   }
  },
  {
   "cell_type": "code",
   "execution_count": 61,
   "outputs": [],
   "source": [
    "X_T1 = pd.read_csv(experiment_1_path + \"/rfm_T1.csv\").drop(\"customer_unique_id\", axis=1).copy()"
   ],
   "metadata": {
    "collapsed": false,
    "pycharm": {
     "name": "#%%\n"
    }
   }
  },
  {
   "cell_type": "code",
   "execution_count": 62,
   "outputs": [
    {
     "name": "stdout",
     "output_type": "stream",
     "text": [
      "(65121, 3)\n"
     ]
    }
   ],
   "source": [
    "X_std_T1 = X_T1.copy()\n",
    "scaler = StandardScaler()\n",
    "\n",
    "X_std_T1[X_std_T1.columns] = scaler.fit_transform(X_std_T1)\n",
    "print(X_std_T1.shape)"
   ],
   "metadata": {
    "collapsed": false,
    "pycharm": {
     "name": "#%%\n"
    }
   }
  },
  {
   "cell_type": "code",
   "execution_count": 63,
   "outputs": [
    {
     "data": {
      "text/plain": "KMeans(n_clusters=5, random_state=0)",
      "text/html": "<style>#sk-container-id-5 {color: black;background-color: white;}#sk-container-id-5 pre{padding: 0;}#sk-container-id-5 div.sk-toggleable {background-color: white;}#sk-container-id-5 label.sk-toggleable__label {cursor: pointer;display: block;width: 100%;margin-bottom: 0;padding: 0.3em;box-sizing: border-box;text-align: center;}#sk-container-id-5 label.sk-toggleable__label-arrow:before {content: \"▸\";float: left;margin-right: 0.25em;color: #696969;}#sk-container-id-5 label.sk-toggleable__label-arrow:hover:before {color: black;}#sk-container-id-5 div.sk-estimator:hover label.sk-toggleable__label-arrow:before {color: black;}#sk-container-id-5 div.sk-toggleable__content {max-height: 0;max-width: 0;overflow: hidden;text-align: left;background-color: #f0f8ff;}#sk-container-id-5 div.sk-toggleable__content pre {margin: 0.2em;color: black;border-radius: 0.25em;background-color: #f0f8ff;}#sk-container-id-5 input.sk-toggleable__control:checked~div.sk-toggleable__content {max-height: 200px;max-width: 100%;overflow: auto;}#sk-container-id-5 input.sk-toggleable__control:checked~label.sk-toggleable__label-arrow:before {content: \"▾\";}#sk-container-id-5 div.sk-estimator input.sk-toggleable__control:checked~label.sk-toggleable__label {background-color: #d4ebff;}#sk-container-id-5 div.sk-label input.sk-toggleable__control:checked~label.sk-toggleable__label {background-color: #d4ebff;}#sk-container-id-5 input.sk-hidden--visually {border: 0;clip: rect(1px 1px 1px 1px);clip: rect(1px, 1px, 1px, 1px);height: 1px;margin: -1px;overflow: hidden;padding: 0;position: absolute;width: 1px;}#sk-container-id-5 div.sk-estimator {font-family: monospace;background-color: #f0f8ff;border: 1px dotted black;border-radius: 0.25em;box-sizing: border-box;margin-bottom: 0.5em;}#sk-container-id-5 div.sk-estimator:hover {background-color: #d4ebff;}#sk-container-id-5 div.sk-parallel-item::after {content: \"\";width: 100%;border-bottom: 1px solid gray;flex-grow: 1;}#sk-container-id-5 div.sk-label:hover label.sk-toggleable__label {background-color: #d4ebff;}#sk-container-id-5 div.sk-serial::before {content: \"\";position: absolute;border-left: 1px solid gray;box-sizing: border-box;top: 0;bottom: 0;left: 50%;z-index: 0;}#sk-container-id-5 div.sk-serial {display: flex;flex-direction: column;align-items: center;background-color: white;padding-right: 0.2em;padding-left: 0.2em;position: relative;}#sk-container-id-5 div.sk-item {position: relative;z-index: 1;}#sk-container-id-5 div.sk-parallel {display: flex;align-items: stretch;justify-content: center;background-color: white;position: relative;}#sk-container-id-5 div.sk-item::before, #sk-container-id-5 div.sk-parallel-item::before {content: \"\";position: absolute;border-left: 1px solid gray;box-sizing: border-box;top: 0;bottom: 0;left: 50%;z-index: -1;}#sk-container-id-5 div.sk-parallel-item {display: flex;flex-direction: column;z-index: 1;position: relative;background-color: white;}#sk-container-id-5 div.sk-parallel-item:first-child::after {align-self: flex-end;width: 50%;}#sk-container-id-5 div.sk-parallel-item:last-child::after {align-self: flex-start;width: 50%;}#sk-container-id-5 div.sk-parallel-item:only-child::after {width: 0;}#sk-container-id-5 div.sk-dashed-wrapped {border: 1px dashed gray;margin: 0 0.4em 0.5em 0.4em;box-sizing: border-box;padding-bottom: 0.4em;background-color: white;}#sk-container-id-5 div.sk-label label {font-family: monospace;font-weight: bold;display: inline-block;line-height: 1.2em;}#sk-container-id-5 div.sk-label-container {text-align: center;}#sk-container-id-5 div.sk-container {/* jupyter's `normalize.less` sets `[hidden] { display: none; }` but bootstrap.min.css set `[hidden] { display: none !important; }` so we also need the `!important` here to be able to override the default hidden behavior on the sphinx rendered scikit-learn.org. See: https://github.com/scikit-learn/scikit-learn/issues/21755 */display: inline-block !important;position: relative;}#sk-container-id-5 div.sk-text-repr-fallback {display: none;}</style><div id=\"sk-container-id-5\" class=\"sk-top-container\"><div class=\"sk-text-repr-fallback\"><pre>KMeans(n_clusters=5, random_state=0)</pre><b>In a Jupyter environment, please rerun this cell to show the HTML representation or trust the notebook. <br />On GitHub, the HTML representation is unable to render, please try loading this page with nbviewer.org.</b></div><div class=\"sk-container\" hidden><div class=\"sk-item\"><div class=\"sk-estimator sk-toggleable\"><input class=\"sk-toggleable__control sk-hidden--visually\" id=\"sk-estimator-id-5\" type=\"checkbox\" checked><label for=\"sk-estimator-id-5\" class=\"sk-toggleable__label sk-toggleable__label-arrow\">KMeans</label><div class=\"sk-toggleable__content\"><pre>KMeans(n_clusters=5, random_state=0)</pre></div></div></div></div></div>"
     },
     "execution_count": 63,
     "metadata": {},
     "output_type": "execute_result"
    }
   ],
   "source": [
    "kmeans_cls_T1_new = KMeans(n_clusters=5, verbose=0, random_state=0)\n",
    "kmeans_cls_T1_new.fit(X_std_T1)"
   ],
   "metadata": {
    "collapsed": false,
    "pycharm": {
     "name": "#%%\n"
    }
   }
  },
  {
   "cell_type": "code",
   "execution_count": 64,
   "outputs": [],
   "source": [
    "kmeans_cls_T1_init = kmeans_cls_T0.predict(X_std_T1)"
   ],
   "metadata": {
    "collapsed": false,
    "pycharm": {
     "name": "#%%\n"
    }
   }
  },
  {
   "cell_type": "code",
   "execution_count": 65,
   "outputs": [
    {
     "data": {
      "text/plain": "array([0, 1, 1, ..., 1, 0, 0])"
     },
     "execution_count": 65,
     "metadata": {},
     "output_type": "execute_result"
    }
   ],
   "source": [
    "kmeans_cls_T1_new.labels_"
   ],
   "metadata": {
    "collapsed": false,
    "pycharm": {
     "name": "#%%\n"
    }
   }
  },
  {
   "cell_type": "code",
   "execution_count": 66,
   "outputs": [
    {
     "data": {
      "text/plain": "array([1, 0, 0, ..., 0, 1, 1])"
     },
     "execution_count": 66,
     "metadata": {},
     "output_type": "execute_result"
    }
   ],
   "source": [
    "kmeans_cls_T1_init"
   ],
   "metadata": {
    "collapsed": false,
    "pycharm": {
     "name": "#%%\n"
    }
   }
  },
  {
   "cell_type": "code",
   "execution_count": 67,
   "outputs": [
    {
     "data": {
      "text/plain": "0.9980689030904525"
     },
     "execution_count": 67,
     "metadata": {},
     "output_type": "execute_result"
    }
   ],
   "source": [
    "ARI_T1 = adjusted_rand_score(kmeans_cls_T1_init, kmeans_cls_T1_new.labels_) # Y true labels / pred labels\n",
    "ARI_T1"
   ],
   "metadata": {
    "collapsed": false,
    "pycharm": {
     "name": "#%%\n"
    }
   }
  },
  {
   "cell_type": "markdown",
   "source": [
    "#### Evaluate ARI for all T (all periods)"
   ],
   "metadata": {
    "collapsed": false,
    "pycharm": {
     "name": "#%% md\n"
    }
   }
  },
  {
   "cell_type": "raw",
   "source": [
    "simulation_results[simulation_results.index.duplicated()]"
   ],
   "metadata": {
    "collapsed": false,
    "pycharm": {
     "name": "#%% raw\n"
    }
   }
  },
  {
   "cell_type": "code",
   "execution_count": 68,
   "outputs": [
    {
     "name": "stdout",
     "output_type": "stream",
     "text": [
      "\n",
      "\n",
      "\n",
      "For T = 1\n",
      "(65121, 3)\n",
      "KMeans(n_clusters=5, random_state=0)\n",
      "ARI for T = {}\n"
     ]
    },
    {
     "data": {
      "text/plain": "   T       ARI\n0  1  0.998069",
      "text/html": "<div>\n<style scoped>\n    .dataframe tbody tr th:only-of-type {\n        vertical-align: middle;\n    }\n\n    .dataframe tbody tr th {\n        vertical-align: top;\n    }\n\n    .dataframe thead th {\n        text-align: right;\n    }\n</style>\n<table border=\"1\" class=\"dataframe\">\n  <thead>\n    <tr style=\"text-align: right;\">\n      <th></th>\n      <th>T</th>\n      <th>ARI</th>\n    </tr>\n  </thead>\n  <tbody>\n    <tr>\n      <th>0</th>\n      <td>1</td>\n      <td>0.998069</td>\n    </tr>\n  </tbody>\n</table>\n</div>"
     },
     "metadata": {},
     "output_type": "display_data"
    },
    {
     "name": "stdout",
     "output_type": "stream",
     "text": [
      "\n",
      "\n",
      "\n",
      "For T = 2\n",
      "(68407, 3)\n",
      "KMeans(n_clusters=5, random_state=0)\n",
      "ARI for T = {}\n"
     ]
    },
    {
     "data": {
      "text/plain": "   T       ARI\n0  1  0.998069\n1  2  0.989910",
      "text/html": "<div>\n<style scoped>\n    .dataframe tbody tr th:only-of-type {\n        vertical-align: middle;\n    }\n\n    .dataframe tbody tr th {\n        vertical-align: top;\n    }\n\n    .dataframe thead th {\n        text-align: right;\n    }\n</style>\n<table border=\"1\" class=\"dataframe\">\n  <thead>\n    <tr style=\"text-align: right;\">\n      <th></th>\n      <th>T</th>\n      <th>ARI</th>\n    </tr>\n  </thead>\n  <tbody>\n    <tr>\n      <th>0</th>\n      <td>1</td>\n      <td>0.998069</td>\n    </tr>\n    <tr>\n      <th>1</th>\n      <td>2</td>\n      <td>0.989910</td>\n    </tr>\n  </tbody>\n</table>\n</div>"
     },
     "metadata": {},
     "output_type": "display_data"
    },
    {
     "name": "stdout",
     "output_type": "stream",
     "text": [
      "\n",
      "\n",
      "\n",
      "For T = 3\n",
      "(71881, 3)\n",
      "KMeans(n_clusters=5, random_state=0)\n",
      "ARI for T = {}\n"
     ]
    },
    {
     "data": {
      "text/plain": "   T       ARI\n0  1  0.998069\n1  2  0.989910\n2  3  0.984113",
      "text/html": "<div>\n<style scoped>\n    .dataframe tbody tr th:only-of-type {\n        vertical-align: middle;\n    }\n\n    .dataframe tbody tr th {\n        vertical-align: top;\n    }\n\n    .dataframe thead th {\n        text-align: right;\n    }\n</style>\n<table border=\"1\" class=\"dataframe\">\n  <thead>\n    <tr style=\"text-align: right;\">\n      <th></th>\n      <th>T</th>\n      <th>ARI</th>\n    </tr>\n  </thead>\n  <tbody>\n    <tr>\n      <th>0</th>\n      <td>1</td>\n      <td>0.998069</td>\n    </tr>\n    <tr>\n      <th>1</th>\n      <td>2</td>\n      <td>0.989910</td>\n    </tr>\n    <tr>\n      <th>2</th>\n      <td>3</td>\n      <td>0.984113</td>\n    </tr>\n  </tbody>\n</table>\n</div>"
     },
     "metadata": {},
     "output_type": "display_data"
    },
    {
     "name": "stdout",
     "output_type": "stream",
     "text": [
      "\n",
      "\n",
      "\n",
      "For T = 4\n",
      "(75772, 3)\n",
      "KMeans(n_clusters=5, random_state=0)\n",
      "ARI for T = {}\n"
     ]
    },
    {
     "data": {
      "text/plain": "   T       ARI\n0  1  0.998069\n1  2  0.989910\n2  3  0.984113\n3  4  0.970071",
      "text/html": "<div>\n<style scoped>\n    .dataframe tbody tr th:only-of-type {\n        vertical-align: middle;\n    }\n\n    .dataframe tbody tr th {\n        vertical-align: top;\n    }\n\n    .dataframe thead th {\n        text-align: right;\n    }\n</style>\n<table border=\"1\" class=\"dataframe\">\n  <thead>\n    <tr style=\"text-align: right;\">\n      <th></th>\n      <th>T</th>\n      <th>ARI</th>\n    </tr>\n  </thead>\n  <tbody>\n    <tr>\n      <th>0</th>\n      <td>1</td>\n      <td>0.998069</td>\n    </tr>\n    <tr>\n      <th>1</th>\n      <td>2</td>\n      <td>0.989910</td>\n    </tr>\n    <tr>\n      <th>2</th>\n      <td>3</td>\n      <td>0.984113</td>\n    </tr>\n    <tr>\n      <th>3</th>\n      <td>4</td>\n      <td>0.970071</td>\n    </tr>\n  </tbody>\n</table>\n</div>"
     },
     "metadata": {},
     "output_type": "display_data"
    },
    {
     "name": "stdout",
     "output_type": "stream",
     "text": [
      "\n",
      "\n",
      "\n",
      "For T = 5\n",
      "(77917, 3)\n",
      "KMeans(n_clusters=5, random_state=0)\n",
      "ARI for T = {}\n"
     ]
    },
    {
     "data": {
      "text/plain": "   T       ARI\n0  1  0.998069\n1  2  0.989910\n2  3  0.984113\n3  4  0.970071\n4  5  0.949168",
      "text/html": "<div>\n<style scoped>\n    .dataframe tbody tr th:only-of-type {\n        vertical-align: middle;\n    }\n\n    .dataframe tbody tr th {\n        vertical-align: top;\n    }\n\n    .dataframe thead th {\n        text-align: right;\n    }\n</style>\n<table border=\"1\" class=\"dataframe\">\n  <thead>\n    <tr style=\"text-align: right;\">\n      <th></th>\n      <th>T</th>\n      <th>ARI</th>\n    </tr>\n  </thead>\n  <tbody>\n    <tr>\n      <th>0</th>\n      <td>1</td>\n      <td>0.998069</td>\n    </tr>\n    <tr>\n      <th>1</th>\n      <td>2</td>\n      <td>0.989910</td>\n    </tr>\n    <tr>\n      <th>2</th>\n      <td>3</td>\n      <td>0.984113</td>\n    </tr>\n    <tr>\n      <th>3</th>\n      <td>4</td>\n      <td>0.970071</td>\n    </tr>\n    <tr>\n      <th>4</th>\n      <td>5</td>\n      <td>0.949168</td>\n    </tr>\n  </tbody>\n</table>\n</div>"
     },
     "metadata": {},
     "output_type": "display_data"
    },
    {
     "name": "stdout",
     "output_type": "stream",
     "text": [
      "\n",
      "\n",
      "\n",
      "For T = 6\n",
      "(81013, 3)\n",
      "KMeans(n_clusters=5, random_state=0)\n",
      "ARI for T = {}\n"
     ]
    },
    {
     "data": {
      "text/plain": "   T       ARI\n0  1  0.998069\n1  2  0.989910\n2  3  0.984113\n3  4  0.970071\n5  6  0.965698\n4  5  0.949168",
      "text/html": "<div>\n<style scoped>\n    .dataframe tbody tr th:only-of-type {\n        vertical-align: middle;\n    }\n\n    .dataframe tbody tr th {\n        vertical-align: top;\n    }\n\n    .dataframe thead th {\n        text-align: right;\n    }\n</style>\n<table border=\"1\" class=\"dataframe\">\n  <thead>\n    <tr style=\"text-align: right;\">\n      <th></th>\n      <th>T</th>\n      <th>ARI</th>\n    </tr>\n  </thead>\n  <tbody>\n    <tr>\n      <th>0</th>\n      <td>1</td>\n      <td>0.998069</td>\n    </tr>\n    <tr>\n      <th>1</th>\n      <td>2</td>\n      <td>0.989910</td>\n    </tr>\n    <tr>\n      <th>2</th>\n      <td>3</td>\n      <td>0.984113</td>\n    </tr>\n    <tr>\n      <th>3</th>\n      <td>4</td>\n      <td>0.970071</td>\n    </tr>\n    <tr>\n      <th>5</th>\n      <td>6</td>\n      <td>0.965698</td>\n    </tr>\n    <tr>\n      <th>4</th>\n      <td>5</td>\n      <td>0.949168</td>\n    </tr>\n  </tbody>\n</table>\n</div>"
     },
     "metadata": {},
     "output_type": "display_data"
    },
    {
     "name": "stdout",
     "output_type": "stream",
     "text": [
      "\n",
      "\n",
      "\n",
      "For T = 7\n",
      "(83964, 3)\n",
      "KMeans(n_clusters=5, random_state=0)\n",
      "ARI for T = {}\n"
     ]
    },
    {
     "data": {
      "text/plain": "   T       ARI\n0  1  0.998069\n1  2  0.989910\n2  3  0.984113\n3  4  0.970071\n4  6  0.965698\n6  7  0.964381\n5  5  0.949168",
      "text/html": "<div>\n<style scoped>\n    .dataframe tbody tr th:only-of-type {\n        vertical-align: middle;\n    }\n\n    .dataframe tbody tr th {\n        vertical-align: top;\n    }\n\n    .dataframe thead th {\n        text-align: right;\n    }\n</style>\n<table border=\"1\" class=\"dataframe\">\n  <thead>\n    <tr style=\"text-align: right;\">\n      <th></th>\n      <th>T</th>\n      <th>ARI</th>\n    </tr>\n  </thead>\n  <tbody>\n    <tr>\n      <th>0</th>\n      <td>1</td>\n      <td>0.998069</td>\n    </tr>\n    <tr>\n      <th>1</th>\n      <td>2</td>\n      <td>0.989910</td>\n    </tr>\n    <tr>\n      <th>2</th>\n      <td>3</td>\n      <td>0.984113</td>\n    </tr>\n    <tr>\n      <th>3</th>\n      <td>4</td>\n      <td>0.970071</td>\n    </tr>\n    <tr>\n      <th>4</th>\n      <td>6</td>\n      <td>0.965698</td>\n    </tr>\n    <tr>\n      <th>6</th>\n      <td>7</td>\n      <td>0.964381</td>\n    </tr>\n    <tr>\n      <th>5</th>\n      <td>5</td>\n      <td>0.949168</td>\n    </tr>\n  </tbody>\n</table>\n</div>"
     },
     "metadata": {},
     "output_type": "display_data"
    },
    {
     "name": "stdout",
     "output_type": "stream",
     "text": [
      "\n",
      "\n",
      "\n",
      "For T = 8\n",
      "(86403, 3)\n",
      "KMeans(n_clusters=5, random_state=0)\n",
      "ARI for T = {}\n"
     ]
    },
    {
     "data": {
      "text/plain": "   T       ARI\n0  1  0.998069\n1  2  0.989910\n2  3  0.984113\n3  4  0.970071\n4  6  0.965698\n5  7  0.964381\n7  8  0.957650\n6  5  0.949168",
      "text/html": "<div>\n<style scoped>\n    .dataframe tbody tr th:only-of-type {\n        vertical-align: middle;\n    }\n\n    .dataframe tbody tr th {\n        vertical-align: top;\n    }\n\n    .dataframe thead th {\n        text-align: right;\n    }\n</style>\n<table border=\"1\" class=\"dataframe\">\n  <thead>\n    <tr style=\"text-align: right;\">\n      <th></th>\n      <th>T</th>\n      <th>ARI</th>\n    </tr>\n  </thead>\n  <tbody>\n    <tr>\n      <th>0</th>\n      <td>1</td>\n      <td>0.998069</td>\n    </tr>\n    <tr>\n      <th>1</th>\n      <td>2</td>\n      <td>0.989910</td>\n    </tr>\n    <tr>\n      <th>2</th>\n      <td>3</td>\n      <td>0.984113</td>\n    </tr>\n    <tr>\n      <th>3</th>\n      <td>4</td>\n      <td>0.970071</td>\n    </tr>\n    <tr>\n      <th>4</th>\n      <td>6</td>\n      <td>0.965698</td>\n    </tr>\n    <tr>\n      <th>5</th>\n      <td>7</td>\n      <td>0.964381</td>\n    </tr>\n    <tr>\n      <th>7</th>\n      <td>8</td>\n      <td>0.957650</td>\n    </tr>\n    <tr>\n      <th>6</th>\n      <td>5</td>\n      <td>0.949168</td>\n    </tr>\n  </tbody>\n</table>\n</div>"
     },
     "metadata": {},
     "output_type": "display_data"
    },
    {
     "name": "stdout",
     "output_type": "stream",
     "text": [
      "\n",
      "\n",
      "\n",
      "For T = 9\n",
      "(90092, 3)\n",
      "KMeans(n_clusters=5, random_state=0)\n",
      "ARI for T = {}\n"
     ]
    },
    {
     "data": {
      "text/plain": "   T       ARI\n0  1  0.998069\n1  2  0.989910\n2  3  0.984113\n3  4  0.970071\n4  6  0.965698\n5  7  0.964381\n6  8  0.957650\n8  9  0.950093\n7  5  0.949168",
      "text/html": "<div>\n<style scoped>\n    .dataframe tbody tr th:only-of-type {\n        vertical-align: middle;\n    }\n\n    .dataframe tbody tr th {\n        vertical-align: top;\n    }\n\n    .dataframe thead th {\n        text-align: right;\n    }\n</style>\n<table border=\"1\" class=\"dataframe\">\n  <thead>\n    <tr style=\"text-align: right;\">\n      <th></th>\n      <th>T</th>\n      <th>ARI</th>\n    </tr>\n  </thead>\n  <tbody>\n    <tr>\n      <th>0</th>\n      <td>1</td>\n      <td>0.998069</td>\n    </tr>\n    <tr>\n      <th>1</th>\n      <td>2</td>\n      <td>0.989910</td>\n    </tr>\n    <tr>\n      <th>2</th>\n      <td>3</td>\n      <td>0.984113</td>\n    </tr>\n    <tr>\n      <th>3</th>\n      <td>4</td>\n      <td>0.970071</td>\n    </tr>\n    <tr>\n      <th>4</th>\n      <td>6</td>\n      <td>0.965698</td>\n    </tr>\n    <tr>\n      <th>5</th>\n      <td>7</td>\n      <td>0.964381</td>\n    </tr>\n    <tr>\n      <th>6</th>\n      <td>8</td>\n      <td>0.957650</td>\n    </tr>\n    <tr>\n      <th>8</th>\n      <td>9</td>\n      <td>0.950093</td>\n    </tr>\n    <tr>\n      <th>7</th>\n      <td>5</td>\n      <td>0.949168</td>\n    </tr>\n  </tbody>\n</table>\n</div>"
     },
     "metadata": {},
     "output_type": "display_data"
    },
    {
     "name": "stdout",
     "output_type": "stream",
     "text": [
      "\n",
      "\n",
      "\n",
      "For T = 10\n",
      "(94102, 3)\n",
      "KMeans(n_clusters=5, random_state=0)\n",
      "ARI for T = {}\n"
     ]
    },
    {
     "data": {
      "text/plain": "    T       ARI\n0   1  0.998069\n1   2  0.989910\n2   3  0.984113\n3   4  0.970071\n4   6  0.965698\n5   7  0.964381\n6   8  0.957650\n7   9  0.950093\n8   5  0.949168\n9  10  0.402358",
      "text/html": "<div>\n<style scoped>\n    .dataframe tbody tr th:only-of-type {\n        vertical-align: middle;\n    }\n\n    .dataframe tbody tr th {\n        vertical-align: top;\n    }\n\n    .dataframe thead th {\n        text-align: right;\n    }\n</style>\n<table border=\"1\" class=\"dataframe\">\n  <thead>\n    <tr style=\"text-align: right;\">\n      <th></th>\n      <th>T</th>\n      <th>ARI</th>\n    </tr>\n  </thead>\n  <tbody>\n    <tr>\n      <th>0</th>\n      <td>1</td>\n      <td>0.998069</td>\n    </tr>\n    <tr>\n      <th>1</th>\n      <td>2</td>\n      <td>0.989910</td>\n    </tr>\n    <tr>\n      <th>2</th>\n      <td>3</td>\n      <td>0.984113</td>\n    </tr>\n    <tr>\n      <th>3</th>\n      <td>4</td>\n      <td>0.970071</td>\n    </tr>\n    <tr>\n      <th>4</th>\n      <td>6</td>\n      <td>0.965698</td>\n    </tr>\n    <tr>\n      <th>5</th>\n      <td>7</td>\n      <td>0.964381</td>\n    </tr>\n    <tr>\n      <th>6</th>\n      <td>8</td>\n      <td>0.957650</td>\n    </tr>\n    <tr>\n      <th>7</th>\n      <td>9</td>\n      <td>0.950093</td>\n    </tr>\n    <tr>\n      <th>8</th>\n      <td>5</td>\n      <td>0.949168</td>\n    </tr>\n    <tr>\n      <th>9</th>\n      <td>10</td>\n      <td>0.402358</td>\n    </tr>\n  </tbody>\n</table>\n</div>"
     },
     "metadata": {},
     "output_type": "display_data"
    },
    {
     "name": "stdout",
     "output_type": "stream",
     "text": [
      "\n",
      "\n",
      "\n",
      "For T = 11\n",
      "(95420, 3)\n",
      "KMeans(n_clusters=5, random_state=0)\n",
      "ARI for T = {}\n"
     ]
    },
    {
     "data": {
      "text/plain": "     T       ARI\n0    1  0.998069\n1    2  0.989910\n2    3  0.984113\n3    4  0.970071\n4    6  0.965698\n5    7  0.964381\n6    8  0.957650\n7    9  0.950093\n8    5  0.949168\n10  11  0.403006\n9   10  0.402358",
      "text/html": "<div>\n<style scoped>\n    .dataframe tbody tr th:only-of-type {\n        vertical-align: middle;\n    }\n\n    .dataframe tbody tr th {\n        vertical-align: top;\n    }\n\n    .dataframe thead th {\n        text-align: right;\n    }\n</style>\n<table border=\"1\" class=\"dataframe\">\n  <thead>\n    <tr style=\"text-align: right;\">\n      <th></th>\n      <th>T</th>\n      <th>ARI</th>\n    </tr>\n  </thead>\n  <tbody>\n    <tr>\n      <th>0</th>\n      <td>1</td>\n      <td>0.998069</td>\n    </tr>\n    <tr>\n      <th>1</th>\n      <td>2</td>\n      <td>0.989910</td>\n    </tr>\n    <tr>\n      <th>2</th>\n      <td>3</td>\n      <td>0.984113</td>\n    </tr>\n    <tr>\n      <th>3</th>\n      <td>4</td>\n      <td>0.970071</td>\n    </tr>\n    <tr>\n      <th>4</th>\n      <td>6</td>\n      <td>0.965698</td>\n    </tr>\n    <tr>\n      <th>5</th>\n      <td>7</td>\n      <td>0.964381</td>\n    </tr>\n    <tr>\n      <th>6</th>\n      <td>8</td>\n      <td>0.957650</td>\n    </tr>\n    <tr>\n      <th>7</th>\n      <td>9</td>\n      <td>0.950093</td>\n    </tr>\n    <tr>\n      <th>8</th>\n      <td>5</td>\n      <td>0.949168</td>\n    </tr>\n    <tr>\n      <th>10</th>\n      <td>11</td>\n      <td>0.403006</td>\n    </tr>\n    <tr>\n      <th>9</th>\n      <td>10</td>\n      <td>0.402358</td>\n    </tr>\n  </tbody>\n</table>\n</div>"
     },
     "metadata": {},
     "output_type": "display_data"
    }
   ],
   "source": [
    "simulation_results_exp_1 = pd.DataFrame({})\n",
    "simulation_results_exp_1 = run_simulation(nb_periods=11, kmeans_cls_T0=kmeans_cls_T0, results=simulation_results_exp_1, experiment_nb=1)"
   ],
   "metadata": {
    "collapsed": false,
    "pycharm": {
     "name": "#%%\n"
    }
   }
  },
  {
   "cell_type": "code",
   "execution_count": 69,
   "outputs": [
    {
     "data": {
      "text/plain": "     T       ARI\n0    1  0.998069\n1    2  0.989910\n2    3  0.984113\n3    4  0.970071\n4    6  0.965698\n5    7  0.964381\n6    8  0.957650\n7    9  0.950093\n8    5  0.949168\n10  11  0.403006\n9   10  0.402358",
      "text/html": "<div>\n<style scoped>\n    .dataframe tbody tr th:only-of-type {\n        vertical-align: middle;\n    }\n\n    .dataframe tbody tr th {\n        vertical-align: top;\n    }\n\n    .dataframe thead th {\n        text-align: right;\n    }\n</style>\n<table border=\"1\" class=\"dataframe\">\n  <thead>\n    <tr style=\"text-align: right;\">\n      <th></th>\n      <th>T</th>\n      <th>ARI</th>\n    </tr>\n  </thead>\n  <tbody>\n    <tr>\n      <th>0</th>\n      <td>1</td>\n      <td>0.998069</td>\n    </tr>\n    <tr>\n      <th>1</th>\n      <td>2</td>\n      <td>0.989910</td>\n    </tr>\n    <tr>\n      <th>2</th>\n      <td>3</td>\n      <td>0.984113</td>\n    </tr>\n    <tr>\n      <th>3</th>\n      <td>4</td>\n      <td>0.970071</td>\n    </tr>\n    <tr>\n      <th>4</th>\n      <td>6</td>\n      <td>0.965698</td>\n    </tr>\n    <tr>\n      <th>5</th>\n      <td>7</td>\n      <td>0.964381</td>\n    </tr>\n    <tr>\n      <th>6</th>\n      <td>8</td>\n      <td>0.957650</td>\n    </tr>\n    <tr>\n      <th>7</th>\n      <td>9</td>\n      <td>0.950093</td>\n    </tr>\n    <tr>\n      <th>8</th>\n      <td>5</td>\n      <td>0.949168</td>\n    </tr>\n    <tr>\n      <th>10</th>\n      <td>11</td>\n      <td>0.403006</td>\n    </tr>\n    <tr>\n      <th>9</th>\n      <td>10</td>\n      <td>0.402358</td>\n    </tr>\n  </tbody>\n</table>\n</div>"
     },
     "execution_count": 69,
     "metadata": {},
     "output_type": "execute_result"
    }
   ],
   "source": [
    "simulation_results_exp_1"
   ],
   "metadata": {
    "collapsed": false,
    "pycharm": {
     "name": "#%%\n"
    }
   }
  },
  {
   "cell_type": "code",
   "execution_count": 70,
   "outputs": [
    {
     "data": {
      "text/plain": "(0.5, 11.5, 0.37257281122877145, 1.027854431274342)"
     },
     "execution_count": 70,
     "metadata": {},
     "output_type": "execute_result"
    },
    {
     "data": {
      "text/plain": "<Figure size 432x288 with 1 Axes>",
      "image/png": "[encoded data removed]"
     },
     "metadata": {
      "needs_background": "light"
     },
     "output_type": "display_data"
    }
   ],
   "source": [
    "sns.lineplot(data=simulation_results_exp_1, x=\"T\", y=\"ARI\")\n",
    "# specifying horizontal line type\n",
    "plt.axhline(y=0.8, color='r', linestyle='-')\n",
    "\n",
    "plt.xlabel('The simulation period T, if T = 1, then we added {} days to T0.'.format(15))\n",
    "plt.ylabel('ARI score')\n",
    "plt.title('ARI score as a function of the simulation period')\n",
    "plt.axis('tight')"
   ],
   "metadata": {
    "collapsed": false,
    "pycharm": {
     "name": "#%%\n"
    }
   }
  },
  {
   "cell_type": "markdown",
   "source": [
    "### Simulation 2 : we take a period closer to the max purchase order date"
   ],
   "metadata": {
    "collapsed": false,
    "pycharm": {
     "name": "#%% md\n"
    }
   }
  },
  {
   "cell_type": "code",
   "execution_count": 71,
   "outputs": [],
   "source": [
    "#T = 10 == un mois avant\n",
    "nb_periods = 8 # deux mois avant\n",
    "n_days = 7"
   ],
   "metadata": {
    "collapsed": false,
    "pycharm": {
     "name": "#%%\n"
    }
   }
  },
  {
   "cell_type": "code",
   "execution_count": 72,
   "outputs": [
    {
     "name": "stdout",
     "output_type": "stream",
     "text": [
      "\n",
      "\n",
      "\n",
      "Step : 1 Maximum order purchase date : 2018-07-09 09:06:57\n",
      "Verification of the filter : 2018-07-09 09:06:51\n",
      "This dataset has 84460 unique clients\n",
      "\n",
      "\n",
      "\n",
      "Step : 2 Maximum order purchase date : 2018-07-16 09:06:57\n",
      "Verification of the filter : 2018-07-16 09:04:15\n",
      "This dataset has 85421 unique clients\n",
      "\n",
      "\n",
      "\n",
      "Step : 3 Maximum order purchase date : 2018-07-23 09:06:57\n",
      "Verification of the filter : 2018-07-23 09:02:12\n",
      "This dataset has 87030 unique clients\n",
      "\n",
      "\n",
      "\n",
      "Step : 4 Maximum order purchase date : 2018-07-30 09:06:57\n",
      "Verification of the filter : 2018-07-30 08:55:37\n",
      "This dataset has 88614 unique clients\n",
      "\n",
      "\n",
      "\n",
      "Step : 5 Maximum order purchase date : 2018-08-06 09:06:57\n",
      "Verification of the filter : 2018-08-06 08:58:54\n",
      "This dataset has 90601 unique clients\n",
      "\n",
      "\n",
      "\n",
      "Step : 6 Maximum order purchase date : 2018-08-13 09:06:57\n",
      "Verification of the filter : 2018-08-13 09:04:32\n",
      "This dataset has 92516 unique clients\n",
      "\n",
      "\n",
      "\n",
      "Step : 7 Maximum order purchase date : 2018-08-20 09:06:57\n",
      "Verification of the filter : 2018-08-20 09:05:16\n",
      "This dataset has 94311 unique clients\n",
      "\n",
      "\n",
      "\n",
      "Step : 8 Maximum order purchase date : 2018-08-27 09:06:57\n",
      "Verification of the filter : 2018-08-27 08:56:49\n",
      "This dataset has 95314 unique clients\n",
      "\n",
      "\n",
      "\n",
      "Step : 9 Maximum order purchase date : 2018-09-03 09:06:57\n",
      "Verification of the filter : 2018-09-03 09:06:57\n",
      "This dataset has 95420 unique clients\n"
     ]
    }
   ],
   "source": [
    "simulate_dataset(data, nb_days=7, nb_periods=8, output_path=experiment_2_path, experiment_nb=2)"
   ],
   "metadata": {
    "collapsed": false,
    "pycharm": {
     "name": "#%%\n"
    }
   }
  },
  {
   "cell_type": "code",
   "execution_count": 73,
   "outputs": [
    {
     "name": "stdout",
     "output_type": "stream",
     "text": [
      "(84460, 3)\n"
     ]
    }
   ],
   "source": [
    "X_T0_exp_2 = pd.read_csv(experiment_2_path + \"rfm_T0.csv\").drop(\"customer_unique_id\", axis=1).copy()\n",
    "\n",
    "scaler = StandardScaler().fit(X_T0_exp_2[X_T0_exp_2.columns])\n",
    "\n",
    "X_std_T0_exp_2 = X_T0_exp_2.copy()\n",
    "X_std_T0_exp_2[X_std_T0_exp_2.columns] = scaler.transform(X_std_T0_exp_2[X_std_T0_exp_2.columns])\n",
    "print(X_std_T0_exp_2.shape)"
   ],
   "metadata": {
    "collapsed": false,
    "pycharm": {
     "name": "#%%\n"
    }
   }
  },
  {
   "cell_type": "code",
   "execution_count": 74,
   "outputs": [
    {
     "data": {
      "text/plain": "KMeans(n_clusters=5, random_state=0)",
      "text/html": "<style>#sk-container-id-6 {color: black;background-color: white;}#sk-container-id-6 pre{padding: 0;}#sk-container-id-6 div.sk-toggleable {background-color: white;}#sk-container-id-6 label.sk-toggleable__label {cursor: pointer;display: block;width: 100%;margin-bottom: 0;padding: 0.3em;box-sizing: border-box;text-align: center;}#sk-container-id-6 label.sk-toggleable__label-arrow:before {content: \"▸\";float: left;margin-right: 0.25em;color: #696969;}#sk-container-id-6 label.sk-toggleable__label-arrow:hover:before {color: black;}#sk-container-id-6 div.sk-estimator:hover label.sk-toggleable__label-arrow:before {color: black;}#sk-container-id-6 div.sk-toggleable__content {max-height: 0;max-width: 0;overflow: hidden;text-align: left;background-color: #f0f8ff;}#sk-container-id-6 div.sk-toggleable__content pre {margin: 0.2em;color: black;border-radius: 0.25em;background-color: #f0f8ff;}#sk-container-id-6 input.sk-toggleable__control:checked~div.sk-toggleable__content {max-height: 200px;max-width: 100%;overflow: auto;}#sk-container-id-6 input.sk-toggleable__control:checked~label.sk-toggleable__label-arrow:before {content: \"▾\";}#sk-container-id-6 div.sk-estimator input.sk-toggleable__control:checked~label.sk-toggleable__label {background-color: #d4ebff;}#sk-container-id-6 div.sk-label input.sk-toggleable__control:checked~label.sk-toggleable__label {background-color: #d4ebff;}#sk-container-id-6 input.sk-hidden--visually {border: 0;clip: rect(1px 1px 1px 1px);clip: rect(1px, 1px, 1px, 1px);height: 1px;margin: -1px;overflow: hidden;padding: 0;position: absolute;width: 1px;}#sk-container-id-6 div.sk-estimator {font-family: monospace;background-color: #f0f8ff;border: 1px dotted black;border-radius: 0.25em;box-sizing: border-box;margin-bottom: 0.5em;}#sk-container-id-6 div.sk-estimator:hover {background-color: #d4ebff;}#sk-container-id-6 div.sk-parallel-item::after {content: \"\";width: 100%;border-bottom: 1px solid gray;flex-grow: 1;}#sk-container-id-6 div.sk-label:hover label.sk-toggleable__label {background-color: #d4ebff;}#sk-container-id-6 div.sk-serial::before {content: \"\";position: absolute;border-left: 1px solid gray;box-sizing: border-box;top: 0;bottom: 0;left: 50%;z-index: 0;}#sk-container-id-6 div.sk-serial {display: flex;flex-direction: column;align-items: center;background-color: white;padding-right: 0.2em;padding-left: 0.2em;position: relative;}#sk-container-id-6 div.sk-item {position: relative;z-index: 1;}#sk-container-id-6 div.sk-parallel {display: flex;align-items: stretch;justify-content: center;background-color: white;position: relative;}#sk-container-id-6 div.sk-item::before, #sk-container-id-6 div.sk-parallel-item::before {content: \"\";position: absolute;border-left: 1px solid gray;box-sizing: border-box;top: 0;bottom: 0;left: 50%;z-index: -1;}#sk-container-id-6 div.sk-parallel-item {display: flex;flex-direction: column;z-index: 1;position: relative;background-color: white;}#sk-container-id-6 div.sk-parallel-item:first-child::after {align-self: flex-end;width: 50%;}#sk-container-id-6 div.sk-parallel-item:last-child::after {align-self: flex-start;width: 50%;}#sk-container-id-6 div.sk-parallel-item:only-child::after {width: 0;}#sk-container-id-6 div.sk-dashed-wrapped {border: 1px dashed gray;margin: 0 0.4em 0.5em 0.4em;box-sizing: border-box;padding-bottom: 0.4em;background-color: white;}#sk-container-id-6 div.sk-label label {font-family: monospace;font-weight: bold;display: inline-block;line-height: 1.2em;}#sk-container-id-6 div.sk-label-container {text-align: center;}#sk-container-id-6 div.sk-container {/* jupyter's `normalize.less` sets `[hidden] { display: none; }` but bootstrap.min.css set `[hidden] { display: none !important; }` so we also need the `!important` here to be able to override the default hidden behavior on the sphinx rendered scikit-learn.org. See: https://github.com/scikit-learn/scikit-learn/issues/21755 */display: inline-block !important;position: relative;}#sk-container-id-6 div.sk-text-repr-fallback {display: none;}</style><div id=\"sk-container-id-6\" class=\"sk-top-container\"><div class=\"sk-text-repr-fallback\"><pre>KMeans(n_clusters=5, random_state=0)</pre><b>In a Jupyter environment, please rerun this cell to show the HTML representation or trust the notebook. <br />On GitHub, the HTML representation is unable to render, please try loading this page with nbviewer.org.</b></div><div class=\"sk-container\" hidden><div class=\"sk-item\"><div class=\"sk-estimator sk-toggleable\"><input class=\"sk-toggleable__control sk-hidden--visually\" id=\"sk-estimator-id-6\" type=\"checkbox\" checked><label for=\"sk-estimator-id-6\" class=\"sk-toggleable__label sk-toggleable__label-arrow\">KMeans</label><div class=\"sk-toggleable__content\"><pre>KMeans(n_clusters=5, random_state=0)</pre></div></div></div></div></div>"
     },
     "execution_count": 74,
     "metadata": {},
     "output_type": "execute_result"
    }
   ],
   "source": [
    "kmeans_cls_T0_exp_2 = KMeans(n_clusters=5, verbose=0, random_state=0)\n",
    "kmeans_cls_T0_exp_2.fit(X_std_T0_exp_2)"
   ],
   "metadata": {
    "collapsed": false,
    "pycharm": {
     "name": "#%%\n"
    }
   }
  },
  {
   "cell_type": "code",
   "execution_count": 75,
   "outputs": [
    {
     "name": "stdout",
     "output_type": "stream",
     "text": [
      "\n",
      "\n",
      "\n",
      "For T = 1\n",
      "(85421, 3)\n",
      "KMeans(n_clusters=5, random_state=0)\n",
      "ARI for T = {}\n"
     ]
    },
    {
     "data": {
      "text/plain": "   T       ARI\n0  1  0.987714",
      "text/html": "<div>\n<style scoped>\n    .dataframe tbody tr th:only-of-type {\n        vertical-align: middle;\n    }\n\n    .dataframe tbody tr th {\n        vertical-align: top;\n    }\n\n    .dataframe thead th {\n        text-align: right;\n    }\n</style>\n<table border=\"1\" class=\"dataframe\">\n  <thead>\n    <tr style=\"text-align: right;\">\n      <th></th>\n      <th>T</th>\n      <th>ARI</th>\n    </tr>\n  </thead>\n  <tbody>\n    <tr>\n      <th>0</th>\n      <td>1</td>\n      <td>0.987714</td>\n    </tr>\n  </tbody>\n</table>\n</div>"
     },
     "metadata": {},
     "output_type": "display_data"
    },
    {
     "name": "stdout",
     "output_type": "stream",
     "text": [
      "\n",
      "\n",
      "\n",
      "For T = 2\n",
      "(87030, 3)\n",
      "KMeans(n_clusters=5, random_state=0)\n",
      "ARI for T = {}\n"
     ]
    },
    {
     "data": {
      "text/plain": "   T       ARI\n0  1  0.987714\n1  2  0.984272",
      "text/html": "<div>\n<style scoped>\n    .dataframe tbody tr th:only-of-type {\n        vertical-align: middle;\n    }\n\n    .dataframe tbody tr th {\n        vertical-align: top;\n    }\n\n    .dataframe thead th {\n        text-align: right;\n    }\n</style>\n<table border=\"1\" class=\"dataframe\">\n  <thead>\n    <tr style=\"text-align: right;\">\n      <th></th>\n      <th>T</th>\n      <th>ARI</th>\n    </tr>\n  </thead>\n  <tbody>\n    <tr>\n      <th>0</th>\n      <td>1</td>\n      <td>0.987714</td>\n    </tr>\n    <tr>\n      <th>1</th>\n      <td>2</td>\n      <td>0.984272</td>\n    </tr>\n  </tbody>\n</table>\n</div>"
     },
     "metadata": {},
     "output_type": "display_data"
    },
    {
     "name": "stdout",
     "output_type": "stream",
     "text": [
      "\n",
      "\n",
      "\n",
      "For T = 3\n",
      "(88614, 3)\n",
      "KMeans(n_clusters=5, random_state=0)\n",
      "ARI for T = {}\n"
     ]
    },
    {
     "data": {
      "text/plain": "   T       ARI\n0  1  0.987714\n1  2  0.984272\n2  3  0.983101",
      "text/html": "<div>\n<style scoped>\n    .dataframe tbody tr th:only-of-type {\n        vertical-align: middle;\n    }\n\n    .dataframe tbody tr th {\n        vertical-align: top;\n    }\n\n    .dataframe thead th {\n        text-align: right;\n    }\n</style>\n<table border=\"1\" class=\"dataframe\">\n  <thead>\n    <tr style=\"text-align: right;\">\n      <th></th>\n      <th>T</th>\n      <th>ARI</th>\n    </tr>\n  </thead>\n  <tbody>\n    <tr>\n      <th>0</th>\n      <td>1</td>\n      <td>0.987714</td>\n    </tr>\n    <tr>\n      <th>1</th>\n      <td>2</td>\n      <td>0.984272</td>\n    </tr>\n    <tr>\n      <th>2</th>\n      <td>3</td>\n      <td>0.983101</td>\n    </tr>\n  </tbody>\n</table>\n</div>"
     },
     "metadata": {},
     "output_type": "display_data"
    },
    {
     "name": "stdout",
     "output_type": "stream",
     "text": [
      "\n",
      "\n",
      "\n",
      "For T = 4\n",
      "(90601, 3)\n",
      "KMeans(n_clusters=5, random_state=0)\n",
      "ARI for T = {}\n"
     ]
    },
    {
     "data": {
      "text/plain": "   T       ARI\n0  1  0.987714\n3  4  0.987084\n1  2  0.984272\n2  3  0.983101",
      "text/html": "<div>\n<style scoped>\n    .dataframe tbody tr th:only-of-type {\n        vertical-align: middle;\n    }\n\n    .dataframe tbody tr th {\n        vertical-align: top;\n    }\n\n    .dataframe thead th {\n        text-align: right;\n    }\n</style>\n<table border=\"1\" class=\"dataframe\">\n  <thead>\n    <tr style=\"text-align: right;\">\n      <th></th>\n      <th>T</th>\n      <th>ARI</th>\n    </tr>\n  </thead>\n  <tbody>\n    <tr>\n      <th>0</th>\n      <td>1</td>\n      <td>0.987714</td>\n    </tr>\n    <tr>\n      <th>3</th>\n      <td>4</td>\n      <td>0.987084</td>\n    </tr>\n    <tr>\n      <th>1</th>\n      <td>2</td>\n      <td>0.984272</td>\n    </tr>\n    <tr>\n      <th>2</th>\n      <td>3</td>\n      <td>0.983101</td>\n    </tr>\n  </tbody>\n</table>\n</div>"
     },
     "metadata": {},
     "output_type": "display_data"
    },
    {
     "name": "stdout",
     "output_type": "stream",
     "text": [
      "\n",
      "\n",
      "\n",
      "For T = 5\n",
      "(92516, 3)\n",
      "KMeans(n_clusters=5, random_state=0)\n",
      "ARI for T = {}\n"
     ]
    },
    {
     "data": {
      "text/plain": "   T       ARI\n0  1  0.987714\n1  4  0.987084\n2  2  0.984272\n3  3  0.983101\n4  5  0.412848",
      "text/html": "<div>\n<style scoped>\n    .dataframe tbody tr th:only-of-type {\n        vertical-align: middle;\n    }\n\n    .dataframe tbody tr th {\n        vertical-align: top;\n    }\n\n    .dataframe thead th {\n        text-align: right;\n    }\n</style>\n<table border=\"1\" class=\"dataframe\">\n  <thead>\n    <tr style=\"text-align: right;\">\n      <th></th>\n      <th>T</th>\n      <th>ARI</th>\n    </tr>\n  </thead>\n  <tbody>\n    <tr>\n      <th>0</th>\n      <td>1</td>\n      <td>0.987714</td>\n    </tr>\n    <tr>\n      <th>1</th>\n      <td>4</td>\n      <td>0.987084</td>\n    </tr>\n    <tr>\n      <th>2</th>\n      <td>2</td>\n      <td>0.984272</td>\n    </tr>\n    <tr>\n      <th>3</th>\n      <td>3</td>\n      <td>0.983101</td>\n    </tr>\n    <tr>\n      <th>4</th>\n      <td>5</td>\n      <td>0.412848</td>\n    </tr>\n  </tbody>\n</table>\n</div>"
     },
     "metadata": {},
     "output_type": "display_data"
    },
    {
     "name": "stdout",
     "output_type": "stream",
     "text": [
      "\n",
      "\n",
      "\n",
      "For T = 6\n",
      "(94311, 3)\n",
      "KMeans(n_clusters=5, random_state=0)\n",
      "ARI for T = {}\n"
     ]
    },
    {
     "data": {
      "text/plain": "   T       ARI\n0  1  0.987714\n1  4  0.987084\n2  2  0.984272\n3  3  0.983101\n4  5  0.412848\n5  6  0.409430",
      "text/html": "<div>\n<style scoped>\n    .dataframe tbody tr th:only-of-type {\n        vertical-align: middle;\n    }\n\n    .dataframe tbody tr th {\n        vertical-align: top;\n    }\n\n    .dataframe thead th {\n        text-align: right;\n    }\n</style>\n<table border=\"1\" class=\"dataframe\">\n  <thead>\n    <tr style=\"text-align: right;\">\n      <th></th>\n      <th>T</th>\n      <th>ARI</th>\n    </tr>\n  </thead>\n  <tbody>\n    <tr>\n      <th>0</th>\n      <td>1</td>\n      <td>0.987714</td>\n    </tr>\n    <tr>\n      <th>1</th>\n      <td>4</td>\n      <td>0.987084</td>\n    </tr>\n    <tr>\n      <th>2</th>\n      <td>2</td>\n      <td>0.984272</td>\n    </tr>\n    <tr>\n      <th>3</th>\n      <td>3</td>\n      <td>0.983101</td>\n    </tr>\n    <tr>\n      <th>4</th>\n      <td>5</td>\n      <td>0.412848</td>\n    </tr>\n    <tr>\n      <th>5</th>\n      <td>6</td>\n      <td>0.409430</td>\n    </tr>\n  </tbody>\n</table>\n</div>"
     },
     "metadata": {},
     "output_type": "display_data"
    },
    {
     "name": "stdout",
     "output_type": "stream",
     "text": [
      "\n",
      "\n",
      "\n",
      "For T = 7\n",
      "(95314, 3)\n",
      "KMeans(n_clusters=5, random_state=0)\n",
      "ARI for T = {}\n"
     ]
    },
    {
     "data": {
      "text/plain": "   T       ARI\n0  1  0.987714\n1  4  0.987084\n2  2  0.984272\n3  3  0.983101\n4  5  0.412848\n5  6  0.409430\n6  7  0.408514",
      "text/html": "<div>\n<style scoped>\n    .dataframe tbody tr th:only-of-type {\n        vertical-align: middle;\n    }\n\n    .dataframe tbody tr th {\n        vertical-align: top;\n    }\n\n    .dataframe thead th {\n        text-align: right;\n    }\n</style>\n<table border=\"1\" class=\"dataframe\">\n  <thead>\n    <tr style=\"text-align: right;\">\n      <th></th>\n      <th>T</th>\n      <th>ARI</th>\n    </tr>\n  </thead>\n  <tbody>\n    <tr>\n      <th>0</th>\n      <td>1</td>\n      <td>0.987714</td>\n    </tr>\n    <tr>\n      <th>1</th>\n      <td>4</td>\n      <td>0.987084</td>\n    </tr>\n    <tr>\n      <th>2</th>\n      <td>2</td>\n      <td>0.984272</td>\n    </tr>\n    <tr>\n      <th>3</th>\n      <td>3</td>\n      <td>0.983101</td>\n    </tr>\n    <tr>\n      <th>4</th>\n      <td>5</td>\n      <td>0.412848</td>\n    </tr>\n    <tr>\n      <th>5</th>\n      <td>6</td>\n      <td>0.409430</td>\n    </tr>\n    <tr>\n      <th>6</th>\n      <td>7</td>\n      <td>0.408514</td>\n    </tr>\n  </tbody>\n</table>\n</div>"
     },
     "metadata": {},
     "output_type": "display_data"
    },
    {
     "name": "stdout",
     "output_type": "stream",
     "text": [
      "\n",
      "\n",
      "\n",
      "For T = 8\n",
      "(95420, 3)\n",
      "KMeans(n_clusters=5, random_state=0)\n",
      "ARI for T = {}\n"
     ]
    },
    {
     "data": {
      "text/plain": "   T       ARI\n0  1  0.987714\n1  4  0.987084\n2  2  0.984272\n3  3  0.983101\n4  5  0.412848\n5  6  0.409430\n6  7  0.408514\n7  8  0.408480",
      "text/html": "<div>\n<style scoped>\n    .dataframe tbody tr th:only-of-type {\n        vertical-align: middle;\n    }\n\n    .dataframe tbody tr th {\n        vertical-align: top;\n    }\n\n    .dataframe thead th {\n        text-align: right;\n    }\n</style>\n<table border=\"1\" class=\"dataframe\">\n  <thead>\n    <tr style=\"text-align: right;\">\n      <th></th>\n      <th>T</th>\n      <th>ARI</th>\n    </tr>\n  </thead>\n  <tbody>\n    <tr>\n      <th>0</th>\n      <td>1</td>\n      <td>0.987714</td>\n    </tr>\n    <tr>\n      <th>1</th>\n      <td>4</td>\n      <td>0.987084</td>\n    </tr>\n    <tr>\n      <th>2</th>\n      <td>2</td>\n      <td>0.984272</td>\n    </tr>\n    <tr>\n      <th>3</th>\n      <td>3</td>\n      <td>0.983101</td>\n    </tr>\n    <tr>\n      <th>4</th>\n      <td>5</td>\n      <td>0.412848</td>\n    </tr>\n    <tr>\n      <th>5</th>\n      <td>6</td>\n      <td>0.409430</td>\n    </tr>\n    <tr>\n      <th>6</th>\n      <td>7</td>\n      <td>0.408514</td>\n    </tr>\n    <tr>\n      <th>7</th>\n      <td>8</td>\n      <td>0.408480</td>\n    </tr>\n  </tbody>\n</table>\n</div>"
     },
     "metadata": {},
     "output_type": "display_data"
    }
   ],
   "source": [
    "simulation_results_exp_2 = pd.DataFrame({})\n",
    "simulation_results_exp_2 = run_simulation(nb_periods=8, kmeans_cls_T0=kmeans_cls_T0_exp_2, results=simulation_results_exp_2, experiment_nb=2)"
   ],
   "metadata": {
    "collapsed": false,
    "pycharm": {
     "name": "#%%\n"
    }
   }
  },
  {
   "cell_type": "code",
   "execution_count": 79,
   "outputs": [
    {
     "data": {
      "text/plain": "(0.6499999999999999, 8.35, 0.3795184947245763, 1.016676054788701)"
     },
     "execution_count": 79,
     "metadata": {},
     "output_type": "execute_result"
    },
    {
     "data": {
      "text/plain": "<Figure size 432x288 with 1 Axes>",
      "image/png": "[encoded data removed]"
     },
     "metadata": {
      "needs_background": "light"
     },
     "output_type": "display_data"
    }
   ],
   "source": [
    "sns.lineplot(data=simulation_results_exp_2, x=\"T\", y=\"ARI\")\n",
    "# specifying horizontal line type\n",
    "plt.axhline(y=0.8, color='r', linestyle='-')\n",
    "\n",
    "plt.xlabel('The simulation period T, if T = 1, then we added {} days to T0.'.format(7))\n",
    "plt.ylabel('ARI score')\n",
    "plt.title('ARI score as a function of the simulation period')\n",
    "plt.axis('tight')"
   ],
   "metadata": {
    "collapsed": false,
    "pycharm": {
     "name": "#%%\n"
    }
   }
  },
  {
   "cell_type": "code",
   "execution_count": 103,
   "outputs": [
    {
     "data": {
      "text/plain": "0.5714285714285714"
     },
     "execution_count": 103,
     "metadata": {},
     "output_type": "execute_result"
    }
   ],
   "source": [
    "adjusted_rand_score([0, 0, 1, 2], [0, 0, 1, 1])"
   ],
   "metadata": {
    "collapsed": false,
    "pycharm": {
     "name": "#%%\n"
    }
   }
  }
 ],
 "metadata": {
  "kernelspec": {
   "display_name": "Python 3",
   "language": "python",
   "name": "python3"
  },
  "language_info": {
   "codemirror_mode": {
    "name": "ipython",
    "version": 2
   },
   "file_extension": ".py",
   "mimetype": "text/x-python",
   "name": "python",
   "nbconvert_exporter": "python",
   "pygments_lexer": "ipython2",
   "version": "2.7.6"
  }
 },
 "nbformat": 4,
 "nbformat_minor": 0
}
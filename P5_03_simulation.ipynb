{
 "cells": [
  {
   "cell_type": "markdown",
   "source": [
    "Pour évaluer la stabilité de segmentation dans le temps : choisir une segmentation, le plus simple sera celle faite via kmeans.\n",
    "Faire un kmeans sur une période de référence (probablement une année complète).\n",
    "Faire ensuite glisser les périodes : M+1, M+2, M+3, etc\n",
    "Utiliser le kmeans de la période de référence pour prédire les clusters sur les périodes glissantes.\n",
    "Comparer les clusters prédits avec les clusters si on avait réentrainer le modèle sur la période glissante.\n",
    "Faire une matrice de confusion pour voir comment se répartissent les clients.\n",
    "Calculer l'indice de rand ajusté (class sklearn.metrics)\n",
    "En déduire quand la segmentation doit etre mise à jour.\n"
   ],
   "metadata": {
    "collapsed": false,
    "pycharm": {
     "name": "#%% md\n"
    }
   }
  }
 ],
 "metadata": {
  "kernelspec": {
   "display_name": "Python 3",
   "language": "python",
   "name": "python3"
  },
  "language_info": {
   "codemirror_mode": {
    "name": "ipython",
    "version": 2
   },
   "file_extension": ".py",
   "mimetype": "text/x-python",
   "name": "python",
   "nbconvert_exporter": "python",
   "pygments_lexer": "ipython2",
   "version": "2.7.6"
  }
 },
 "nbformat": 4,
 "nbformat_minor": 0
}